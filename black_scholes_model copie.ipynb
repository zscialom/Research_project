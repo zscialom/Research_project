{
 "cells": [
  {
   "cell_type": "code",
   "execution_count": 274,
   "outputs": [],
   "source": [
    "import pandas as pd\n",
    "import csv\n",
    "import numpy as np\n",
    "import matplotlib.pyplot as plt\n",
    "from math import log, sqrt, pi, exp\n",
    "\n",
    "#from pandas_datareader import data\n",
    "from statsmodels.tsa import stattools\n",
    "from statsmodels.tsa import arima_model\n",
    "from statsmodels.graphics import gofplots\n",
    "from statsmodels.regression import linear_model\n",
    "\n",
    "from scipy import stats\n",
    "import scipy.integrate\n",
    "import scipy.special\n",
    "# from arch.unitroot import PhillipsPerron\n",
    "import yfinance as yf\n",
    "from sklearn.linear_model import LinearRegression\n",
    "\n",
    "import os\n",
    "import matplotlib.pyplot as plt  # for plotting\n",
    "from statsmodels.regression import linear_model\n",
    "\n",
    "import matplotlib.pylab as pylab\n",
    "params = {'legend.fontsize': 'x-large',\n",
    "          'figure.figsize': (15, 5),\n",
    "         'axes.labelsize': 'x-large',\n",
    "         'axes.titlesize':'x-large',\n",
    "         'xtick.labelsize':'x-large',\n",
    "         'ytick.labelsize':'x-large'}\n",
    "pylab.rcParams.update(params)\n",
    "import statistics\n",
    "import scipy.stats as si\n",
    "from scipy.stats import norm"
   ],
   "metadata": {
    "collapsed": false,
    "pycharm": {
     "name": "#%%\n"
    }
   }
  },
  {
   "cell_type": "markdown",
   "source": [
    "Data Download"
   ],
   "metadata": {
    "collapsed": false,
    "pycharm": {
     "name": "#%% md\n"
    }
   }
  },
  {
   "cell_type": "code",
   "execution_count": 275,
   "outputs": [
    {
     "name": "stdout",
     "output_type": "stream",
     "text": [
      "[*********************100%***********************]  3 of 3 completed\n",
      "            Adj Close                             Close             \\\n",
      "                  BAC       CSCO          GE        BAC       CSCO   \n",
      "Date                                                                 \n",
      "2021-08-31  40.901463  57.884144  105.141510  41.750000  59.020000   \n",
      "2021-09-01  40.352840  57.903763  103.395973  41.189999  59.040001   \n",
      "2021-09-02  40.392227  58.384327  105.989342  41.020000  59.529999   \n",
      "2021-09-03  40.421772  58.276443  104.483192  41.049999  59.419998   \n",
      "2021-09-07  40.687637  57.746838  103.026909  41.320000  58.880001   \n",
      "...               ...        ...         ...        ...        ...   \n",
      "2022-06-03  36.189999  45.250000   76.970001  36.189999  45.250000   \n",
      "2022-06-06  36.150002  45.330002   77.000000  36.150002  45.330002   \n",
      "2022-06-07  36.349998  45.570000   78.000000  36.349998  45.570000   \n",
      "2022-06-08  35.889999  44.919998   77.160004  35.889999  44.919998   \n",
      "2022-06-09  34.509998  44.259998   74.779999  34.509998  44.259998   \n",
      "\n",
      "                             High                               Low  \\\n",
      "                    GE        BAC       CSCO          GE        BAC   \n",
      "Date                                                                  \n",
      "2021-08-31  105.410004  42.070000  59.180000  106.360001  41.360001   \n",
      "2021-09-01  103.660004  41.779999  59.139999  105.470001  41.029999   \n",
      "2021-09-02  106.260002  41.490002  59.720001  106.339996  40.639999   \n",
      "2021-09-03  104.750000  41.189999  59.660000  107.360001  40.680000   \n",
      "2021-09-07  103.290001  41.849998  59.369999  104.940002  41.180000   \n",
      "...                ...        ...        ...         ...        ...   \n",
      "2022-06-03   76.970001  36.680000  45.740002   77.150002  36.130001   \n",
      "2022-06-06   77.000000  37.209999  46.090000   78.290001  36.099998   \n",
      "2022-06-07   78.000000  36.410000  45.650002   78.150002  35.740002   \n",
      "2022-06-08   77.160004  36.110001  45.630001   78.279999  35.520000   \n",
      "2022-06-09   74.779999  35.840000  45.270000   77.050003  34.500000   \n",
      "\n",
      "                                        Open                           Volume  \\\n",
      "                 CSCO          GE        BAC       CSCO          GE       BAC   \n",
      "Date                                                                            \n",
      "2021-08-31  58.580002  104.459999  41.669998  59.110001  104.940002  54654600   \n",
      "2021-09-01  58.660000  103.260002  41.750000  59.020000  105.360001  52361900   \n",
      "2021-09-02  59.060001  103.980003  41.110001  59.349998  104.000000  44538900   \n",
      "2021-09-03  59.279999  104.080002  41.020000  59.330002  106.000000  41812400   \n",
      "2021-09-07  58.750000  102.309998  41.250000  59.240002  104.500000  43748600   \n",
      "...               ...         ...        ...        ...         ...       ...   \n",
      "2022-06-03  45.119999   75.669998  36.480000  45.549999   76.739998  25222100   \n",
      "2022-06-06  45.130001   76.769997  36.700001  45.599998   77.910004  40394000   \n",
      "2022-06-07  44.720001   76.169998  35.900002  44.820000   76.910004  29152200   \n",
      "2022-06-08  44.880001   76.519997  35.919998  45.450001   76.690002  33590600   \n",
      "2022-06-09  44.240002   74.750000  35.740002  44.830002   76.889999  49419000   \n",
      "\n",
      "                                \n",
      "                CSCO        GE  \n",
      "Date                            \n",
      "2021-08-31  19873900  10990800  \n",
      "2021-09-01  11629700   7968100  \n",
      "2021-09-02  12855700   8493700  \n",
      "2021-09-03   9732200   7616900  \n",
      "2021-09-07  15503600  10989500  \n",
      "...              ...       ...  \n",
      "2022-06-03  17945000   5272600  \n",
      "2022-06-06  12641900   4744100  \n",
      "2022-06-07  14667200   5125800  \n",
      "2022-06-08  16263800   3376000  \n",
      "2022-06-09  18417700   5055500  \n",
      "\n",
      "[196 rows x 18 columns]\n"
     ]
    }
   ],
   "source": [
    "tickers = [\"CSCO\",\"BAC\",\"GE\"]\n",
    "#downoad the prices and volumes for the previously read list of tickers\n",
    "start_date = '2021-09-01'\n",
    "end_date = '2022-06-10'\n",
    "stock_data = yf.download(tickers, start=start_date, end=end_date)\n",
    "print(stock_data)"
   ],
   "metadata": {
    "collapsed": false,
    "pycharm": {
     "name": "#%%\n"
    }
   }
  },
  {
   "cell_type": "code",
   "execution_count": 276,
   "outputs": [
    {
     "name": "stdout",
     "output_type": "stream",
     "text": [
      "0.0152\n",
      "0.0032\n",
      "0.0084\n"
     ]
    }
   ],
   "source": [
    "# Dividend Rates\n",
    "csco = yf.Ticker(\"csco\")\n",
    "a_csco = csco.info['dividendRate']\n",
    "a_csco = a_csco/100\n",
    "print(a_csco)\n",
    "\n",
    "ge = yf.Ticker(\"ge\")\n",
    "a_ge = ge.info['dividendRate']\n",
    "a_ge = a_ge/100\n",
    "print(a_ge)\n",
    "\n",
    "bac = yf.Ticker(\"bac\")\n",
    "a_bac = bac.info['dividendRate']\n",
    "a_bac = a_bac/100\n",
    "print(a_bac)\n"
   ],
   "metadata": {
    "collapsed": false,
    "pycharm": {
     "name": "#%%\n"
    }
   }
  },
  {
   "cell_type": "code",
   "execution_count": 277,
   "outputs": [
    {
     "name": "stdout",
     "output_type": "stream",
     "text": [
      "          CSCO        BAC          GE\n",
      "0    40.901463  57.884144  105.141510\n",
      "1    40.352840  57.903763  103.395973\n",
      "2    40.392227  58.384327  105.989342\n",
      "3    40.421772  58.276443  104.483192\n",
      "4    40.687637  57.746838  103.026909\n",
      "..         ...        ...         ...\n",
      "191  36.189999  45.250000   76.970001\n",
      "192  36.150002  45.330002   77.000000\n",
      "193  36.349998  45.570000   78.000000\n",
      "194  35.889999  44.919998   77.160004\n",
      "195  34.509998  44.259998   74.779999\n",
      "\n",
      "[196 rows x 3 columns]\n",
      "         CSCO       BAC        GE\n",
      "0   -0.013413  0.000339 -0.016602\n",
      "1    0.000976  0.008299  0.025082\n",
      "2    0.000731 -0.001848 -0.014210\n",
      "3    0.006577 -0.009088 -0.013938\n",
      "4   -0.013069 -0.003397 -0.006874\n",
      "..        ...       ...       ...\n",
      "190 -0.013897 -0.011793 -0.013205\n",
      "191 -0.001105  0.001768  0.000390\n",
      "192  0.005532  0.005294  0.012987\n",
      "193 -0.012655 -0.014264 -0.010769\n",
      "194 -0.038451 -0.014693 -0.030845\n",
      "\n",
      "[195 rows x 3 columns]\n",
      "0.3023973061156119\n",
      "0.28847258631780737\n",
      "0.3305850811985709\n"
     ]
    }
   ],
   "source": [
    "# Working on statistics\n",
    "price = stock_data['Adj Close'].values\n",
    "days = price.shape[0]\n",
    "ret = price[1:]/price[:-1] - 1\n",
    "#print(ret)\n",
    "\n",
    "price_tab = np.array([])\n",
    "ret_tab = np.array([])\n",
    "for i in range(len(price)):\n",
    "    price_tab = np.append(price_tab, price[i])\n",
    "for i in range(len(ret)):\n",
    "    ret_tab = np.append(ret_tab, ret[i])\n",
    "\n",
    "price_tab = price_tab.reshape(days,3)\n",
    "ret_tab = ret_tab.reshape(days-1,3)\n",
    "\n",
    "df_price = pd.DataFrame(price_tab)\n",
    "df_price.columns =['CSCO', 'BAC','GE']\n",
    "df_ret = pd.DataFrame(ret_tab)\n",
    "df_ret.columns=['CSCO', 'BAC','GE']\n",
    "# Print prices\n",
    "print(df_price)\n",
    "#Print returns\n",
    "print(df_ret)\n",
    "\n",
    "hist_std_csco = np.std(df_ret[\"CSCO\"])*np.sqrt(250)\n",
    "hist_std_bac = np.std(df_ret[\"BAC\"])*np.sqrt(250)\n",
    "hist_std_ge = np.std(df_ret[\"GE\"])*np.sqrt(250)\n",
    "\n",
    "# Historical volatility\n",
    "print(hist_std_csco)\n",
    "print(hist_std_bac)\n",
    "print(hist_std_ge)"
   ],
   "metadata": {
    "collapsed": false,
    "pycharm": {
     "name": "#%%\n"
    }
   }
  },
  {
   "cell_type": "code",
   "source": [
    "# Getting Call/Put options: Market Prices\n",
    "opt_csco = csco.option_chain(date='2023-01-20')\n",
    "options_cisco = opt_csco\n",
    "print(options_cisco)\n",
    "\n",
    "opt_bac = bac.option_chain(date='2023-01-20')\n",
    "options_bac = opt_bac\n",
    "\n",
    "opt_ge = ge.option_chain(date='2023-01-20')\n",
    "options_ge = opt_ge"
   ],
   "metadata": {
    "collapsed": false,
    "pycharm": {
     "name": "#%%\n"
    }
   },
   "execution_count": 278,
   "outputs": [
    {
     "name": "stdout",
     "output_type": "stream",
     "text": [
      "Options(calls=         contractSymbol             lastTradeDate  strike  lastPrice    bid  \\\n",
      "0   CSCO230120C00020000 2022-06-08 16:28:16+00:00    20.0      25.48  23.15   \n",
      "1   CSCO230120C00023000 2022-01-03 18:48:29+00:00    23.0      39.95  33.05   \n",
      "2   CSCO230120C00025000 2022-05-19 17:09:20+00:00    25.0      16.57  18.25   \n",
      "3   CSCO230120C00028000 2022-06-10 19:33:20+00:00    28.0      16.00  15.45   \n",
      "4   CSCO230120C00030000 2022-05-24 19:19:18+00:00    30.0      14.20  13.60   \n",
      "5   CSCO230120C00033000 2022-06-10 17:55:00+00:00    33.0      11.50  11.10   \n",
      "6   CSCO230120C00035000 2022-06-10 18:53:52+00:00    35.0       9.86   9.45   \n",
      "7   CSCO230120C00037000 2022-06-08 14:12:30+00:00    37.0       9.47   7.95   \n",
      "8   CSCO230120C00040000 2022-06-10 18:27:11+00:00    40.0       6.15   5.80   \n",
      "9   CSCO230120C00042000 2022-06-10 19:46:24+00:00    42.0       4.75   4.60   \n",
      "10  CSCO230120C00045000 2022-06-13 15:32:41+00:00    45.0       3.15   3.15   \n",
      "11  CSCO230120C00047000 2022-06-13 15:21:23+00:00    47.0       2.36   2.35   \n",
      "12  CSCO230120C00050000 2022-06-13 15:17:14+00:00    50.0       1.49   1.45   \n",
      "13  CSCO230120C00052500 2022-06-13 15:15:07+00:00    52.5       0.97   0.93   \n",
      "14  CSCO230120C00055000 2022-06-13 14:56:15+00:00    55.0       0.62   0.60   \n",
      "15  CSCO230120C00057500 2022-06-13 14:02:02+00:00    57.5       0.38   0.40   \n",
      "16  CSCO230120C00060000 2022-06-13 13:42:03+00:00    60.0       0.25   0.26   \n",
      "17  CSCO230120C00062500 2022-06-10 13:59:15+00:00    62.5       0.17   0.18   \n",
      "18  CSCO230120C00065000 2022-06-13 14:07:37+00:00    65.0       0.15   0.11   \n",
      "19  CSCO230120C00067500 2022-06-08 13:50:45+00:00    67.5       0.11   0.07   \n",
      "20  CSCO230120C00070000 2022-06-13 14:27:50+00:00    70.0       0.08   0.06   \n",
      "21  CSCO230120C00072500 2022-06-10 19:01:41+00:00    72.5       0.06   0.03   \n",
      "22  CSCO230120C00075000 2022-06-07 13:41:57+00:00    75.0       0.05   0.03   \n",
      "23  CSCO230120C00080000 2022-06-09 13:55:23+00:00    80.0       0.04   0.01   \n",
      "24  CSCO230120C00085000 2022-06-09 17:35:27+00:00    85.0       0.02   0.01   \n",
      "25  CSCO230120C00090000 2022-05-31 17:41:51+00:00    90.0       0.05   0.01   \n",
      "26  CSCO230120C00095000 2022-05-03 13:35:29+00:00    95.0       0.04   0.00   \n",
      "\n",
      "      ask  change  percentChange  volume  openInterest  impliedVolatility  \\\n",
      "0   23.40    0.00       0.000000      25            34           0.429693   \n",
      "1   33.40    0.00       0.000000     180             0           2.498295   \n",
      "2   18.45    0.00       0.000000      10            65           0.358405   \n",
      "3   15.60    0.00       0.000000      11           122           0.354987   \n",
      "4   13.85    0.00       0.000000       7           258           0.367682   \n",
      "5   11.20    0.00       0.000000       1           199           0.347174   \n",
      "6    9.60    0.00       0.000000       1           395           0.341803   \n",
      "7    8.05    0.00       0.000000      18           647           0.329841   \n",
      "8    5.90    0.00       0.000000     134          4387           0.308845   \n",
      "9    4.70    0.00       0.000000      41          3937           0.300300   \n",
      "10   3.20   -0.05      -1.562499      50          6050           0.288948   \n",
      "11   2.44   -0.03      -1.255239       3         12404           0.285041   \n",
      "12   1.53   -0.06      -3.870964     234         13249           0.276619   \n",
      "13   1.01    0.01       1.041672      32          4974           0.271858   \n",
      "14   0.67    0.02       3.333330      23          9279           0.270759   \n",
      "15   0.43   -0.02      -5.000002       8          7517           0.268562   \n",
      "16   0.30    0.01       4.166669      12         14082           0.272956   \n",
      "17   0.21    0.00       0.000000       4         15960           0.277351   \n",
      "18   0.15    0.01       7.142860       6         30256           0.282234   \n",
      "19   0.16    0.00       0.000000      50          6565           0.306159   \n",
      "20   0.10    0.00       0.000000       9         10142           0.301765   \n",
      "21   0.09    0.00       0.000000       5          1170           0.314460   \n",
      "22   0.08    0.00       0.000000       9          2069           0.326179   \n",
      "23   0.04    0.00       0.000000       5          2297           0.326179   \n",
      "24   0.15    0.00       0.000000      10          1722           0.422857   \n",
      "25   0.06    0.00       0.000000       1          1314           0.398444   \n",
      "26   0.00    0.00       0.000000       3          1037           0.250007   \n",
      "\n",
      "    inTheMoney contractSize currency  \n",
      "0         True      REGULAR      USD  \n",
      "1         True      REGULAR      USD  \n",
      "2         True      REGULAR      USD  \n",
      "3         True      REGULAR      USD  \n",
      "4         True      REGULAR      USD  \n",
      "5         True      REGULAR      USD  \n",
      "6         True      REGULAR      USD  \n",
      "7         True      REGULAR      USD  \n",
      "8         True      REGULAR      USD  \n",
      "9         True      REGULAR      USD  \n",
      "10       False      REGULAR      USD  \n",
      "11       False      REGULAR      USD  \n",
      "12       False      REGULAR      USD  \n",
      "13       False      REGULAR      USD  \n",
      "14       False      REGULAR      USD  \n",
      "15       False      REGULAR      USD  \n",
      "16       False      REGULAR      USD  \n",
      "17       False      REGULAR      USD  \n",
      "18       False      REGULAR      USD  \n",
      "19       False      REGULAR      USD  \n",
      "20       False      REGULAR      USD  \n",
      "21       False      REGULAR      USD  \n",
      "22       False      REGULAR      USD  \n",
      "23       False      REGULAR      USD  \n",
      "24       False      REGULAR      USD  \n",
      "25       False      REGULAR      USD  \n",
      "26       False      REGULAR      USD  , puts=         contractSymbol             lastTradeDate  strike  lastPrice    bid  \\\n",
      "0   CSCO230120P00020000 2022-06-13 14:21:39+00:00    20.0       0.18   0.14   \n",
      "1   CSCO230120P00023000 2022-05-31 19:59:02+00:00    23.0       0.24   0.24   \n",
      "2   CSCO230120P00025000 2022-06-10 19:41:34+00:00    25.0       0.32   0.38   \n",
      "3   CSCO230120P00028000 2022-06-13 13:48:44+00:00    28.0       0.55   0.60   \n",
      "4   CSCO230120P00030000 2022-06-13 13:41:54+00:00    30.0       0.82   0.80   \n",
      "5   CSCO230120P00033000 2022-06-08 16:21:15+00:00    33.0       0.84   1.21   \n",
      "6   CSCO230120P00035000 2022-06-13 14:16:55+00:00    35.0       1.60   1.56   \n",
      "7   CSCO230120P00037000 2022-06-10 18:08:18+00:00    37.0       1.83   2.02   \n",
      "8   CSCO230120P00040000 2022-06-13 14:00:55+00:00    40.0       2.90   2.92   \n",
      "9   CSCO230120P00042000 2022-06-13 15:31:22+00:00    42.0       3.73   3.65   \n",
      "10  CSCO230120P00045000 2022-06-13 15:08:25+00:00    45.0       5.40   5.15   \n",
      "11  CSCO230120P00047000 2022-06-09 19:43:51+00:00    47.0       5.52   6.35   \n",
      "12  CSCO230120P00050000 2022-06-13 14:22:47+00:00    50.0       8.70   8.45   \n",
      "13  CSCO230120P00052500 2022-06-10 19:46:07+00:00    52.5      10.15  10.50   \n",
      "14  CSCO230120P00055000 2022-06-09 19:43:51+00:00    55.0      11.48  12.65   \n",
      "15  CSCO230120P00057500 2022-06-09 16:46:46+00:00    57.5      13.15  14.90   \n",
      "16  CSCO230120P00060000 2022-05-26 19:45:00+00:00    60.0      15.57  17.20   \n",
      "17  CSCO230120P00062500 2022-06-13 13:35:12+00:00    62.5      19.90  19.60   \n",
      "18  CSCO230120P00065000 2022-05-23 14:13:49+00:00    65.0      22.25  21.95   \n",
      "19  CSCO230120P00067500 2022-04-11 19:18:53+00:00    67.5      15.30  19.15   \n",
      "20  CSCO230120P00070000 2022-06-07 19:47:56+00:00    70.0      24.76  26.80   \n",
      "21  CSCO230120P00072500 2022-04-13 16:25:09+00:00    72.5      20.95  23.65   \n",
      "22  CSCO230120P00075000 2022-03-16 18:25:26+00:00    75.0      21.07  23.95   \n",
      "23  CSCO230120P00080000 2022-05-19 14:10:08+00:00    80.0      37.95  36.80   \n",
      "24  CSCO230120P00085000 2022-01-31 16:19:17+00:00    85.0      30.15  29.55   \n",
      "25  CSCO230120P00095000 2022-04-18 04:03:08+00:00    95.0      41.82   0.00   \n",
      "\n",
      "      ask    change  percentChange  volume  openInterest  impliedVolatility  \\\n",
      "0    0.17  0.050000      38.461548     6.0           955           0.538091   \n",
      "1    0.32  0.000000       0.000000     1.0          1720           0.505864   \n",
      "2    0.42  0.000000       0.000000     5.0          6480           0.491216   \n",
      "3    0.66  0.010000       1.851850     6.0          1565           0.458746   \n",
      "4    0.87  0.090000      12.328763     3.0         15193           0.437506   \n",
      "5    1.28  0.000000       0.000000     7.0          6370           0.406256   \n",
      "6    1.64  0.210000      15.107917     1.0          6092           0.386969   \n",
      "7    2.09  0.000000       0.000000    70.0          5430           0.369025   \n",
      "8    3.00  0.230000       8.614233    34.0         20399           0.346930   \n",
      "9    3.80  0.240000       6.876792    54.0          7432           0.336188   \n",
      "10   5.35  0.550000      11.340210    12.0         26950           0.327277   \n",
      "11   6.55  0.000000       0.000000     6.0         13180           0.321296   \n",
      "12   8.70  1.600000      22.535210     2.0         15361           0.321662   \n",
      "13  10.60  0.000000       0.000000     1.0         10013           0.315925   \n",
      "14  12.90  0.000000       0.000000     2.0          7735           0.336554   \n",
      "15  15.10  0.000000       0.000000    10.0          2050           0.339850   \n",
      "16  17.55  0.000000       0.000000     1.0          5975           0.365729   \n",
      "17  19.80 -1.460001      -6.835210    10.0          3210           0.361579   \n",
      "18  22.25  0.000000       0.000000     1.0           581           0.380377   \n",
      "19  19.65  0.000000       0.000000     1.0            83           0.000010   \n",
      "20  27.25  0.000000       0.000000     1.0           291           0.428228   \n",
      "21  23.80  0.000000       0.000000     1.0            30           0.000010   \n",
      "22  24.40  0.000000       0.000000     1.0           151           0.000010   \n",
      "23  37.35  0.000000       0.000000     2.0           121           0.527837   \n",
      "24  30.05  0.000000       0.000000     3.0           272           0.000010   \n",
      "25   0.00  0.000000       0.000000     NaN             0           0.000010   \n",
      "\n",
      "    inTheMoney contractSize currency  \n",
      "0        False      REGULAR      USD  \n",
      "1        False      REGULAR      USD  \n",
      "2        False      REGULAR      USD  \n",
      "3        False      REGULAR      USD  \n",
      "4        False      REGULAR      USD  \n",
      "5        False      REGULAR      USD  \n",
      "6        False      REGULAR      USD  \n",
      "7        False      REGULAR      USD  \n",
      "8        False      REGULAR      USD  \n",
      "9        False      REGULAR      USD  \n",
      "10        True      REGULAR      USD  \n",
      "11        True      REGULAR      USD  \n",
      "12        True      REGULAR      USD  \n",
      "13        True      REGULAR      USD  \n",
      "14        True      REGULAR      USD  \n",
      "15        True      REGULAR      USD  \n",
      "16        True      REGULAR      USD  \n",
      "17        True      REGULAR      USD  \n",
      "18        True      REGULAR      USD  \n",
      "19        True      REGULAR      USD  \n",
      "20        True      REGULAR      USD  \n",
      "21        True      REGULAR      USD  \n",
      "22        True      REGULAR      USD  \n",
      "23        True      REGULAR      USD  \n",
      "24        True      REGULAR      USD  \n",
      "25        True      REGULAR      USD  )\n"
     ]
    }
   ]
  },
  {
   "cell_type": "code",
   "execution_count": 279,
   "outputs": [],
   "source": [
    "# Get Market Call Prices - CSCO\n",
    "strike_call_list_cisco = (options_cisco[0]['strike'])\n",
    "market_price_call_cisco = (options_cisco[0]['lastPrice'])\n",
    "market_implied_vol_call_cisco = (options_cisco[0]['impliedVolatility'])\n",
    "df_market_call_csco = pd.DataFrame({'strike':strike_call_list_cisco ,\n",
    "                   'lastPrice':market_price_call_cisco ,\n",
    "                   'impliedVolatility': market_implied_vol_call_cisco})\n",
    "#print(df_market_call)\n",
    "\n",
    "# Get Market Put Prices - CSCO\n",
    "strike_put_list_cisco = (options_cisco[1]['strike'])\n",
    "market_price_put_cisco = (options_cisco[1]['lastPrice'])\n",
    "market_implied_vol_put_cisco = (options_cisco[1]['impliedVolatility'])\n",
    "df_market_put_cisco = pd.DataFrame({'strike':strike_put_list_cisco ,\n",
    "                   'lastPrice':market_price_put_cisco ,\n",
    "                   'impliedVolatility': market_implied_vol_put_cisco})\n",
    "\n",
    "# Get Market Call Prices - GE\n",
    "strike_call_list_ge = (options_ge[0]['strike'])\n",
    "market_price_call_ge = (options_ge[0]['lastPrice'])\n",
    "market_implied_vol_call_ge = (options_ge[0]['impliedVolatility'])\n",
    "df_market_call_ge = pd.DataFrame({'strike':strike_call_list_ge ,\n",
    "                   'lastPrice':market_price_call_ge ,\n",
    "                   'impliedVolatility': market_implied_vol_call_ge})\n",
    "#print(df_market_call)\n",
    "\n",
    "# Get Market Put Prices - GE\n",
    "strike_put_list_ge = (options_ge[1]['strike'])\n",
    "market_price_put_ge = (options_ge[1]['lastPrice'])\n",
    "market_implied_vol_put_ge = (options_ge[1]['impliedVolatility'])\n",
    "df_market_put_ge = pd.DataFrame({'strike':strike_put_list_ge ,\n",
    "                   'lastPrice':market_price_put_ge ,\n",
    "                   'impliedVolatility': market_implied_vol_put_ge})\n",
    "\n",
    "#print(df_market_call_ge)"
   ],
   "metadata": {
    "collapsed": false,
    "pycharm": {
     "name": "#%%\n"
    }
   }
  },
  {
   "cell_type": "markdown",
   "source": [
    "Parameters: Black-Scholes"
   ],
   "metadata": {
    "collapsed": false,
    "pycharm": {
     "name": "#%% md\n"
    }
   }
  },
  {
   "cell_type": "code",
   "execution_count": 280,
   "outputs": [],
   "source": [
    "S_0_CSCO = 43.31            # stock price: CSCO\n",
    "S_0_GE = 67.88              # stock price: GE\n",
    "r = 1.40/100                # interest rate\n",
    "\n",
    "sigma_CSCO = hist_std_csco  # historical (std) volatility CSCO\n",
    "sigma_GE = hist_std_ge      # historical (std) volatility GE\n",
    "\n",
    "K_CSCO = 55                 # specific strike CSCO\n",
    "K_GE = 10                   # specific strike GE\n",
    "T = 150/250                 # 30 weeks: 150 trading days\n",
    "N = 10000                   # number of trajectories\n",
    "\n",
    "# Getting the quoted implied volatility: CSCO\n",
    "market_call_CSCO = df_market_call_csco.loc[df_market_call_csco['strike']==K_CSCO]\n",
    "implied_vol_CSCO_Call = (np.array(market_call_CSCO[\"impliedVolatility\"]))\n",
    "implied_vol_CSCO_Call = implied_vol_CSCO_Call[0]\n",
    "\n",
    "market_put_CSCO = df_market_put_cisco.loc[df_market_put_cisco['strike']==K_CSCO]\n",
    "implied_vol_CSCO_Put = (np.array(market_put_CSCO[\"impliedVolatility\"]))\n",
    "implied_vol_CSCO_Put = implied_vol_CSCO_Put[0]\n",
    "\n",
    "# Getting the quoted implied volatility: GE\n",
    "market_call_ge = df_market_call_ge.loc[df_market_call_ge['strike']==K_GE]\n",
    "implied_vol_ge_Call = (np.array(market_call_ge[\"impliedVolatility\"]))\n",
    "implied_vol_ge_Call = implied_vol_ge_Call[0]\n",
    "\n",
    "market_put_ge = df_market_put_ge.loc[df_market_put_ge['strike']==K_GE]\n",
    "implied_vol_ge_Put = (np.array(market_put_ge[\"impliedVolatility\"]))\n",
    "implied_vol_ge_Put = implied_vol_ge_Put[0]"
   ],
   "metadata": {
    "collapsed": false,
    "pycharm": {
     "name": "#%%\n"
    }
   }
  },
  {
   "cell_type": "markdown",
   "source": [
    "Black-Scholes-Merton: Options Prices"
   ],
   "metadata": {
    "collapsed": false,
    "pycharm": {
     "name": "#%% md\n"
    }
   }
  },
  {
   "cell_type": "code",
   "execution_count": 281,
   "outputs": [],
   "source": [
    "def black_scholes_merton_call_div(S, K, T, r, a, sigma):\n",
    "\n",
    "    #S: spot price\n",
    "    #K: strike price\n",
    "    #T: time to maturity\n",
    "    #r: interest rate\n",
    "    #a: dividend yield\n",
    "    #sigma: volatility of underlying asset\n",
    "\n",
    "    d1 = (np.log(S/K) + (r-a+0.5*sigma**2)*T) / (sigma*np.sqrt(T))\n",
    "    d2 = (np.log(S/K) + (r-a-0.5*sigma**2)*T) / (sigma*np.sqrt(T))\n",
    "    call = (S*np.exp(-a*T) * si.norm.cdf(d1, 0.0, 1.0) - K*np.exp(-r*T) * si.norm.cdf(d2, 0.0, 1.0))\n",
    "    return call\n",
    "\n",
    "\n",
    "def black_scholes_put_div(S, K, T, r, a, sigma):\n",
    "\n",
    "    d1_bs = (np.log(S/K) + (r-a+0.5*sigma**2)*T) / (sigma*np.sqrt(T))\n",
    "    d2_bs = (np.log(S/K) + (r-a-0.5*sigma**2)*T) / (sigma*np.sqrt(T))\n",
    "    put = (K*np.exp(-r*T) * si.norm.cdf(-d2_bs, 0.0, 1.0) - S*np.exp(-a*T) * si.norm.cdf(-d1_bs, 0.0, 1.0))\n",
    "    return put"
   ],
   "metadata": {
    "collapsed": false,
    "pycharm": {
     "name": "#%%\n"
    }
   }
  },
  {
   "cell_type": "code",
   "execution_count": 282,
   "outputs": [],
   "source": [
    "# Black-Scholes CSCO results\n",
    "call_bs_CSCO =  black_scholes_merton_call_div(S_0_CSCO, K_CSCO, T, r, a_csco, hist_std_csco)\n",
    "put_bs_CSCO =  black_scholes_put_div(S_0_CSCO, K_CSCO, T, r, a_csco, hist_std_csco)\n",
    "\n",
    "call_bs_CSCO_implied_vol =  black_scholes_merton_call_div(S_0_CSCO, K_CSCO, T, r, a_csco, implied_vol_CSCO_Call)\n",
    "put_bs_CSCO_implied_vol =  black_scholes_put_div(S_0_CSCO, K_CSCO, T, r, a_csco, implied_vol_CSCO_Put)\n",
    "\n",
    "# Black-Scholes GE results\n",
    "call_bs_GE =  black_scholes_merton_call_div(S_0_GE, K_GE, T, r, a_ge, hist_std_ge)\n",
    "put_bs_GE =  black_scholes_put_div(S_0_GE, K_GE, T, r, a_ge, hist_std_ge)\n",
    "\n",
    "call_bs_GE_implied_vol =  black_scholes_merton_call_div(S_0_GE, K_GE, T, r, a_ge, implied_vol_ge_Call)\n",
    "put_bs_GE_implied_vol =  black_scholes_put_div(S_0_GE, K_GE, T, r, a_ge, implied_vol_ge_Put)"
   ],
   "metadata": {
    "collapsed": false,
    "pycharm": {
     "name": "#%%\n"
    }
   }
  },
  {
   "cell_type": "markdown",
   "source": [
    "Black-Scholes-Merton: Greeks\n"
   ],
   "metadata": {
    "collapsed": false,
    "pycharm": {
     "name": "#%% md\n"
    }
   }
  },
  {
   "cell_type": "code",
   "execution_count": 283,
   "outputs": [],
   "source": [
    "def d1(S,K,T,r,a,sigma):\n",
    "    return(log(S/K)+(r-a+sigma**2/2.)*T)/(sigma*sqrt(T))\n",
    "\n",
    "def d2(S,K,T,r,a,sigma):\n",
    "    return d1(S,K,T,r,a,sigma)-sigma*sqrt(T)\n",
    "\n",
    "############## CALL OPTION ##############\n",
    "\n",
    "def call_delta(S,K,T,r,a,sigma):\n",
    "    return exp(-a*T)*norm.cdf(d1(S,K,T,r,sigma))\n",
    "\n",
    "def call_gamma(S,K,T,r,a,sigma):\n",
    "    return exp(-a*T)*norm.pdf(d1(S,K,T,r,sigma))/(S*sigma*sqrt(T))\n",
    "\n",
    "def call_vega(S,K,T,r,sigma):\n",
    "    return 0.01*(S*norm.pdf(d1(S,K,T,r,sigma))*sqrt(T))\n",
    "\n",
    "############## PUT OPTION ##############\n",
    "\n",
    "def put_delta(S,K,T,r,a,sigma):\n",
    "    return -exp(-a*T)*norm.cdf(-d1(S,K,T,r,sigma))\n",
    "\n",
    "def put_gamma(S,K,T,r,a,sigma):\n",
    "    return exp(-a*T)*norm.pdf(d1(S,K,T,r,sigma))/(S*sigma*sqrt(T))\n",
    "\n",
    "def put_vega(S,K,T,r,a,sigma):\n",
    "    return 0.01*exp(-a*T)*(S*norm.pdf(d1(S,K,T,r,sigma))*sqrt(T))"
   ],
   "metadata": {
    "collapsed": false,
    "pycharm": {
     "name": "#%%\n"
    }
   }
  },
  {
   "cell_type": "code",
   "execution_count": 283,
   "outputs": [],
   "source": [],
   "metadata": {
    "collapsed": false,
    "pycharm": {
     "name": "#%%\n"
    }
   }
  },
  {
   "cell_type": "markdown",
   "source": [
    "Monte-Carlo Simulation\n"
   ],
   "metadata": {
    "collapsed": false,
    "pycharm": {
     "name": "#%% md\n"
    }
   }
  },
  {
   "cell_type": "code",
   "execution_count": 284,
   "outputs": [],
   "source": [
    "# # Monte-Carlo Simulation:\n",
    "#\n",
    "# # Parameters\n",
    "# T = 1.0\n",
    "# N = 10000\n",
    "# S_0 = 50\n",
    "# sigma = 0.20\n",
    "#\n",
    "# # Example one-period simulation\n",
    "#\n",
    "# # lognormal distribution of the price\n",
    "#\n",
    "# Z = np.random.normal(size=N)\n",
    "# S_T = S_0*np.exp((r-0.5*sigma**2)*T+sigma*np.sqrt(T)*Z)\n",
    "# plt.hist(S_T, bins='auto')\n",
    "# plt.xlabel('price')\n",
    "# plt.ylabel('frequency')"
   ],
   "metadata": {
    "collapsed": false,
    "pycharm": {
     "name": "#%%\n"
    }
   }
  },
  {
   "cell_type": "code",
   "execution_count": 285,
   "outputs": [],
   "source": [
    "# Monte Carlo simulation: European Option\n",
    "\n",
    "call_payoff_maturity_CSCO = []\n",
    "put_payoff_maturity_CSCO = []\n",
    "call_payoff_maturity_GE = []\n",
    "put_payoff_maturity_GE = []\n",
    "\n",
    "\n",
    "days_test = 150 # 1 week = 5 trading days\n",
    "dt = 1/250\n",
    "\n",
    "S_CSCO = np.zeros((days_test+1, N))\n",
    "S_CSCO[0] = S_0_CSCO\n",
    "S_GE = np.zeros((days_test+1, N))\n",
    "S_GE[0] = S_0_GE\n",
    "\n",
    "for t in range(1, days_test+1):\n",
    "    Z_CSCO = np.random.normal(size=N)\n",
    "    Z_GE = np.random.normal(size=N)\n",
    "    S_CSCO[t] = S_CSCO[t-1]*np.exp((r-a_csco-0.5*sigma_CSCO**2)*dt+sigma_CSCO*np.sqrt(dt)*Z_CSCO)\n",
    "    S_GE[t] = S_GE[t-1]*np.exp((r-a_ge-0.5*sigma_GE**2)*dt+sigma_GE*np.sqrt(dt)*Z_GE)"
   ],
   "metadata": {
    "collapsed": false,
    "pycharm": {
     "name": "#%%\n"
    }
   }
  },
  {
   "cell_type": "markdown",
   "source": [
    "Valuation (European)"
   ],
   "metadata": {
    "collapsed": false,
    "pycharm": {
     "name": "#%% md\n"
    }
   }
  },
  {
   "cell_type": "code",
   "execution_count": 286,
   "outputs": [
    {
     "name": "stdout",
     "output_type": "stream",
     "text": [
      "0.8994707322903152\n",
      "12.467650564747087\n",
      "58.14714359809465\n",
      "0.0\n"
     ]
    }
   ],
   "source": [
    "S_T_CSCO = S_CSCO[-1]\n",
    "S_T_GE = S_GE[-1]\n",
    "for i in range(len(S_T_CSCO)):\n",
    "    call_payoff_maturity_CSCO.append(max(S_T_CSCO[i]-K_CSCO,0))\n",
    "    put_payoff_maturity_CSCO.append(max(K_CSCO-S_T_CSCO[i],0))\n",
    "\n",
    "    call_payoff_maturity_GE.append(max(S_T_GE[i]-K_GE,0))\n",
    "    put_payoff_maturity_GE.append(max(K_GE-S_T_GE[i],0))\n",
    "\n",
    "# Price of CSCO options: expiry on Jan 20, 2023\n",
    "VMC_call_CSCO = np.mean(call_payoff_maturity_CSCO)\n",
    "C_0_CSCO = VMC_call_CSCO*np.exp(-r*days_test/250)\n",
    "print(C_0_CSCO)\n",
    "\n",
    "VMC_put_CSCO = np.mean(put_payoff_maturity_CSCO)\n",
    "P_0_CSCO = VMC_put_CSCO*np.exp(-r*days_test/250)\n",
    "print(P_0_CSCO)\n",
    "\n",
    "# Price of GE options: expiry on Jan 20, 2023\n",
    "VMC_call_GE = np.mean(call_payoff_maturity_GE)\n",
    "C_0_GE = VMC_call_GE*np.exp(-r*days_test/250)\n",
    "print(C_0_GE)\n",
    "\n",
    "VMC_put_GE = np.mean(put_payoff_maturity_GE)\n",
    "P_0_GE = VMC_put_GE*np.exp(-r*days_test/250)\n",
    "print(P_0_GE)"
   ],
   "metadata": {
    "collapsed": false,
    "pycharm": {
     "name": "#%%\n"
    }
   }
  },
  {
   "cell_type": "markdown",
   "source": [
    "Recap Results: Market Prices, Black-Scholes formulas, Black-Scholes Monte-Carlo"
   ],
   "metadata": {
    "collapsed": false,
    "pycharm": {
     "name": "#%% md\n"
    }
   }
  },
  {
   "cell_type": "code",
   "execution_count": 287,
   "outputs": [
    {
     "name": "stdout",
     "output_type": "stream",
     "text": [
      "CSCO Call prices:\n",
      "CSCO Market call:      strike  lastPrice  impliedVolatility\n",
      "14    55.0       0.62           0.270759\n",
      "CSCO Black-Scholes call with implied volatility:  0.6370730683225441\n",
      "CSCO Black-Scholes call with historical volatility:  0.8992421320728328\n",
      "EU CSCO call with MC estimation:  0.8994707322903152\n"
     ]
    }
   ],
   "source": [
    "# Market Prices\n",
    "market_call_CSCO = df_market_call_csco.loc[df_market_call_csco['strike']==K_CSCO]\n",
    "market_put_CSCO = df_market_put_cisco.loc[df_market_put_cisco['strike']==K_CSCO]\n",
    "\n",
    "print(\"CSCO Call prices:\")\n",
    "print(\"CSCO Market call: \", market_call_CSCO)\n",
    "print(\"CSCO Black-Scholes call with implied volatility: \", call_bs_CSCO_implied_vol)\n",
    "print(\"CSCO Black-Scholes call with historical volatility: \", call_bs_CSCO)\n",
    "print(\"EU CSCO call with MC estimation: \", C_0_CSCO)\n",
    "# print()\n",
    "# print(\"CSCO Put prices:\")\n",
    "# print(\"CSCO Market put: \", market_put_CSCO)\n",
    "# print(\"CSCO Black-Scholes put with implied volatility: \", put_bs_CSCO_implied_vol)\n",
    "# print(\"CSCO Black-Scholes put with historical volatility: \", put_bs_CSCO)\n",
    "# print(\"EU CSCO put with MC estimation: \", P_0_CSCO)\n"
   ],
   "metadata": {
    "collapsed": false,
    "pycharm": {
     "name": "#%%\n"
    }
   }
  },
  {
   "cell_type": "code",
   "execution_count": 288,
   "outputs": [
    {
     "name": "stdout",
     "output_type": "stream",
     "text": [
      "GE Put prices:\n",
      "GE Market put:     strike  lastPrice  impliedVolatility\n",
      "5    10.0       0.87           1.654299\n",
      "GE Black-Scholes call with implied volatility:  0.8404959214012679\n",
      "GE Black-Scholes put with historical volatility:  2.620124493956341e-14\n",
      "EU GE put with MC estimation:  0.0\n"
     ]
    }
   ],
   "source": [
    "market_call_ge = df_market_call_ge.loc[df_market_call_ge['strike']==K_GE]\n",
    "market_put_ge = df_market_put_ge.loc[df_market_put_ge['strike']==K_GE]\n",
    "\n",
    "# print(\"GE Call prices:\")\n",
    "# print(\"GE Market call: \", market_call_ge)\n",
    "# print(\"GE Black-Scholes call with implied volatility: \", call_bs_GE_implied_vol)\n",
    "# print(\"GE Black-Scholes call with historical volatility: \", call_bs_GE)\n",
    "# print(\"EU GE call with MC estimation: \", C_0_GE)\n",
    "# print()\n",
    "print(\"GE Put prices:\")\n",
    "print(\"GE Market put: \", market_put_ge)\n",
    "print(\"GE Black-Scholes call with implied volatility: \", put_bs_GE_implied_vol)\n",
    "print(\"GE Black-Scholes put with historical volatility: \", put_bs_GE)\n",
    "print(\"EU GE put with MC estimation: \", P_0_GE)"
   ],
   "metadata": {
    "collapsed": false,
    "pycharm": {
     "name": "#%%\n"
    }
   }
  },
  {
   "cell_type": "code",
   "execution_count": 288,
   "outputs": [],
   "source": [],
   "metadata": {
    "collapsed": false,
    "pycharm": {
     "name": "#%%\n"
    }
   }
  },
  {
   "cell_type": "code",
   "execution_count": 288,
   "outputs": [],
   "source": [],
   "metadata": {
    "collapsed": false,
    "pycharm": {
     "name": "#%%\n"
    }
   }
  }
 ],
 "metadata": {
  "kernelspec": {
   "display_name": "Python 3",
   "language": "python",
   "name": "python3"
  },
  "language_info": {
   "codemirror_mode": {
    "name": "ipython",
    "version": 2
   },
   "file_extension": ".py",
   "mimetype": "text/x-python",
   "name": "python",
   "nbconvert_exporter": "python",
   "pygments_lexer": "ipython2",
   "version": "2.7.6"
  }
 },
 "nbformat": 4,
 "nbformat_minor": 0
}