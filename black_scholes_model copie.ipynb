{
 "cells": [
  {
   "cell_type": "code",
   "execution_count": 86,
   "outputs": [],
   "source": [
    "import pandas as pd\n",
    "import csv\n",
    "import numpy as np\n",
    "import matplotlib.pyplot as plt\n",
    "from math import log, sqrt, pi, exp\n",
    "\n",
    "#from pandas_datareader import data\n",
    "from statsmodels.tsa import stattools\n",
    "from statsmodels.tsa import arima_model\n",
    "from statsmodels.graphics import gofplots\n",
    "from statsmodels.regression import linear_model\n",
    "\n",
    "from scipy import stats\n",
    "import scipy.integrate\n",
    "import scipy.special\n",
    "# from arch.unitroot import PhillipsPerron\n",
    "import yfinance as yf\n",
    "from sklearn.linear_model import LinearRegression\n",
    "\n",
    "import os\n",
    "import matplotlib.pyplot as plt  # for plotting\n",
    "from statsmodels.regression import linear_model\n",
    "\n",
    "import matplotlib.pylab as pylab\n",
    "params = {'legend.fontsize': 'x-large',\n",
    "          'figure.figsize': (15, 5),\n",
    "         'axes.labelsize': 'x-large',\n",
    "         'axes.titlesize':'x-large',\n",
    "         'xtick.labelsize':'x-large',\n",
    "         'ytick.labelsize':'x-large'}\n",
    "pylab.rcParams.update(params)\n",
    "import statistics\n",
    "import scipy.stats as si\n",
    "from scipy.stats import norm"
   ],
   "metadata": {
    "collapsed": false,
    "pycharm": {
     "name": "#%%\n"
    }
   }
  },
  {
   "cell_type": "markdown",
   "source": [
    "Data Download"
   ],
   "metadata": {
    "collapsed": false,
    "pycharm": {
     "name": "#%% md\n"
    }
   }
  },
  {
   "cell_type": "code",
   "execution_count": 87,
   "outputs": [
    {
     "name": "stdout",
     "output_type": "stream",
     "text": [
      "[*********************100%***********************]  3 of 3 completed\n",
      "            Adj Close                             Close             \\\n",
      "                  BAC       CSCO          GE        BAC       CSCO   \n",
      "Date                                                                 \n",
      "2021-08-31  40.901463  57.367805  105.016106  41.750000  59.020000   \n",
      "2021-09-01  40.352840  57.387249  103.272659  41.189999  59.040001   \n",
      "2021-09-02  40.392227  57.863529  105.862938  41.020000  59.529999   \n",
      "2021-09-03  40.421772  57.756607  104.358574  41.049999  59.419998   \n",
      "2021-09-07  40.687637  57.231728  102.904030  41.320000  58.880001   \n",
      "...               ...        ...         ...        ...        ...   \n",
      "2022-06-27  32.349998  43.379562   66.709999  32.349998  43.770000   \n",
      "2022-06-28  32.259998  42.675900   65.879997  32.259998  43.060001   \n",
      "2022-06-29  31.860001  42.497501   63.689999  31.860001  42.880001   \n",
      "2022-06-30  31.129999  42.259644   63.669998  31.129999  42.639999   \n",
      "2022-07-01  31.559999  42.219997   63.540001  31.559999  42.599998   \n",
      "\n",
      "                             High                               Low  \\\n",
      "                    GE        BAC       CSCO          GE        BAC   \n",
      "Date                                                                  \n",
      "2021-08-31  105.410004  42.070000  59.180000  106.360001  41.360001   \n",
      "2021-09-01  103.660004  41.779999  59.139999  105.470001  41.029999   \n",
      "2021-09-02  106.260002  41.490002  59.720001  106.339996  40.639999   \n",
      "2021-09-03  104.750000  41.189999  59.660000  107.360001  40.680000   \n",
      "2021-09-07  103.290001  41.849998  59.369999  104.940002  41.180000   \n",
      "...                ...        ...        ...         ...        ...   \n",
      "2022-06-27   66.709999  32.599998  44.290001   67.900002  31.910000   \n",
      "2022-06-28   65.879997  33.500000  44.470001   68.449997  32.189999   \n",
      "2022-06-29   63.689999  32.439999  43.259998   66.000000  31.660000   \n",
      "2022-06-30   63.669998  31.549999  43.139999   63.759998  30.639999   \n",
      "2022-07-01   63.540001  31.670000  42.700001   64.540001  30.629999   \n",
      "\n",
      "                                        Open                           Volume  \\\n",
      "                 CSCO          GE        BAC       CSCO          GE       BAC   \n",
      "Date                                                                            \n",
      "2021-08-31  58.580002  104.459999  41.669998  59.110001  104.940002  54654600   \n",
      "2021-09-01  58.660000  103.260002  41.750000  59.020000  105.360001  52361900   \n",
      "2021-09-02  59.060001  103.980003  41.110001  59.349998  104.000000  44538900   \n",
      "2021-09-03  59.279999  104.080002  41.020000  59.330002  106.000000  41812400   \n",
      "2021-09-07  58.750000  102.309998  41.250000  59.240002  104.500000  43748600   \n",
      "...               ...         ...        ...        ...         ...       ...   \n",
      "2022-06-27  43.630001   66.139999  32.419998  44.290001   67.470001  47900300   \n",
      "2022-06-28  42.990002   65.360001  32.830002  43.910000   67.449997  49863800   \n",
      "2022-06-29  42.689999   63.279999  32.230000  43.139999   65.730003  35149700   \n",
      "2022-06-30  42.189999   61.759998  31.170000  42.369999   62.549999  46312300   \n",
      "2022-07-01  41.570000   62.209999  30.980000  42.520000   63.490002  40208500   \n",
      "\n",
      "                                \n",
      "                CSCO        GE  \n",
      "Date                            \n",
      "2021-08-31  19873900  10990800  \n",
      "2021-09-01  11629700   7968100  \n",
      "2021-09-02  12855700   8493700  \n",
      "2021-09-03   9732200   7616900  \n",
      "2021-09-07  15503600  10989500  \n",
      "...              ...       ...  \n",
      "2022-06-27  22755300   6798300  \n",
      "2022-06-28  20091300   7048700  \n",
      "2022-06-29  13450800   6908200  \n",
      "2022-06-30  24947900   8701900  \n",
      "2022-07-01  24337600   6849000  \n",
      "\n",
      "[211 rows x 18 columns]\n"
     ]
    }
   ],
   "source": [
    "tickers = [\"CSCO\",\"BAC\",\"GE\"]\n",
    "#downoad the prices and volumes for the previously read list of tickers\n",
    "start_date = '2021-09-01'\n",
    "end_date = '2022-07-05'\n",
    "stock_data = yf.download(tickers, start=start_date, end=end_date)\n",
    "print(stock_data)"
   ],
   "metadata": {
    "collapsed": false,
    "pycharm": {
     "name": "#%%\n"
    }
   }
  },
  {
   "cell_type": "markdown",
   "source": [
    "Get Dividend yields of each stock"
   ],
   "metadata": {
    "collapsed": false,
    "pycharm": {
     "name": "#%% md\n"
    }
   }
  },
  {
   "cell_type": "code",
   "execution_count": 88,
   "outputs": [
    {
     "name": "stdout",
     "output_type": "stream",
     "text": [
      "0.0152\n",
      "0.0032\n",
      "0.0084\n"
     ]
    }
   ],
   "source": [
    "# Dividend Rates\n",
    "csco = yf.Ticker(\"csco\")\n",
    "a_csco = csco.info['dividendRate']\n",
    "a_csco = a_csco/100\n",
    "print(a_csco)\n",
    "\n",
    "ge = yf.Ticker(\"ge\")\n",
    "a_ge = ge.info['dividendRate']\n",
    "a_ge = a_ge/100\n",
    "print(a_ge)\n",
    "\n",
    "bac = yf.Ticker(\"bac\")\n",
    "a_bac = bac.info['dividendRate']\n",
    "a_bac = a_bac/100\n",
    "print(a_bac)"
   ],
   "metadata": {
    "collapsed": false,
    "pycharm": {
     "name": "#%%\n"
    }
   }
  },
  {
   "cell_type": "markdown",
   "source": [
    "Get historical volatility of each stock\n"
   ],
   "metadata": {
    "collapsed": false,
    "pycharm": {
     "name": "#%% md\n"
    }
   }
  },
  {
   "cell_type": "code",
   "execution_count": 89,
   "outputs": [
    {
     "name": "stdout",
     "output_type": "stream",
     "text": [
      "          CSCO        BAC          GE\n",
      "0    40.901463  57.367805  105.016106\n",
      "1    40.352840  57.387249  103.272659\n",
      "2    40.392227  57.863529  105.862938\n",
      "3    40.421772  57.756607  104.358574\n",
      "4    40.687637  57.231728  102.904030\n",
      "..         ...        ...         ...\n",
      "206  32.349998  43.379562   66.709999\n",
      "207  32.259998  42.675900   65.879997\n",
      "208  31.860001  42.497501   63.689999\n",
      "209  31.129999  42.259644   63.669998\n",
      "210  31.559999  42.219997   63.540001\n",
      "\n",
      "[211 rows x 3 columns]\n",
      "         CSCO       BAC        GE\n",
      "0   -0.013413  0.000339 -0.016602\n",
      "1    0.000976  0.008299  0.025082\n",
      "2    0.000731 -0.001848 -0.014210\n",
      "3    0.006577 -0.009088 -0.013938\n",
      "4   -0.013069 -0.003397 -0.006874\n",
      "..        ...       ...       ...\n",
      "205  0.001238 -0.007483 -0.004328\n",
      "206 -0.002782 -0.016221 -0.012442\n",
      "207 -0.012399 -0.004180 -0.033242\n",
      "208 -0.022913 -0.005597 -0.000314\n",
      "209  0.013813 -0.000938 -0.002042\n",
      "\n",
      "[210 rows x 3 columns]\n",
      "0.30215323643408976\n",
      "0.28364092454684375\n",
      "0.33932396122449787\n"
     ]
    }
   ],
   "source": [
    "# Working on statistics\n",
    "price = stock_data['Adj Close'].values\n",
    "days = price.shape[0]\n",
    "ret = price[1:]/price[:-1] - 1\n",
    "#print(ret)\n",
    "\n",
    "price_tab = np.array([])\n",
    "ret_tab = np.array([])\n",
    "for i in range(len(price)):\n",
    "    price_tab = np.append(price_tab, price[i])\n",
    "for i in range(len(ret)):\n",
    "    ret_tab = np.append(ret_tab, ret[i])\n",
    "\n",
    "price_tab = price_tab.reshape(days,3)\n",
    "ret_tab = ret_tab.reshape(days-1,3)\n",
    "\n",
    "df_price = pd.DataFrame(price_tab)\n",
    "df_price.columns =['CSCO', 'BAC','GE']\n",
    "df_ret = pd.DataFrame(ret_tab)\n",
    "df_ret.columns=['CSCO', 'BAC','GE']\n",
    "# Print prices\n",
    "print(df_price)\n",
    "#Print returns\n",
    "print(df_ret)\n",
    "\n",
    "hist_std_csco = np.std(df_ret[\"CSCO\"])*np.sqrt(250)\n",
    "hist_std_bac = np.std(df_ret[\"BAC\"])*np.sqrt(250)\n",
    "hist_std_ge = np.std(df_ret[\"GE\"])*np.sqrt(250)\n",
    "\n",
    "# Historical volatility\n",
    "print(hist_std_csco)\n",
    "print(hist_std_bac)\n",
    "print(hist_std_ge)"
   ],
   "metadata": {
    "collapsed": false,
    "pycharm": {
     "name": "#%%\n"
    }
   }
  },
  {
   "cell_type": "markdown",
   "source": [
    "\n",
    "Yahoo Finance Quotes: Call + Put options\n"
   ],
   "metadata": {
    "collapsed": false,
    "pycharm": {
     "name": "#%% md\n"
    }
   }
  },
  {
   "cell_type": "code",
   "source": [
    "# Getting Call/Put options: Market Prices\n",
    "opt_csco = csco.option_chain(date='2023-01-20')\n",
    "options_cisco = opt_csco\n",
    "print(options_cisco)\n",
    "\n",
    "opt_bac = bac.option_chain(date='2023-01-20')\n",
    "options_bac = opt_bac\n",
    "\n",
    "opt_ge = ge.option_chain(date='2023-01-20')\n",
    "options_ge = opt_ge"
   ],
   "metadata": {
    "collapsed": false,
    "pycharm": {
     "name": "#%%\n"
    }
   },
   "execution_count": 90,
   "outputs": [
    {
     "name": "stdout",
     "output_type": "stream",
     "text": [
      "Options(calls=         contractSymbol             lastTradeDate  strike  lastPrice    bid  \\\n",
      "0   CSCO230120C00020000 2022-07-01 17:39:59+00:00    20.0      22.10  22.55   \n",
      "1   CSCO230120C00023000 2022-01-03 18:48:29+00:00    23.0      39.95  33.05   \n",
      "2   CSCO230120C00025000 2022-07-01 18:16:32+00:00    25.0      17.15  17.70   \n",
      "3   CSCO230120C00028000 2022-07-05 17:47:34+00:00    28.0      13.85  14.90   \n",
      "4   CSCO230120C00030000 2022-07-05 13:30:14+00:00    30.0      12.34  13.10   \n",
      "5   CSCO230120C00033000 2022-07-05 13:35:20+00:00    33.0       9.35  10.45   \n",
      "6   CSCO230120C00035000 2022-07-05 16:45:07+00:00    35.0       7.80   8.75   \n",
      "7   CSCO230120C00037000 2022-07-05 19:15:46+00:00    37.0       6.80   7.20   \n",
      "8   CSCO230120C00040000 2022-07-06 16:30:14+00:00    40.0       5.10   5.10   \n",
      "9   CSCO230120C00042000 2022-07-06 17:00:15+00:00    42.0       3.95   3.90   \n",
      "10  CSCO230120C00045000 2022-07-06 14:59:02+00:00    45.0       2.43   2.48   \n",
      "11  CSCO230120C00047000 2022-07-06 16:35:08+00:00    47.0       1.76   1.74   \n",
      "12  CSCO230120C00050000 2022-07-06 17:07:07+00:00    50.0       1.00   0.95   \n",
      "13  CSCO230120C00052500 2022-07-06 14:08:36+00:00    52.5       0.56   0.56   \n",
      "14  CSCO230120C00055000 2022-07-06 15:54:38+00:00    55.0       0.34   0.35   \n",
      "15  CSCO230120C00057500 2022-07-05 17:43:50+00:00    57.5       0.17   0.20   \n",
      "16  CSCO230120C00060000 2022-07-06 14:59:40+00:00    60.0       0.12   0.12   \n",
      "17  CSCO230120C00062500 2022-07-05 15:35:45+00:00    62.5       0.07   0.07   \n",
      "18  CSCO230120C00065000 2022-07-06 16:35:58+00:00    65.0       0.06   0.05   \n",
      "19  CSCO230120C00067500 2022-07-05 15:06:27+00:00    67.5       0.04   0.03   \n",
      "20  CSCO230120C00070000 2022-07-06 14:10:48+00:00    70.0       0.04   0.01   \n",
      "21  CSCO230120C00072500 2022-07-05 13:35:38+00:00    72.5       0.04   0.02   \n",
      "22  CSCO230120C00075000 2022-07-01 18:22:42+00:00    75.0       0.03   0.02   \n",
      "23  CSCO230120C00080000 2022-07-06 13:41:59+00:00    80.0       0.07   0.01   \n",
      "24  CSCO230120C00085000 2022-06-09 17:35:27+00:00    85.0       0.02   0.00   \n",
      "25  CSCO230120C00090000 2022-06-15 17:22:05+00:00    90.0       0.02   0.01   \n",
      "26  CSCO230120C00095000 2022-06-16 16:41:40+00:00    95.0       0.01   0.00   \n",
      "\n",
      "      ask  change  percentChange  volume  openInterest  impliedVolatility  \\\n",
      "0   22.75    0.00       0.000000     300             7           0.556645   \n",
      "1   33.40    0.00       0.000000     180             0           2.786136   \n",
      "2   17.95    0.00       0.000000      75            57           0.515142   \n",
      "3   15.00    0.00       0.000000      13           126           0.435553   \n",
      "4   13.20    0.00       0.000000       1           256           0.416998   \n",
      "5   10.60    0.00       0.000000       2           199           0.387701   \n",
      "6    8.90    0.00       0.000000       1           395           0.362311   \n",
      "7    7.30    0.00       0.000000       9          7523           0.339606   \n",
      "8    5.25    0.35       7.368420       5          4453           0.319709   \n",
      "9    4.05    0.35       9.722227      23          9125           0.305671   \n",
      "10   2.56    0.41      20.297033      62         22720           0.285896   \n",
      "11   1.81    0.27      18.120804      41         16327           0.275764   \n",
      "12   1.00    0.10      11.111114      27         14542           0.262459   \n",
      "13   0.62    0.05       9.803924       7          5424           0.260261   \n",
      "14   0.36    0.04      13.333329      39          9607           0.255867   \n",
      "15   0.23    0.00       0.000000      20         11026           0.259285   \n",
      "16   0.13    0.03      33.333324      57         15336           0.256843   \n",
      "17   0.09    0.00       0.000000     102         16325           0.263679   \n",
      "18   0.06    0.01      19.999996      27         30249           0.268562   \n",
      "19   0.05    0.00       0.000000       2          6542           0.281257   \n",
      "20   0.04    0.00       0.000000       8         10095           0.291023   \n",
      "21   0.03    0.00       0.000000       1          1196           0.296882   \n",
      "22   0.03    0.00       0.000000       5          1987           0.312507   \n",
      "23   0.03    0.03      75.000010      41          2271           0.343757   \n",
      "24   0.03    0.00       0.000000      10          1722           0.371100   \n",
      "25   0.03    0.00       0.000000       1          1346           0.398444   \n",
      "26   0.03    0.00       0.000000      10          1077           0.421881   \n",
      "\n",
      "    inTheMoney contractSize currency  \n",
      "0         True      REGULAR      USD  \n",
      "1         True      REGULAR      USD  \n",
      "2         True      REGULAR      USD  \n",
      "3         True      REGULAR      USD  \n",
      "4         True      REGULAR      USD  \n",
      "5         True      REGULAR      USD  \n",
      "6         True      REGULAR      USD  \n",
      "7         True      REGULAR      USD  \n",
      "8         True      REGULAR      USD  \n",
      "9         True      REGULAR      USD  \n",
      "10       False      REGULAR      USD  \n",
      "11       False      REGULAR      USD  \n",
      "12       False      REGULAR      USD  \n",
      "13       False      REGULAR      USD  \n",
      "14       False      REGULAR      USD  \n",
      "15       False      REGULAR      USD  \n",
      "16       False      REGULAR      USD  \n",
      "17       False      REGULAR      USD  \n",
      "18       False      REGULAR      USD  \n",
      "19       False      REGULAR      USD  \n",
      "20       False      REGULAR      USD  \n",
      "21       False      REGULAR      USD  \n",
      "22       False      REGULAR      USD  \n",
      "23       False      REGULAR      USD  \n",
      "24       False      REGULAR      USD  \n",
      "25       False      REGULAR      USD  \n",
      "26       False      REGULAR      USD  , puts=         contractSymbol             lastTradeDate  strike  lastPrice    bid  \\\n",
      "0   CSCO230120P00020000 2022-07-06 16:48:35+00:00    20.0       0.09   0.10   \n",
      "1   CSCO230120P00023000 2022-06-23 18:51:18+00:00    23.0       0.20   0.19   \n",
      "2   CSCO230120P00025000 2022-06-17 18:58:51+00:00    25.0       0.34   0.25   \n",
      "3   CSCO230120P00028000 2022-06-21 14:30:18+00:00    28.0       0.45   0.46   \n",
      "4   CSCO230120P00030000 2022-07-05 16:17:41+00:00    30.0       0.77   0.62   \n",
      "5   CSCO230120P00033000 2022-07-06 14:18:04+00:00    33.0       0.98   0.97   \n",
      "6   CSCO230120P00035000 2022-07-06 17:04:14+00:00    35.0       1.30   1.26   \n",
      "7   CSCO230120P00037000 2022-07-06 16:52:50+00:00    37.0       1.78   1.73   \n",
      "8   CSCO230120P00040000 2022-07-06 15:47:20+00:00    40.0       2.74   2.63   \n",
      "9   CSCO230120P00042000 2022-07-06 15:48:10+00:00    42.0       3.55   3.40   \n",
      "10  CSCO230120P00045000 2022-07-06 16:02:52+00:00    45.0       5.09   4.95   \n",
      "11  CSCO230120P00047000 2022-07-05 14:46:43+00:00    47.0       7.17   6.20   \n",
      "12  CSCO230120P00050000 2022-07-05 14:33:45+00:00    50.0       9.60   8.40   \n",
      "13  CSCO230120P00052500 2022-07-05 16:21:16+00:00    52.5      11.70  10.50   \n",
      "14  CSCO230120P00055000 2022-07-05 14:36:13+00:00    55.0      14.21  12.75   \n",
      "15  CSCO230120P00057500 2022-06-16 15:53:01+00:00    57.5      15.20  15.10   \n",
      "16  CSCO230120P00060000 2022-07-05 17:14:05+00:00    60.0      18.77  17.45   \n",
      "17  CSCO230120P00062500 2022-06-15 13:47:01+00:00    62.5      19.45  19.90   \n",
      "18  CSCO230120P00065000 2022-07-06 15:46:58+00:00    65.0      22.71  22.40   \n",
      "19  CSCO230120P00067500 2022-04-11 19:18:53+00:00    67.5      15.30  19.15   \n",
      "20  CSCO230120P00070000 2022-06-07 19:47:56+00:00    70.0      24.76  27.30   \n",
      "21  CSCO230120P00072500 2022-04-13 16:25:09+00:00    72.5      20.95  23.65   \n",
      "22  CSCO230120P00075000 2022-03-16 18:25:26+00:00    75.0      21.07  23.95   \n",
      "23  CSCO230120P00080000 2022-05-19 14:10:08+00:00    80.0      37.95  36.70   \n",
      "24  CSCO230120P00085000 2022-07-05 16:52:58+00:00    85.0      43.79  42.40   \n",
      "25  CSCO230120P00095000 2022-04-18 04:03:08+00:00    95.0      41.82   0.00   \n",
      "\n",
      "      ask    change  percentChange  volume  openInterest  impliedVolatility  \\\n",
      "0    0.11 -0.030000     -24.999994     6.0          1021           0.521489   \n",
      "1    0.20  0.000000       0.000000     1.0          1720           0.487310   \n",
      "2    0.29  0.000000       0.000000    10.0          6490           0.463873   \n",
      "3    0.47  0.000000       0.000000    10.0          1575           0.427740   \n",
      "4    0.64  0.000000       0.000000  1017.0         15613           0.405279   \n",
      "5    1.00 -0.220000     -18.333336    13.0          6641           0.373541   \n",
      "6    1.33 -0.190000     -12.751681    22.0          6442           0.353766   \n",
      "7    1.77 -0.300000     -14.423076    15.0          6399           0.336188   \n",
      "8    2.70 -0.160000      -5.517244    12.0         22283           0.315192   \n",
      "9    3.50 -0.260000      -6.824147     7.0          8432           0.301399   \n",
      "10   5.05 -0.760000     -12.991449    28.0         26884           0.284919   \n",
      "11   6.35  0.000000       0.000000     7.0         13213           0.278938   \n",
      "12   8.55  0.000000       0.000000     2.0         15447           0.267585   \n",
      "13  10.60  0.000000       0.000000     6.0         10014           0.257088   \n",
      "14  12.90  0.000000       0.000000     1.0          7728           0.262214   \n",
      "15  15.30  0.000000       0.000000    10.0          2050           0.274421   \n",
      "16  17.65  0.000000       0.000000     7.0          5987           0.262703   \n",
      "17  20.15  0.000000       0.000000     2.0          3126           0.287117   \n",
      "18  22.60 -1.190001      -4.979082    14.0           581           0.289070   \n",
      "19  19.65  0.000000       0.000000     1.0            83           0.000010   \n",
      "20  27.65  0.000000       0.000000     1.0           263           0.352546   \n",
      "21  23.80  0.000000       0.000000     1.0            30           0.000010   \n",
      "22  24.40  0.000000       0.000000     1.0           151           0.000010   \n",
      "23  37.15  0.000000       0.000000     2.0           121           0.000010   \n",
      "24  42.65  0.000000       0.000000     2.0           179           0.458013   \n",
      "25   0.00  0.000000       0.000000     NaN             0           0.000010   \n",
      "\n",
      "    inTheMoney contractSize currency  \n",
      "0        False      REGULAR      USD  \n",
      "1        False      REGULAR      USD  \n",
      "2        False      REGULAR      USD  \n",
      "3        False      REGULAR      USD  \n",
      "4        False      REGULAR      USD  \n",
      "5        False      REGULAR      USD  \n",
      "6        False      REGULAR      USD  \n",
      "7        False      REGULAR      USD  \n",
      "8        False      REGULAR      USD  \n",
      "9        False      REGULAR      USD  \n",
      "10        True      REGULAR      USD  \n",
      "11        True      REGULAR      USD  \n",
      "12        True      REGULAR      USD  \n",
      "13        True      REGULAR      USD  \n",
      "14        True      REGULAR      USD  \n",
      "15        True      REGULAR      USD  \n",
      "16        True      REGULAR      USD  \n",
      "17        True      REGULAR      USD  \n",
      "18        True      REGULAR      USD  \n",
      "19        True      REGULAR      USD  \n",
      "20        True      REGULAR      USD  \n",
      "21        True      REGULAR      USD  \n",
      "22        True      REGULAR      USD  \n",
      "23        True      REGULAR      USD  \n",
      "24        True      REGULAR      USD  \n",
      "25        True      REGULAR      USD  )\n"
     ]
    }
   ]
  },
  {
   "cell_type": "code",
   "execution_count": 91,
   "outputs": [],
   "source": [
    "# Get Market Call Prices - CSCO\n",
    "strike_call_list_cisco = (options_cisco[0]['strike'])\n",
    "market_price_call_cisco = (options_cisco[0]['lastPrice'])\n",
    "market_implied_vol_call_cisco = (options_cisco[0]['impliedVolatility'])\n",
    "df_market_call_csco = pd.DataFrame({'strike':strike_call_list_cisco ,\n",
    "                   'lastPrice':market_price_call_cisco ,\n",
    "                   'impliedVolatility': market_implied_vol_call_cisco})\n",
    "#print(df_market_call)\n",
    "\n",
    "# Get Market Put Prices - CSCO\n",
    "strike_put_list_cisco = (options_cisco[1]['strike'])\n",
    "market_price_put_cisco = (options_cisco[1]['lastPrice'])\n",
    "market_implied_vol_put_cisco = (options_cisco[1]['impliedVolatility'])\n",
    "df_market_put_cisco = pd.DataFrame({'strike':strike_put_list_cisco ,\n",
    "                   'lastPrice':market_price_put_cisco ,\n",
    "                   'impliedVolatility': market_implied_vol_put_cisco})\n",
    "\n",
    "# Get Market Call Prices - GE\n",
    "strike_call_list_ge = (options_ge[0]['strike'])\n",
    "market_price_call_ge = (options_ge[0]['lastPrice'])\n",
    "market_implied_vol_call_ge = (options_ge[0]['impliedVolatility'])\n",
    "df_market_call_ge = pd.DataFrame({'strike':strike_call_list_ge ,\n",
    "                   'lastPrice':market_price_call_ge ,\n",
    "                   'impliedVolatility': market_implied_vol_call_ge})\n",
    "#print(df_market_call)\n",
    "\n",
    "# Get Market Put Prices - GE\n",
    "strike_put_list_ge = (options_ge[1]['strike'])\n",
    "market_price_put_ge = (options_ge[1]['lastPrice'])\n",
    "market_implied_vol_put_ge = (options_ge[1]['impliedVolatility'])\n",
    "df_market_put_ge = pd.DataFrame({'strike':strike_put_list_ge ,\n",
    "                   'lastPrice':market_price_put_ge ,\n",
    "                   'impliedVolatility': market_implied_vol_put_ge})\n",
    "\n",
    "#print(df_market_call_ge)"
   ],
   "metadata": {
    "collapsed": false,
    "pycharm": {
     "name": "#%%\n"
    }
   }
  },
  {
   "cell_type": "markdown",
   "source": [
    "Parameters: Black-Scholes"
   ],
   "metadata": {
    "collapsed": false,
    "pycharm": {
     "name": "#%% md\n"
    }
   }
  },
  {
   "cell_type": "code",
   "execution_count": 92,
   "outputs": [],
   "source": [
    "S_0_CSCO = 42.49            # stock price: CSCO\n",
    "S_0_GE = 61.19              # stock price: GE\n",
    "r = 1.85/100                # interest rate\n",
    "\n",
    "sigma_CSCO = hist_std_csco  # historical (std) volatility CSCO\n",
    "sigma_GE = hist_std_ge      # historical (std) volatility GE\n",
    "\n",
    "K_CSCO = 55                 # specific strike CSCO\n",
    "K_GE = 35                   # specific strike GE\n",
    "\n",
    "T = 143/250                 # 30 weeks: 150 trading days\n",
    "N = 10000                   # number of trajectories\n",
    "\n",
    "# Getting the quoted implied volatility: CSCO\n",
    "market_call_CSCO = df_market_call_csco.loc[df_market_call_csco['strike']==K_CSCO]\n",
    "implied_vol_CSCO_Call = (np.array(market_call_CSCO[\"impliedVolatility\"]))\n",
    "implied_vol_CSCO_Call = implied_vol_CSCO_Call[0]\n",
    "\n",
    "market_put_CSCO = df_market_put_cisco.loc[df_market_put_cisco['strike']==K_CSCO]\n",
    "implied_vol_CSCO_Put = (np.array(market_put_CSCO[\"impliedVolatility\"]))\n",
    "implied_vol_CSCO_Put = implied_vol_CSCO_Put[0]\n",
    "\n",
    "# Getting the quoted implied volatility: GE\n",
    "market_call_ge = df_market_call_ge.loc[df_market_call_ge['strike']==K_GE]\n",
    "implied_vol_ge_Call = (np.array(market_call_ge[\"impliedVolatility\"]))\n",
    "implied_vol_ge_Call = implied_vol_ge_Call[0]\n",
    "\n",
    "market_put_ge = df_market_put_ge.loc[df_market_put_ge['strike']==K_GE]\n",
    "implied_vol_ge_Put = (np.array(market_put_ge[\"impliedVolatility\"]))\n",
    "implied_vol_ge_Put = implied_vol_ge_Put[0]"
   ],
   "metadata": {
    "collapsed": false,
    "pycharm": {
     "name": "#%%\n"
    }
   }
  },
  {
   "cell_type": "markdown",
   "source": [
    "Black-Scholes-Merton: Options Prices"
   ],
   "metadata": {
    "collapsed": false,
    "pycharm": {
     "name": "#%% md\n"
    }
   }
  },
  {
   "cell_type": "code",
   "execution_count": 93,
   "outputs": [],
   "source": [
    "def black_scholes_merton_call_div(S, K, T, r, a, sigma):\n",
    "\n",
    "    #S: spot price\n",
    "    #K: strike price\n",
    "    #T: time to maturity\n",
    "    #r: interest rate\n",
    "    #a: dividend yield\n",
    "    #sigma: volatility of underlying asset\n",
    "\n",
    "    d1 = (np.log(S/K) + (r-a+0.5*sigma**2)*T) / (sigma*np.sqrt(T))\n",
    "    d2 = (np.log(S/K) + (r-a-0.5*sigma**2)*T) / (sigma*np.sqrt(T))\n",
    "    call = (S*np.exp(-a*T) * si.norm.cdf(d1, 0.0, 1.0) - K*np.exp(-r*T) * si.norm.cdf(d2, 0.0, 1.0))\n",
    "    return call\n",
    "\n",
    "\n",
    "def black_scholes_put_div(S, K, T, r, a, sigma):\n",
    "\n",
    "    d1_bs = (np.log(S/K) + (r-a+0.5*sigma**2)*T) / (sigma*np.sqrt(T))\n",
    "    d2_bs = (np.log(S/K) + (r-a-0.5*sigma**2)*T) / (sigma*np.sqrt(T))\n",
    "    put = (K*np.exp(-r*T) * si.norm.cdf(-d2_bs, 0.0, 1.0) - S*np.exp(-a*T) * si.norm.cdf(-d1_bs, 0.0, 1.0))\n",
    "    return put"
   ],
   "metadata": {
    "collapsed": false,
    "pycharm": {
     "name": "#%%\n"
    }
   }
  },
  {
   "cell_type": "markdown",
   "source": [
    "Testing Black-Scholes functions: with historical volatility & implied volatility quoted by Yahoo Finance"
   ],
   "metadata": {
    "collapsed": false,
    "pycharm": {
     "name": "#%% md\n"
    }
   }
  },
  {
   "cell_type": "code",
   "execution_count": 94,
   "outputs": [],
   "source": [
    "# Black-Scholes CSCO results\n",
    "call_bs_CSCO =  black_scholes_merton_call_div(S_0_CSCO, K_CSCO, T, r, a_csco, hist_std_csco)\n",
    "put_bs_CSCO =  black_scholes_put_div(S_0_CSCO, K_CSCO, T, r, a_csco, hist_std_csco)\n",
    "\n",
    "call_bs_CSCO_implied_vol =  black_scholes_merton_call_div(S_0_CSCO, K_CSCO, T, r, a_csco, implied_vol_CSCO_Call)\n",
    "put_bs_CSCO_implied_vol =  black_scholes_put_div(S_0_CSCO, K_CSCO, T, r, a_csco, implied_vol_CSCO_Put)\n",
    "\n",
    "# Black-Scholes GE results\n",
    "call_bs_GE =  black_scholes_merton_call_div(S_0_GE, K_GE, T, r, a_ge, hist_std_ge)\n",
    "put_bs_GE =  black_scholes_put_div(S_0_GE, K_GE, T, r, a_ge, hist_std_ge)\n",
    "\n",
    "call_bs_GE_implied_vol =  black_scholes_merton_call_div(S_0_GE, K_GE, T, r, a_ge, implied_vol_ge_Call)\n",
    "put_bs_GE_implied_vol =  black_scholes_put_div(S_0_GE, K_GE, T, r, a_ge, implied_vol_ge_Put)"
   ],
   "metadata": {
    "collapsed": false,
    "pycharm": {
     "name": "#%%\n"
    }
   }
  },
  {
   "cell_type": "markdown",
   "source": [
    "Black-Scholes-Merton: Greeks\n"
   ],
   "metadata": {
    "collapsed": false,
    "pycharm": {
     "name": "#%% md\n"
    }
   }
  },
  {
   "cell_type": "code",
   "execution_count": 95,
   "outputs": [],
   "source": [
    "def d1(S,K,T,r,a,sigma):\n",
    "    return(log(S/K)+(r-a+sigma**2/2.)*T)/(sigma*sqrt(T))\n",
    "\n",
    "def d2(S,K,T,r,a,sigma):\n",
    "    return d1(S,K,T,r,a,sigma)-sigma*sqrt(T)\n",
    "\n",
    "############## CALL OPTION ##############\n",
    "\n",
    "def call_delta(S,K,T,r,a,sigma):\n",
    "    return exp(-a*T)*norm.cdf(d1(S,K,T,r,a,sigma))\n",
    "\n",
    "def call_gamma(S,K,T,r,a,sigma):\n",
    "    return exp(-a*T)*norm.pdf(d1(S,K,T,r,a,sigma))/(S*sigma*sqrt(T))\n",
    "\n",
    "def call_vega(S,K,T,r,a,sigma):\n",
    "    return 0.01*exp(-a*T)*(S*norm.pdf(d1(S,K,T,r,a,sigma))*sqrt(T))\n",
    "\n",
    "############## PUT OPTION ##############\n",
    "\n",
    "def put_delta(S,K,T,r,a,sigma):\n",
    "    return -exp(-a*T)*norm.cdf(-d1(S,K,T,r,a,sigma))\n",
    "\n",
    "def put_gamma(S,K,T,r,a,sigma):\n",
    "    return exp(-a*T)*norm.pdf(d1(S,K,T,r,a,sigma))/(S*sigma*sqrt(T))\n",
    "\n",
    "def put_vega(S,K,T,r,a,sigma):\n",
    "    return 0.01*exp(-a*T)*(S*norm.pdf(d1(S,K,T,r,a,sigma))*sqrt(T))"
   ],
   "metadata": {
    "collapsed": false,
    "pycharm": {
     "name": "#%%\n"
    }
   }
  },
  {
   "cell_type": "markdown",
   "source": [
    "Greeks Testing: with historical volatility"
   ],
   "metadata": {
    "collapsed": false,
    "pycharm": {
     "name": "#%% md\n"
    }
   }
  },
  {
   "cell_type": "code",
   "execution_count": 96,
   "outputs": [
    {
     "name": "stdout",
     "output_type": "stream",
     "text": [
      "USING HISTORICAL VOLATILITY\n",
      "\n",
      "Delta CSCO:  0.15566505302056396\n",
      "Gamma CSCO:  0.024537362848814265\n",
      "Vega CSCO:  0.07656400210787105\n",
      "Delta GE:  -0.009579166147223457\n",
      "Gamma GE:  0.0016332216580074335\n",
      "Delta GE:  0.011884590068902684\n"
     ]
    }
   ],
   "source": [
    "# GREEKS\n",
    "print(\"USING HISTORICAL VOLATILITY\")\n",
    "print()\n",
    "# CSCO:\n",
    "delta_CSCO = call_delta(S_0_CSCO,K_CSCO,T,r,a_csco,hist_std_csco)\n",
    "print(\"Delta CSCO: \", delta_CSCO)\n",
    "gamma_CSCO = call_gamma(S_0_CSCO,K_CSCO,T,r,a_csco,hist_std_csco)\n",
    "print(\"Gamma CSCO: \", gamma_CSCO)\n",
    "vega_CSCO = call_vega(S_0_CSCO,K_CSCO,T,r,a_csco,hist_std_csco)\n",
    "print(\"Vega CSCO: \", vega_CSCO)\n",
    "\n",
    "# GE:\n",
    "delta_GE = put_delta(S_0_GE,K_GE,T,r,a_ge,hist_std_ge)\n",
    "print(\"Delta GE: \", delta_GE)\n",
    "gamma_GE = put_gamma(S_0_GE,K_GE,T,r,a_ge,hist_std_ge)\n",
    "print(\"Gamma GE: \", gamma_GE)\n",
    "vega_GE = put_vega(S_0_GE,K_GE,T,r,a_ge,hist_std_ge)\n",
    "print(\"Delta GE: \", vega_GE)"
   ],
   "metadata": {
    "collapsed": false,
    "pycharm": {
     "name": "#%%\n"
    }
   }
  },
  {
   "cell_type": "markdown",
   "source": [
    "Monte-Carlo Simulation\n"
   ],
   "metadata": {
    "collapsed": false,
    "pycharm": {
     "name": "#%% md\n"
    }
   }
  },
  {
   "cell_type": "code",
   "execution_count": 97,
   "outputs": [],
   "source": [
    "# Monte Carlo simulation: European Option\n",
    "\n",
    "call_payoff_maturity_CSCO = []\n",
    "put_payoff_maturity_CSCO = []\n",
    "call_payoff_maturity_GE = []\n",
    "put_payoff_maturity_GE = []\n",
    "\n",
    "\n",
    "days_test = 150 # 1 week = 5 trading days\n",
    "dt = 1/250\n",
    "\n",
    "S_CSCO = np.zeros((days_test+1, N))\n",
    "S_CSCO[0] = S_0_CSCO\n",
    "S_GE = np.zeros((days_test+1, N))\n",
    "S_GE[0] = S_0_GE\n",
    "\n",
    "for t in range(1, days_test+1):\n",
    "    Z_CSCO = np.random.normal(size=N)\n",
    "    Z_GE = np.random.normal(size=N)\n",
    "    S_CSCO[t] = S_CSCO[t-1]*np.exp((r-a_csco-0.5*sigma_CSCO**2)*dt+sigma_CSCO*np.sqrt(dt)*Z_CSCO)\n",
    "    S_GE[t] = S_GE[t-1]*np.exp((r-a_ge-0.5*sigma_GE**2)*dt+sigma_GE*np.sqrt(dt)*Z_GE)"
   ],
   "metadata": {
    "collapsed": false,
    "pycharm": {
     "name": "#%%\n"
    }
   }
  },
  {
   "cell_type": "markdown",
   "source": [
    "Valuation (European)"
   ],
   "metadata": {
    "collapsed": false,
    "pycharm": {
     "name": "#%% md\n"
    }
   }
  },
  {
   "cell_type": "code",
   "execution_count": 98,
   "outputs": [
    {
     "name": "stdout",
     "output_type": "stream",
     "text": [
      "0.7827131100545617\n",
      "12.966337770873968\n",
      "26.498699446292747\n",
      "0.07025862915695348\n"
     ]
    }
   ],
   "source": [
    "S_T_CSCO = S_CSCO[-1]\n",
    "S_T_GE = S_GE[-1]\n",
    "for i in range(len(S_T_CSCO)):\n",
    "    call_payoff_maturity_CSCO.append(max(S_T_CSCO[i]-K_CSCO,0))\n",
    "    put_payoff_maturity_CSCO.append(max(K_CSCO-S_T_CSCO[i],0))\n",
    "\n",
    "    call_payoff_maturity_GE.append(max(S_T_GE[i]-K_GE,0))\n",
    "    put_payoff_maturity_GE.append(max(K_GE-S_T_GE[i],0))\n",
    "\n",
    "# Price of CSCO options: expiry on Jan 20, 2023\n",
    "VMC_call_CSCO = np.mean(call_payoff_maturity_CSCO)\n",
    "C_0_CSCO = VMC_call_CSCO*np.exp(-r*days_test/250)\n",
    "print(C_0_CSCO)\n",
    "\n",
    "VMC_put_CSCO = np.mean(put_payoff_maturity_CSCO)\n",
    "P_0_CSCO = VMC_put_CSCO*np.exp(-r*days_test/250)\n",
    "print(P_0_CSCO)\n",
    "\n",
    "# Price of GE options: expiry on Jan 20, 2023\n",
    "VMC_call_GE = np.mean(call_payoff_maturity_GE)\n",
    "C_0_GE = VMC_call_GE*np.exp(-r*days_test/250)\n",
    "print(C_0_GE)\n",
    "\n",
    "VMC_put_GE = np.mean(put_payoff_maturity_GE)\n",
    "P_0_GE = VMC_put_GE*np.exp(-r*days_test/250)\n",
    "print(P_0_GE)"
   ],
   "metadata": {
    "collapsed": false,
    "pycharm": {
     "name": "#%%\n"
    }
   }
  },
  {
   "cell_type": "markdown",
   "source": [
    "Recap Results: Market Prices, Black-Scholes formulas, Black-Scholes Monte-Carlo"
   ],
   "metadata": {
    "collapsed": false,
    "pycharm": {
     "name": "#%% md\n"
    }
   }
  },
  {
   "cell_type": "code",
   "execution_count": 99,
   "outputs": [
    {
     "name": "stdout",
     "output_type": "stream",
     "text": [
      "CSCO Call prices:\n",
      "CSCO Market call:      strike  lastPrice  impliedVolatility\n",
      "14    55.0       0.34           0.255867\n",
      "CSCO Black-Scholes call with market implied volatility:  0.3996044495171782\n",
      "CSCO Black-Scholes call with historical volatility:  0.7170051395472683\n",
      "EU CSCO call with MC estimation:  0.7827131100545617\n"
     ]
    }
   ],
   "source": [
    "# Market Prices\n",
    "market_call_CSCO = df_market_call_csco.loc[df_market_call_csco['strike']==K_CSCO]\n",
    "market_put_CSCO = df_market_put_cisco.loc[df_market_put_cisco['strike']==K_CSCO]\n",
    "\n",
    "print(\"CSCO Call prices:\")\n",
    "print(\"CSCO Market call: \", market_call_CSCO)\n",
    "print(\"CSCO Black-Scholes call with market implied volatility: \", call_bs_CSCO_implied_vol)\n",
    "print(\"CSCO Black-Scholes call with historical volatility: \", call_bs_CSCO)\n",
    "print(\"EU CSCO call with MC estimation: \", C_0_CSCO)\n",
    "# print()\n",
    "# print(\"CSCO Put prices:\")\n",
    "# print(\"CSCO Market put: \", market_put_CSCO)\n",
    "# print(\"CSCO Black-Scholes put with implied volatility: \", put_bs_CSCO_implied_vol)\n",
    "# print(\"CSCO Black-Scholes put with historical volatility: \", put_bs_CSCO)\n",
    "# print(\"EU CSCO put with MC estimation: \", P_0_CSCO)\n"
   ],
   "metadata": {
    "collapsed": false,
    "pycharm": {
     "name": "#%%\n"
    }
   }
  },
  {
   "cell_type": "code",
   "execution_count": 100,
   "outputs": [
    {
     "name": "stdout",
     "output_type": "stream",
     "text": [
      "GE Put prices:\n",
      "GE Market put:      strike  lastPrice  impliedVolatility\n",
      "12    35.0       0.65           0.536626\n",
      "GE Black-Scholes put with market implied volatility:  0.6753334024949811\n",
      "GE Black-Scholes put with historical volatility:  0.055163971655895705\n",
      "EU GE put with MC estimation:  0.07025862915695348\n"
     ]
    }
   ],
   "source": [
    "market_call_ge = df_market_call_ge.loc[df_market_call_ge['strike']==K_GE]\n",
    "market_put_ge = df_market_put_ge.loc[df_market_put_ge['strike']==K_GE]\n",
    "\n",
    "# print(\"GE Call prices:\")\n",
    "# print(\"GE Market call: \", market_call_ge)\n",
    "# print(\"GE Black-Scholes call with implied volatility: \", call_bs_GE_implied_vol)\n",
    "# print(\"GE Black-Scholes call with historical volatility: \", call_bs_GE)\n",
    "# print(\"EU GE call with MC estimation: \", C_0_GE)\n",
    "# print()\n",
    "print(\"GE Put prices:\")\n",
    "print(\"GE Market put: \", market_put_ge)\n",
    "print(\"GE Black-Scholes put with market implied volatility: \", put_bs_GE_implied_vol)\n",
    "print(\"GE Black-Scholes put with historical volatility: \", put_bs_GE)\n",
    "print(\"EU GE put with MC estimation: \", P_0_GE)"
   ],
   "metadata": {
    "collapsed": false,
    "pycharm": {
     "name": "#%%\n"
    }
   }
  },
  {
   "cell_type": "code",
   "execution_count": 101,
   "outputs": [],
   "source": [
    "# Build own implied volatility using Black-Scholes model\n",
    "\n",
    "def call_implied_volatility(Price, S, K, T, r, a):\n",
    "    implied_vol_bs = 0.001\n",
    "    while implied_vol_bs < 1:\n",
    "        Price_implied = S * exp(-a*T) * norm.cdf(d1(S, K, T, r, a, implied_vol_bs))-K*exp(-r*T) * \\\n",
    "            norm.cdf(d2(S, K, T, r, a, implied_vol_bs))\n",
    "        if Price- Price_implied < 0.001:\n",
    "            return implied_vol_bs\n",
    "        implied_vol_bs += 0.001\n",
    "    return \"Not Found\"\n",
    "\n",
    "def put_implied_volatility(Price, S, K, T, r, a):\n",
    "    implied_vol_bs = 0.001\n",
    "    while implied_vol_bs < 1:\n",
    "        Price_implied = K*exp(-r*T)-S*exp(-a*T)+black_scholes_merton_call_div(S, K, T, r, a, implied_vol_bs)\n",
    "        if Price- Price_implied < 0.001:\n",
    "            return implied_vol_bs\n",
    "        implied_vol_bs += 0.001\n",
    "    return \"Not Found\"\n"
   ],
   "metadata": {
    "collapsed": false,
    "pycharm": {
     "name": "#%%\n"
    }
   }
  },
  {
   "cell_type": "markdown",
   "source": [
    "\n",
    "Using quotes, we get implied volatilities using Black-Scholes model. Not always a quote for Put option GE, K=10. Therefore, we take at the money put option. In BSM, it is supposed to be constant for all the strikes across the same maturity: it justifies why it can be done but it emphasizes this limitation of BSM and its implied volatility assumption.\n"
   ],
   "metadata": {
    "collapsed": false,
    "pycharm": {
     "name": "#%% md\n"
    }
   }
  },
  {
   "cell_type": "code",
   "execution_count": 109,
   "outputs": [
    {
     "name": "stdout",
     "output_type": "stream",
     "text": [
      "BSM: Implied volatility CSCO, K=55:  0.2460000000000002\n",
      "BSM: Price using implied volatility CSCO, K=55:  0.3425553777108017\n",
      "BSM: At the money implied volatility GE:  0.5320000000000004\n",
      "BSM: At the money Price using implied volatility GE:  0.6519087627993945\n"
     ]
    }
   ],
   "source": [
    "# Implied volatility for Black-Scholes model\n",
    "K_at_the_money_CSCO = 55\n",
    "K_at_the_money_GE = 35\n",
    "\n",
    "implied_black_scholes_CSCO = call_implied_volatility(0.34, S_0_CSCO, K_CSCO, T, r, a_csco)\n",
    "bsm_call_CSCO_implied = black_scholes_merton_call_div(S_0_CSCO, K_CSCO, T, r, a_csco, implied_black_scholes_CSCO)\n",
    "print(\"BSM: Implied volatility CSCO, K=55: \", implied_black_scholes_CSCO)\n",
    "print(\"BSM: Price using implied volatility CSCO, K=55: \", bsm_call_CSCO_implied)\n",
    "\n",
    "implied_black_scholes_GE = put_implied_volatility(0.65, S_0_GE, K_at_the_money_GE, T, r, a_ge)\n",
    "bsm_put_GE_implied = black_scholes_put_div(S_0_GE, K_GE, T, r, a_ge, implied_black_scholes_GE)\n",
    "print(\"BSM: At the money implied volatility GE: \", implied_black_scholes_GE)\n",
    "print(\"BSM: At the money Price using implied volatility GE: \", bsm_put_GE_implied)"
   ],
   "metadata": {
    "collapsed": false,
    "pycharm": {
     "name": "#%%\n"
    }
   }
  },
  {
   "cell_type": "markdown",
   "source": [
    "\n",
    "Greeks with implied volatility estimated with Black-Scholes"
   ],
   "metadata": {
    "collapsed": false,
    "pycharm": {
     "name": "#%% md\n"
    }
   }
  },
  {
   "cell_type": "code",
   "execution_count": 103,
   "outputs": [
    {
     "name": "stdout",
     "output_type": "stream",
     "text": [
      "USING BLACK SCHOLES ESTIMATED IMPLIED VOLATILITY\n",
      "\n",
      "Delta CSCO:  0.08322521292124366\n",
      "Gamma CSCO:  0.020588235233570312\n",
      "Vega CSCO:  0.049113466975928395\n",
      "Delta GE:  -0.05573636405648926\n",
      "Gamma GE:  0.004477129841387157\n",
      "Vega GE:  0.052038350717949\n"
     ]
    }
   ],
   "source": [
    "# GREEKS\n",
    "print(\"USING BLACK SCHOLES ESTIMATED IMPLIED VOLATILITY\")\n",
    "print()\n",
    "# CSCO:\n",
    "delta_CSCO = call_delta(S_0_CSCO,K_CSCO,T,r,a_csco,implied_black_scholes_CSCO)\n",
    "print(\"Delta CSCO: \", delta_CSCO)\n",
    "gamma_CSCO = call_gamma(S_0_CSCO,K_CSCO,T,r,a_csco,implied_black_scholes_CSCO)\n",
    "print(\"Gamma CSCO: \", gamma_CSCO)\n",
    "vega_CSCO = call_vega(S_0_CSCO,K_CSCO,T,r,a_csco,implied_black_scholes_CSCO)\n",
    "print(\"Vega CSCO: \", vega_CSCO)\n",
    "\n",
    "# GE:\n",
    "delta_GE = put_delta(S_0_GE,K_GE,T,r,a_ge,implied_black_scholes_GE)\n",
    "print(\"Delta GE: \", delta_GE)\n",
    "gamma_GE = put_gamma(S_0_GE,K_GE,T,r,a_ge,implied_black_scholes_GE)\n",
    "print(\"Gamma GE: \", gamma_GE)\n",
    "vega_GE = put_vega(S_0_GE,K_GE,T,r,a_ge,implied_black_scholes_GE)\n",
    "print(\"Vega GE: \", vega_GE)"
   ],
   "metadata": {
    "collapsed": false,
    "pycharm": {
     "name": "#%%\n"
    }
   }
  },
  {
   "cell_type": "code",
   "execution_count": 108,
   "outputs": [
    {
     "name": "stdout",
     "output_type": "stream",
     "text": [
      "0.38447358356102157\n",
      "Delta CSCO:  0.10608910587058205\n",
      "Gamma CSCO:  0.022389865828254186\n",
      "Vega CSCO:  0.05872928298580451\n",
      "0.6914617098556604\n",
      "Delta GE:  -0.055266753676234966\n",
      "Gamma GE:  0.004472081709059067\n",
      "Vega GE:  0.05169196513869905\n"
     ]
    }
   ],
   "source": [
    "# GREEKS WITH PARAMETERS FIXED FOR BLACK-SCHOLES USE IN THE FUTURE\n",
    "\n",
    "# CSCO:\n",
    "call_def = black_scholes_merton_call_div(S_0_CSCO, K_CSCO, T, 1.68/100, a_csco, 0.254)\n",
    "print(call_def)\n",
    "delta_CSCO = call_delta(S_0_CSCO,K_CSCO,T,1.68/100,a_csco,0.254)\n",
    "print(\"Delta CSCO: \", delta_CSCO)\n",
    "gamma_CSCO = call_gamma(S_0_CSCO,K_CSCO,T,1.68/100,a_csco,0.254)\n",
    "print(\"Gamma CSCO: \", gamma_CSCO)\n",
    "vega_CSCO = call_vega(S_0_CSCO,K_CSCO,T,1.68/100,a_csco,0.254)\n",
    "print(\"Vega CSCO: \", vega_CSCO)\n",
    "\n",
    "# GE:\n",
    "put_def = black_scholes_put_div(S_0_GE, K_GE, T, 1.68/100, a_ge, 0.539)\n",
    "print(put_def)\n",
    "delta_GE = put_delta(S_0_GE,K_GE,T,1.68/100,a_ge,0.539)\n",
    "print(\"Delta GE: \", delta_GE)\n",
    "gamma_GE = put_gamma(S_0_GE,K_GE,T,1.68/100,a_ge,0.539)\n",
    "print(\"Gamma GE: \", gamma_GE)\n",
    "vega_GE = put_vega(S_0_GE,K_GE,T,1.68/100,a_ge,0.539)\n",
    "print(\"Vega GE: \", vega_GE)"
   ],
   "metadata": {
    "collapsed": false,
    "pycharm": {
     "name": "#%%\n"
    }
   }
  },
  {
   "cell_type": "code",
   "execution_count": 104,
   "outputs": [],
   "source": [],
   "metadata": {
    "collapsed": false,
    "pycharm": {
     "name": "#%%\n"
    }
   }
  }
 ],
 "metadata": {
  "kernelspec": {
   "display_name": "Python 3",
   "language": "python",
   "name": "python3"
  },
  "language_info": {
   "codemirror_mode": {
    "name": "ipython",
    "version": 2
   },
   "file_extension": ".py",
   "mimetype": "text/x-python",
   "name": "python",
   "nbconvert_exporter": "python",
   "pygments_lexer": "ipython2",
   "version": "2.7.6"
  }
 },
 "nbformat": 4,
 "nbformat_minor": 0
}