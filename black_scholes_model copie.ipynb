{
 "cells": [
  {
   "cell_type": "code",
   "execution_count": 24,
   "outputs": [],
   "source": [
    "import pandas as pd\n",
    "import csv\n",
    "import numpy as np\n",
    "import matplotlib.pyplot as plt\n",
    "from math import log, sqrt, pi, exp\n",
    "\n",
    "#from pandas_datareader import data\n",
    "from statsmodels.tsa import stattools\n",
    "from statsmodels.tsa import arima_model\n",
    "from statsmodels.graphics import gofplots\n",
    "from statsmodels.regression import linear_model\n",
    "\n",
    "from scipy import stats\n",
    "import scipy.integrate\n",
    "import scipy.special\n",
    "# from arch.unitroot import PhillipsPerron\n",
    "import yfinance as yf\n",
    "from sklearn.linear_model import LinearRegression\n",
    "\n",
    "import os\n",
    "import matplotlib.pyplot as plt  # for plotting\n",
    "from statsmodels.regression import linear_model\n",
    "\n",
    "import matplotlib.pylab as pylab\n",
    "params = {'legend.fontsize': 'x-large',\n",
    "          'figure.figsize': (15, 5),\n",
    "         'axes.labelsize': 'x-large',\n",
    "         'axes.titlesize':'x-large',\n",
    "         'xtick.labelsize':'x-large',\n",
    "         'ytick.labelsize':'x-large'}\n",
    "pylab.rcParams.update(params)\n",
    "import statistics\n",
    "import scipy.stats as si\n",
    "from scipy.stats import norm"
   ],
   "metadata": {
    "collapsed": false,
    "pycharm": {
     "name": "#%%\n"
    }
   }
  },
  {
   "cell_type": "markdown",
   "source": [
    "Data Download"
   ],
   "metadata": {
    "collapsed": false,
    "pycharm": {
     "name": "#%% md\n"
    }
   }
  },
  {
   "cell_type": "code",
   "execution_count": 3,
   "outputs": [
    {
     "name": "stdout",
     "output_type": "stream",
     "text": [
      "[*********************100%***********************]  3 of 3 completed\n",
      "            Adj Close                             Close             \\\n",
      "                  BAC       CSCO          GE        BAC       CSCO   \n",
      "Date                                                                 \n",
      "2021-08-31  40.901459  57.884148  105.141502  41.750000  59.020000   \n",
      "2021-09-01  40.352840  57.903759  103.395966  41.189999  59.040001   \n",
      "2021-09-02  40.392231  58.384327  105.989342  41.020000  59.529999   \n",
      "2021-09-03  40.421768  58.276443  104.483185  41.049999  59.419998   \n",
      "2021-09-07  40.687637  57.746841  103.026909  41.320000  58.880001   \n",
      "...               ...        ...         ...        ...        ...   \n",
      "2022-06-03  36.189999  45.250000   76.970001  36.189999  45.250000   \n",
      "2022-06-06  36.150002  45.330002   77.000000  36.150002  45.330002   \n",
      "2022-06-07  36.349998  45.570000   78.000000  36.349998  45.570000   \n",
      "2022-06-08  35.889999  44.919998   77.160004  35.889999  44.919998   \n",
      "2022-06-09  34.509998  44.259998   74.779999  34.509998  44.259998   \n",
      "\n",
      "                             High                               Low  \\\n",
      "                    GE        BAC       CSCO          GE        BAC   \n",
      "Date                                                                  \n",
      "2021-08-31  105.410004  42.070000  59.180000  106.360001  41.360001   \n",
      "2021-09-01  103.660004  41.779999  59.139999  105.470001  41.029999   \n",
      "2021-09-02  106.260002  41.490002  59.720001  106.339996  40.639999   \n",
      "2021-09-03  104.750000  41.189999  59.660000  107.360001  40.680000   \n",
      "2021-09-07  103.290001  41.849998  59.369999  104.940002  41.180000   \n",
      "...                ...        ...        ...         ...        ...   \n",
      "2022-06-03   76.970001  36.680000  45.740002   77.150002  36.130001   \n",
      "2022-06-06   77.000000  37.209999  46.090000   78.290001  36.099998   \n",
      "2022-06-07   78.000000  36.410000  45.650002   78.150002  35.740002   \n",
      "2022-06-08   77.160004  36.110001  45.630001   78.279999  35.520000   \n",
      "2022-06-09   74.779999  35.840000  45.270000   77.050003  34.500000   \n",
      "\n",
      "                                        Open                           Volume  \\\n",
      "                 CSCO          GE        BAC       CSCO          GE       BAC   \n",
      "Date                                                                            \n",
      "2021-08-31  58.580002  104.459999  41.669998  59.110001  104.940002  54654600   \n",
      "2021-09-01  58.660000  103.260002  41.750000  59.020000  105.360001  52361900   \n",
      "2021-09-02  59.060001  103.980003  41.110001  59.349998  104.000000  44538900   \n",
      "2021-09-03  59.279999  104.080002  41.020000  59.330002  106.000000  41812400   \n",
      "2021-09-07  58.750000  102.309998  41.250000  59.240002  104.500000  43748600   \n",
      "...               ...         ...        ...        ...         ...       ...   \n",
      "2022-06-03  45.119999   75.669998  36.480000  45.549999   76.739998  25222100   \n",
      "2022-06-06  45.130001   76.769997  36.700001  45.599998   77.910004  40394000   \n",
      "2022-06-07  44.720001   76.169998  35.900002  44.820000   76.910004  29152200   \n",
      "2022-06-08  44.880001   76.519997  35.919998  45.450001   76.690002  33590600   \n",
      "2022-06-09  44.240002   74.750000  35.740002  44.830002   76.889999  49419000   \n",
      "\n",
      "                                \n",
      "                CSCO        GE  \n",
      "Date                            \n",
      "2021-08-31  19873900  10990800  \n",
      "2021-09-01  11629700   7968100  \n",
      "2021-09-02  12855700   8493700  \n",
      "2021-09-03   9732200   7616900  \n",
      "2021-09-07  15503600  10989500  \n",
      "...              ...       ...  \n",
      "2022-06-03  17945000   5272600  \n",
      "2022-06-06  12641900   4744100  \n",
      "2022-06-07  14667200   5125800  \n",
      "2022-06-08  16263800   3376000  \n",
      "2022-06-09  18411800   5055500  \n",
      "\n",
      "[196 rows x 18 columns]\n"
     ]
    }
   ],
   "source": [
    "tickers = [\"CSCO\",\"BAC\",\"GE\"]\n",
    "#downoad the prices and volumes for the previously read list of tickers\n",
    "start_date = '2021-09-01'\n",
    "end_date = '2022-06-10'\n",
    "stock_data = yf.download(tickers, start=start_date, end=end_date)\n",
    "print(stock_data)"
   ],
   "metadata": {
    "collapsed": false,
    "pycharm": {
     "name": "#%%\n"
    }
   }
  },
  {
   "cell_type": "code",
   "execution_count": 4,
   "outputs": [
    {
     "name": "stdout",
     "output_type": "stream",
     "text": [
      "0.0152\n",
      "0.0032\n",
      "0.0084\n"
     ]
    }
   ],
   "source": [
    "# Dividend Rates\n",
    "csco = yf.Ticker(\"csco\")\n",
    "a_csco = csco.info['dividendRate']\n",
    "a_csco = a_csco/100\n",
    "print(a_csco)\n",
    "\n",
    "ge = yf.Ticker(\"ge\")\n",
    "a_ge = ge.info['dividendRate']\n",
    "a_ge = a_ge/100\n",
    "print(a_ge)\n",
    "\n",
    "bac = yf.Ticker(\"bac\")\n",
    "a_bac = bac.info['dividendRate']\n",
    "a_bac = a_bac/100\n",
    "print(a_bac)\n"
   ],
   "metadata": {
    "collapsed": false,
    "pycharm": {
     "name": "#%%\n"
    }
   }
  },
  {
   "cell_type": "code",
   "execution_count": 9,
   "outputs": [
    {
     "name": "stdout",
     "output_type": "stream",
     "text": [
      "          CSCO        BAC          GE\n",
      "0    40.901459  57.884148  105.141502\n",
      "1    40.352840  57.903759  103.395966\n",
      "2    40.392231  58.384327  105.989342\n",
      "3    40.421768  58.276443  104.483185\n",
      "4    40.687637  57.746841  103.026909\n",
      "..         ...        ...         ...\n",
      "191  36.189999  45.250000   76.970001\n",
      "192  36.150002  45.330002   77.000000\n",
      "193  36.349998  45.570000   78.000000\n",
      "194  35.889999  44.919998   77.160004\n",
      "195  34.509998  44.259998   74.779999\n",
      "\n",
      "[196 rows x 3 columns]\n",
      "         CSCO       BAC        GE\n",
      "0   -0.013413  0.000339 -0.016602\n",
      "1    0.000976  0.008299  0.025082\n",
      "2    0.000731 -0.001848 -0.014210\n",
      "3    0.006577 -0.009088 -0.013938\n",
      "4   -0.013069 -0.003397 -0.006874\n",
      "..        ...       ...       ...\n",
      "190 -0.013897 -0.011793 -0.013205\n",
      "191 -0.001105  0.001768  0.000390\n",
      "192  0.005532  0.005294  0.012987\n",
      "193 -0.012655 -0.014264 -0.010769\n",
      "194 -0.038451 -0.014693 -0.030845\n",
      "\n",
      "[195 rows x 3 columns]\n",
      "0.3042062445538259\n",
      "0.290198303456069\n",
      "0.3325626921984801\n"
     ]
    }
   ],
   "source": [
    "# Working on statistics\n",
    "price = stock_data['Adj Close'].values\n",
    "days = price.shape[0]\n",
    "ret = price[1:]/price[:-1] - 1\n",
    "#print(ret)\n",
    "\n",
    "price_tab = np.array([])\n",
    "ret_tab = np.array([])\n",
    "for i in range(len(price)):\n",
    "    price_tab = np.append(price_tab, price[i])\n",
    "for i in range(len(ret)):\n",
    "    ret_tab = np.append(ret_tab, ret[i])\n",
    "\n",
    "price_tab = price_tab.reshape(days,3)\n",
    "ret_tab = ret_tab.reshape(days-1,3)\n",
    "\n",
    "df_price = pd.DataFrame(price_tab)\n",
    "df_price.columns =['CSCO', 'BAC','GE']\n",
    "df_ret = pd.DataFrame(ret_tab)\n",
    "df_ret.columns=['CSCO', 'BAC','GE']\n",
    "# Print prices\n",
    "print(df_price)\n",
    "#Print returns\n",
    "print(df_ret)\n",
    "\n",
    "hist_std_csco = np.std(df_ret[\"CSCO\"])*np.sqrt(253)\n",
    "hist_std_bac = np.std(df_ret[\"BAC\"])*np.sqrt(253)\n",
    "hist_std_ge = np.std(df_ret[\"GE\"])*np.sqrt(253)\n",
    "\n",
    "# Historical volatility\n",
    "print(hist_std_csco)\n",
    "print(hist_std_bac)\n",
    "print(hist_std_ge)"
   ],
   "metadata": {
    "collapsed": false,
    "pycharm": {
     "name": "#%%\n"
    }
   }
  },
  {
   "cell_type": "code",
   "source": [
    "# Getting Call/Put options: Market Prices\n",
    "opt_csco = csco.option_chain(date='2022-06-17')\n",
    "options_cisco = opt_csco\n",
    "print(options_cisco)\n",
    "\n",
    "opt_bac = bac.option_chain(date='2022-06-17')\n",
    "options_bac = opt_bac\n",
    "\n",
    "opt_ge = ge.option_chain(date='2022-06-17')\n",
    "options_ge = opt_ge"
   ],
   "metadata": {
    "collapsed": false,
    "pycharm": {
     "name": "#%%\n"
    }
   },
   "execution_count": 33,
   "outputs": [
    {
     "name": "stdout",
     "output_type": "stream",
     "text": [
      "Options(calls=         contractSymbol             lastTradeDate  strike  lastPrice    bid  \\\n",
      "0   CSCO220617C00025000 2022-06-07 15:21:31+00:00    25.0      20.40  18.40   \n",
      "1   CSCO220617C00027500 2022-06-03 13:44:56+00:00    27.5      17.95  15.90   \n",
      "2   CSCO220617C00030000 2022-06-07 14:46:49+00:00    30.0      15.50  13.40   \n",
      "3   CSCO220617C00032500 2022-05-20 13:38:39+00:00    32.5      10.00  10.90   \n",
      "4   CSCO220617C00033000 2022-06-02 13:48:17+00:00    33.0      12.15  10.40   \n",
      "5   CSCO220617C00034000 2022-05-25 14:18:40+00:00    34.0       9.80   9.40   \n",
      "6   CSCO220617C00035000 2022-06-06 14:19:43+00:00    35.0      11.07   8.35   \n",
      "7   CSCO220617C00037000 2022-06-08 17:52:59+00:00    37.0       8.10   6.40   \n",
      "8   CSCO220617C00037500 2022-05-20 17:56:00+00:00    37.5       5.20   5.90   \n",
      "9   CSCO220617C00038000 2022-06-10 15:12:43+00:00    38.0       5.55   5.40   \n",
      "10  CSCO220617C00038500 2022-06-03 14:11:27+00:00    38.5       6.95   4.90   \n",
      "11  CSCO220617C00039000 2022-05-25 18:10:17+00:00    39.0       4.75   4.45   \n",
      "12  CSCO220617C00039500 2022-05-25 14:18:40+00:00    39.5       4.55   3.85   \n",
      "13  CSCO220617C00040000 2022-06-10 18:32:14+00:00    40.0       3.95   3.50   \n",
      "14  CSCO220617C00040500 2022-05-25 19:06:16+00:00    40.5       4.15   3.00   \n",
      "15  CSCO220617C00041000 2022-06-10 14:52:31+00:00    41.0       2.68   2.53   \n",
      "16  CSCO220617C00041500 2022-06-10 15:04:32+00:00    41.5       2.33   2.14   \n",
      "17  CSCO220617C00042000 2022-06-10 19:10:43+00:00    42.0       2.00   1.73   \n",
      "18  CSCO220617C00042500 2022-06-10 18:06:48+00:00    42.5       1.54   1.33   \n",
      "19  CSCO220617C00043000 2022-06-10 19:46:53+00:00    43.0       1.07   0.99   \n",
      "20  CSCO220617C00043500 2022-06-10 19:59:30+00:00    43.5       0.75   0.69   \n",
      "21  CSCO220617C00044000 2022-06-10 19:59:33+00:00    44.0       0.50   0.46   \n",
      "22  CSCO220617C00044500 2022-06-10 19:54:40+00:00    44.5       0.33   0.29   \n",
      "23  CSCO220617C00045000 2022-06-10 19:58:41+00:00    45.0       0.18   0.17   \n",
      "24  CSCO220617C00045500 2022-06-10 19:56:38+00:00    45.5       0.11   0.09   \n",
      "25  CSCO220617C00046000 2022-06-10 19:51:55+00:00    46.0       0.06   0.05   \n",
      "26  CSCO220617C00046500 2022-06-10 19:48:27+00:00    46.5       0.04   0.03   \n",
      "27  CSCO220617C00047000 2022-06-10 19:58:00+00:00    47.0       0.02   0.02   \n",
      "28  CSCO220617C00047500 2022-06-10 18:52:02+00:00    47.5       0.03   0.01   \n",
      "29  CSCO220617C00048000 2022-06-10 19:06:11+00:00    48.0       0.03   0.00   \n",
      "30  CSCO220617C00048500 2022-06-10 18:57:30+00:00    48.5       0.01   0.00   \n",
      "31  CSCO220617C00049000 2022-06-09 19:47:07+00:00    49.0       0.01   0.00   \n",
      "32  CSCO220617C00049500 2022-06-10 15:46:55+00:00    49.5       0.02   0.00   \n",
      "33  CSCO220617C00050000 2022-06-10 19:43:03+00:00    50.0       0.01   0.00   \n",
      "34  CSCO220617C00050500 2022-06-06 17:54:59+00:00    50.5       0.02   0.00   \n",
      "35  CSCO220617C00051000 2022-06-06 19:53:55+00:00    51.0       0.02   0.00   \n",
      "36  CSCO220617C00052000 2022-05-27 17:31:48+00:00    52.0       0.03   0.00   \n",
      "37  CSCO220617C00052500 2022-06-10 18:22:20+00:00    52.5       0.01   0.00   \n",
      "38  CSCO220617C00055000 2022-06-10 17:18:35+00:00    55.0       0.01   0.00   \n",
      "39  CSCO220617C00057500 2022-06-10 16:38:29+00:00    57.5       0.01   0.00   \n",
      "40  CSCO220617C00060000 2022-06-10 16:42:30+00:00    60.0       0.01   0.00   \n",
      "41  CSCO220617C00062500 2022-06-03 16:25:41+00:00    62.5       0.01   0.00   \n",
      "42  CSCO220617C00065000 2022-06-10 19:26:44+00:00    65.0       0.01   0.00   \n",
      "43  CSCO220617C00067500 2022-06-09 13:30:07+00:00    67.5       0.11   0.00   \n",
      "44  CSCO220617C00070000 2022-06-07 17:10:51+00:00    70.0       0.01   0.00   \n",
      "45  CSCO220617C00072500 2022-03-23 19:43:08+00:00    72.5       0.03   0.00   \n",
      "46  CSCO220617C00075000 2022-05-26 14:05:37+00:00    75.0       0.01   0.00   \n",
      "47  CSCO220617C00080000 2022-05-02 13:40:18+00:00    80.0       0.01   0.00   \n",
      "48  CSCO220617C00085000 2022-04-07 18:09:01+00:00    85.0       0.01   0.00   \n",
      "49  CSCO220617C00090000 2022-04-29 13:35:41+00:00    90.0       0.01   0.00   \n",
      "\n",
      "      ask  change  percentChange  volume  openInterest  impliedVolatility  \\\n",
      "0   18.65    0.00       0.000000     5.0             6           1.781251   \n",
      "1   16.10    0.00       0.000000     4.0            16           1.281254   \n",
      "2   13.65    0.00       0.000000     1.0            92           1.250004   \n",
      "3   11.10    0.00       0.000000    50.0            54           0.843752   \n",
      "4   10.60    0.00       0.000000     NaN             1           0.812502   \n",
      "5    9.65    0.00       0.000000     NaN             1           0.867189   \n",
      "6    8.65    0.00       0.000000     5.0           153           0.656253   \n",
      "7    6.65    0.00       0.000000     NaN             2           0.605473   \n",
      "8    6.15    0.00       0.000000    18.0            58           0.562504   \n",
      "9    5.65    0.15       2.777780     1.0             3           0.519536   \n",
      "10   5.15    0.00       0.000000     1.0             1           0.662113   \n",
      "11   4.65    0.00       0.000000     NaN             4           0.607426   \n",
      "12   4.15    0.00       0.000000     NaN             5           0.554692   \n",
      "13   3.70   -1.05     -21.000000    30.0           644           0.542973   \n",
      "14   3.25    0.00       0.000000     NaN            10           0.521489   \n",
      "15   2.73   -1.62     -37.674420    23.0            73           0.448248   \n",
      "16   2.29   -1.57     -40.256413     2.0            45           0.423834   \n",
      "17   1.85   -0.67     -25.093636    44.0            40           0.389655   \n",
      "18   1.43   -1.13     -42.322098    30.0          5139           0.355475   \n",
      "19   1.08   -0.65     -37.790695   267.0           648           0.339850   \n",
      "20   0.75   -1.14     -60.317463   233.0          4197           0.314460   \n",
      "21   0.50   -0.37     -42.528736   874.0          2541           0.300788   \n",
      "22   0.32   -0.32     -49.230766   166.0          1238           0.293952   \n",
      "23   0.19   -0.20     -52.631577  1045.0         11360           0.287117   \n",
      "24   0.11   -0.12     -52.173912   277.0          4945           0.285163   \n",
      "25   0.07   -0.07     -53.846150   371.0          4720           0.292976   \n",
      "26   0.04   -0.06     -60.000004   234.0           920           0.296882   \n",
      "27   0.05   -0.02     -50.000000  1165.0          2097           0.347663   \n",
      "28   0.03   -0.01     -25.000000    51.0          5906           0.351569   \n",
      "29   0.03    0.00       0.000000    65.0          1175           0.382819   \n",
      "30   0.03   -0.01     -50.000000    11.0           148           0.417975   \n",
      "31   0.03    0.00       0.000000    82.0           436           0.449224   \n",
      "32   0.03   -0.01     -33.333336    10.0             5           0.480474   \n",
      "33   0.01    0.00       0.000000   110.0          9686           0.437506   \n",
      "34   0.03    0.00       0.000000     NaN             6           0.539067   \n",
      "35   0.03    0.00       0.000000     6.0            38           0.515630   \n",
      "36   0.03    0.00       0.000000    25.0            66           0.570317   \n",
      "37   0.02    0.00       0.000000   871.0          9602           0.562504   \n",
      "38   0.01    0.00       0.000000     6.0         14569           0.625004   \n",
      "39   0.01    0.00       0.000000     8.0         16973           0.750003   \n",
      "40   0.01    0.00       0.000000    13.0         36041           0.843752   \n",
      "41   0.01    0.00       0.000000     5.0          5262           0.937501   \n",
      "42   0.01   -0.02     -66.666670     1.0         11608           1.031255   \n",
      "43   0.01    0.00       0.000000     2.0          2178           1.125004   \n",
      "44   0.01    0.00       0.000000     2.0          4164           1.187504   \n",
      "45   0.03    0.00       0.000000     1.0            79           1.406253   \n",
      "46   0.01    0.00       0.000000     5.0          8114           1.343753   \n",
      "47   0.01    0.00       0.000000     2.0          1089           1.500002   \n",
      "48   0.03    0.00       0.000000    50.0            53           1.781251   \n",
      "49   0.02    0.00       0.000000     2.0           202           1.843751   \n",
      "\n",
      "    inTheMoney contractSize currency  \n",
      "0         True      REGULAR      USD  \n",
      "1         True      REGULAR      USD  \n",
      "2         True      REGULAR      USD  \n",
      "3         True      REGULAR      USD  \n",
      "4         True      REGULAR      USD  \n",
      "5         True      REGULAR      USD  \n",
      "6         True      REGULAR      USD  \n",
      "7         True      REGULAR      USD  \n",
      "8         True      REGULAR      USD  \n",
      "9         True      REGULAR      USD  \n",
      "10        True      REGULAR      USD  \n",
      "11        True      REGULAR      USD  \n",
      "12        True      REGULAR      USD  \n",
      "13        True      REGULAR      USD  \n",
      "14        True      REGULAR      USD  \n",
      "15        True      REGULAR      USD  \n",
      "16        True      REGULAR      USD  \n",
      "17        True      REGULAR      USD  \n",
      "18        True      REGULAR      USD  \n",
      "19        True      REGULAR      USD  \n",
      "20       False      REGULAR      USD  \n",
      "21       False      REGULAR      USD  \n",
      "22       False      REGULAR      USD  \n",
      "23       False      REGULAR      USD  \n",
      "24       False      REGULAR      USD  \n",
      "25       False      REGULAR      USD  \n",
      "26       False      REGULAR      USD  \n",
      "27       False      REGULAR      USD  \n",
      "28       False      REGULAR      USD  \n",
      "29       False      REGULAR      USD  \n",
      "30       False      REGULAR      USD  \n",
      "31       False      REGULAR      USD  \n",
      "32       False      REGULAR      USD  \n",
      "33       False      REGULAR      USD  \n",
      "34       False      REGULAR      USD  \n",
      "35       False      REGULAR      USD  \n",
      "36       False      REGULAR      USD  \n",
      "37       False      REGULAR      USD  \n",
      "38       False      REGULAR      USD  \n",
      "39       False      REGULAR      USD  \n",
      "40       False      REGULAR      USD  \n",
      "41       False      REGULAR      USD  \n",
      "42       False      REGULAR      USD  \n",
      "43       False      REGULAR      USD  \n",
      "44       False      REGULAR      USD  \n",
      "45       False      REGULAR      USD  \n",
      "46       False      REGULAR      USD  \n",
      "47       False      REGULAR      USD  \n",
      "48       False      REGULAR      USD  \n",
      "49       False      REGULAR      USD  , puts=         contractSymbol             lastTradeDate  strike  lastPrice    bid  \\\n",
      "0   CSCO220617P00027500 2022-05-19 16:20:14+00:00    27.5       0.03   0.00   \n",
      "1   CSCO220617P00030000 2022-06-06 15:04:25+00:00    30.0       0.01   0.00   \n",
      "2   CSCO220617P00032500 2022-05-24 15:41:33+00:00    32.5       0.04   0.00   \n",
      "3   CSCO220617P00033000 2022-06-03 14:06:39+00:00    33.0       0.01   0.00   \n",
      "4   CSCO220617P00034000 2022-05-24 14:25:17+00:00    34.0       0.06   0.00   \n",
      "5   CSCO220617P00035000 2022-06-10 19:09:34+00:00    35.0       0.02   0.00   \n",
      "6   CSCO220617P00036000 2022-06-08 18:15:34+00:00    36.0       0.02   0.00   \n",
      "7   CSCO220617P00037000 2022-06-01 14:21:01+00:00    37.0       0.02   0.00   \n",
      "8   CSCO220617P00037500 2022-06-10 18:17:02+00:00    37.5       0.01   0.01   \n",
      "9   CSCO220617P00038000 2022-06-07 14:59:08+00:00    38.0       0.02   0.00   \n",
      "10  CSCO220617P00038500 2022-06-02 19:58:25+00:00    38.5       0.03   0.02   \n",
      "11  CSCO220617P00039000 2022-06-10 19:26:03+00:00    39.0       0.02   0.03   \n",
      "12  CSCO220617P00039500 2022-06-10 19:39:03+00:00    39.5       0.03   0.04   \n",
      "13  CSCO220617P00040000 2022-06-10 19:23:46+00:00    40.0       0.06   0.06   \n",
      "14  CSCO220617P00040500 2022-06-10 18:46:43+00:00    40.5       0.09   0.09   \n",
      "15  CSCO220617P00041000 2022-06-10 19:59:30+00:00    41.0       0.13   0.13   \n",
      "16  CSCO220617P00041500 2022-06-10 18:50:57+00:00    41.5       0.16   0.17   \n",
      "17  CSCO220617P00042000 2022-06-10 19:59:56+00:00    42.0       0.27   0.25   \n",
      "18  CSCO220617P00042500 2022-06-10 19:58:54+00:00    42.5       0.36   0.34   \n",
      "19  CSCO220617P00043000 2022-06-10 19:58:54+00:00    43.0       0.49   0.51   \n",
      "20  CSCO220617P00043500 2022-06-10 19:53:34+00:00    43.5       0.66   0.68   \n",
      "21  CSCO220617P00044000 2022-06-10 19:48:14+00:00    44.0       0.92   0.93   \n",
      "22  CSCO220617P00044500 2022-06-10 19:54:40+00:00    44.5       1.25   1.25   \n",
      "23  CSCO220617P00045000 2022-06-10 19:55:03+00:00    45.0       1.64   1.61   \n",
      "24  CSCO220617P00045500 2022-06-10 19:57:04+00:00    45.5       2.02   2.03   \n",
      "25  CSCO220617P00046000 2022-06-10 19:54:40+00:00    46.0       2.50   2.46   \n",
      "26  CSCO220617P00046500 2022-06-09 14:33:04+00:00    46.5       1.69   2.79   \n",
      "27  CSCO220617P00047000 2022-06-09 13:30:04+00:00    47.0       2.37   3.40   \n",
      "28  CSCO220617P00047500 2022-06-10 19:54:41+00:00    47.5       3.95   3.95   \n",
      "29  CSCO220617P00048000 2022-06-09 18:22:49+00:00    48.0       2.99   4.35   \n",
      "30  CSCO220617P00048500 2022-06-03 14:17:00+00:00    48.5       2.95   4.90   \n",
      "31  CSCO220617P00050000 2022-06-10 19:29:35+00:00    50.0       6.08   6.35   \n",
      "32  CSCO220617P00050500 2022-06-06 19:50:01+00:00    50.5       5.20   6.85   \n",
      "33  CSCO220617P00051000 2022-06-10 17:59:26+00:00    51.0       7.30   7.40   \n",
      "34  CSCO220617P00052000 2022-06-10 18:16:36+00:00    52.0       8.31   8.35   \n",
      "35  CSCO220617P00052500 2022-06-10 19:42:26+00:00    52.5       8.69   8.85   \n",
      "36  CSCO220617P00055000 2022-06-10 18:15:34+00:00    55.0      11.29  11.40   \n",
      "37  CSCO220617P00057500 2022-06-06 13:38:34+00:00    57.5      11.75  13.90   \n",
      "38  CSCO220617P00060000 2022-06-10 19:24:50+00:00    60.0      16.17  16.40   \n",
      "39  CSCO220617P00062500 2022-05-31 19:53:40+00:00    62.5      17.35  18.85   \n",
      "40  CSCO220617P00065000 2022-06-10 18:15:34+00:00    65.0      21.28  21.35   \n",
      "41  CSCO220617P00067500 2022-04-12 15:50:40+00:00    67.5      15.00  19.05   \n",
      "42  CSCO220617P00070000 2022-05-23 17:47:52+00:00    70.0      26.35  26.30   \n",
      "43  CSCO220617P00072500 2022-03-15 18:45:14+00:00    72.5      17.85  20.95   \n",
      "44  CSCO220617P00075000 2022-05-03 17:23:32+00:00    75.0      24.75  29.60   \n",
      "45  CSCO220617P00080000 2022-06-10 18:15:34+00:00    80.0      36.30  36.25   \n",
      "46  CSCO220617P00085000 2022-01-03 15:53:08+00:00    85.0      22.95  29.60   \n",
      "47  CSCO220617P00090000 2022-01-18 19:19:21+00:00    90.0      30.54  34.10   \n",
      "\n",
      "      ask    change  percentChange  volume  openInterest  impliedVolatility  \\\n",
      "0    0.01  0.000000       0.000000  1457.0          1442           1.187504   \n",
      "1    0.03  0.000000       0.000000     5.0          2146           1.109379   \n",
      "2    0.03  0.000000       0.000000     4.0          4310           0.890626   \n",
      "3    0.04  0.000000       0.000000     2.0             2           0.890626   \n",
      "4    0.03  0.000000       0.000000     NaN            10           0.773440   \n",
      "5    0.03  0.000000       0.000000     5.0         17699           0.687503   \n",
      "6    0.03  0.000000       0.000000   100.0           112           0.609379   \n",
      "7    0.03  0.000000       0.000000     1.0           516           0.531255   \n",
      "8    0.03  0.000000       0.000000   301.0          6226           0.515630   \n",
      "9    0.03  0.000000       0.000000     2.0            72           0.507817   \n",
      "10   0.03  0.000000       0.000000     1.0            41           0.464849   \n",
      "11   0.04 -0.010000     -33.333336    41.0            89           0.445318   \n",
      "12   0.06  0.000000       0.000000    37.0           103           0.437506   \n",
      "13   0.08  0.030000     100.000000   690.0         15755           0.417975   \n",
      "14   0.11  0.050000     125.000015    88.0           113           0.400397   \n",
      "15   0.15  0.080000     159.999980  1422.0           312           0.382819   \n",
      "16   0.21  0.070000      77.777770   149.0           311           0.368170   \n",
      "17   0.28  0.150000     125.000015   166.0          1080           0.346686   \n",
      "18   0.40  0.250000     227.272720   521.0          8945           0.336921   \n",
      "19   0.55  0.230000      88.461550   397.0          2056           0.322272   \n",
      "20   0.75  0.270000      69.230780   439.0           981           0.310065   \n",
      "21   1.03  0.360000      64.285720   135.0          1455           0.309577   \n",
      "22   1.37  0.450000      56.250000    47.0          1751           0.313483   \n",
      "23   1.76  0.560000      51.851845   255.0         29535           0.321296   \n",
      "24   2.16  0.590000      41.258747   375.0          1600           0.314460   \n",
      "25   2.65  0.700000      38.888893    37.0           235           0.355475   \n",
      "26   3.15  0.000000       0.000000     1.0           484           0.402350   \n",
      "27   3.65  0.000000       0.000000     1.0            40           0.447271   \n",
      "28   4.10  1.390000      54.296883   173.0          4525           0.437506   \n",
      "29   4.65  0.000000       0.000000    26.0            59           0.531255   \n",
      "30   5.15  0.000000       0.000000    11.0            11           0.572270   \n",
      "31   6.60  0.480000       8.571429    77.0         27134           0.623051   \n",
      "32   7.10  0.000000       0.000000     NaN             0           0.658207   \n",
      "33   7.60  1.800000      32.727276     1.0             2           0.691409   \n",
      "34   8.60  1.640000      24.587711     3.0             2           0.757815   \n",
      "35   9.10  1.019999      13.298559    55.0         12465           0.789065   \n",
      "36  11.60  1.430000      14.503047    56.0         14779           0.941407   \n",
      "37  14.15  0.000000       0.000000     3.0          5687           0.835939   \n",
      "38  16.60  1.090000       7.228117     4.0          2287           1.210941   \n",
      "39  19.10  0.000000       0.000000     1.0          1469           1.335941   \n",
      "40  21.65 -1.910000      -8.236308     4.0            85           1.558596   \n",
      "41  19.25  0.000000       0.000000     2.0             1           0.000010   \n",
      "42  26.70  0.000000       0.000000    22.0             5           1.880860   \n",
      "43  21.10  0.000000       0.000000     1.0             2           0.000010   \n",
      "44  29.75  0.000000       0.000000     1.0             0           0.000010   \n",
      "45  36.75  7.529999      26.173092     2.0             7           2.375004   \n",
      "46  29.95  0.000000       0.000000     NaN            30           0.000010   \n",
      "47  34.80  0.000000       0.000000     NaN             1           0.000010   \n",
      "\n",
      "    inTheMoney contractSize currency  \n",
      "0        False      REGULAR      USD  \n",
      "1        False      REGULAR      USD  \n",
      "2        False      REGULAR      USD  \n",
      "3        False      REGULAR      USD  \n",
      "4        False      REGULAR      USD  \n",
      "5        False      REGULAR      USD  \n",
      "6        False      REGULAR      USD  \n",
      "7        False      REGULAR      USD  \n",
      "8        False      REGULAR      USD  \n",
      "9        False      REGULAR      USD  \n",
      "10       False      REGULAR      USD  \n",
      "11       False      REGULAR      USD  \n",
      "12       False      REGULAR      USD  \n",
      "13       False      REGULAR      USD  \n",
      "14       False      REGULAR      USD  \n",
      "15       False      REGULAR      USD  \n",
      "16       False      REGULAR      USD  \n",
      "17       False      REGULAR      USD  \n",
      "18       False      REGULAR      USD  \n",
      "19       False      REGULAR      USD  \n",
      "20        True      REGULAR      USD  \n",
      "21        True      REGULAR      USD  \n",
      "22        True      REGULAR      USD  \n",
      "23        True      REGULAR      USD  \n",
      "24        True      REGULAR      USD  \n",
      "25        True      REGULAR      USD  \n",
      "26        True      REGULAR      USD  \n",
      "27        True      REGULAR      USD  \n",
      "28        True      REGULAR      USD  \n",
      "29        True      REGULAR      USD  \n",
      "30        True      REGULAR      USD  \n",
      "31        True      REGULAR      USD  \n",
      "32        True      REGULAR      USD  \n",
      "33        True      REGULAR      USD  \n",
      "34        True      REGULAR      USD  \n",
      "35        True      REGULAR      USD  \n",
      "36        True      REGULAR      USD  \n",
      "37        True      REGULAR      USD  \n",
      "38        True      REGULAR      USD  \n",
      "39        True      REGULAR      USD  \n",
      "40        True      REGULAR      USD  \n",
      "41        True      REGULAR      USD  \n",
      "42        True      REGULAR      USD  \n",
      "43        True      REGULAR      USD  \n",
      "44        True      REGULAR      USD  \n",
      "45        True      REGULAR      USD  \n",
      "46        True      REGULAR      USD  \n",
      "47        True      REGULAR      USD  )\n"
     ]
    }
   ]
  },
  {
   "cell_type": "code",
   "execution_count": 58,
   "outputs": [],
   "source": [
    "# Get Market Call Prices - CSCO\n",
    "strike_call_list_cisco = (options_cisco[0]['strike'])\n",
    "market_price_call_cisco = (options_cisco[0]['lastPrice'])\n",
    "market_implied_vol_call_cisco = (options_cisco[0]['impliedVolatility'])\n",
    "df_market_call = pd.DataFrame({'strike':strike_call_list_cisco ,\n",
    "                   'lastPrice':market_price_call_cisco ,\n",
    "                   'impliedVolatility': market_implied_vol_call_cisco})\n",
    "#print(df_market_call)\n",
    "\n",
    "# Get Market Put Prices - CSCO\n",
    "strike_put_list_cisco = (options_cisco[1]['strike'])\n",
    "market_price_put_cisco = (options_cisco[1]['lastPrice'])\n",
    "market_implied_vol_put_cisco = (options_cisco[1]['impliedVolatility'])\n",
    "df_market_put_cisco = pd.DataFrame({'strike':strike_put_list_cisco ,\n",
    "                   'lastPrice':market_price_put_cisco ,\n",
    "                   'impliedVolatility': market_implied_vol_put_cisco})\n",
    "\n",
    "# Get Market Call Prices - GE\n",
    "strike_call_list_ge = (options_ge[0]['strike'])\n",
    "market_price_call_ge = (options_ge[0]['lastPrice'])\n",
    "market_implied_vol_call_ge = (options_ge[0]['impliedVolatility'])\n",
    "df_market_call_ge = pd.DataFrame({'strike':strike_call_list_ge ,\n",
    "                   'lastPrice':market_price_call_ge ,\n",
    "                   'impliedVolatility': market_implied_vol_call_ge})\n",
    "#print(df_market_call)\n",
    "\n",
    "# Get Market Put Prices - GE\n",
    "strike_put_list_ge = (options_ge[1]['strike'])\n",
    "market_price_put_ge = (options_ge[1]['lastPrice'])\n",
    "market_implied_vol_put_ge = (options_ge[1]['impliedVolatility'])\n",
    "df_market_put_ge = pd.DataFrame({'strike':strike_put_list_ge ,\n",
    "                   'lastPrice':market_price_put_ge ,\n",
    "                   'impliedVolatility': market_implied_vol_put_ge})\n",
    "\n",
    "\n",
    "#print(df_market_call_ge)"
   ],
   "metadata": {
    "collapsed": false,
    "pycharm": {
     "name": "#%%\n"
    }
   }
  },
  {
   "cell_type": "markdown",
   "source": [
    "SABR Model"
   ],
   "metadata": {
    "collapsed": false,
    "pycharm": {
     "name": "#%% md\n"
    }
   }
  },
  {
   "cell_type": "code",
   "execution_count": null,
   "outputs": [],
   "source": [],
   "metadata": {
    "collapsed": false,
    "pycharm": {
     "name": "#%%\n"
    }
   }
  },
  {
   "cell_type": "markdown",
   "source": [
    "Comparison Market implied volatilities and SABR model"
   ],
   "metadata": {
    "collapsed": false,
    "pycharm": {
     "name": "#%% md\n"
    }
   }
  },
  {
   "cell_type": "code",
   "execution_count": null,
   "outputs": [],
   "source": [],
   "metadata": {
    "collapsed": false,
    "pycharm": {
     "name": "#%%\n"
    }
   }
  },
  {
   "cell_type": "markdown",
   "source": [
    "Parameters: Black-Scholes"
   ],
   "metadata": {
    "collapsed": false,
    "pycharm": {
     "name": "#%% md\n"
    }
   }
  },
  {
   "cell_type": "code",
   "execution_count": 27,
   "outputs": [],
   "source": [
    "S_0_CSCO = 43.42            # stock price: CSCO\n",
    "S_0_GE = 71.83              # stock price: GE\n",
    "r = 1.14/100                # interest rate\n",
    "\n",
    "sigma_CSCO = hist_std_csco  # volatility CSCO\n",
    "sigma_GE = hist_std_ge      # volatility GE\n",
    "\n",
    "K_CSCO = 47.50              # specific strike CSCO\n",
    "K_GE = 72.50                # specific strike GE"
   ],
   "metadata": {
    "collapsed": false,
    "pycharm": {
     "name": "#%%\n"
    }
   }
  },
  {
   "cell_type": "markdown",
   "source": [
    "Black-Scholes-Merton: Options Prices"
   ],
   "metadata": {
    "collapsed": false,
    "pycharm": {
     "name": "#%% md\n"
    }
   }
  },
  {
   "cell_type": "code",
   "execution_count": 30,
   "outputs": [],
   "source": [
    "def black_scholes_merton_call_div(S, K, T, r, a, sigma):\n",
    "\n",
    "    #S: spot price\n",
    "    #K: strike price\n",
    "    #T: time to maturity\n",
    "    #r: interest rate\n",
    "    #a: dividend yield\n",
    "    #sigma: volatility of underlying asset\n",
    "\n",
    "    d1 = (np.log(S/K) + (r-a+0.5*sigma**2)*T) / (sigma*np.sqrt(T))\n",
    "    d2 = (np.log(S/K) + (r-a-0.5*sigma**2)*T) / (sigma*np.sqrt(T))\n",
    "    call = (S*np.exp(-a*T) * si.norm.cdf(d1, 0.0, 1.0) - K*np.exp(-r*T) * si.norm.cdf(d2, 0.0, 1.0))\n",
    "    return call\n",
    "\n",
    "\n",
    "def black_scholes_put_div(S, K, T, r, a, sigma):\n",
    "\n",
    "    d1_bs = (np.log(S/K) + (r-a+0.5*sigma**2)*T) / (sigma*np.sqrt(T))\n",
    "    d2_bs = (np.log(S/K) + (r-a-0.5*sigma**2)*T) / (sigma*np.sqrt(T))\n",
    "    put = (K*np.exp(-r*T) * si.norm.cdf(-d2_bs, 0.0, 1.0) - S*np.exp(-a*T) * si.norm.cdf(-d1_bs, 0.0, 1.0))\n",
    "    return put"
   ],
   "metadata": {
    "collapsed": false,
    "pycharm": {
     "name": "#%%\n"
    }
   }
  },
  {
   "cell_type": "code",
   "execution_count": 31,
   "outputs": [],
   "source": [
    "T_test = 5\n",
    "# Black-Scholes CSCO results\n",
    "call_bs_CSCO =  black_scholes_merton_call_div(S_0_CSCO, K_CSCO, T_test, r, a_csco, hist_std_csco)\n",
    "put_bs_CSCO =  black_scholes_put_div(S_0_CSCO, K_CSCO, T_test, r, a_csco, hist_std_csco)\n",
    "# Black-Scholes GE results\n",
    "call_bs_GE =  black_scholes_merton_call_div(S_0_GE, K_GE, T_test, r, a_ge, hist_std_ge)\n",
    "put_bs_GE =  black_scholes_put_div(S_0_GE, K_GE, T_test, r, a_ge, hist_std_ge)"
   ],
   "metadata": {
    "collapsed": false,
    "pycharm": {
     "name": "#%%\n"
    }
   }
  },
  {
   "cell_type": "markdown",
   "source": [
    "Black-Scholes-Merton: Greeks\n"
   ],
   "metadata": {
    "collapsed": false,
    "pycharm": {
     "name": "#%% md\n"
    }
   }
  },
  {
   "cell_type": "code",
   "execution_count": 32,
   "outputs": [],
   "source": [
    "def d1(S,K,T,r,a,sigma):\n",
    "    return(log(S/K)+(r-a+sigma**2/2.)*T)/(sigma*sqrt(T))\n",
    "\n",
    "def d2(S,K,T,r,a,sigma):\n",
    "    return d1(S,K,T,r,a,sigma)-sigma*sqrt(T)\n",
    "\n",
    "############## CALL OPTION ##############\n",
    "\n",
    "def call_delta(S,K,T,r,a,sigma):\n",
    "    return exp(-a*T)*norm.cdf(d1(S,K,T,r,sigma))\n",
    "\n",
    "def call_gamma(S,K,T,r,a,sigma):\n",
    "    return exp(-a*T)*norm.pdf(d1(S,K,T,r,sigma))/(S*sigma*sqrt(T))\n",
    "\n",
    "def call_vega(S,K,T,r,sigma):\n",
    "    return 0.01*(S*norm.pdf(d1(S,K,T,r,sigma))*sqrt(T))\n",
    "\n",
    "############## PUT OPTION ##############\n",
    "\n",
    "def put_delta(S,K,T,r,a,sigma):\n",
    "    return -exp(-a*T)*norm.cdf(-d1(S,K,T,r,sigma))\n",
    "\n",
    "def put_gamma(S,K,T,r,a,sigma):\n",
    "    return exp(-a*T)*norm.pdf(d1(S,K,T,r,sigma))/(S*sigma*sqrt(T))\n",
    "\n",
    "def put_vega(S,K,T,r,a,sigma):\n",
    "    return 0.01*exp(-a*T)*(S*norm.pdf(d1(S,K,T,r,sigma))*sqrt(T))"
   ],
   "metadata": {
    "collapsed": false,
    "pycharm": {
     "name": "#%%\n"
    }
   }
  },
  {
   "cell_type": "code",
   "execution_count": null,
   "outputs": [],
   "source": [],
   "metadata": {
    "collapsed": false,
    "pycharm": {
     "name": "#%%\n"
    }
   }
  },
  {
   "cell_type": "markdown",
   "source": [
    "Monte-Carlo Simulation\n"
   ],
   "metadata": {
    "collapsed": false,
    "pycharm": {
     "name": "#%% md\n"
    }
   }
  },
  {
   "cell_type": "code",
   "execution_count": 15,
   "outputs": [
    {
     "data": {
      "text/plain": "Text(0, 0.5, 'frequency')"
     },
     "execution_count": 15,
     "metadata": {},
     "output_type": "execute_result"
    },
    {
     "data": {
      "text/plain": "<Figure size 1080x360 with 1 Axes>",
      "image/png": "[encoded data removed]"
     },
     "metadata": {
      "needs_background": "light"
     },
     "output_type": "display_data"
    }
   ],
   "source": [
    "# Monte-Carlo Simulation:\n",
    "\n",
    "# Parameters\n",
    "T = 1.0\n",
    "N = 10000\n",
    "S_0 = 50\n",
    "sigma = 0.20\n",
    "\n",
    "# Example one-period simulation\n",
    "\n",
    "# lognormal distribution of the price\n",
    "\n",
    "Z = np.random.normal(size=N)\n",
    "S_T = S_0*np.exp((r-0.5*sigma**2)*T+sigma*np.sqrt(T)*Z)\n",
    "plt.hist(S_T, bins='auto')\n",
    "plt.xlabel('price')\n",
    "plt.ylabel('frequency')\n",
    "\n"
   ],
   "metadata": {
    "collapsed": false,
    "pycharm": {
     "name": "#%%\n"
    }
   }
  },
  {
   "cell_type": "code",
   "execution_count": 20,
   "outputs": [],
   "source": [
    "# Monte Carlo simulation: European Option\n",
    "\n",
    "call_payoff_maturity_CSCO = []\n",
    "put_payoff_maturity_CSCO = []\n",
    "call_payoff_maturity_GE = []\n",
    "put_payoff_maturity_GE = []\n",
    "\n",
    "\n",
    "days_test = 5 # 1 week = 5 trading days\n",
    "dt = T/365\n",
    "\n",
    "S_CSCO = np.zeros((days_test+1, N))\n",
    "S_CSCO[0] = S_0_CSCO\n",
    "S_GE = np.zeros((days_test+1, N))\n",
    "S_GE[0] = S_0_GE\n",
    "\n",
    "for t in range(1, days_test+1):\n",
    "    Z_CSCO = np.random.normal(size=N)\n",
    "    Z_GE = np.random.normal(size=N)\n",
    "    S_CSCO[t] = S_CSCO[t-1]*np.exp((r-(a_csco/100)-0.5*sigma_CSCO**2)*dt+sigma_CSCO*np.sqrt(dt)*Z_CSCO)\n",
    "    S_GE[t] = S_GE[t-1]*np.exp((r-(a_ge/100)-0.5*sigma_GE**2)*dt+sigma_GE*np.sqrt(dt)*Z_GE)"
   ],
   "metadata": {
    "collapsed": false,
    "pycharm": {
     "name": "#%%\n"
    }
   }
  },
  {
   "cell_type": "markdown",
   "source": [
    "Valuation (European)"
   ],
   "metadata": {
    "collapsed": false,
    "pycharm": {
     "name": "#%% md\n"
    }
   }
  },
  {
   "cell_type": "code",
   "execution_count": 21,
   "outputs": [
    {
     "name": "stdout",
     "output_type": "stream",
     "text": [
      "0.002563719895372024\n",
      "4.103686217720494\n",
      "0.8202863583477963\n",
      "1.4651636575043765\n"
     ]
    }
   ],
   "source": [
    "S_T_CSCO = S_CSCO[-1]\n",
    "S_T_GE = S_GE[-1]\n",
    "for i in range(len(S_T_CSCO)):\n",
    "    call_payoff_maturity_CSCO.append(max(S_T_CSCO[i]-K_CSCO,0))\n",
    "    put_payoff_maturity_CSCO.append(max(K_CSCO-S_T_CSCO[i],0))\n",
    "\n",
    "    call_payoff_maturity_GE.append(max(S_T_GE[i]-K_GE,0))\n",
    "    put_payoff_maturity_GE.append(max(K_GE-S_T_GE[i],0))\n",
    "\n",
    "# Price of CSCO options: expiry on June 17, 2022\n",
    "VMC_call_CSCO = np.mean(call_payoff_maturity_CSCO)\n",
    "C_0_CSCO = VMC_call_CSCO*np.exp(-r*days_test/360)\n",
    "print(C_0_CSCO)\n",
    "\n",
    "VMC_put_CSCO = np.mean(put_payoff_maturity_CSCO)\n",
    "P_0_CSCO = VMC_put_CSCO*np.exp(-r*days_test/360)\n",
    "print(P_0_CSCO)\n",
    "\n",
    "# Price of GE options: expiry on June 17, 2022\n",
    "VMC_call_GE = np.mean(call_payoff_maturity_GE)\n",
    "C_0_GE = VMC_call_GE*np.exp(-r*days_test/360)\n",
    "print(C_0_GE)\n",
    "\n",
    "VMC_put_GE = np.mean(put_payoff_maturity_GE)\n",
    "P_0_GE = VMC_put_GE*np.exp(-r*days_test/360)\n",
    "print(P_0_GE)"
   ],
   "metadata": {
    "collapsed": false,
    "pycharm": {
     "name": "#%%\n"
    }
   }
  },
  {
   "cell_type": "markdown",
   "source": [
    "Valuation (American)"
   ],
   "metadata": {
    "collapsed": false,
    "pycharm": {
     "name": "#%% md\n"
    }
   }
  },
  {
   "cell_type": "code",
   "execution_count": 79,
   "outputs": [],
   "source": [
    "\n",
    "\n"
   ],
   "metadata": {
    "collapsed": false,
    "pycharm": {
     "name": "#%%\n"
    }
   }
  },
  {
   "cell_type": "markdown",
   "source": [
    "Recap Results: Market Prices, Black-Scholes formulas, Black-Scholes Monte-Carlo"
   ],
   "metadata": {
    "collapsed": false,
    "pycharm": {
     "name": "#%% md\n"
    }
   }
  },
  {
   "cell_type": "code",
   "execution_count": 93,
   "outputs": [],
   "source": [],
   "metadata": {
    "collapsed": false,
    "pycharm": {
     "name": "#%%\n"
    }
   }
  },
  {
   "cell_type": "code",
   "execution_count": null,
   "outputs": [],
   "source": [],
   "metadata": {
    "collapsed": false,
    "pycharm": {
     "name": "#%%\n"
    }
   }
  }
 ],
 "metadata": {
  "kernelspec": {
   "display_name": "Python 3",
   "language": "python",
   "name": "python3"
  },
  "language_info": {
   "codemirror_mode": {
    "name": "ipython",
    "version": 2
   },
   "file_extension": ".py",
   "mimetype": "text/x-python",
   "name": "python",
   "nbconvert_exporter": "python",
   "pygments_lexer": "ipython2",
   "version": "2.7.6"
  }
 },
 "nbformat": 4,
 "nbformat_minor": 0
}