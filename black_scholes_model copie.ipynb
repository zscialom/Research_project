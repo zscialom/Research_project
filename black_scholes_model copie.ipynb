{
 "cells": [
  {
   "cell_type": "code",
   "execution_count": 175,
   "outputs": [],
   "source": [
    "import pandas as pd\n",
    "import csv\n",
    "import numpy as np\n",
    "import matplotlib.pyplot as plt\n",
    "from math import log, sqrt, pi, exp\n",
    "\n",
    "#from pandas_datareader import data\n",
    "from statsmodels.tsa import stattools\n",
    "from statsmodels.tsa import arima_model\n",
    "from statsmodels.graphics import gofplots\n",
    "from statsmodels.regression import linear_model\n",
    "\n",
    "from scipy import stats\n",
    "import scipy.integrate\n",
    "import scipy.special\n",
    "# from arch.unitroot import PhillipsPerron\n",
    "import yfinance as yf\n",
    "from sklearn.linear_model import LinearRegression\n",
    "\n",
    "import os\n",
    "import matplotlib.pyplot as plt  # for plotting\n",
    "from statsmodels.regression import linear_model\n",
    "\n",
    "import matplotlib.pylab as pylab\n",
    "params = {'legend.fontsize': 'x-large',\n",
    "          'figure.figsize': (15, 5),\n",
    "         'axes.labelsize': 'x-large',\n",
    "         'axes.titlesize':'x-large',\n",
    "         'xtick.labelsize':'x-large',\n",
    "         'ytick.labelsize':'x-large'}\n",
    "pylab.rcParams.update(params)\n",
    "import statistics\n",
    "import scipy.stats as si\n",
    "from scipy.stats import norm"
   ],
   "metadata": {
    "collapsed": false,
    "pycharm": {
     "name": "#%%\n"
    }
   }
  },
  {
   "cell_type": "markdown",
   "source": [
    "Data Download"
   ],
   "metadata": {
    "collapsed": false,
    "pycharm": {
     "name": "#%% md\n"
    }
   }
  },
  {
   "cell_type": "code",
   "execution_count": 176,
   "outputs": [
    {
     "name": "stdout",
     "output_type": "stream",
     "text": [
      "[*********************100%***********************]  3 of 3 completed\n",
      "            Adj Close                            Close                        \\\n",
      "                  BAC       CSCO         GE        BAC       CSCO         GE   \n",
      "Date                                                                           \n",
      "2018-08-31  28.294893  42.794437  97.180069  30.930000  47.770000  99.538460   \n",
      "2018-09-04  28.487000  42.758598  95.152374  31.139999  47.730000  97.461540   \n",
      "2018-09-05  28.523592  42.346516  94.326263  31.180000  47.270000  96.615387   \n",
      "2018-09-06  28.358133  42.355476  93.950760  30.850000  47.279999  96.230766   \n",
      "2018-09-07  28.367325  42.149429  93.124634  30.860001  47.049999  95.384613   \n",
      "...               ...        ...        ...        ...        ...        ...   \n",
      "2022-06-03  36.189999  45.250000  76.970001  36.189999  45.250000  76.970001   \n",
      "2022-06-06  36.150002  45.330002  77.000000  36.150002  45.330002  77.000000   \n",
      "2022-06-07  36.349998  45.570000  78.000000  36.349998  45.570000  78.000000   \n",
      "2022-06-08  35.889999  44.919998  77.160004  35.889999  44.919998  77.160004   \n",
      "2022-06-09  34.509998  44.259998  74.779999  34.509998  44.259998  74.779999   \n",
      "\n",
      "                 High                              Low                        \\\n",
      "                  BAC       CSCO         GE        BAC       CSCO         GE   \n",
      "Date                                                                           \n",
      "2018-08-31  30.950001  47.830002  99.615387  30.620001  46.799999  97.692307   \n",
      "2018-09-04  31.160000  48.060001  99.076920  30.820000  47.509998  97.153847   \n",
      "2018-09-05  31.240000  47.650002  96.769234  30.969999  46.759998  94.153847   \n",
      "2018-09-06  31.110001  47.900002  98.461540  30.730000  47.070000  96.153847   \n",
      "2018-09-07  31.120001  47.490002  95.692307  30.629999  46.880001  94.384613   \n",
      "...               ...        ...        ...        ...        ...        ...   \n",
      "2022-06-03  36.680000  45.740002  77.150002  36.130001  45.119999  75.669998   \n",
      "2022-06-06  37.209999  46.090000  78.290001  36.099998  45.130001  76.769997   \n",
      "2022-06-07  36.410000  45.650002  78.150002  35.740002  44.720001  76.169998   \n",
      "2022-06-08  36.110001  45.630001  78.279999  35.520000  44.880001  76.519997   \n",
      "2022-06-09  35.840000  45.270000  77.050003  34.500000  44.240002  74.750000   \n",
      "\n",
      "                 Open                          Volume                     \n",
      "                  BAC       CSCO         GE       BAC      CSCO       GE  \n",
      "Date                                                                      \n",
      "2018-08-31  30.879999  46.910000  97.923080  49266000  24904200  6552403  \n",
      "2018-09-04  30.910000  47.840000  99.076920  44745600  19122200  5828810  \n",
      "2018-09-05  31.070000  47.560001  95.769234  48516700  20818100  7159308  \n",
      "2018-09-06  31.049999  47.439999  96.153847  42666000  16537600  5280574  \n",
      "2018-09-07  31.000000  47.009998  95.307693  49103800  17229700  5962736  \n",
      "...               ...        ...        ...       ...       ...      ...  \n",
      "2022-06-03  36.480000  45.549999  76.739998  25222100  17945000  5272600  \n",
      "2022-06-06  36.700001  45.599998  77.910004  40394000  12641900  4744100  \n",
      "2022-06-07  35.900002  44.820000  76.910004  29152200  14667200  5125800  \n",
      "2022-06-08  35.919998  45.450001  76.690002  33590600  16263800  3376000  \n",
      "2022-06-09  35.740002  44.830002  76.889999  49419000  18417700  5055500  \n",
      "\n",
      "[950 rows x 18 columns]\n"
     ]
    }
   ],
   "source": [
    "tickers = [\"CSCO\",\"BAC\",\"GE\"]\n",
    "#downoad the prices and volumes for the previously read list of tickers\n",
    "start_date = '2018-09-01'\n",
    "end_date = '2022-06-10'\n",
    "stock_data = yf.download(tickers, start=start_date, end=end_date)\n",
    "print(stock_data)"
   ],
   "metadata": {
    "collapsed": false,
    "pycharm": {
     "name": "#%%\n"
    }
   }
  },
  {
   "cell_type": "code",
   "execution_count": 177,
   "outputs": [
    {
     "name": "stdout",
     "output_type": "stream",
     "text": [
      "0.0152\n",
      "0.0032\n",
      "0.0084\n"
     ]
    }
   ],
   "source": [
    "# Dividend Rates\n",
    "csco = yf.Ticker(\"csco\")\n",
    "a_csco = csco.info['dividendRate']\n",
    "a_csco = a_csco/100\n",
    "print(a_csco)\n",
    "\n",
    "ge = yf.Ticker(\"ge\")\n",
    "a_ge = ge.info['dividendRate']\n",
    "a_ge = a_ge/100\n",
    "print(a_ge)\n",
    "\n",
    "bac = yf.Ticker(\"bac\")\n",
    "a_bac = bac.info['dividendRate']\n",
    "a_bac = a_bac/100\n",
    "print(a_bac)\n"
   ],
   "metadata": {
    "collapsed": false,
    "pycharm": {
     "name": "#%%\n"
    }
   }
  },
  {
   "cell_type": "code",
   "execution_count": 178,
   "outputs": [
    {
     "name": "stdout",
     "output_type": "stream",
     "text": [
      "          CSCO        BAC         GE\n",
      "0    28.294893  42.794437  97.180069\n",
      "1    28.487000  42.758598  95.152374\n",
      "2    28.523592  42.346516  94.326263\n",
      "3    28.358133  42.355476  93.950760\n",
      "4    28.367325  42.149429  93.124634\n",
      "..         ...        ...        ...\n",
      "945  36.189999  45.250000  76.970001\n",
      "946  36.150002  45.330002  77.000000\n",
      "947  36.349998  45.570000  78.000000\n",
      "948  35.889999  44.919998  77.160004\n",
      "949  34.509998  44.259998  74.779999\n",
      "\n",
      "[950 rows x 3 columns]\n",
      "         CSCO       BAC        GE\n",
      "0    0.006789 -0.000837 -0.020865\n",
      "1    0.001285 -0.009637 -0.008682\n",
      "2   -0.005801  0.000212 -0.003981\n",
      "3    0.000324 -0.004865 -0.008793\n",
      "4   -0.001296  0.000425  0.008871\n",
      "..        ...       ...       ...\n",
      "944 -0.013897 -0.011793 -0.013205\n",
      "945 -0.001105  0.001768  0.000390\n",
      "946  0.005532  0.005294  0.012987\n",
      "947 -0.012655 -0.014264 -0.010769\n",
      "948 -0.038451 -0.014693 -0.030845\n",
      "\n",
      "[949 rows x 3 columns]\n",
      "0.3786747669081518\n",
      "0.30679757528201895\n",
      "0.4670366175376016\n"
     ]
    }
   ],
   "source": [
    "# Working on statistics\n",
    "price = stock_data['Adj Close'].values\n",
    "days = price.shape[0]\n",
    "ret = price[1:]/price[:-1] - 1\n",
    "#print(ret)\n",
    "\n",
    "price_tab = np.array([])\n",
    "ret_tab = np.array([])\n",
    "for i in range(len(price)):\n",
    "    price_tab = np.append(price_tab, price[i])\n",
    "for i in range(len(ret)):\n",
    "    ret_tab = np.append(ret_tab, ret[i])\n",
    "\n",
    "price_tab = price_tab.reshape(days,3)\n",
    "ret_tab = ret_tab.reshape(days-1,3)\n",
    "\n",
    "df_price = pd.DataFrame(price_tab)\n",
    "df_price.columns =['CSCO', 'BAC','GE']\n",
    "df_ret = pd.DataFrame(ret_tab)\n",
    "df_ret.columns=['CSCO', 'BAC','GE']\n",
    "# Print prices\n",
    "print(df_price)\n",
    "#Print returns\n",
    "print(df_ret)\n",
    "\n",
    "hist_std_csco = np.std(df_ret[\"CSCO\"])*np.sqrt(253)\n",
    "hist_std_bac = np.std(df_ret[\"BAC\"])*np.sqrt(253)\n",
    "hist_std_ge = np.std(df_ret[\"GE\"])*np.sqrt(253)\n",
    "\n",
    "# Historical volatility\n",
    "print(hist_std_csco)\n",
    "print(hist_std_bac)\n",
    "print(hist_std_ge)"
   ],
   "metadata": {
    "collapsed": false,
    "pycharm": {
     "name": "#%%\n"
    }
   }
  },
  {
   "cell_type": "code",
   "source": [
    "# Getting Call/Put options: Market Prices\n",
    "opt_csco = csco.option_chain(date='2022-06-17')\n",
    "options_cisco = opt_csco\n",
    "#print(options_cisco)\n",
    "\n",
    "opt_bac = bac.option_chain(date='2022-06-17')\n",
    "options_bac = opt_bac\n",
    "\n",
    "opt_ge = ge.option_chain(date='2022-06-17')\n",
    "options_ge = opt_ge\n",
    "print(options_ge)"
   ],
   "metadata": {
    "collapsed": false,
    "pycharm": {
     "name": "#%%\n"
    }
   },
   "execution_count": 196,
   "outputs": [
    {
     "name": "stdout",
     "output_type": "stream",
     "text": [
      "Options(calls=       contractSymbol             lastTradeDate  strike  lastPrice   bid  \\\n",
      "0   GE220617C00003000 2021-07-29 14:59:53+00:00     3.0      10.35  7.50   \n",
      "1   GE220617C00005000 2021-07-26 14:30:34+00:00     5.0       7.85  7.90   \n",
      "2   GE220617C00008000 2021-07-26 16:15:39+00:00     8.0       5.05  5.00   \n",
      "3   GE220617C00010000 2021-07-30 19:26:22+00:00    10.0       3.55  3.45   \n",
      "4   GE220617C00012000 2021-07-29 17:33:12+00:00    12.0       2.37  2.17   \n",
      "5   GE220617C00015000 2021-07-30 18:22:59+00:00    15.0       1.00  0.89   \n",
      "6   GE220617C00017000 2021-07-30 19:27:28+00:00    17.0       0.58  0.40   \n",
      "7   GE220617C00020000 2021-07-30 19:22:13+00:00    20.0       0.26  0.25   \n",
      "8   GE220617C00022000 2021-07-30 14:08:46+00:00    22.0       0.18  0.15   \n",
      "9   GE220617C00025000 2021-07-29 19:00:54+00:00    25.0       0.11  0.11   \n",
      "10  GE220617C00045000 2022-05-26 13:42:08+00:00    45.0      31.20  0.00   \n",
      "11  GE220617C00050000 2022-05-24 19:30:04+00:00    50.0      24.30  0.00   \n",
      "12  GE220617C00055000 2022-05-24 17:46:22+00:00    55.0      18.65  0.00   \n",
      "13  GE220617C00060000 2022-06-10 15:52:20+00:00    60.0      11.45  0.00   \n",
      "14  GE220617C00064000 2022-06-10 14:44:54+00:00    64.0       8.25  0.00   \n",
      "15  GE220617C00065000 2022-06-10 19:19:42+00:00    65.0       7.35  0.00   \n",
      "16  GE220617C00066000 2022-05-25 15:35:41+00:00    66.0       8.40  0.00   \n",
      "17  GE220617C00067000 2022-06-10 17:18:20+00:00    67.0       5.10  0.00   \n",
      "18  GE220617C00068000 2022-06-10 19:57:17+00:00    68.0       4.00  0.00   \n",
      "19  GE220617C00069000 2022-06-10 19:51:44+00:00    69.0       3.25  0.00   \n",
      "20  GE220617C00070000 2022-06-10 19:58:46+00:00    70.0       2.55  0.00   \n",
      "21  GE220617C00071000 2022-06-10 19:59:07+00:00    71.0       1.93  0.00   \n",
      "22  GE220617C00072000 2022-06-10 19:56:04+00:00    72.0       1.40  0.00   \n",
      "23  GE220617C00073000 2022-06-10 19:54:02+00:00    73.0       0.99  0.00   \n",
      "24  GE220617C00074000 2022-06-10 19:59:36+00:00    74.0       0.61  0.00   \n",
      "25  GE220617C00075000 2022-06-10 19:56:07+00:00    75.0       0.40  0.00   \n",
      "26  GE220617C00076000 2022-06-10 19:49:42+00:00    76.0       0.25  0.00   \n",
      "27  GE220617C00077000 2022-06-10 19:56:21+00:00    77.0       0.16  0.00   \n",
      "28  GE220617C00078000 2022-06-10 19:50:00+00:00    78.0       0.10  0.00   \n",
      "29  GE220617C00079000 2022-06-10 19:27:04+00:00    79.0       0.08  0.00   \n",
      "30  GE220617C00080000 2022-06-10 19:50:43+00:00    80.0       0.05  0.00   \n",
      "31  GE220617C00081000 2022-06-10 15:57:35+00:00    81.0       0.03  0.00   \n",
      "32  GE220617C00082000 2022-06-10 19:44:53+00:00    82.0       0.03  0.00   \n",
      "33  GE220617C00083000 2022-06-10 19:53:44+00:00    83.0       0.03  0.00   \n",
      "34  GE220617C00084000 2022-06-10 17:13:46+00:00    84.0       0.02  0.00   \n",
      "35  GE220617C00085000 2022-06-10 19:51:12+00:00    85.0       0.02  0.00   \n",
      "36  GE220617C00086000 2022-06-10 19:48:29+00:00    86.0       0.01   NaN   \n",
      "37  GE220617C00090000 2022-06-09 19:22:55+00:00    90.0       0.02  0.00   \n",
      "38  GE220617C00095000 2022-06-10 17:02:50+00:00    95.0       0.01  0.00   \n",
      "39  GE220617C00100000 2022-06-10 13:56:04+00:00   100.0       0.01  0.00   \n",
      "40  GE220617C00105000 2022-06-10 15:40:57+00:00   105.0       0.01  0.00   \n",
      "41  GE220617C00110000 2022-06-10 18:31:58+00:00   110.0       0.01  0.00   \n",
      "42  GE220617C00115000 2022-06-08 19:48:00+00:00   115.0       0.01  0.00   \n",
      "43  GE220617C00120000 2022-06-10 13:30:15+00:00   120.0       0.01  0.00   \n",
      "44  GE220617C00125000 2022-05-27 13:50:02+00:00   125.0       0.02  0.00   \n",
      "45  GE220617C00130000 2022-06-08 15:00:48+00:00   130.0       0.01  0.00   \n",
      "46  GE220617C00135000 2022-06-08 16:42:07+00:00   135.0       0.01  0.00   \n",
      "47  GE220617C00140000 2022-06-02 19:00:34+00:00   140.0       0.01  0.00   \n",
      "48  GE220617C00145000 2022-06-01 15:14:19+00:00   145.0       0.01  0.00   \n",
      "49  GE220617C00150000 2022-06-09 15:16:00+00:00   150.0       0.01  0.00   \n",
      "50  GE220617C00155000 2022-05-04 13:40:56+00:00   155.0       0.02  0.00   \n",
      "51  GE220617C00160000 2022-05-23 13:30:12+00:00   160.0       0.02  0.00   \n",
      "52  GE220617C00165000 2022-04-28 18:11:17+00:00   165.0       0.02  0.00   \n",
      "53  GE220617C00170000 2022-04-29 14:27:30+00:00   170.0       0.02  0.00   \n",
      "\n",
      "      ask  change  percentChange  volume  openInterest  impliedVolatility  \\\n",
      "0   12.50    0.00       0.000000     1.0           4.0           0.000010   \n",
      "1    8.20    0.00       0.000000     1.0          39.0           0.000010   \n",
      "2    7.50    0.00       0.000000     2.0           8.0           0.000010   \n",
      "3    3.65   -0.25      -6.578947    38.0         585.0           0.000010   \n",
      "4    2.24   -0.10      -4.048589    90.0        6538.0           0.000010   \n",
      "5    1.03   -0.14     -12.280701    58.0        3483.0           0.000010   \n",
      "6    0.74   -0.07     -10.769230    75.0       13203.0           0.000010   \n",
      "7    0.32   -0.05     -16.129036    66.0        2131.0           0.000010   \n",
      "8    0.21   -0.02      -9.999998    12.0         875.0           0.000010   \n",
      "9    0.25    0.00       0.000000    22.0         321.0           0.000010   \n",
      "10   0.00    0.00       0.000000     1.0           0.0           0.000010   \n",
      "11   0.00    0.00       0.000000     3.0           0.0           0.000010   \n",
      "12   0.00    0.00       0.000000     2.0           0.0           0.000010   \n",
      "13   0.00    0.00       0.000000     1.0           0.0           0.000010   \n",
      "14   0.00    0.00       0.000000     NaN           NaN           0.000010   \n",
      "15   0.00    0.00       0.000000     3.0           0.0           0.000010   \n",
      "16   0.00    0.00       0.000000     NaN           0.0           0.000010   \n",
      "17   0.00    0.00       0.000000     2.0           0.0           0.000010   \n",
      "18   0.00    0.00       0.000000    16.0           0.0           0.000010   \n",
      "19   0.00    0.00       0.000000    11.0           0.0           0.000010   \n",
      "20   0.00    0.00       0.000000    27.0           0.0           0.000010   \n",
      "21   0.00    0.00       0.000000    38.0           0.0           0.000010   \n",
      "22   0.00    0.00       0.000000    56.0           0.0           0.031260   \n",
      "23   0.00    0.00       0.000000   134.0           0.0           0.062509   \n",
      "24   0.00    0.00       0.000000   194.0           0.0           0.062509   \n",
      "25   0.00    0.00       0.000000   388.0           0.0           0.125009   \n",
      "26   0.00    0.00       0.000000    44.0           0.0           0.125009   \n",
      "27   0.00    0.00       0.000000    38.0           0.0           0.125009   \n",
      "28   0.00    0.00       0.000000   114.0           0.0           0.250007   \n",
      "29   0.00    0.00       0.000000    61.0           0.0           0.250007   \n",
      "30   0.00    0.00       0.000000  1427.0           0.0           0.250007   \n",
      "31   0.00    0.00       0.000000    23.0           0.0           0.250007   \n",
      "32   0.00    0.00       0.000000   132.0           0.0           0.250007   \n",
      "33   0.00    0.00       0.000000     5.0           0.0           0.250007   \n",
      "34   0.00    0.00       0.000000    17.0           0.0           0.250007   \n",
      "35   0.00    0.00       0.000000    51.0           0.0           0.250007   \n",
      "36   0.00    0.00       0.000000     NaN           NaN           0.500005   \n",
      "37   0.00    0.00       0.000000   182.0           0.0           0.500005   \n",
      "38   0.00    0.00       0.000000     3.0           0.0           0.500005   \n",
      "39   0.00    0.00       0.000000     3.0           0.0           0.500005   \n",
      "40   0.00    0.00       0.000000    15.0           0.0           0.500005   \n",
      "41   0.00    0.00       0.000000    36.0           0.0           0.500005   \n",
      "42   0.00    0.00       0.000000    19.0           0.0           0.500005   \n",
      "43   0.00    0.00       0.000000     1.0           0.0           0.500005   \n",
      "44   0.00    0.00       0.000000     1.0           0.0           0.500005   \n",
      "45   0.00    0.00       0.000000     2.0           0.0           0.500005   \n",
      "46   0.00    0.00       0.000000    10.0           0.0           0.500005   \n",
      "47   0.00    0.00       0.000000     2.0           0.0           0.500005   \n",
      "48   0.00    0.00       0.000000     1.0           0.0           0.500005   \n",
      "49   0.00    0.00       0.000000     5.0           0.0           0.500005   \n",
      "50   0.01    0.00       0.000000     1.0         356.0           2.062505   \n",
      "51   0.00    0.00       0.000000     2.0           0.0           0.500005   \n",
      "52   0.01    0.00       0.000000    14.0         216.0           2.250004   \n",
      "53   0.01    0.00       0.000000    10.0         151.0           2.312504   \n",
      "\n",
      "    inTheMoney contractSize currency  \n",
      "0         True      REGULAR      USD  \n",
      "1         True      REGULAR      USD  \n",
      "2         True      REGULAR      USD  \n",
      "3         True      REGULAR      USD  \n",
      "4         True      REGULAR      USD  \n",
      "5         True      REGULAR      USD  \n",
      "6         True      REGULAR      USD  \n",
      "7         True      REGULAR      USD  \n",
      "8         True      REGULAR      USD  \n",
      "9         True      REGULAR      USD  \n",
      "10        True      REGULAR      USD  \n",
      "11        True      REGULAR      USD  \n",
      "12        True      REGULAR      USD  \n",
      "13        True      REGULAR      USD  \n",
      "14        True      REGULAR      USD  \n",
      "15        True      REGULAR      USD  \n",
      "16        True      REGULAR      USD  \n",
      "17        True      REGULAR      USD  \n",
      "18        True      REGULAR      USD  \n",
      "19        True      REGULAR      USD  \n",
      "20        True      REGULAR      USD  \n",
      "21        True      REGULAR      USD  \n",
      "22       False      REGULAR      USD  \n",
      "23       False      REGULAR      USD  \n",
      "24       False      REGULAR      USD  \n",
      "25       False      REGULAR      USD  \n",
      "26       False      REGULAR      USD  \n",
      "27       False      REGULAR      USD  \n",
      "28       False      REGULAR      USD  \n",
      "29       False      REGULAR      USD  \n",
      "30       False      REGULAR      USD  \n",
      "31       False      REGULAR      USD  \n",
      "32       False      REGULAR      USD  \n",
      "33       False      REGULAR      USD  \n",
      "34       False      REGULAR      USD  \n",
      "35       False      REGULAR      USD  \n",
      "36       False      REGULAR      USD  \n",
      "37       False      REGULAR      USD  \n",
      "38       False      REGULAR      USD  \n",
      "39       False      REGULAR      USD  \n",
      "40       False      REGULAR      USD  \n",
      "41       False      REGULAR      USD  \n",
      "42       False      REGULAR      USD  \n",
      "43       False      REGULAR      USD  \n",
      "44       False      REGULAR      USD  \n",
      "45       False      REGULAR      USD  \n",
      "46       False      REGULAR      USD  \n",
      "47       False      REGULAR      USD  \n",
      "48       False      REGULAR      USD  \n",
      "49       False      REGULAR      USD  \n",
      "50       False      REGULAR      USD  \n",
      "51       False      REGULAR      USD  \n",
      "52       False      REGULAR      USD  \n",
      "53       False      REGULAR      USD  , puts=       contractSymbol             lastTradeDate  strike  lastPrice    bid  \\\n",
      "0   GE220617P00003000 2021-07-22 18:12:05+00:00     3.0       0.01   0.01   \n",
      "1   GE220617P00005000 2021-07-28 18:08:10+00:00     5.0       0.04   0.00   \n",
      "2   GE220617P00008000 2021-07-30 15:37:50+00:00     8.0       0.18   0.16   \n",
      "3   GE220617P00010000 2021-07-30 15:54:15+00:00    10.0       0.51   0.50   \n",
      "4   GE220617P00012000 2021-07-30 19:59:50+00:00    12.0       1.19   1.18   \n",
      "5   GE220617P00015000 2021-07-28 17:38:57+00:00    15.0       2.84   2.62   \n",
      "6   GE220617P00017000 2021-07-27 16:47:19+00:00    17.0       4.30   4.45   \n",
      "7   GE220617P00040000 2022-06-10 18:25:49+00:00    40.0       0.01   0.00   \n",
      "8   GE220617P00045000 2022-06-01 15:50:05+00:00    45.0       0.01   0.00   \n",
      "9   GE220617P00050000 2022-06-10 14:32:51+00:00    50.0       0.02   0.00   \n",
      "10  GE220617P00055000 2022-06-10 15:06:10+00:00    55.0       0.03   0.00   \n",
      "11  GE220617P00060000 2022-06-10 19:41:16+00:00    60.0       0.06   0.00   \n",
      "12  GE220617P00064000 2022-06-10 16:03:39+00:00    64.0       0.22   0.00   \n",
      "13  GE220617P00065000 2022-06-10 19:34:06+00:00    65.0       0.23   0.00   \n",
      "14  GE220617P00066000 2022-06-10 19:29:52+00:00    66.0       0.30   0.00   \n",
      "15  GE220617P00067000 2022-06-10 19:12:15+00:00    67.0       0.41   0.00   \n",
      "16  GE220617P00068000 2022-06-10 19:51:02+00:00    68.0       0.67   0.00   \n",
      "17  GE220617P00069000 2022-06-10 19:56:04+00:00    69.0       0.90   0.00   \n",
      "18  GE220617P00070000 2022-06-10 19:57:52+00:00    70.0       1.19   0.00   \n",
      "19  GE220617P00071000 2022-06-10 19:59:22+00:00    71.0       1.62   0.00   \n",
      "20  GE220617P00072000 2022-06-10 19:55:03+00:00    72.0       2.00   0.00   \n",
      "21  GE220617P00073000 2022-06-10 19:17:58+00:00    73.0       2.18   0.00   \n",
      "22  GE220617P00074000 2022-06-10 18:40:48+00:00    74.0       3.05   0.00   \n",
      "23  GE220617P00075000 2022-06-10 19:57:41+00:00    75.0       4.04   0.00   \n",
      "24  GE220617P00076000 2022-06-10 18:54:14+00:00    76.0       4.36   0.00   \n",
      "25  GE220617P00077000 2022-06-10 19:59:22+00:00    77.0       5.85   0.00   \n",
      "26  GE220617P00078000 2022-06-10 19:57:48+00:00    78.0       6.70   0.00   \n",
      "27  GE220617P00079000 2022-06-10 16:05:28+00:00    79.0       7.35   0.00   \n",
      "28  GE220617P00080000 2022-06-10 19:47:58+00:00    80.0       8.62   0.00   \n",
      "29  GE220617P00081000 2022-06-09 16:18:11+00:00    81.0       5.10   0.00   \n",
      "30  GE220617P00082000 2022-06-08 13:49:26+00:00    82.0       4.26   0.00   \n",
      "31  GE220617P00083000 2022-06-08 18:07:41+00:00    83.0       5.85   0.00   \n",
      "32  GE220617P00084000 2022-06-10 19:15:02+00:00    84.0      12.05   0.00   \n",
      "33  GE220617P00085000 2022-06-10 19:49:53+00:00    85.0      13.50   0.00   \n",
      "34  GE220617P00086000 2022-06-08 19:33:58+00:00    86.0       8.70   0.00   \n",
      "35  GE220617P00087000 2022-06-09 16:02:05+00:00    87.0      10.65   0.00   \n",
      "36  GE220617P00088000 2022-06-08 18:41:39+00:00    88.0      10.95   0.00   \n",
      "37  GE220617P00090000 2022-06-10 16:23:59+00:00    90.0      18.41   0.00   \n",
      "38  GE220617P00095000 2022-06-08 16:00:50+00:00    95.0      17.50   0.00   \n",
      "39  GE220617P00100000 2022-06-09 13:45:30+00:00   100.0      23.10   0.00   \n",
      "40  GE220617P00105000 2022-06-08 14:48:47+00:00   105.0      27.35   0.00   \n",
      "41  GE220617P00110000 2022-06-03 19:53:16+00:00   110.0      33.10   0.00   \n",
      "42  GE220617P00115000 2022-04-26 13:32:11+00:00   115.0      31.50  37.25   \n",
      "43  GE220617P00120000 2022-05-11 15:48:57+00:00   120.0      46.00  48.65   \n",
      "44  GE220617P00125000 2022-04-20 16:52:29+00:00   125.0      32.75  49.00   \n",
      "45  GE220617P00130000 2021-11-29 19:44:29+00:00   130.0      32.55  35.25   \n",
      "46  GE220617P00135000 2022-01-13 16:49:38+00:00   135.0      32.12  37.60   \n",
      "47  GE220617P00140000 2021-11-22 20:08:51+00:00   140.0      39.10  45.10   \n",
      "48  GE220617P00145000 2021-11-02 17:40:44+00:00   145.0      39.60  51.45   \n",
      "49  GE220617P00150000 2021-11-19 20:27:19+00:00   150.0      50.35  57.40   \n",
      "50  GE220617P00155000 2021-11-10 11:53:58+00:00   155.0      49.15  57.90   \n",
      "51  GE220617P00160000 2021-11-08 15:00:27+00:00   160.0      51.00  61.55   \n",
      "\n",
      "      ask  change  percentChange  volume  openInterest  impliedVolatility  \\\n",
      "0    0.04    0.00       0.000000     5.0            43          10.500003   \n",
      "1    0.05    0.00       0.000000     2.0            34           8.750005   \n",
      "2    0.21    0.01       5.882356    10.0            61           9.250004   \n",
      "3    0.54    0.01       1.999998    24.0          5511           9.953129   \n",
      "4    1.24    0.11      10.185185    61.0          9209          10.933597   \n",
      "5    4.05    0.00       0.000000    12.0            64          13.056642   \n",
      "6    4.65    0.00       0.000000     1.0           583          13.544923   \n",
      "7    0.00    0.00       0.000000     2.0             0           0.500005   \n",
      "8    0.00    0.00       0.000000     1.0             0           0.500005   \n",
      "9    0.00    0.00       0.000000    58.0             0           0.500005   \n",
      "10   0.00    0.00       0.000000     1.0             0           0.500005   \n",
      "11   0.00    0.00       0.000000    67.0             0           0.250007   \n",
      "12   0.00    0.00       0.000000     3.0             0           0.250007   \n",
      "13   0.00    0.00       0.000000   233.0             0           0.250007   \n",
      "14   0.00    0.00       0.000000     7.0             0           0.125009   \n",
      "15   0.00    0.00       0.000000    70.0             0           0.125009   \n",
      "16   0.00    0.00       0.000000    69.0             0           0.125009   \n",
      "17   0.00    0.00       0.000000    79.0             0           0.062509   \n",
      "18   0.00    0.00       0.000000   629.0             0           0.031260   \n",
      "19   0.00    0.00       0.000000   210.0             0           0.007822   \n",
      "20   0.00    0.00       0.000000  3205.0             0           0.000010   \n",
      "21   0.00    0.00       0.000000   192.0             0           0.000010   \n",
      "22   0.00    0.00       0.000000   175.0             0           0.000010   \n",
      "23   0.00    0.00       0.000000   181.0             0           0.000010   \n",
      "24   0.00    0.00       0.000000    15.0             0           0.000010   \n",
      "25   0.00    0.00       0.000000    22.0             0           0.000010   \n",
      "26   0.00    0.00       0.000000    43.0             0           0.000010   \n",
      "27   0.00    0.00       0.000000    22.0             0           0.000010   \n",
      "28   0.00    0.00       0.000000    57.0             0           0.000010   \n",
      "29   0.00    0.00       0.000000     5.0             0           0.000010   \n",
      "30   0.00    0.00       0.000000     6.0             0           0.000010   \n",
      "31   0.00    0.00       0.000000     3.0             0           0.000010   \n",
      "32   0.00    0.00       0.000000     1.0             0           0.000010   \n",
      "33   0.00    0.00       0.000000    63.0             0           0.000010   \n",
      "34   0.00    0.00       0.000000     NaN             0           0.000010   \n",
      "35   0.00    0.00       0.000000     5.0             0           0.000010   \n",
      "36   0.00    0.00       0.000000     NaN             0           0.000010   \n",
      "37   0.00    0.00       0.000000    32.0             0           0.000010   \n",
      "38   0.00    0.00       0.000000     1.0             0           0.000010   \n",
      "39   0.00    0.00       0.000000    75.0             0           0.000010   \n",
      "40   0.00    0.00       0.000000     2.0             0           0.000010   \n",
      "41   0.00    0.00       0.000000     5.0             0           0.000010   \n",
      "42  37.95    0.00       0.000000     1.0             3           0.000010   \n",
      "43  49.30    0.00       0.000000     2.0             2           2.230473   \n",
      "44  50.40    0.00       0.000000     1.0             1           0.000010   \n",
      "45  35.50    0.00       0.000000     2.0            20           0.000010   \n",
      "46  39.30    0.00       0.000000     4.0             0           0.000010   \n",
      "47  49.00    0.00       0.000000     1.0             9           0.000010   \n",
      "48  54.10    0.00       0.000000     NaN             1           0.000010   \n",
      "49  59.75    0.00       0.000000     1.0            13           0.000010   \n",
      "50  59.90    0.00       0.000000     NaN             1           0.000010   \n",
      "51  64.40    0.00       0.000000     1.0             2           0.000010   \n",
      "\n",
      "    inTheMoney contractSize currency  \n",
      "0        False      REGULAR      USD  \n",
      "1        False      REGULAR      USD  \n",
      "2        False      REGULAR      USD  \n",
      "3        False      REGULAR      USD  \n",
      "4        False      REGULAR      USD  \n",
      "5        False      REGULAR      USD  \n",
      "6        False      REGULAR      USD  \n",
      "7        False      REGULAR      USD  \n",
      "8        False      REGULAR      USD  \n",
      "9        False      REGULAR      USD  \n",
      "10       False      REGULAR      USD  \n",
      "11       False      REGULAR      USD  \n",
      "12       False      REGULAR      USD  \n",
      "13       False      REGULAR      USD  \n",
      "14       False      REGULAR      USD  \n",
      "15       False      REGULAR      USD  \n",
      "16       False      REGULAR      USD  \n",
      "17       False      REGULAR      USD  \n",
      "18       False      REGULAR      USD  \n",
      "19       False      REGULAR      USD  \n",
      "20        True      REGULAR      USD  \n",
      "21        True      REGULAR      USD  \n",
      "22        True      REGULAR      USD  \n",
      "23        True      REGULAR      USD  \n",
      "24        True      REGULAR      USD  \n",
      "25        True      REGULAR      USD  \n",
      "26        True      REGULAR      USD  \n",
      "27        True      REGULAR      USD  \n",
      "28        True      REGULAR      USD  \n",
      "29        True      REGULAR      USD  \n",
      "30        True      REGULAR      USD  \n",
      "31        True      REGULAR      USD  \n",
      "32        True      REGULAR      USD  \n",
      "33        True      REGULAR      USD  \n",
      "34        True      REGULAR      USD  \n",
      "35        True      REGULAR      USD  \n",
      "36        True      REGULAR      USD  \n",
      "37        True      REGULAR      USD  \n",
      "38        True      REGULAR      USD  \n",
      "39        True      REGULAR      USD  \n",
      "40        True      REGULAR      USD  \n",
      "41        True      REGULAR      USD  \n",
      "42        True      REGULAR      USD  \n",
      "43        True      REGULAR      USD  \n",
      "44        True      REGULAR      USD  \n",
      "45        True      REGULAR      USD  \n",
      "46        True      REGULAR      USD  \n",
      "47        True      REGULAR      USD  \n",
      "48        True      REGULAR      USD  \n",
      "49        True      REGULAR      USD  \n",
      "50        True      REGULAR      USD  \n",
      "51        True      REGULAR      USD  )\n"
     ]
    }
   ]
  },
  {
   "cell_type": "code",
   "execution_count": 180,
   "outputs": [],
   "source": [
    "# Get Market Call Prices - CSCO\n",
    "strike_call_list_cisco = (options_cisco[0]['strike'])\n",
    "market_price_call_cisco = (options_cisco[0]['lastPrice'])\n",
    "market_implied_vol_call_cisco = (options_cisco[0]['impliedVolatility'])\n",
    "df_market_call_csco = pd.DataFrame({'strike':strike_call_list_cisco ,\n",
    "                   'lastPrice':market_price_call_cisco ,\n",
    "                   'impliedVolatility': market_implied_vol_call_cisco})\n",
    "#print(df_market_call)\n",
    "\n",
    "# Get Market Put Prices - CSCO\n",
    "strike_put_list_cisco = (options_cisco[1]['strike'])\n",
    "market_price_put_cisco = (options_cisco[1]['lastPrice'])\n",
    "market_implied_vol_put_cisco = (options_cisco[1]['impliedVolatility'])\n",
    "df_market_put_cisco = pd.DataFrame({'strike':strike_put_list_cisco ,\n",
    "                   'lastPrice':market_price_put_cisco ,\n",
    "                   'impliedVolatility': market_implied_vol_put_cisco})\n",
    "\n",
    "# Get Market Call Prices - GE\n",
    "strike_call_list_ge = (options_ge[0]['strike'])\n",
    "market_price_call_ge = (options_ge[0]['lastPrice'])\n",
    "market_implied_vol_call_ge = (options_ge[0]['impliedVolatility'])\n",
    "df_market_call_ge = pd.DataFrame({'strike':strike_call_list_ge ,\n",
    "                   'lastPrice':market_price_call_ge ,\n",
    "                   'impliedVolatility': market_implied_vol_call_ge})\n",
    "#print(df_market_call)\n",
    "\n",
    "# Get Market Put Prices - GE\n",
    "strike_put_list_ge = (options_ge[1]['strike'])\n",
    "market_price_put_ge = (options_ge[1]['lastPrice'])\n",
    "market_implied_vol_put_ge = (options_ge[1]['impliedVolatility'])\n",
    "df_market_put_ge = pd.DataFrame({'strike':strike_put_list_ge ,\n",
    "                   'lastPrice':market_price_put_ge ,\n",
    "                   'impliedVolatility': market_implied_vol_put_ge})\n",
    "\n",
    "#print(df_market_call_ge)"
   ],
   "metadata": {
    "collapsed": false,
    "pycharm": {
     "name": "#%%\n"
    }
   }
  },
  {
   "cell_type": "markdown",
   "source": [
    "Parameters: Black-Scholes"
   ],
   "metadata": {
    "collapsed": false,
    "pycharm": {
     "name": "#%% md\n"
    }
   }
  },
  {
   "cell_type": "code",
   "execution_count": 191,
   "outputs": [
    {
     "name": "stdout",
     "output_type": "stream",
     "text": [
      "0.2500075\n"
     ]
    }
   ],
   "source": [
    "S_0_CSCO = 43.42            # stock price: CSCO\n",
    "S_0_GE = 71.83              # stock price: GE\n",
    "r = 1.14/100                # interest rate\n",
    "\n",
    "sigma_CSCO = hist_std_csco  # historical (std) volatility CSCO\n",
    "sigma_GE = hist_std_ge      # historical (std) volatility GE\n",
    "\n",
    "K_CSCO = 47.50              # specific strike CSCO\n",
    "K_GE = 72                   # specific strike GE\n",
    "\n",
    "# Getting the quoted implied volatility: CSCO\n",
    "market_call_CSCO = df_market_call_csco.loc[df_market_call_csco['strike']==K_CSCO]\n",
    "implied_vol_CSCO_Call = (np.array(market_call_CSCO[\"impliedVolatility\"]))\n",
    "implied_vol_CSCO_Call = implied_vol_CSCO_Call[0]\n",
    "\n",
    "market_put_CSCO = df_market_put_cisco.loc[df_market_put_cisco['strike']==K_CSCO]\n",
    "implied_vol_CSCO_Put = (np.array(market_put_CSCO[\"impliedVolatility\"]))\n",
    "implied_vol_CSCO_Put = implied_vol_CSCO_Put[0]\n",
    "\n",
    "# Getting the quoted implied volatility: GE\n",
    "market_call_ge = df_market_call_ge.loc[df_market_call_ge['strike']==K_GE]\n",
    "implied_vol_ge_Call = (np.array(market_call_ge[\"impliedVolatility\"]))\n",
    "implied_vol_ge_Call = implied_vol_ge_Call[0]\n",
    "\n",
    "market_put_ge = df_market_put_ge.loc[df_market_put_ge['strike']==K_GE]\n",
    "implied_vol_ge_Put = (np.array(market_put_ge[\"impliedVolatility\"]))\n",
    "implied_vol_ge_Put = implied_vol_ge_Put[0]\n",
    "print(implied_vol_CSCO_Call)"
   ],
   "metadata": {
    "collapsed": false,
    "pycharm": {
     "name": "#%%\n"
    }
   }
  },
  {
   "cell_type": "markdown",
   "source": [
    "Black-Scholes-Merton: Options Prices"
   ],
   "metadata": {
    "collapsed": false,
    "pycharm": {
     "name": "#%% md\n"
    }
   }
  },
  {
   "cell_type": "code",
   "execution_count": 182,
   "outputs": [],
   "source": [
    "def black_scholes_merton_call_div(S, K, T, r, a, sigma):\n",
    "\n",
    "    #S: spot price\n",
    "    #K: strike price\n",
    "    #T: time to maturity\n",
    "    #r: interest rate\n",
    "    #a: dividend yield\n",
    "    #sigma: volatility of underlying asset\n",
    "\n",
    "    d1 = (np.log(S/K) + (r-a+0.5*sigma**2)*T) / (sigma*np.sqrt(T))\n",
    "    d2 = (np.log(S/K) + (r-a-0.5*sigma**2)*T) / (sigma*np.sqrt(T))\n",
    "    call = (S*np.exp(-a*T) * si.norm.cdf(d1, 0.0, 1.0) - K*np.exp(-r*T) * si.norm.cdf(d2, 0.0, 1.0))\n",
    "    return call\n",
    "\n",
    "\n",
    "def black_scholes_put_div(S, K, T, r, a, sigma):\n",
    "\n",
    "    d1_bs = (np.log(S/K) + (r-a+0.5*sigma**2)*T) / (sigma*np.sqrt(T))\n",
    "    d2_bs = (np.log(S/K) + (r-a-0.5*sigma**2)*T) / (sigma*np.sqrt(T))\n",
    "    put = (K*np.exp(-r*T) * si.norm.cdf(-d2_bs, 0.0, 1.0) - S*np.exp(-a*T) * si.norm.cdf(-d1_bs, 0.0, 1.0))\n",
    "    return put"
   ],
   "metadata": {
    "collapsed": false,
    "pycharm": {
     "name": "#%%\n"
    }
   }
  },
  {
   "cell_type": "code",
   "execution_count": 183,
   "outputs": [],
   "source": [
    "T_test = 5/365\n",
    "# Black-Scholes CSCO results\n",
    "call_bs_CSCO =  black_scholes_merton_call_div(S_0_CSCO, K_CSCO, T_test, r, a_csco, hist_std_csco)\n",
    "put_bs_CSCO =  black_scholes_put_div(S_0_CSCO, K_CSCO, T_test, r, a_csco, hist_std_csco)\n",
    "\n",
    "call_bs_CSCO_implied_vol =  black_scholes_merton_call_div(S_0_CSCO, K_CSCO, T_test, r, a_csco, implied_vol_CSCO_Call)\n",
    "put_bs_CSCO_implied_vol =  black_scholes_put_div(S_0_CSCO, K_CSCO, T_test, r, a_csco, implied_vol_CSCO_Put)\n",
    "\n",
    "# Black-Scholes GE results\n",
    "call_bs_GE =  black_scholes_merton_call_div(S_0_GE, K_GE, T_test, r, a_ge, hist_std_ge)\n",
    "put_bs_GE =  black_scholes_put_div(S_0_GE, K_GE, T_test, r, a_ge, hist_std_ge)\n",
    "\n",
    "call_bs_GE_implied_vol =  black_scholes_merton_call_div(S_0_GE, K_GE, T_test, r, a_ge, implied_vol_ge_Call)\n",
    "put_bs_GE_implied_vol =  black_scholes_put_div(S_0_GE, K_GE, T_test, r, a_ge, implied_vol_ge_Put)"
   ],
   "metadata": {
    "collapsed": false,
    "pycharm": {
     "name": "#%%\n"
    }
   }
  },
  {
   "cell_type": "markdown",
   "source": [
    "Black-Scholes-Merton: Greeks\n"
   ],
   "metadata": {
    "collapsed": false,
    "pycharm": {
     "name": "#%% md\n"
    }
   }
  },
  {
   "cell_type": "code",
   "execution_count": 184,
   "outputs": [],
   "source": [
    "def d1(S,K,T,r,a,sigma):\n",
    "    return(log(S/K)+(r-a+sigma**2/2.)*T)/(sigma*sqrt(T))\n",
    "\n",
    "def d2(S,K,T,r,a,sigma):\n",
    "    return d1(S,K,T,r,a,sigma)-sigma*sqrt(T)\n",
    "\n",
    "############## CALL OPTION ##############\n",
    "\n",
    "def call_delta(S,K,T,r,a,sigma):\n",
    "    return exp(-a*T)*norm.cdf(d1(S,K,T,r,sigma))\n",
    "\n",
    "def call_gamma(S,K,T,r,a,sigma):\n",
    "    return exp(-a*T)*norm.pdf(d1(S,K,T,r,sigma))/(S*sigma*sqrt(T))\n",
    "\n",
    "def call_vega(S,K,T,r,sigma):\n",
    "    return 0.01*(S*norm.pdf(d1(S,K,T,r,sigma))*sqrt(T))\n",
    "\n",
    "############## PUT OPTION ##############\n",
    "\n",
    "def put_delta(S,K,T,r,a,sigma):\n",
    "    return -exp(-a*T)*norm.cdf(-d1(S,K,T,r,sigma))\n",
    "\n",
    "def put_gamma(S,K,T,r,a,sigma):\n",
    "    return exp(-a*T)*norm.pdf(d1(S,K,T,r,sigma))/(S*sigma*sqrt(T))\n",
    "\n",
    "def put_vega(S,K,T,r,a,sigma):\n",
    "    return 0.01*exp(-a*T)*(S*norm.pdf(d1(S,K,T,r,sigma))*sqrt(T))"
   ],
   "metadata": {
    "collapsed": false,
    "pycharm": {
     "name": "#%%\n"
    }
   }
  },
  {
   "cell_type": "code",
   "execution_count": 184,
   "outputs": [],
   "source": [],
   "metadata": {
    "collapsed": false,
    "pycharm": {
     "name": "#%%\n"
    }
   }
  },
  {
   "cell_type": "markdown",
   "source": [
    "Monte-Carlo Simulation\n"
   ],
   "metadata": {
    "collapsed": false,
    "pycharm": {
     "name": "#%% md\n"
    }
   }
  },
  {
   "cell_type": "code",
   "execution_count": 185,
   "outputs": [
    {
     "data": {
      "text/plain": "Text(0, 0.5, 'frequency')"
     },
     "execution_count": 185,
     "metadata": {},
     "output_type": "execute_result"
    },
    {
     "data": {
      "text/plain": "<Figure size 1080x360 with 1 Axes>",
      "image/png": "[encoded data removed]"
     },
     "metadata": {
      "needs_background": "light"
     },
     "output_type": "display_data"
    }
   ],
   "source": [
    "# Monte-Carlo Simulation:\n",
    "\n",
    "# Parameters\n",
    "T = 1.0\n",
    "N = 10000\n",
    "S_0 = 50\n",
    "sigma = 0.20\n",
    "\n",
    "# Example one-period simulation\n",
    "\n",
    "# lognormal distribution of the price\n",
    "\n",
    "Z = np.random.normal(size=N)\n",
    "S_T = S_0*np.exp((r-0.5*sigma**2)*T+sigma*np.sqrt(T)*Z)\n",
    "plt.hist(S_T, bins='auto')\n",
    "plt.xlabel('price')\n",
    "plt.ylabel('frequency')\n",
    "\n"
   ],
   "metadata": {
    "collapsed": false,
    "pycharm": {
     "name": "#%%\n"
    }
   }
  },
  {
   "cell_type": "code",
   "execution_count": 186,
   "outputs": [],
   "source": [
    "# Monte Carlo simulation: European Option\n",
    "\n",
    "call_payoff_maturity_CSCO = []\n",
    "put_payoff_maturity_CSCO = []\n",
    "call_payoff_maturity_GE = []\n",
    "put_payoff_maturity_GE = []\n",
    "\n",
    "\n",
    "days_test = 5 # 1 week = 5 trading days\n",
    "dt = T/365\n",
    "\n",
    "S_CSCO = np.zeros((days_test+1, N))\n",
    "S_CSCO[0] = S_0_CSCO\n",
    "S_GE = np.zeros((days_test+1, N))\n",
    "S_GE[0] = S_0_GE\n",
    "\n",
    "for t in range(1, days_test+1):\n",
    "    Z_CSCO = np.random.normal(size=N)\n",
    "    Z_GE = np.random.normal(size=N)\n",
    "    S_CSCO[t] = S_CSCO[t-1]*np.exp((r-(a_csco/100)-0.5*sigma_CSCO**2)*dt+sigma_CSCO*np.sqrt(dt)*Z_CSCO)\n",
    "    S_GE[t] = S_GE[t-1]*np.exp((r-(a_ge/100)-0.5*sigma_GE**2)*dt+sigma_GE*np.sqrt(dt)*Z_GE)"
   ],
   "metadata": {
    "collapsed": false,
    "pycharm": {
     "name": "#%%\n"
    }
   }
  },
  {
   "cell_type": "markdown",
   "source": [
    "Valuation (European)"
   ],
   "metadata": {
    "collapsed": false,
    "pycharm": {
     "name": "#%% md\n"
    }
   }
  },
  {
   "cell_type": "code",
   "execution_count": 187,
   "outputs": [
    {
     "name": "stdout",
     "output_type": "stream",
     "text": [
      "0.015277778526255009\n",
      "4.085823553096805\n",
      "1.495734989510559\n",
      "1.6615070213215068\n"
     ]
    }
   ],
   "source": [
    "S_T_CSCO = S_CSCO[-1]\n",
    "S_T_GE = S_GE[-1]\n",
    "for i in range(len(S_T_CSCO)):\n",
    "    call_payoff_maturity_CSCO.append(max(S_T_CSCO[i]-K_CSCO,0))\n",
    "    put_payoff_maturity_CSCO.append(max(K_CSCO-S_T_CSCO[i],0))\n",
    "\n",
    "    call_payoff_maturity_GE.append(max(S_T_GE[i]-K_GE,0))\n",
    "    put_payoff_maturity_GE.append(max(K_GE-S_T_GE[i],0))\n",
    "\n",
    "# Price of CSCO options: expiry on June 17, 2022\n",
    "VMC_call_CSCO = np.mean(call_payoff_maturity_CSCO)\n",
    "C_0_CSCO = VMC_call_CSCO*np.exp(-r*days_test/365)\n",
    "print(C_0_CSCO)\n",
    "\n",
    "VMC_put_CSCO = np.mean(put_payoff_maturity_CSCO)\n",
    "P_0_CSCO = VMC_put_CSCO*np.exp(-r*days_test/365)\n",
    "print(P_0_CSCO)\n",
    "\n",
    "# Price of GE options: expiry on June 17, 2022\n",
    "VMC_call_GE = np.mean(call_payoff_maturity_GE)\n",
    "C_0_GE = VMC_call_GE*np.exp(-r*days_test/365)\n",
    "print(C_0_GE)\n",
    "\n",
    "VMC_put_GE = np.mean(put_payoff_maturity_GE)\n",
    "P_0_GE = VMC_put_GE*np.exp(-r*days_test/365)\n",
    "print(P_0_GE)"
   ],
   "metadata": {
    "collapsed": false,
    "pycharm": {
     "name": "#%%\n"
    }
   }
  },
  {
   "cell_type": "markdown",
   "source": [
    "Recap Results: Market Prices, Black-Scholes formulas, Black-Scholes Monte-Carlo"
   ],
   "metadata": {
    "collapsed": false,
    "pycharm": {
     "name": "#%% md\n"
    }
   }
  },
  {
   "cell_type": "code",
   "execution_count": 195,
   "outputs": [
    {
     "name": "stdout",
     "output_type": "stream",
     "text": [
      "CSCO Call prices:\n",
      "CSCO Market call:      strike  lastPrice  impliedVolatility\n",
      "28    47.5       0.03           0.250007\n",
      "CSCO Black-Scholes call with implied volatility:  0.00039417420238493234\n",
      "CSCO Black-Scholes call with historical volatility:  0.015863384416788695\n",
      "EU CSCO call with MC estimation:  0.015277778526255009\n",
      "\n",
      "CSCO Put prices:\n",
      "CSCO Market put:      strike  lastPrice  impliedVolatility\n",
      "28    47.5       3.95            0.00001\n",
      "CSCO Black-Scholes put with implied volatility:  4.081622706485092\n",
      "CSCO Black-Scholes put with historical volatility:  4.0974860909018815\n",
      "EU CSCO put with MC estimation:  4.085823553096805\n"
     ]
    }
   ],
   "source": [
    "# Market Prices\n",
    "market_call_CSCO = df_market_call_csco.loc[df_market_call_csco['strike']==K_CSCO]\n",
    "market_put_CSCO = df_market_put_cisco.loc[df_market_put_cisco['strike']==K_CSCO]\n",
    "\n",
    "print(\"CSCO Call prices:\")\n",
    "print(\"CSCO Market call: \", market_call_CSCO)\n",
    "print(\"CSCO Black-Scholes call with implied volatility: \", call_bs_CSCO_implied_vol)\n",
    "print(\"CSCO Black-Scholes call with historical volatility: \", call_bs_CSCO)\n",
    "print(\"EU CSCO call with MC estimation: \", C_0_CSCO)\n",
    "print()\n",
    "print(\"CSCO Put prices:\")\n",
    "print(\"CSCO Market put: \", market_put_CSCO)\n",
    "print(\"CSCO Black-Scholes put with implied volatility: \", put_bs_CSCO_implied_vol)\n",
    "print(\"CSCO Black-Scholes put with historical volatility: \", put_bs_CSCO)\n",
    "print(\"EU CSCO put with MC estimation: \", P_0_CSCO)\n"
   ],
   "metadata": {
    "collapsed": false,
    "pycharm": {
     "name": "#%%\n"
    }
   }
  },
  {
   "cell_type": "code",
   "execution_count": 189,
   "outputs": [
    {
     "name": "stdout",
     "output_type": "stream",
     "text": [
      "GE Call prices:\n",
      "GE Market call:      strike  lastPrice  impliedVolatility\n",
      "22    72.0        1.4            0.03126\n",
      "GE Black-Scholes call with implied volatility:  0.04327417837966152\n",
      "GE Black-Scholes call with historical volatility:  1.4882881783002162\n",
      "EU GE call with MC estimation:  1.495734989510559\n",
      "\n",
      "GE Put prices:\n",
      "GE Market put:      strike  lastPrice  impliedVolatility\n",
      "20    72.0        2.0            0.00001\n",
      "GE Black-Scholes call with implied volatility:  0.16190568559810004\n",
      "GE Black-Scholes put with historical volatility:  1.6501938638983091\n",
      "EU GE put with MC estimation:  1.6615070213215068\n"
     ]
    }
   ],
   "source": [
    "market_call_ge = df_market_call_ge.loc[df_market_call_ge['strike']==K_GE]\n",
    "market_put_ge = df_market_put_ge.loc[df_market_put_ge['strike']==K_GE]\n",
    "\n",
    "print(\"GE Call prices:\")\n",
    "print(\"GE Market call: \", market_call_ge)\n",
    "print(\"GE Black-Scholes call with implied volatility: \", call_bs_GE_implied_vol)\n",
    "print(\"GE Black-Scholes call with historical volatility: \", call_bs_GE)\n",
    "print(\"EU GE call with MC estimation: \", C_0_GE)\n",
    "print()\n",
    "print(\"GE Put prices:\")\n",
    "print(\"GE Market put: \", market_put_ge)\n",
    "print(\"GE Black-Scholes call with implied volatility: \", put_bs_GE_implied_vol)\n",
    "print(\"GE Black-Scholes put with historical volatility: \", put_bs_GE)\n",
    "print(\"EU GE put with MC estimation: \", P_0_GE)"
   ],
   "metadata": {
    "collapsed": false,
    "pycharm": {
     "name": "#%%\n"
    }
   }
  },
  {
   "cell_type": "code",
   "execution_count": 189,
   "outputs": [],
   "source": [],
   "metadata": {
    "collapsed": false,
    "pycharm": {
     "name": "#%%\n"
    }
   }
  },
  {
   "cell_type": "code",
   "execution_count": 189,
   "outputs": [],
   "source": [],
   "metadata": {
    "collapsed": false,
    "pycharm": {
     "name": "#%%\n"
    }
   }
  },
  {
   "cell_type": "code",
   "execution_count": 189,
   "outputs": [],
   "source": [],
   "metadata": {
    "collapsed": false,
    "pycharm": {
     "name": "#%%\n"
    }
   }
  }
 ],
 "metadata": {
  "kernelspec": {
   "display_name": "Python 3",
   "language": "python",
   "name": "python3"
  },
  "language_info": {
   "codemirror_mode": {
    "name": "ipython",
    "version": 2
   },
   "file_extension": ".py",
   "mimetype": "text/x-python",
   "name": "python",
   "nbconvert_exporter": "python",
   "pygments_lexer": "ipython2",
   "version": "2.7.6"
  }
 },
 "nbformat": 4,
 "nbformat_minor": 0
}