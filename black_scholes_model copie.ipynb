{
 "cells": [
  {
   "cell_type": "code",
   "execution_count": 20,
   "outputs": [],
   "source": [
    "import pandas as pd\n",
    "import csv\n",
    "import numpy as np\n",
    "import matplotlib.pyplot as plt\n",
    "from math import log, sqrt, pi, exp\n",
    "\n",
    "#from pandas_datareader import data\n",
    "from statsmodels.tsa import stattools\n",
    "from statsmodels.tsa import arima_model\n",
    "from statsmodels.graphics import gofplots\n",
    "from statsmodels.regression import linear_model\n",
    "\n",
    "from scipy import stats\n",
    "import scipy.integrate\n",
    "import scipy.special\n",
    "# from arch.unitroot import PhillipsPerron\n",
    "import yfinance as yf\n",
    "from sklearn.linear_model import LinearRegression\n",
    "\n",
    "import os\n",
    "import matplotlib.pyplot as plt  # for plotting\n",
    "from statsmodels.regression import linear_model\n",
    "\n",
    "import matplotlib.pylab as pylab\n",
    "params = {'legend.fontsize': 'x-large',\n",
    "          'figure.figsize': (15, 5),\n",
    "         'axes.labelsize': 'x-large',\n",
    "         'axes.titlesize':'x-large',\n",
    "         'xtick.labelsize':'x-large',\n",
    "         'ytick.labelsize':'x-large'}\n",
    "pylab.rcParams.update(params)\n",
    "import statistics\n",
    "import scipy.stats as si\n",
    "from scipy.stats import norm"
   ],
   "metadata": {
    "collapsed": false,
    "pycharm": {
     "name": "#%%\n"
    }
   }
  },
  {
   "cell_type": "markdown",
   "source": [
    "Data Download"
   ],
   "metadata": {
    "collapsed": false,
    "pycharm": {
     "name": "#%% md\n"
    }
   }
  },
  {
   "cell_type": "code",
   "execution_count": 21,
   "outputs": [
    {
     "name": "stdout",
     "output_type": "stream",
     "text": [
      "[*********************100%***********************]  3 of 3 completed\n",
      "            Adj Close                             Close             \\\n",
      "                  BAC       CSCO          GE        BAC       CSCO   \n",
      "Date                                                                 \n",
      "2021-08-31  40.901459  57.367809  105.016113  41.750000  59.020000   \n",
      "2021-09-01  40.352840  57.387249  103.272652  41.189999  59.040001   \n",
      "2021-09-02  40.392227  57.863529  105.862938  41.020000  59.529999   \n",
      "2021-09-03  40.421772  57.756607  104.358582  41.049999  59.419998   \n",
      "2021-09-07  40.687637  57.231728  102.904037  41.320000  58.880001   \n",
      "...               ...        ...         ...        ...        ...   \n",
      "2022-06-27  32.349998  43.379562   66.709999  32.349998  43.770000   \n",
      "2022-06-28  32.259998  42.675900   65.879997  32.259998  43.060001   \n",
      "2022-06-29  31.860001  42.497501   63.689999  31.860001  42.880001   \n",
      "2022-06-30  31.129999  42.259644   63.669998  31.129999  42.639999   \n",
      "2022-07-01  31.559999  42.219997   63.540001  31.559999  42.599998   \n",
      "\n",
      "                             High                               Low  \\\n",
      "                    GE        BAC       CSCO          GE        BAC   \n",
      "Date                                                                  \n",
      "2021-08-31  105.410004  42.070000  59.180000  106.360001  41.360001   \n",
      "2021-09-01  103.660004  41.779999  59.139999  105.470001  41.029999   \n",
      "2021-09-02  106.260002  41.490002  59.720001  106.339996  40.639999   \n",
      "2021-09-03  104.750000  41.189999  59.660000  107.360001  40.680000   \n",
      "2021-09-07  103.290001  41.849998  59.369999  104.940002  41.180000   \n",
      "...                ...        ...        ...         ...        ...   \n",
      "2022-06-27   66.709999  32.599998  44.290001   67.900002  31.910000   \n",
      "2022-06-28   65.879997  33.500000  44.470001   68.449997  32.189999   \n",
      "2022-06-29   63.689999  32.439999  43.259998   66.000000  31.660000   \n",
      "2022-06-30   63.669998  31.549999  43.139999   63.759998  30.639999   \n",
      "2022-07-01   63.540001  31.670000  42.700001   64.540001  30.629999   \n",
      "\n",
      "                                        Open                           Volume  \\\n",
      "                 CSCO          GE        BAC       CSCO          GE       BAC   \n",
      "Date                                                                            \n",
      "2021-08-31  58.580002  104.459999  41.669998  59.110001  104.940002  54654600   \n",
      "2021-09-01  58.660000  103.260002  41.750000  59.020000  105.360001  52361900   \n",
      "2021-09-02  59.060001  103.980003  41.110001  59.349998  104.000000  44538900   \n",
      "2021-09-03  59.279999  104.080002  41.020000  59.330002  106.000000  41812400   \n",
      "2021-09-07  58.750000  102.309998  41.250000  59.240002  104.500000  43748600   \n",
      "...               ...         ...        ...        ...         ...       ...   \n",
      "2022-06-27  43.630001   66.139999  32.419998  44.290001   67.470001  47900300   \n",
      "2022-06-28  42.990002   65.360001  32.830002  43.910000   67.449997  49863800   \n",
      "2022-06-29  42.689999   63.279999  32.230000  43.139999   65.730003  35149700   \n",
      "2022-06-30  42.189999   61.759998  31.170000  42.369999   62.549999  46312300   \n",
      "2022-07-01  41.570000   62.209999  30.980000  42.520000   63.490002  40236100   \n",
      "\n",
      "                                \n",
      "                CSCO        GE  \n",
      "Date                            \n",
      "2021-08-31  19873900  10990800  \n",
      "2021-09-01  11629700   7968100  \n",
      "2021-09-02  12855700   8493700  \n",
      "2021-09-03   9732200   7616900  \n",
      "2021-09-07  15503600  10989500  \n",
      "...              ...       ...  \n",
      "2022-06-27  22755300   6798300  \n",
      "2022-06-28  20091300   7048700  \n",
      "2022-06-29  13450800   6908200  \n",
      "2022-06-30  24947900   8701900  \n",
      "2022-07-01  24337600   6851600  \n",
      "\n",
      "[211 rows x 18 columns]\n"
     ]
    }
   ],
   "source": [
    "tickers = [\"CSCO\",\"BAC\",\"GE\"]\n",
    "#downoad the prices and volumes for the previously read list of tickers\n",
    "start_date = '2021-09-01'\n",
    "end_date = '2022-07-05'\n",
    "stock_data = yf.download(tickers, start=start_date, end=end_date)\n",
    "print(stock_data)"
   ],
   "metadata": {
    "collapsed": false,
    "pycharm": {
     "name": "#%%\n"
    }
   }
  },
  {
   "cell_type": "markdown",
   "source": [
    "Get Dividend yields of each stock"
   ],
   "metadata": {
    "collapsed": false,
    "pycharm": {
     "name": "#%% md\n"
    }
   }
  },
  {
   "cell_type": "code",
   "execution_count": 22,
   "outputs": [
    {
     "name": "stdout",
     "output_type": "stream",
     "text": [
      "0.0152\n",
      "0.0032\n",
      "0.0088\n"
     ]
    }
   ],
   "source": [
    "# Dividend Rates\n",
    "csco = yf.Ticker(\"csco\")\n",
    "a_csco = csco.info['dividendRate']\n",
    "a_csco = a_csco/100\n",
    "print(a_csco)\n",
    "\n",
    "ge = yf.Ticker(\"ge\")\n",
    "a_ge = ge.info['dividendRate']\n",
    "a_ge = a_ge/100\n",
    "print(a_ge)\n",
    "\n",
    "bac = yf.Ticker(\"bac\")\n",
    "a_bac = bac.info['dividendRate']\n",
    "a_bac = a_bac/100\n",
    "print(a_bac)"
   ],
   "metadata": {
    "collapsed": false,
    "pycharm": {
     "name": "#%%\n"
    }
   }
  },
  {
   "cell_type": "markdown",
   "source": [
    "Get historical volatility of each stock\n"
   ],
   "metadata": {
    "collapsed": false,
    "pycharm": {
     "name": "#%% md\n"
    }
   }
  },
  {
   "cell_type": "code",
   "execution_count": 23,
   "outputs": [
    {
     "name": "stdout",
     "output_type": "stream",
     "text": [
      "          CSCO        BAC          GE\n",
      "0    40.901459  57.367809  105.016113\n",
      "1    40.352840  57.387249  103.272652\n",
      "2    40.392227  57.863529  105.862938\n",
      "3    40.421772  57.756607  104.358582\n",
      "4    40.687637  57.231728  102.904037\n",
      "..         ...        ...         ...\n",
      "206  32.349998  43.379562   66.709999\n",
      "207  32.259998  42.675900   65.879997\n",
      "208  31.860001  42.497501   63.689999\n",
      "209  31.129999  42.259644   63.669998\n",
      "210  31.559999  42.219997   63.540001\n",
      "\n",
      "[211 rows x 3 columns]\n",
      "         CSCO       BAC        GE\n",
      "0   -0.013413  0.000339 -0.016602\n",
      "1    0.000976  0.008299  0.025082\n",
      "2    0.000731 -0.001848 -0.014210\n",
      "3    0.006577 -0.009088 -0.013938\n",
      "4   -0.013069 -0.003397 -0.006874\n",
      "..        ...       ...       ...\n",
      "205  0.001238 -0.007483 -0.004328\n",
      "206 -0.002782 -0.016221 -0.012442\n",
      "207 -0.012399 -0.004180 -0.033242\n",
      "208 -0.022913 -0.005597 -0.000314\n",
      "209  0.013813 -0.000938 -0.002042\n",
      "\n",
      "[210 rows x 3 columns]\n",
      "0.3021531587319269\n",
      "0.28364093175926774\n",
      "0.3393240018066703\n"
     ]
    }
   ],
   "source": [
    "# Working on statistics\n",
    "price = stock_data['Adj Close'].values\n",
    "days = price.shape[0]\n",
    "ret = price[1:]/price[:-1] - 1\n",
    "#print(ret)\n",
    "\n",
    "price_tab = np.array([])\n",
    "ret_tab = np.array([])\n",
    "for i in range(len(price)):\n",
    "    price_tab = np.append(price_tab, price[i])\n",
    "for i in range(len(ret)):\n",
    "    ret_tab = np.append(ret_tab, ret[i])\n",
    "\n",
    "price_tab = price_tab.reshape(days,3)\n",
    "ret_tab = ret_tab.reshape(days-1,3)\n",
    "\n",
    "df_price = pd.DataFrame(price_tab)\n",
    "df_price.columns =['CSCO', 'BAC','GE']\n",
    "df_ret = pd.DataFrame(ret_tab)\n",
    "df_ret.columns=['CSCO', 'BAC','GE']\n",
    "# Print prices\n",
    "print(df_price)\n",
    "#print(df_price.iloc[:,0])\n",
    "#Print returns\n",
    "print(df_ret)\n",
    "\n",
    "hist_std_csco = np.std(df_ret[\"CSCO\"])*np.sqrt(250)\n",
    "hist_std_bac = np.std(df_ret[\"BAC\"])*np.sqrt(250)\n",
    "hist_std_ge = np.std(df_ret[\"GE\"])*np.sqrt(250)\n",
    "\n",
    "# Historical volatility\n",
    "print(hist_std_csco)\n",
    "print(hist_std_bac)\n",
    "print(hist_std_ge)"
   ],
   "metadata": {
    "collapsed": false,
    "pycharm": {
     "name": "#%%\n"
    }
   }
  },
  {
   "cell_type": "markdown",
   "source": [
    "\n",
    "Yahoo Finance Quotes: Call + Put options\n"
   ],
   "metadata": {
    "collapsed": false,
    "pycharm": {
     "name": "#%% md\n"
    }
   }
  },
  {
   "cell_type": "code",
   "source": [
    "# Getting Call/Put options: Market Prices\n",
    "opt_csco = csco.option_chain(date='2023-01-20')\n",
    "options_cisco = opt_csco\n",
    "print(options_cisco)\n",
    "\n",
    "opt_bac = bac.option_chain(date='2023-01-20')\n",
    "options_bac = opt_bac\n",
    "\n",
    "opt_ge = ge.option_chain(date='2023-01-20')\n",
    "options_ge = opt_ge"
   ],
   "metadata": {
    "collapsed": false,
    "pycharm": {
     "name": "#%%\n"
    }
   },
   "execution_count": 24,
   "outputs": [
    {
     "name": "stdout",
     "output_type": "stream",
     "text": [
      "Options(calls=         contractSymbol             lastTradeDate  strike  lastPrice  bid  \\\n",
      "0   CSCO230120C00020000 2022-08-02 17:21:39+00:00    20.0      25.45  0.0   \n",
      "1   CSCO230120C00023000 2022-08-02 17:21:39+00:00    23.0      22.52  0.0   \n",
      "2   CSCO230120C00025000 2022-07-08 16:21:04+00:00    25.0      18.60  0.0   \n",
      "3   CSCO230120C00028000 2022-07-05 17:47:34+00:00    28.0      13.85  0.0   \n",
      "4   CSCO230120C00030000 2022-08-03 19:05:46+00:00    30.0      16.06  0.0   \n",
      "5   CSCO230120C00033000 2022-07-14 14:41:43+00:00    33.0       9.90  0.0   \n",
      "6   CSCO230120C00035000 2022-08-03 15:47:31+00:00    35.0      11.37  0.0   \n",
      "7   CSCO230120C00037000 2022-08-03 14:16:18+00:00    37.0       9.18  0.0   \n",
      "8   CSCO230120C00040000 2022-08-03 14:16:18+00:00    40.0       6.78  0.0   \n",
      "9   CSCO230120C00042000 2022-08-03 17:01:27+00:00    42.0       5.80  0.0   \n",
      "10  CSCO230120C00045000 2022-08-03 19:59:52+00:00    45.0       3.95  0.0   \n",
      "11  CSCO230120C00047000 2022-08-03 19:53:34+00:00    47.0       2.93  0.0   \n",
      "12  CSCO230120C00050000 2022-08-03 19:58:56+00:00    50.0       1.67  0.0   \n",
      "13  CSCO230120C00052500 2022-08-03 19:34:21+00:00    52.5       1.03  0.0   \n",
      "14  CSCO230120C00055000 2022-08-03 19:50:03+00:00    55.0       0.57  0.0   \n",
      "15  CSCO230120C00057500 2022-08-03 19:35:59+00:00    57.5       0.33  0.0   \n",
      "16  CSCO230120C00060000 2022-08-03 19:18:59+00:00    60.0       0.18  0.0   \n",
      "17  CSCO230120C00062500 2022-08-03 17:31:21+00:00    62.5       0.11  0.0   \n",
      "18  CSCO230120C00065000 2022-08-03 16:04:02+00:00    65.0       0.08  0.0   \n",
      "19  CSCO230120C00067500 2022-08-01 13:34:22+00:00    67.5       0.05  0.0   \n",
      "20  CSCO230120C00070000 2022-08-03 13:44:03+00:00    70.0       0.03  0.0   \n",
      "21  CSCO230120C00072500 2022-07-29 13:44:50+00:00    72.5       0.02  0.0   \n",
      "22  CSCO230120C00075000 2022-08-02 13:30:09+00:00    75.0       0.01  0.0   \n",
      "23  CSCO230120C00080000 2022-07-20 15:46:38+00:00    80.0       0.01  0.0   \n",
      "24  CSCO230120C00085000 2022-07-14 14:25:31+00:00    85.0       0.02  0.0   \n",
      "25  CSCO230120C00090000 2022-08-03 17:40:49+00:00    90.0       0.01  0.0   \n",
      "26  CSCO230120C00095000 2022-06-16 16:41:40+00:00    95.0       0.01  0.0   \n",
      "\n",
      "     ask  change  percentChange  volume  openInterest  impliedVolatility  \\\n",
      "0   0.00     0.0            0.0       1             0           0.000010   \n",
      "1   0.00     0.0            0.0       1             0           0.000010   \n",
      "2   0.00     0.0            0.0       2             0           0.000010   \n",
      "3   0.00     0.0            0.0      13             0           0.000010   \n",
      "4   0.00     0.0            0.0       1             0           0.000010   \n",
      "5   0.00     0.0            0.0       2             0           0.000010   \n",
      "6   0.00     0.0            0.0       6             0           0.000010   \n",
      "7   0.00     0.0            0.0       2             0           0.000010   \n",
      "8   0.00     0.0            0.0       2             0           0.000010   \n",
      "9   0.00     0.0            0.0     150             0           0.000010   \n",
      "10  0.00     0.0            0.0      34             0           0.000010   \n",
      "11  0.00     0.0            0.0    1197             0           0.015635   \n",
      "12  0.00     0.0            0.0     415             0           0.031260   \n",
      "13  0.00     0.0            0.0      30             0           0.062509   \n",
      "14  0.00     0.0            0.0     159             0           0.062509   \n",
      "15  0.00     0.0            0.0      20             0           0.062509   \n",
      "16  0.00     0.0            0.0       2             0           0.125009   \n",
      "17  0.00     0.0            0.0     218             0           0.125009   \n",
      "18  0.00     0.0            0.0       5             0           0.125009   \n",
      "19  0.00     0.0            0.0       1             0           0.125009   \n",
      "20  0.00     0.0            0.0      40             0           0.125009   \n",
      "21  0.00     0.0            0.0      13             0           0.125009   \n",
      "22  0.00     0.0            0.0       1             0           0.125009   \n",
      "23  0.00     0.0            0.0       3             0           0.125009   \n",
      "24  0.00     0.0            0.0      10             0           0.250007   \n",
      "25  0.00     0.0            0.0       1             0           0.250007   \n",
      "26  0.03     0.0            0.0      10          1077           0.417975   \n",
      "\n",
      "    inTheMoney contractSize currency  \n",
      "0         True      REGULAR      USD  \n",
      "1         True      REGULAR      USD  \n",
      "2         True      REGULAR      USD  \n",
      "3         True      REGULAR      USD  \n",
      "4         True      REGULAR      USD  \n",
      "5         True      REGULAR      USD  \n",
      "6         True      REGULAR      USD  \n",
      "7         True      REGULAR      USD  \n",
      "8         True      REGULAR      USD  \n",
      "9         True      REGULAR      USD  \n",
      "10        True      REGULAR      USD  \n",
      "11       False      REGULAR      USD  \n",
      "12       False      REGULAR      USD  \n",
      "13       False      REGULAR      USD  \n",
      "14       False      REGULAR      USD  \n",
      "15       False      REGULAR      USD  \n",
      "16       False      REGULAR      USD  \n",
      "17       False      REGULAR      USD  \n",
      "18       False      REGULAR      USD  \n",
      "19       False      REGULAR      USD  \n",
      "20       False      REGULAR      USD  \n",
      "21       False      REGULAR      USD  \n",
      "22       False      REGULAR      USD  \n",
      "23       False      REGULAR      USD  \n",
      "24       False      REGULAR      USD  \n",
      "25       False      REGULAR      USD  \n",
      "26       False      REGULAR      USD  , puts=         contractSymbol             lastTradeDate  strike  lastPrice    bid  \\\n",
      "0   CSCO230120P00020000 2022-08-03 15:17:12+00:00    20.0       0.06   0.00   \n",
      "1   CSCO230120P00023000 2022-08-01 14:50:46+00:00    23.0       0.09   0.00   \n",
      "2   CSCO230120P00025000 2022-08-01 13:30:07+00:00    25.0       0.19   0.00   \n",
      "3   CSCO230120P00028000 2022-08-01 18:44:17+00:00    28.0       0.27   0.00   \n",
      "4   CSCO230120P00030000 2022-08-03 13:30:49+00:00    30.0       0.41   0.00   \n",
      "5   CSCO230120P00033000 2022-08-03 15:29:59+00:00    33.0       0.59   0.00   \n",
      "6   CSCO230120P00035000 2022-08-03 19:56:16+00:00    35.0       0.77   0.00   \n",
      "7   CSCO230120P00037000 2022-08-03 19:50:56+00:00    37.0       1.03   0.00   \n",
      "8   CSCO230120P00040000 2022-08-03 17:17:48+00:00    40.0       1.62   0.00   \n",
      "9   CSCO230120P00042000 2022-08-03 19:58:01+00:00    42.0       2.12   0.00   \n",
      "10  CSCO230120P00045000 2022-08-03 14:54:37+00:00    45.0       3.47   0.00   \n",
      "11  CSCO230120P00047000 2022-08-03 16:27:14+00:00    47.0       4.21   0.00   \n",
      "12  CSCO230120P00050000 2022-08-03 19:32:02+00:00    50.0       6.00   0.00   \n",
      "13  CSCO230120P00052500 2022-08-02 19:20:09+00:00    52.5       8.35   0.00   \n",
      "14  CSCO230120P00055000 2022-08-02 19:20:09+00:00    55.0      10.49   0.00   \n",
      "15  CSCO230120P00057500 2022-07-25 16:28:00+00:00    57.5      13.35   0.00   \n",
      "16  CSCO230120P00060000 2022-07-27 14:16:27+00:00    60.0      16.12   0.00   \n",
      "17  CSCO230120P00062500 2022-08-03 17:31:21+00:00    62.5      16.92   0.00   \n",
      "18  CSCO230120P00065000 2022-08-03 13:53:59+00:00    65.0      20.17   0.00   \n",
      "19  CSCO230120P00067500 2022-04-11 19:18:53+00:00    67.5      15.30  19.15   \n",
      "20  CSCO230120P00070000 2022-07-13 13:30:00+00:00    70.0      28.10   0.00   \n",
      "21  CSCO230120P00072500 2022-04-13 16:25:09+00:00    72.5      20.95  23.65   \n",
      "22  CSCO230120P00075000 2022-07-11 13:52:54+00:00    75.0      31.73   0.00   \n",
      "23  CSCO230120P00080000 2022-05-19 14:10:08+00:00    80.0      37.95  36.70   \n",
      "24  CSCO230120P00085000 2022-07-05 16:52:58+00:00    85.0      43.79   0.00   \n",
      "25  CSCO230120P00095000 2022-08-03 17:05:29+00:00    95.0      49.35   0.00   \n",
      "\n",
      "      ask  change  percentChange  volume  openInterest  impliedVolatility  \\\n",
      "0    0.00     0.0            0.0     500             0           0.250007   \n",
      "1    0.00     0.0            0.0       1             0           0.250007   \n",
      "2    0.00     0.0            0.0       1             0           0.250007   \n",
      "3    0.00     0.0            0.0      11             0           0.125009   \n",
      "4    0.00     0.0            0.0      50             0           0.125009   \n",
      "5    0.00     0.0            0.0       1             0           0.125009   \n",
      "6    0.00     0.0            0.0       9             0           0.125009   \n",
      "7    0.00     0.0            0.0      48             0           0.062509   \n",
      "8    0.00     0.0            0.0    2856             0           0.062509   \n",
      "9    0.00     0.0            0.0     383             0           0.031260   \n",
      "10   0.00     0.0            0.0      62             0           0.007822   \n",
      "11   0.00     0.0            0.0       5             0           0.000010   \n",
      "12   0.00     0.0            0.0      58             0           0.000010   \n",
      "13   0.00     0.0            0.0       9             0           0.000010   \n",
      "14   0.00     0.0            0.0       2             0           0.000010   \n",
      "15   0.00     0.0            0.0       1             0           0.000010   \n",
      "16   0.00     0.0            0.0       2             0           0.000010   \n",
      "17   0.00     0.0            0.0     280             0           0.000010   \n",
      "18   0.00     0.0            0.0       2             0           0.000010   \n",
      "19  19.65     0.0            0.0       1            83           0.000010   \n",
      "20   0.00     0.0            0.0       1             0           0.000010   \n",
      "21  23.80     0.0            0.0       1            30           0.000010   \n",
      "22   0.00     0.0            0.0       1             0           0.000010   \n",
      "23  37.15     0.0            0.0       2           121           0.808352   \n",
      "24   0.00     0.0            0.0       2             0           0.000010   \n",
      "25   0.00     0.0            0.0      10             0           0.000010   \n",
      "\n",
      "    inTheMoney contractSize currency  \n",
      "0        False      REGULAR      USD  \n",
      "1        False      REGULAR      USD  \n",
      "2        False      REGULAR      USD  \n",
      "3        False      REGULAR      USD  \n",
      "4        False      REGULAR      USD  \n",
      "5        False      REGULAR      USD  \n",
      "6        False      REGULAR      USD  \n",
      "7        False      REGULAR      USD  \n",
      "8        False      REGULAR      USD  \n",
      "9        False      REGULAR      USD  \n",
      "10       False      REGULAR      USD  \n",
      "11        True      REGULAR      USD  \n",
      "12        True      REGULAR      USD  \n",
      "13        True      REGULAR      USD  \n",
      "14        True      REGULAR      USD  \n",
      "15        True      REGULAR      USD  \n",
      "16        True      REGULAR      USD  \n",
      "17        True      REGULAR      USD  \n",
      "18        True      REGULAR      USD  \n",
      "19        True      REGULAR      USD  \n",
      "20        True      REGULAR      USD  \n",
      "21        True      REGULAR      USD  \n",
      "22        True      REGULAR      USD  \n",
      "23        True      REGULAR      USD  \n",
      "24        True      REGULAR      USD  \n",
      "25        True      REGULAR      USD  )\n"
     ]
    }
   ]
  },
  {
   "cell_type": "code",
   "execution_count": 25,
   "outputs": [],
   "source": [
    "# Get Market Call Prices - CSCO\n",
    "strike_call_list_cisco = (options_cisco[0]['strike'])\n",
    "market_price_call_cisco = (options_cisco[0]['lastPrice'])\n",
    "market_implied_vol_call_cisco = (options_cisco[0]['impliedVolatility'])\n",
    "df_market_call_csco = pd.DataFrame({'strike':strike_call_list_cisco ,\n",
    "                   'lastPrice':market_price_call_cisco ,\n",
    "                   'impliedVolatility': market_implied_vol_call_cisco})\n",
    "#print(df_market_call)\n",
    "\n",
    "# Get Market Put Prices - CSCO\n",
    "strike_put_list_cisco = (options_cisco[1]['strike'])\n",
    "market_price_put_cisco = (options_cisco[1]['lastPrice'])\n",
    "market_implied_vol_put_cisco = (options_cisco[1]['impliedVolatility'])\n",
    "df_market_put_cisco = pd.DataFrame({'strike':strike_put_list_cisco ,\n",
    "                   'lastPrice':market_price_put_cisco ,\n",
    "                   'impliedVolatility': market_implied_vol_put_cisco})\n",
    "\n",
    "# Get Market Call Prices - GE\n",
    "strike_call_list_ge = (options_ge[0]['strike'])\n",
    "market_price_call_ge = (options_ge[0]['lastPrice'])\n",
    "market_implied_vol_call_ge = (options_ge[0]['impliedVolatility'])\n",
    "df_market_call_ge = pd.DataFrame({'strike':strike_call_list_ge ,\n",
    "                   'lastPrice':market_price_call_ge ,\n",
    "                   'impliedVolatility': market_implied_vol_call_ge})\n",
    "#print(df_market_call)\n",
    "\n",
    "# Get Market Put Prices - GE\n",
    "strike_put_list_ge = (options_ge[1]['strike'])\n",
    "market_price_put_ge = (options_ge[1]['lastPrice'])\n",
    "market_implied_vol_put_ge = (options_ge[1]['impliedVolatility'])\n",
    "df_market_put_ge = pd.DataFrame({'strike':strike_put_list_ge ,\n",
    "                   'lastPrice':market_price_put_ge ,\n",
    "                   'impliedVolatility': market_implied_vol_put_ge})\n",
    "\n",
    "#print(df_market_call_ge)"
   ],
   "metadata": {
    "collapsed": false,
    "pycharm": {
     "name": "#%%\n"
    }
   }
  },
  {
   "cell_type": "markdown",
   "source": [
    "Parameters: Black-Scholes"
   ],
   "metadata": {
    "collapsed": false,
    "pycharm": {
     "name": "#%% md\n"
    }
   }
  },
  {
   "cell_type": "code",
   "execution_count": 26,
   "outputs": [],
   "source": [
    "S_0_CSCO = 45.71            # stock price: CSCO\n",
    "S_0_GE = 74.74              # stock price: GE\n",
    "r = 2.43/100                # interest rate\n",
    "\n",
    "sigma_CSCO = hist_std_csco  # historical (std) volatility CSCO\n",
    "sigma_GE = hist_std_ge      # historical (std) volatility GE\n",
    "\n",
    "K_CSCO = 55                 # specific strike CSCO\n",
    "K_GE = 35                   # specific strike GE\n",
    "\n",
    "T = 123/250                 # 30 weeks: 150 trading days\n",
    "N = 10000                   # number of trajectories\n",
    "\n",
    "# Getting the quoted implied volatility: CSCO\n",
    "market_call_CSCO = df_market_call_csco.loc[df_market_call_csco['strike']==K_CSCO]\n",
    "implied_vol_CSCO_Call = (np.array(market_call_CSCO[\"impliedVolatility\"]))\n",
    "implied_vol_CSCO_Call = implied_vol_CSCO_Call[0]\n",
    "\n",
    "market_put_CSCO = df_market_put_cisco.loc[df_market_put_cisco['strike']==K_CSCO]\n",
    "implied_vol_CSCO_Put = (np.array(market_put_CSCO[\"impliedVolatility\"]))\n",
    "implied_vol_CSCO_Put = implied_vol_CSCO_Put[0]\n",
    "\n",
    "# Getting the quoted implied volatility: GE\n",
    "market_call_ge = df_market_call_ge.loc[df_market_call_ge['strike']==K_GE]\n",
    "implied_vol_ge_Call = (np.array(market_call_ge[\"impliedVolatility\"]))\n",
    "implied_vol_ge_Call = implied_vol_ge_Call[0]\n",
    "\n",
    "market_put_ge = df_market_put_ge.loc[df_market_put_ge['strike']==K_GE]\n",
    "implied_vol_ge_Put = (np.array(market_put_ge[\"impliedVolatility\"]))\n",
    "implied_vol_ge_Put = implied_vol_ge_Put[0]"
   ],
   "metadata": {
    "collapsed": false,
    "pycharm": {
     "name": "#%%\n"
    }
   }
  },
  {
   "cell_type": "markdown",
   "source": [
    "Black-Scholes-Merton: Options Prices"
   ],
   "metadata": {
    "collapsed": false,
    "pycharm": {
     "name": "#%% md\n"
    }
   }
  },
  {
   "cell_type": "code",
   "execution_count": 27,
   "outputs": [],
   "source": [
    "def black_scholes_merton_call_div(S, K, T, r, a, sigma):\n",
    "\n",
    "    #S: spot price\n",
    "    #K: strike price\n",
    "    #T: time to maturity\n",
    "    #r: interest rate\n",
    "    #a: dividend yield\n",
    "    #sigma: volatility of underlying asset\n",
    "\n",
    "    d1 = (np.log(S/K) + (r-a+0.5*sigma**2)*T) / (sigma*np.sqrt(T))\n",
    "    d2 = (np.log(S/K) + (r-a-0.5*sigma**2)*T) / (sigma*np.sqrt(T))\n",
    "    call = (S*np.exp(-a*T) * si.norm.cdf(d1, 0.0, 1.0) - K*np.exp(-r*T) * si.norm.cdf(d2, 0.0, 1.0))\n",
    "    return call\n",
    "\n",
    "\n",
    "def black_scholes_put_div(S, K, T, r, a, sigma):\n",
    "\n",
    "    d1_bs = (np.log(S/K) + (r-a+0.5*sigma**2)*T) / (sigma*np.sqrt(T))\n",
    "    d2_bs = (np.log(S/K) + (r-a-0.5*sigma**2)*T) / (sigma*np.sqrt(T))\n",
    "    put = (K*np.exp(-r*T) * si.norm.cdf(-d2_bs, 0.0, 1.0) - S*np.exp(-a*T) * si.norm.cdf(-d1_bs, 0.0, 1.0))\n",
    "    return put"
   ],
   "metadata": {
    "collapsed": false,
    "pycharm": {
     "name": "#%%\n"
    }
   }
  },
  {
   "cell_type": "markdown",
   "source": [
    "Testing Black-Scholes functions: with historical volatility & implied volatility quoted by Yahoo Finance"
   ],
   "metadata": {
    "collapsed": false,
    "pycharm": {
     "name": "#%% md\n"
    }
   }
  },
  {
   "cell_type": "code",
   "execution_count": 28,
   "outputs": [],
   "source": [
    "# Black-Scholes CSCO results\n",
    "call_bs_CSCO =  black_scholes_merton_call_div(S_0_CSCO, K_CSCO, T, r, a_csco, hist_std_csco)\n",
    "put_bs_CSCO =  black_scholes_put_div(S_0_CSCO, K_CSCO, T, r, a_csco, hist_std_csco)\n",
    "\n",
    "call_bs_CSCO_implied_vol =  black_scholes_merton_call_div(S_0_CSCO, K_CSCO, T, r, a_csco, implied_vol_CSCO_Call)\n",
    "put_bs_CSCO_implied_vol =  black_scholes_put_div(S_0_CSCO, K_CSCO, T, r, a_csco, implied_vol_CSCO_Put)\n",
    "\n",
    "# Black-Scholes GE results\n",
    "call_bs_GE =  black_scholes_merton_call_div(S_0_GE, K_GE, T, r, a_ge, hist_std_ge)\n",
    "put_bs_GE =  black_scholes_put_div(S_0_GE, K_GE, T, r, a_ge, hist_std_ge)\n",
    "\n",
    "call_bs_GE_implied_vol =  black_scholes_merton_call_div(S_0_GE, K_GE, T, r, a_ge, implied_vol_ge_Call)\n",
    "put_bs_GE_implied_vol =  black_scholes_put_div(S_0_GE, K_GE, T, r, a_ge, implied_vol_ge_Put)"
   ],
   "metadata": {
    "collapsed": false,
    "pycharm": {
     "name": "#%%\n"
    }
   }
  },
  {
   "cell_type": "markdown",
   "source": [
    "Black-Scholes-Merton: Greeks\n"
   ],
   "metadata": {
    "collapsed": false,
    "pycharm": {
     "name": "#%% md\n"
    }
   }
  },
  {
   "cell_type": "code",
   "execution_count": 29,
   "outputs": [],
   "source": [
    "def d1(S,K,T,r,a,sigma):\n",
    "    return(log(S/K)+(r-a+sigma**2/2.)*T)/(sigma*sqrt(T))\n",
    "\n",
    "def d2(S,K,T,r,a,sigma):\n",
    "    return d1(S,K,T,r,a,sigma)-sigma*sqrt(T)\n",
    "\n",
    "############## CALL OPTION ##############\n",
    "\n",
    "def call_delta(S,K,T,r,a,sigma):\n",
    "    return exp(-a*T)*norm.cdf(d1(S,K,T,r,a,sigma))\n",
    "\n",
    "def call_gamma(S,K,T,r,a,sigma):\n",
    "    return exp(-a*T)*norm.pdf(d1(S,K,T,r,a,sigma))/(S*sigma*sqrt(T))\n",
    "\n",
    "def call_vega(S,K,T,r,a,sigma):\n",
    "    return 0.01*exp(-a*T)*(S*norm.pdf(d1(S,K,T,r,a,sigma))*sqrt(T))\n",
    "\n",
    "############## PUT OPTION ##############\n",
    "\n",
    "def put_delta(S,K,T,r,a,sigma):\n",
    "    return -exp(-a*T)*norm.cdf(-d1(S,K,T,r,a,sigma))\n",
    "\n",
    "def put_gamma(S,K,T,r,a,sigma):\n",
    "    return exp(-a*T)*norm.pdf(d1(S,K,T,r,a,sigma))/(S*sigma*sqrt(T))\n",
    "\n",
    "def put_vega(S,K,T,r,a,sigma):\n",
    "    return 0.01*exp(-a*T)*(S*norm.pdf(d1(S,K,T,r,a,sigma))*sqrt(T))"
   ],
   "metadata": {
    "collapsed": false,
    "pycharm": {
     "name": "#%%\n"
    }
   }
  },
  {
   "cell_type": "markdown",
   "source": [
    "Greeks Testing: with historical volatility"
   ],
   "metadata": {
    "collapsed": false,
    "pycharm": {
     "name": "#%% md\n"
    }
   }
  },
  {
   "cell_type": "code",
   "execution_count": 30,
   "outputs": [
    {
     "name": "stdout",
     "output_type": "stream",
     "text": [
      "USING HISTORICAL VOLATILITY\n",
      "\n",
      "Delta CSCO:  0.2261731717730018\n",
      "Gamma CSCO:  0.030948195345625592\n",
      "Vega CSCO:  0.09612802366579115\n",
      "Delta GE:  -0.0004032009661610529\n",
      "Gamma GE:  8.183143411984329e-05\n",
      "Delta GE:  0.000763143188730415\n"
     ]
    }
   ],
   "source": [
    "# GREEKS\n",
    "print(\"USING HISTORICAL VOLATILITY\")\n",
    "print()\n",
    "# CSCO:\n",
    "delta_CSCO = call_delta(S_0_CSCO,K_CSCO,T,r,a_csco,hist_std_csco)\n",
    "print(\"Delta CSCO: \", delta_CSCO)\n",
    "gamma_CSCO = call_gamma(S_0_CSCO,K_CSCO,T,r,a_csco,hist_std_csco)\n",
    "print(\"Gamma CSCO: \", gamma_CSCO)\n",
    "vega_CSCO = call_vega(S_0_CSCO,K_CSCO,T,r,a_csco,hist_std_csco)\n",
    "print(\"Vega CSCO: \", vega_CSCO)\n",
    "\n",
    "# GE:\n",
    "delta_GE = put_delta(S_0_GE,K_GE,T,r,a_ge,hist_std_ge)\n",
    "print(\"Delta GE: \", delta_GE)\n",
    "gamma_GE = put_gamma(S_0_GE,K_GE,T,r,a_ge,hist_std_ge)\n",
    "print(\"Gamma GE: \", gamma_GE)\n",
    "vega_GE = put_vega(S_0_GE,K_GE,T,r,a_ge,hist_std_ge)\n",
    "print(\"Delta GE: \", vega_GE)"
   ],
   "metadata": {
    "collapsed": false,
    "pycharm": {
     "name": "#%%\n"
    }
   }
  },
  {
   "cell_type": "markdown",
   "source": [
    "Monte-Carlo Simulation\n"
   ],
   "metadata": {
    "collapsed": false,
    "pycharm": {
     "name": "#%% md\n"
    }
   }
  },
  {
   "cell_type": "code",
   "execution_count": 31,
   "outputs": [],
   "source": [
    "# Monte Carlo simulation: European Option\n",
    "\n",
    "call_payoff_maturity_CSCO = []\n",
    "put_payoff_maturity_CSCO = []\n",
    "call_payoff_maturity_GE = []\n",
    "put_payoff_maturity_GE = []\n",
    "\n",
    "\n",
    "days_test = 150 # 1 week = 5 trading days\n",
    "dt = 1/250\n",
    "\n",
    "S_CSCO = np.zeros((days_test+1, N))\n",
    "S_CSCO[0] = S_0_CSCO\n",
    "S_GE = np.zeros((days_test+1, N))\n",
    "S_GE[0] = S_0_GE\n",
    "\n",
    "for t in range(1, days_test+1):\n",
    "    Z_CSCO = np.random.normal(size=N)\n",
    "    Z_GE = np.random.normal(size=N)\n",
    "    S_CSCO[t] = S_CSCO[t-1]*np.exp((r-a_csco-0.5*sigma_CSCO**2)*dt+sigma_CSCO*np.sqrt(dt)*Z_CSCO)\n",
    "    S_GE[t] = S_GE[t-1]*np.exp((r-a_ge-0.5*sigma_GE**2)*dt+sigma_GE*np.sqrt(dt)*Z_GE)"
   ],
   "metadata": {
    "collapsed": false,
    "pycharm": {
     "name": "#%%\n"
    }
   }
  },
  {
   "cell_type": "markdown",
   "source": [
    "Valuation (European)"
   ],
   "metadata": {
    "collapsed": false,
    "pycharm": {
     "name": "#%% md\n"
    }
   }
  },
  {
   "cell_type": "code",
   "execution_count": 32,
   "outputs": [
    {
     "name": "stdout",
     "output_type": "stream",
     "text": [
      "1.4900859364401544\n",
      "10.259986184471934\n",
      "40.03872112995811\n",
      "0.005101575786933764\n"
     ]
    }
   ],
   "source": [
    "S_T_CSCO = S_CSCO[-1]\n",
    "S_T_GE = S_GE[-1]\n",
    "for i in range(len(S_T_CSCO)):\n",
    "    call_payoff_maturity_CSCO.append(max(S_T_CSCO[i]-K_CSCO,0))\n",
    "    put_payoff_maturity_CSCO.append(max(K_CSCO-S_T_CSCO[i],0))\n",
    "\n",
    "    call_payoff_maturity_GE.append(max(S_T_GE[i]-K_GE,0))\n",
    "    put_payoff_maturity_GE.append(max(K_GE-S_T_GE[i],0))\n",
    "\n",
    "# Price of CSCO options: expiry on Jan 20, 2023\n",
    "VMC_call_CSCO = np.mean(call_payoff_maturity_CSCO)\n",
    "C_0_CSCO = VMC_call_CSCO*np.exp(-r*days_test/250)\n",
    "print(C_0_CSCO)\n",
    "\n",
    "VMC_put_CSCO = np.mean(put_payoff_maturity_CSCO)\n",
    "P_0_CSCO = VMC_put_CSCO*np.exp(-r*days_test/250)\n",
    "print(P_0_CSCO)\n",
    "\n",
    "# Price of GE options: expiry on Jan 20, 2023\n",
    "VMC_call_GE = np.mean(call_payoff_maturity_GE)\n",
    "C_0_GE = VMC_call_GE*np.exp(-r*days_test/250)\n",
    "print(C_0_GE)\n",
    "\n",
    "VMC_put_GE = np.mean(put_payoff_maturity_GE)\n",
    "P_0_GE = VMC_put_GE*np.exp(-r*days_test/250)\n",
    "print(P_0_GE)"
   ],
   "metadata": {
    "collapsed": false,
    "pycharm": {
     "name": "#%%\n"
    }
   }
  },
  {
   "cell_type": "markdown",
   "source": [
    "Recap Results: Market Prices, Black-Scholes formulas, Black-Scholes Monte-Carlo"
   ],
   "metadata": {
    "collapsed": false,
    "pycharm": {
     "name": "#%% md\n"
    }
   }
  },
  {
   "cell_type": "code",
   "execution_count": 33,
   "outputs": [
    {
     "name": "stdout",
     "output_type": "stream",
     "text": [
      "CSCO Call prices:\n",
      "CSCO Market call:      strike  lastPrice  impliedVolatility\n",
      "14    55.0       0.57           0.062509\n",
      "CSCO Black-Scholes call with market implied volatility:  9.176986170431512e-06\n",
      "CSCO Black-Scholes call with historical volatility:  1.1496036161553072\n",
      "EU CSCO call with MC estimation:  1.4900859364401544\n"
     ]
    }
   ],
   "source": [
    "# Market Prices\n",
    "market_call_CSCO = df_market_call_csco.loc[df_market_call_csco['strike']==K_CSCO]\n",
    "market_put_CSCO = df_market_put_cisco.loc[df_market_put_cisco['strike']==K_CSCO]\n",
    "\n",
    "print(\"CSCO Call prices:\")\n",
    "print(\"CSCO Market call: \", market_call_CSCO)\n",
    "print(\"CSCO Black-Scholes call with market implied volatility: \", call_bs_CSCO_implied_vol)\n",
    "print(\"CSCO Black-Scholes call with historical volatility: \", call_bs_CSCO)\n",
    "print(\"EU CSCO call with MC estimation: \", C_0_CSCO)\n",
    "# print()\n",
    "# print(\"CSCO Put prices:\")\n",
    "# print(\"CSCO Market put: \", market_put_CSCO)\n",
    "# print(\"CSCO Black-Scholes put with implied volatility: \", put_bs_CSCO_implied_vol)\n",
    "# print(\"CSCO Black-Scholes put with historical volatility: \", put_bs_CSCO)\n",
    "# print(\"EU CSCO put with MC estimation: \", P_0_CSCO)\n"
   ],
   "metadata": {
    "collapsed": false,
    "pycharm": {
     "name": "#%%\n"
    }
   }
  },
  {
   "cell_type": "code",
   "execution_count": 34,
   "outputs": [
    {
     "name": "stdout",
     "output_type": "stream",
     "text": [
      "GE Put prices:\n",
      "GE Market put:      strike  lastPrice  impliedVolatility\n",
      "12    35.0       0.11           0.250007\n",
      "GE Black-Scholes put with market implied volatility:  1.0727877704844115e-05\n",
      "GE Black-Scholes put with historical volatility:  0.001982246583824468\n",
      "EU GE put with MC estimation:  0.005101575786933764\n"
     ]
    }
   ],
   "source": [
    "market_call_ge = df_market_call_ge.loc[df_market_call_ge['strike']==K_GE]\n",
    "market_put_ge = df_market_put_ge.loc[df_market_put_ge['strike']==K_GE]\n",
    "\n",
    "# print(\"GE Call prices:\")\n",
    "# print(\"GE Market call: \", market_call_ge)\n",
    "# print(\"GE Black-Scholes call with implied volatility: \", call_bs_GE_implied_vol)\n",
    "# print(\"GE Black-Scholes call with historical volatility: \", call_bs_GE)\n",
    "# print(\"EU GE call with MC estimation: \", C_0_GE)\n",
    "# print()\n",
    "print(\"GE Put prices:\")\n",
    "print(\"GE Market put: \", market_put_ge)\n",
    "print(\"GE Black-Scholes put with market implied volatility: \", put_bs_GE_implied_vol)\n",
    "print(\"GE Black-Scholes put with historical volatility: \", put_bs_GE)\n",
    "print(\"EU GE put with MC estimation: \", P_0_GE)"
   ],
   "metadata": {
    "collapsed": false,
    "pycharm": {
     "name": "#%%\n"
    }
   }
  },
  {
   "cell_type": "code",
   "execution_count": 35,
   "outputs": [],
   "source": [
    "# Build own implied volatility using Black-Scholes model\n",
    "\n",
    "def call_implied_volatility(Price, S, K, T, r, a):\n",
    "    implied_vol_bs = 0.001\n",
    "    while implied_vol_bs < 1:\n",
    "        Price_implied = S * exp(-a*T) * norm.cdf(d1(S, K, T, r, a, implied_vol_bs))-K*exp(-r*T) * \\\n",
    "            norm.cdf(d2(S, K, T, r, a, implied_vol_bs))\n",
    "        if Price- Price_implied < 0.001:\n",
    "            return implied_vol_bs\n",
    "        implied_vol_bs += 0.001\n",
    "    return \"Not Found\"\n",
    "\n",
    "def put_implied_volatility(Price, S, K, T, r, a):\n",
    "    implied_vol_bs = 0.001\n",
    "    while implied_vol_bs < 1:\n",
    "        Price_implied = K*exp(-r*T)-S*exp(-a*T)+black_scholes_merton_call_div(S, K, T, r, a, implied_vol_bs)\n",
    "        if Price- Price_implied < 0.001:\n",
    "            return implied_vol_bs\n",
    "        implied_vol_bs += 0.001\n",
    "    return \"Not Found\"\n"
   ],
   "metadata": {
    "collapsed": false,
    "pycharm": {
     "name": "#%%\n"
    }
   }
  },
  {
   "cell_type": "markdown",
   "source": [
    "\n",
    "Using quotes, we get implied volatilities using Black-Scholes model. Not always a quote for Put option GE, K=10. Therefore, we take at the money put option. In BSM, it is supposed to be constant for all the strikes across the same maturity: it justifies why it can be done but it emphasizes this limitation of BSM and its implied volatility assumption.\n"
   ],
   "metadata": {
    "collapsed": false,
    "pycharm": {
     "name": "#%% md\n"
    }
   }
  },
  {
   "cell_type": "code",
   "execution_count": 39,
   "outputs": [
    {
     "name": "stdout",
     "output_type": "stream",
     "text": [
      "BSM: Implied volatility CSCO, K=55:  0.23700000000000018\n",
      "BSM: Price using implied volatility CSCO, K=55:  0.5809453731902714\n",
      "BSM: At the money implied volatility GE:  0.4930000000000004\n",
      "BSM: At the money Price using implied volatility GE:  0.0792147761305596\n"
     ]
    }
   ],
   "source": [
    "# Implied volatility for Black-Scholes model\n",
    "K_at_the_money_CSCO = 55\n",
    "K_at_the_money_GE = 35\n",
    "\n",
    "implied_black_scholes_CSCO = call_implied_volatility(0.58, S_0_CSCO, K_CSCO, T, r, a_csco)\n",
    "bsm_call_CSCO_implied = black_scholes_merton_call_div(S_0_CSCO, K_CSCO, T, r, a_csco, implied_black_scholes_CSCO)\n",
    "print(\"BSM: Implied volatility CSCO, K=55: \", implied_black_scholes_CSCO)\n",
    "print(\"BSM: Price using implied volatility CSCO, K=55: \", bsm_call_CSCO_implied)\n",
    "\n",
    "implied_black_scholes_GE = put_implied_volatility(0.08, S_0_GE, K_at_the_money_GE, T, r, a_ge)\n",
    "bsm_put_GE_implied = black_scholes_put_div(S_0_GE, K_GE, T, r, a_ge, implied_black_scholes_GE)\n",
    "print(\"BSM: At the money implied volatility GE: \", implied_black_scholes_GE)\n",
    "print(\"BSM: At the money Price using implied volatility GE: \", bsm_put_GE_implied)"
   ],
   "metadata": {
    "collapsed": false,
    "pycharm": {
     "name": "#%%\n"
    }
   }
  },
  {
   "cell_type": "markdown",
   "source": [
    "\n",
    "Greeks with implied volatility estimated with Black-Scholes"
   ],
   "metadata": {
    "collapsed": false,
    "pycharm": {
     "name": "#%% md\n"
    }
   }
  },
  {
   "cell_type": "code",
   "execution_count": 37,
   "outputs": [
    {
     "name": "stdout",
     "output_type": "stream",
     "text": [
      "USING BLACK SCHOLES ESTIMATED IMPLIED VOLATILITY\n",
      "\n",
      "Delta CSCO:  0.14600873579029636\n",
      "Gamma CSCO:  0.03124752466072078\n",
      "Vega CSCO:  0.07323825900068458\n",
      "Delta GE:  -0.009021735304926764\n",
      "Gamma GE:  0.0009272161921726955\n",
      "Vega GE:  0.012767034232316638\n"
     ]
    }
   ],
   "source": [
    "# GREEKS\n",
    "print(\"USING BLACK SCHOLES ESTIMATED IMPLIED VOLATILITY\")\n",
    "print()\n",
    "# CSCO:\n",
    "delta_CSCO = call_delta(S_0_CSCO,K_CSCO,T,r,a_csco,implied_black_scholes_CSCO)\n",
    "print(\"Delta CSCO: \", delta_CSCO)\n",
    "gamma_CSCO = call_gamma(S_0_CSCO,K_CSCO,T,r,a_csco,implied_black_scholes_CSCO)\n",
    "print(\"Gamma CSCO: \", gamma_CSCO)\n",
    "vega_CSCO = call_vega(S_0_CSCO,K_CSCO,T,r,a_csco,implied_black_scholes_CSCO)\n",
    "print(\"Vega CSCO: \", vega_CSCO)\n",
    "\n",
    "# GE:\n",
    "delta_GE = put_delta(S_0_GE,K_GE,T,r,a_ge,implied_black_scholes_GE)\n",
    "print(\"Delta GE: \", delta_GE)\n",
    "gamma_GE = put_gamma(S_0_GE,K_GE,T,r,a_ge,implied_black_scholes_GE)\n",
    "print(\"Gamma GE: \", gamma_GE)\n",
    "vega_GE = put_vega(S_0_GE,K_GE,T,r,a_ge,implied_black_scholes_GE)\n",
    "print(\"Vega GE: \", vega_GE)"
   ],
   "metadata": {
    "collapsed": false,
    "pycharm": {
     "name": "#%%\n"
    }
   }
  },
  {
   "cell_type": "code",
   "execution_count": 38,
   "outputs": [
    {
     "name": "stdout",
     "output_type": "stream",
     "text": [
      "0.6900213861437541\n",
      "Delta CSCO:  0.17105345164313712\n",
      "Gamma CSCO:  0.031112128190984103\n",
      "Vega CSCO:  0.08123645839383506\n",
      "0.15086366120266437\n",
      "Delta GE:  -0.013413147575793882\n",
      "Gamma GE:  0.0012168753510361317\n",
      "Vega GE:  0.018026281515089858\n"
     ]
    }
   ],
   "source": [
    "# GREEKS WITH PARAMETERS FIXED FOR BLACK-SCHOLES USE IN THE FUTURE\n",
    "\n",
    "# CSCO:\n",
    "call_def = black_scholes_merton_call_div(S_0_CSCO, K_CSCO, T, 1.68/100, a_csco, 0.254)\n",
    "print(call_def)\n",
    "delta_CSCO = call_delta(S_0_CSCO,K_CSCO,T,1.68/100,a_csco,0.254)\n",
    "print(\"Delta CSCO: \", delta_CSCO)\n",
    "gamma_CSCO = call_gamma(S_0_CSCO,K_CSCO,T,1.68/100,a_csco,0.254)\n",
    "print(\"Gamma CSCO: \", gamma_CSCO)\n",
    "vega_CSCO = call_vega(S_0_CSCO,K_CSCO,T,1.68/100,a_csco,0.254)\n",
    "print(\"Vega CSCO: \", vega_CSCO)\n",
    "\n",
    "# GE:\n",
    "put_def = black_scholes_put_div(S_0_GE, K_GE, T, 1.68/100, a_ge, 0.539)\n",
    "print(put_def)\n",
    "delta_GE = put_delta(S_0_GE,K_GE,T,1.68/100,a_ge,0.539)\n",
    "print(\"Delta GE: \", delta_GE)\n",
    "gamma_GE = put_gamma(S_0_GE,K_GE,T,1.68/100,a_ge,0.539)\n",
    "print(\"Gamma GE: \", gamma_GE)\n",
    "vega_GE = put_vega(S_0_GE,K_GE,T,1.68/100,a_ge,0.539)\n",
    "print(\"Vega GE: \", vega_GE)"
   ],
   "metadata": {
    "collapsed": false,
    "pycharm": {
     "name": "#%%\n"
    }
   }
  },
  {
   "cell_type": "code",
   "execution_count": 38,
   "outputs": [],
   "source": [],
   "metadata": {
    "collapsed": false,
    "pycharm": {
     "name": "#%%\n"
    }
   }
  }
 ],
 "metadata": {
  "kernelspec": {
   "display_name": "Python 3",
   "language": "python",
   "name": "python3"
  },
  "language_info": {
   "codemirror_mode": {
    "name": "ipython",
    "version": 2
   },
   "file_extension": ".py",
   "mimetype": "text/x-python",
   "name": "python",
   "nbconvert_exporter": "python",
   "pygments_lexer": "ipython2",
   "version": "2.7.6"
  }
 },
 "nbformat": 4,
 "nbformat_minor": 0
}