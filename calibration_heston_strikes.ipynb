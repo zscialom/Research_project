{
 "cells": [
  {
   "cell_type": "code",
   "execution_count": 4,
   "metadata": {
    "collapsed": true
   },
   "outputs": [],
   "source": [
    "import matplotlib.pyplot as plt\n",
    "import numpy as np\n",
    "from math import log, sqrt, pi, exp\n",
    "import scipy.special\n",
    "import matplotlib.pylab as pylab\n",
    "\n",
    "\n",
    "params = {'legend.fontsize': 'x-large',\n",
    "          'figure.figsize': (15, 5),\n",
    "         'axes.labelsize': 'x-large',\n",
    "         'axes.titlesize':'x-large',\n",
    "         'xtick.labelsize':'x-large',\n",
    "         'ytick.labelsize':'x-large'}\n",
    "pylab.rcParams.update(params)\n",
    "from scipy.optimize import minimize\n",
    "import yfinance as yf\n",
    "import pandas as pd\n",
    "import matplotlib.pyplot as plt\n",
    "from scipy.optimize import dual_annealing"
   ]
  },
  {
   "cell_type": "code",
   "execution_count": 5,
   "outputs": [
    {
     "name": "stdout",
     "output_type": "stream",
     "text": [
      "[*********************100%***********************]  3 of 3 completed\n",
      "            Adj Close                             Close             \\\n",
      "                  BAC       CSCO          GE        BAC       CSCO   \n",
      "Date                                                                 \n",
      "2021-08-31  40.901459  57.367813  105.016121  41.750000  59.020000   \n",
      "2021-09-01  40.352840  57.387249  103.272659  41.189999  59.040001   \n",
      "2021-09-02  40.392227  57.863529  105.862938  41.020000  59.529999   \n",
      "2021-09-03  40.421772  57.756611  104.358574  41.049999  59.419998   \n",
      "2021-09-07  40.687637  57.231728  102.904037  41.320000  58.880001   \n",
      "...               ...        ...         ...        ...        ...   \n",
      "2022-06-03  36.189999  44.846363   76.878204  36.189999  45.250000   \n",
      "2022-06-06  36.150002  44.925648   76.908165  36.150002  45.330002   \n",
      "2022-06-07  36.349998  45.163506   77.906975  36.349998  45.570000   \n",
      "2022-06-08  35.889999  44.519302   77.067978  35.889999  44.919998   \n",
      "2022-06-09  34.509998  43.865192   74.690811  34.509998  44.259998   \n",
      "\n",
      "                             High                               Low  \\\n",
      "                    GE        BAC       CSCO          GE        BAC   \n",
      "Date                                                                  \n",
      "2021-08-31  105.410004  42.070000  59.180000  106.360001  41.360001   \n",
      "2021-09-01  103.660004  41.779999  59.139999  105.470001  41.029999   \n",
      "2021-09-02  106.260002  41.490002  59.720001  106.339996  40.639999   \n",
      "2021-09-03  104.750000  41.189999  59.660000  107.360001  40.680000   \n",
      "2021-09-07  103.290001  41.849998  59.369999  104.940002  41.180000   \n",
      "...                ...        ...        ...         ...        ...   \n",
      "2022-06-03   76.970001  36.680000  45.740002   77.150002  36.130001   \n",
      "2022-06-06   77.000000  37.209999  46.090000   78.290001  36.099998   \n",
      "2022-06-07   78.000000  36.410000  45.650002   78.150002  35.740002   \n",
      "2022-06-08   77.160004  36.110001  45.630001   78.279999  35.520000   \n",
      "2022-06-09   74.779999  35.840000  45.270000   77.050003  34.500000   \n",
      "\n",
      "                                        Open                           Volume  \\\n",
      "                 CSCO          GE        BAC       CSCO          GE       BAC   \n",
      "Date                                                                            \n",
      "2021-08-31  58.580002  104.459999  41.669998  59.110001  104.940002  54654600   \n",
      "2021-09-01  58.660000  103.260002  41.750000  59.020000  105.360001  52361900   \n",
      "2021-09-02  59.060001  103.980003  41.110001  59.349998  104.000000  44538900   \n",
      "2021-09-03  59.279999  104.080002  41.020000  59.330002  106.000000  41812400   \n",
      "2021-09-07  58.750000  102.309998  41.250000  59.240002  104.500000  43748600   \n",
      "...               ...         ...        ...        ...         ...       ...   \n",
      "2022-06-03  45.119999   75.669998  36.480000  45.549999   76.739998  25235200   \n",
      "2022-06-06  45.130001   76.769997  36.700001  45.599998   77.910004  40394000   \n",
      "2022-06-07  44.720001   76.169998  35.900002  44.820000   76.910004  29152200   \n",
      "2022-06-08  44.880001   76.519997  35.919998  45.450001   76.690002  33590600   \n",
      "2022-06-09  44.240002   74.750000  35.740002  44.830002   76.889999  49419000   \n",
      "\n",
      "                                \n",
      "                CSCO        GE  \n",
      "Date                            \n",
      "2021-08-31  19873900  10990800  \n",
      "2021-09-01  11629700   7968100  \n",
      "2021-09-02  12855700   8493700  \n",
      "2021-09-03   9732200   7616900  \n",
      "2021-09-07  15503600  10989500  \n",
      "...              ...       ...  \n",
      "2022-06-03  17947000   5272600  \n",
      "2022-06-06  12641900   4744100  \n",
      "2022-06-07  14667200   5125800  \n",
      "2022-06-08  16263800   3376000  \n",
      "2022-06-09  18417700   5055500  \n",
      "\n",
      "[196 rows x 18 columns]\n"
     ]
    }
   ],
   "source": [
    "tickers = [\"CSCO\",\"BAC\",\"GE\"]\n",
    "#download the prices and volumes for the previously read list of tickers\n",
    "start_date = '2021-09-01'\n",
    "end_date = '2022-06-10'\n",
    "stock_data = yf.download(tickers, start=start_date, end=end_date)\n",
    "print(stock_data)"
   ],
   "metadata": {
    "collapsed": false,
    "pycharm": {
     "name": "#%%\n"
    }
   }
  },
  {
   "cell_type": "code",
   "execution_count": 6,
   "outputs": [
    {
     "name": "stdout",
     "output_type": "stream",
     "text": [
      "Options(calls=         contractSymbol             lastTradeDate  strike  lastPrice  bid  \\\n",
      "0   CSCO220819C00025000 2022-07-12 14:00:07+00:00    25.0      18.50  0.0   \n",
      "1   CSCO220819C00030000 2022-07-18 19:36:59+00:00    30.0      12.65  0.0   \n",
      "2   CSCO220819C00032500 2022-06-28 18:15:07+00:00    32.5      10.85  0.0   \n",
      "3   CSCO220819C00034000 2022-07-18 16:00:43+00:00    34.0       9.40  0.0   \n",
      "4   CSCO220819C00035000 2022-07-25 18:45:01+00:00    35.0       9.50  0.0   \n",
      "5   CSCO220819C00037500 2022-07-15 16:08:48+00:00    37.5       5.70  0.0   \n",
      "6   CSCO220819C00038000 2022-07-21 14:18:25+00:00    38.0       6.65  0.0   \n",
      "7   CSCO220819C00038500 2022-07-20 17:57:09+00:00    38.5       5.65  0.0   \n",
      "8   CSCO220819C00039000 2022-07-26 13:38:56+00:00    39.0       5.70  0.0   \n",
      "9   CSCO220819C00039500 2022-07-21 14:20:35+00:00    39.5       5.30  0.0   \n",
      "10  CSCO220819C00040000 2022-07-26 19:59:14+00:00    40.0       4.47  0.0   \n",
      "11  CSCO220819C00040500 2022-07-21 17:35:40+00:00    40.5       4.60  0.0   \n",
      "12  CSCO220819C00041000 2022-07-19 13:51:22+00:00    41.0       3.15  0.0   \n",
      "13  CSCO220819C00041500 2022-07-26 18:09:23+00:00    41.5       3.40  0.0   \n",
      "14  CSCO220819C00042000 2022-07-26 18:34:06+00:00    42.0       2.96  0.0   \n",
      "15  CSCO220819C00042500 2022-07-26 19:59:14+00:00    42.5       2.58  0.0   \n",
      "16  CSCO220819C00043000 2022-07-26 19:46:25+00:00    43.0       2.31  0.0   \n",
      "17  CSCO220819C00043500 2022-07-26 19:56:25+00:00    43.5       1.99  0.0   \n",
      "18  CSCO220819C00044000 2022-07-26 19:25:36+00:00    44.0       1.69  0.0   \n",
      "19  CSCO220819C00044500 2022-07-26 19:57:33+00:00    44.5       1.43  0.0   \n",
      "20  CSCO220819C00045000 2022-07-26 19:56:03+00:00    45.0       1.21  0.0   \n",
      "21  CSCO220819C00045500 2022-07-26 18:54:24+00:00    45.5       1.01  0.0   \n",
      "22  CSCO220819C00046000 2022-07-26 19:56:16+00:00    46.0       0.80  0.0   \n",
      "23  CSCO220819C00046500 2022-07-26 17:38:03+00:00    46.5       0.71  0.0   \n",
      "24  CSCO220819C00047000 2022-07-26 19:06:58+00:00    47.0       0.49  0.0   \n",
      "25  CSCO220819C00047500 2022-07-26 19:04:01+00:00    47.5       0.40  0.0   \n",
      "26  CSCO220819C00048000 2022-07-26 19:47:19+00:00    48.0       0.30  0.0   \n",
      "27  CSCO220819C00048500 2022-07-25 18:17:18+00:00    48.5       0.28  0.0   \n",
      "28  CSCO220819C00049000 2022-07-25 18:17:21+00:00    49.0       0.21  0.0   \n",
      "29  CSCO220819C00050000 2022-07-26 17:39:49+00:00    50.0       0.10  0.0   \n",
      "30  CSCO220819C00051000 2022-07-25 18:07:47+00:00    51.0       0.06  0.0   \n",
      "31  CSCO220819C00052500 2022-07-26 17:24:22+00:00    52.5       0.03  0.0   \n",
      "32  CSCO220819C00055000 2022-07-25 18:37:20+00:00    55.0       0.02  0.0   \n",
      "\n",
      "    ask  change  percentChange  volume  openInterest  impliedVolatility  \\\n",
      "0   0.0     0.0            0.0     NaN             0           0.000010   \n",
      "1   0.0     0.0            0.0     NaN             0           0.000010   \n",
      "2   0.0     0.0            0.0     7.0             0           0.000010   \n",
      "3   0.0     0.0            0.0     NaN             0           0.000010   \n",
      "4   0.0     0.0            0.0   100.0             0           0.000010   \n",
      "5   0.0     0.0            0.0     5.0             0           0.000010   \n",
      "6   0.0     0.0            0.0     NaN             0           0.000010   \n",
      "7   0.0     0.0            0.0     NaN             0           0.000010   \n",
      "8   0.0     0.0            0.0     2.0             0           0.000010   \n",
      "9   0.0     0.0            0.0     NaN             0           0.000010   \n",
      "10  0.0     0.0            0.0    11.0             0           0.000010   \n",
      "11  0.0     0.0            0.0     5.0             0           0.000010   \n",
      "12  0.0     0.0            0.0     6.0             0           0.000010   \n",
      "13  0.0     0.0            0.0     2.0             0           0.000010   \n",
      "14  0.0     0.0            0.0     6.0             0           0.000010   \n",
      "15  0.0     0.0            0.0     1.0             0           0.000010   \n",
      "16  0.0     0.0            0.0     4.0             0           0.000010   \n",
      "17  0.0     0.0            0.0    80.0             0           0.000010   \n",
      "18  0.0     0.0            0.0   411.0             0           0.007822   \n",
      "19  0.0     0.0            0.0   326.0             0           0.015635   \n",
      "20  0.0     0.0            0.0   767.0             0           0.031260   \n",
      "21  0.0     0.0            0.0   658.0             0           0.031260   \n",
      "22  0.0     0.0            0.0    68.0             0           0.062509   \n",
      "23  0.0     0.0            0.0     9.0             0           0.062509   \n",
      "24  0.0     0.0            0.0    51.0             0           0.062509   \n",
      "25  0.0     0.0            0.0    54.0             0           0.062509   \n",
      "26  0.0     0.0            0.0    48.0             0           0.125009   \n",
      "27  0.0     0.0            0.0    27.0             0           0.125009   \n",
      "28  0.0     0.0            0.0   111.0             0           0.125009   \n",
      "29  0.0     0.0            0.0    51.0             0           0.125009   \n",
      "30  0.0     0.0            0.0    13.0             0           0.125009   \n",
      "31  0.0     0.0            0.0     2.0             0           0.125009   \n",
      "32  0.0     0.0            0.0     2.0             0           0.250007   \n",
      "\n",
      "    inTheMoney contractSize currency  \n",
      "0         True      REGULAR      USD  \n",
      "1         True      REGULAR      USD  \n",
      "2         True      REGULAR      USD  \n",
      "3         True      REGULAR      USD  \n",
      "4         True      REGULAR      USD  \n",
      "5         True      REGULAR      USD  \n",
      "6         True      REGULAR      USD  \n",
      "7         True      REGULAR      USD  \n",
      "8         True      REGULAR      USD  \n",
      "9         True      REGULAR      USD  \n",
      "10        True      REGULAR      USD  \n",
      "11        True      REGULAR      USD  \n",
      "12        True      REGULAR      USD  \n",
      "13        True      REGULAR      USD  \n",
      "14        True      REGULAR      USD  \n",
      "15        True      REGULAR      USD  \n",
      "16        True      REGULAR      USD  \n",
      "17        True      REGULAR      USD  \n",
      "18       False      REGULAR      USD  \n",
      "19       False      REGULAR      USD  \n",
      "20       False      REGULAR      USD  \n",
      "21       False      REGULAR      USD  \n",
      "22       False      REGULAR      USD  \n",
      "23       False      REGULAR      USD  \n",
      "24       False      REGULAR      USD  \n",
      "25       False      REGULAR      USD  \n",
      "26       False      REGULAR      USD  \n",
      "27       False      REGULAR      USD  \n",
      "28       False      REGULAR      USD  \n",
      "29       False      REGULAR      USD  \n",
      "30       False      REGULAR      USD  \n",
      "31       False      REGULAR      USD  \n",
      "32       False      REGULAR      USD  , puts=         contractSymbol             lastTradeDate  strike  lastPrice  bid  \\\n",
      "0   CSCO220819P00025000 2022-07-15 17:07:07+00:00    25.0       0.01  0.0   \n",
      "1   CSCO220819P00027500 2022-07-20 17:40:37+00:00    27.5       0.02  0.0   \n",
      "2   CSCO220819P00030000 2022-07-22 14:26:50+00:00    30.0       0.01  0.0   \n",
      "3   CSCO220819P00032500 2022-07-25 19:33:41+00:00    32.5       0.04  0.0   \n",
      "4   CSCO220819P00034000 2022-07-26 13:37:25+00:00    34.0       0.09  0.0   \n",
      "5   CSCO220819P00035000 2022-07-26 19:59:31+00:00    35.0       0.13  0.0   \n",
      "6   CSCO220819P00036000 2022-07-26 15:22:31+00:00    36.0       0.14  0.0   \n",
      "7   CSCO220819P00037000 2022-07-26 14:31:19+00:00    37.0       0.19  0.0   \n",
      "8   CSCO220819P00037500 2022-07-26 19:56:46+00:00    37.5       0.26  0.0   \n",
      "9   CSCO220819P00038000 2022-07-26 15:54:31+00:00    38.0       0.29  0.0   \n",
      "10  CSCO220819P00038500 2022-07-21 15:20:42+00:00    38.5       0.33  0.0   \n",
      "11  CSCO220819P00039000 2022-07-26 19:30:28+00:00    39.0       0.42  0.0   \n",
      "12  CSCO220819P00039500 2022-07-26 18:33:54+00:00    39.5       0.48  0.0   \n",
      "13  CSCO220819P00040000 2022-07-26 19:56:26+00:00    40.0       0.57  0.0   \n",
      "14  CSCO220819P00040500 2022-07-26 16:19:28+00:00    40.5       0.60  0.0   \n",
      "15  CSCO220819P00041000 2022-07-26 17:38:02+00:00    41.0       0.72  0.0   \n",
      "16  CSCO220819P00041500 2022-07-26 16:27:37+00:00    41.5       0.80  0.0   \n",
      "17  CSCO220819P00042000 2022-07-26 19:19:49+00:00    42.0       1.04  0.0   \n",
      "18  CSCO220819P00042500 2022-07-26 18:38:55+00:00    42.5       1.18  0.0   \n",
      "19  CSCO220819P00043000 2022-07-26 19:48:06+00:00    43.0       1.36  0.0   \n",
      "20  CSCO220819P00043500 2022-07-26 19:58:27+00:00    43.5       1.56  0.0   \n",
      "21  CSCO220819P00044000 2022-07-26 19:48:06+00:00    44.0       1.76  0.0   \n",
      "22  CSCO220819P00044500 2022-07-26 19:31:42+00:00    44.5       2.02  0.0   \n",
      "23  CSCO220819P00045000 2022-07-26 19:58:07+00:00    45.0       2.28  0.0   \n",
      "24  CSCO220819P00045500 2022-07-25 17:17:02+00:00    45.5       2.13  0.0   \n",
      "25  CSCO220819P00046000 2022-07-25 14:01:28+00:00    46.0       2.47  0.0   \n",
      "26  CSCO220819P00046500 2022-07-25 15:29:09+00:00    46.5       2.82  0.0   \n",
      "27  CSCO220819P00047000 2022-07-26 14:37:32+00:00    47.0       3.25  0.0   \n",
      "28  CSCO220819P00047500 2022-07-25 19:59:54+00:00    47.5       3.55  0.0   \n",
      "29  CSCO220819P00048000 2022-07-25 19:20:47+00:00    48.0       4.10  0.0   \n",
      "30  CSCO220819P00048500 2022-07-26 19:29:56+00:00    48.5       4.80  0.0   \n",
      "31  CSCO220819P00049000 2022-07-26 14:25:18+00:00    49.0       4.85  0.0   \n",
      "32  CSCO220819P00050000 2022-07-26 19:21:20+00:00    50.0       6.22  0.0   \n",
      "33  CSCO220819P00052500 2022-07-18 14:00:43+00:00    52.5       9.55  0.0   \n",
      "34  CSCO220819P00055000 2022-07-14 13:46:11+00:00    55.0      13.50  0.0   \n",
      "35  CSCO220819P00060000 2022-07-08 13:30:15+00:00    60.0      16.99  0.0   \n",
      "\n",
      "    ask  change  percentChange  volume  openInterest  impliedVolatility  \\\n",
      "0   0.0     0.0            0.0     NaN             0           0.500005   \n",
      "1   0.0     0.0            0.0   104.0             0           0.500005   \n",
      "2   0.0     0.0            0.0     8.0             0           0.250007   \n",
      "3   0.0     0.0            0.0     1.0             0           0.250007   \n",
      "4   0.0     0.0            0.0     1.0             0           0.250007   \n",
      "5   0.0     0.0            0.0    22.0             0           0.250007   \n",
      "6   0.0     0.0            0.0    14.0             0           0.250007   \n",
      "7   0.0     0.0            0.0     5.0             0           0.125009   \n",
      "8   0.0     0.0            0.0     3.0             0           0.125009   \n",
      "9   0.0     0.0            0.0    12.0             0           0.125009   \n",
      "10  0.0     0.0            0.0     NaN             0           0.125009   \n",
      "11  0.0     0.0            0.0     8.0             0           0.125009   \n",
      "12  0.0     0.0            0.0    45.0             0           0.125009   \n",
      "13  0.0     0.0            0.0   163.0             0           0.125009   \n",
      "14  0.0     0.0            0.0    56.0             0           0.062509   \n",
      "15  0.0     0.0            0.0   221.0             0           0.062509   \n",
      "16  0.0     0.0            0.0     6.0             0           0.062509   \n",
      "17  0.0     0.0            0.0     5.0             0           0.062509   \n",
      "18  0.0     0.0            0.0    25.0             0           0.031260   \n",
      "19  0.0     0.0            0.0    59.0             0           0.031260   \n",
      "20  0.0     0.0            0.0    90.0             0           0.007822   \n",
      "21  0.0     0.0            0.0   282.0             0           0.000010   \n",
      "22  0.0     0.0            0.0   304.0             0           0.000010   \n",
      "23  0.0     0.0            0.0   586.0             0           0.000010   \n",
      "24  0.0     0.0            0.0    18.0             0           0.000010   \n",
      "25  0.0     0.0            0.0     5.0             0           0.000010   \n",
      "26  0.0     0.0            0.0    42.0             0           0.000010   \n",
      "27  0.0     0.0            0.0    12.0             0           0.000010   \n",
      "28  0.0     0.0            0.0   216.0             0           0.000010   \n",
      "29  0.0     0.0            0.0    93.0             0           0.000010   \n",
      "30  0.0     0.0            0.0   178.0             0           0.000010   \n",
      "31  0.0     0.0            0.0    64.0             0           0.000010   \n",
      "32  0.0     0.0            0.0     6.0             0           0.000010   \n",
      "33  0.0     0.0            0.0     2.0             0           0.000010   \n",
      "34  0.0     0.0            0.0     2.0             0           0.000010   \n",
      "35  0.0     0.0            0.0     1.0             0           0.000010   \n",
      "\n",
      "    inTheMoney contractSize currency  \n",
      "0        False      REGULAR      USD  \n",
      "1        False      REGULAR      USD  \n",
      "2        False      REGULAR      USD  \n",
      "3        False      REGULAR      USD  \n",
      "4        False      REGULAR      USD  \n",
      "5        False      REGULAR      USD  \n",
      "6        False      REGULAR      USD  \n",
      "7        False      REGULAR      USD  \n",
      "8        False      REGULAR      USD  \n",
      "9        False      REGULAR      USD  \n",
      "10       False      REGULAR      USD  \n",
      "11       False      REGULAR      USD  \n",
      "12       False      REGULAR      USD  \n",
      "13       False      REGULAR      USD  \n",
      "14       False      REGULAR      USD  \n",
      "15       False      REGULAR      USD  \n",
      "16       False      REGULAR      USD  \n",
      "17       False      REGULAR      USD  \n",
      "18       False      REGULAR      USD  \n",
      "19       False      REGULAR      USD  \n",
      "20       False      REGULAR      USD  \n",
      "21        True      REGULAR      USD  \n",
      "22        True      REGULAR      USD  \n",
      "23        True      REGULAR      USD  \n",
      "24        True      REGULAR      USD  \n",
      "25        True      REGULAR      USD  \n",
      "26        True      REGULAR      USD  \n",
      "27        True      REGULAR      USD  \n",
      "28        True      REGULAR      USD  \n",
      "29        True      REGULAR      USD  \n",
      "30        True      REGULAR      USD  \n",
      "31        True      REGULAR      USD  \n",
      "32        True      REGULAR      USD  \n",
      "33        True      REGULAR      USD  \n",
      "34        True      REGULAR      USD  \n",
      "35        True      REGULAR      USD  )\n"
     ]
    }
   ],
   "source": [
    "# Getting Call/Put options: Market Prices\n",
    "csco = yf.Ticker(\"csco\")\n",
    "ge = yf.Ticker(\"ge\")\n",
    "bac = yf.Ticker(\"bac\")\n",
    "\n",
    "opt_csco = csco.option_chain(date='2022-08-19')\n",
    "options_cisco = opt_csco\n",
    "print(options_cisco)\n",
    "\n",
    "opt_bac = bac.option_chain(date='2022-08-26')\n",
    "options_bac = opt_bac\n",
    "\n",
    "opt_ge = ge.option_chain(date='2023-01-20')\n",
    "options_ge = opt_ge"
   ],
   "metadata": {
    "collapsed": false,
    "pycharm": {
     "name": "#%%\n"
    }
   }
  },
  {
   "cell_type": "code",
   "execution_count": 7,
   "outputs": [
    {
     "name": "stdout",
     "output_type": "stream",
     "text": [
      "    strike  lastPrice  impliedVolatility\n",
      "0     25.0      18.50           0.000010\n",
      "1     30.0      12.65           0.000010\n",
      "2     32.5      10.85           0.000010\n",
      "3     34.0       9.40           0.000010\n",
      "4     35.0       9.50           0.000010\n",
      "5     37.5       5.70           0.000010\n",
      "6     38.0       6.65           0.000010\n",
      "7     38.5       5.65           0.000010\n",
      "8     39.0       5.70           0.000010\n",
      "9     39.5       5.30           0.000010\n",
      "10    40.0       4.47           0.000010\n",
      "11    40.5       4.60           0.000010\n",
      "12    41.0       3.15           0.000010\n",
      "13    41.5       3.40           0.000010\n",
      "14    42.0       2.96           0.000010\n",
      "15    42.5       2.58           0.000010\n",
      "16    43.0       2.31           0.000010\n",
      "17    43.5       1.99           0.000010\n",
      "18    44.0       1.69           0.007822\n",
      "19    44.5       1.43           0.015635\n",
      "20    45.0       1.21           0.031260\n",
      "21    45.5       1.01           0.031260\n",
      "22    46.0       0.80           0.062509\n",
      "23    46.5       0.71           0.062509\n",
      "24    47.0       0.49           0.062509\n",
      "25    47.5       0.40           0.062509\n",
      "26    48.0       0.30           0.125009\n",
      "27    48.5       0.28           0.125009\n",
      "28    49.0       0.21           0.125009\n",
      "29    50.0       0.10           0.125009\n",
      "30    51.0       0.06           0.125009\n",
      "31    52.5       0.03           0.125009\n",
      "32    55.0       0.02           0.250007\n",
      "    strike  lastPrice  impliedVolatility\n",
      "0      2.0       0.03           1.906250\n",
      "1      3.0       0.03           1.718751\n",
      "2      4.0       0.05           1.687502\n",
      "3      5.0       0.07           1.656252\n",
      "4      7.0       0.24           1.660158\n",
      "5     10.0       0.87           1.875001\n",
      "6     12.0       1.65           2.006353\n",
      "7     15.0       3.42           2.194829\n",
      "8     17.0       4.74           2.442387\n",
      "9     20.0       7.35           2.579105\n",
      "10    25.0      11.87           2.805911\n",
      "11    27.0      14.07           2.887942\n",
      "12    35.0       0.23           0.250007\n",
      "13    40.0       0.47           0.125009\n",
      "14    45.0       0.67           0.125009\n",
      "15    50.0       1.05           0.125009\n",
      "16    55.0       1.75           0.062509\n",
      "17    60.0       2.75           0.062509\n",
      "18    65.0       4.13           0.031260\n",
      "19    70.0       5.98           0.007822\n",
      "20    75.0       8.20           0.000010\n",
      "21    80.0      11.20           0.000010\n",
      "22    85.0      18.30           0.000010\n",
      "23    90.0      18.50           0.000010\n",
      "24    95.0      23.30           0.000010\n",
      "25   100.0      34.02           0.000010\n",
      "26   105.0      32.50           0.000010\n",
      "27   110.0      37.40           0.000010\n",
      "28   115.0      47.95           0.000010\n",
      "29   120.0      54.85           0.000010\n",
      "30   125.0      64.60           0.000010\n",
      "31   130.0      32.70           0.000010\n",
      "32   135.0      69.46           1.125615\n",
      "33   140.0      66.83           0.000010\n",
      "34   145.0      55.70           0.000010\n",
      "35   150.0      58.00           0.000010\n",
      "36   155.0      52.05           0.000010\n",
      "37   160.0      60.00           0.000010\n",
      "38   165.0      64.05           0.000010\n",
      "39   170.0      62.40           0.000010\n",
      "    strike  lastPrice  impliedVolatility\n",
      "0     20.0      13.45           0.000010\n",
      "1     25.0       7.55           0.000010\n",
      "2     27.0       6.45           0.000010\n",
      "3     28.0       5.42           0.000010\n",
      "4     29.0       4.70           0.000010\n",
      "5     30.0       3.50           0.000010\n",
      "6     31.0       2.97           0.000010\n",
      "7     32.0       1.95           0.000010\n",
      "8     33.0       1.29           0.000010\n",
      "9     34.0       0.80           0.031260\n",
      "10    35.0       0.45           0.062509\n",
      "11    36.0       0.24           0.062509\n",
      "12    37.0       0.13           0.125009\n",
      "13    38.0       0.06           0.125009\n",
      "14    39.0       0.03           0.125009\n",
      "15    40.0       0.06           0.125009\n"
     ]
    }
   ],
   "source": [
    "# Get Market Call Prices - CSCO\n",
    "strike_call_list_cisco = (options_cisco[0]['strike'])\n",
    "market_price_call_cisco = (options_cisco[0]['lastPrice'])\n",
    "market_implied_vol_call_cisco = (options_cisco[0]['impliedVolatility'])\n",
    "df_market_call_csco = pd.DataFrame({'strike':strike_call_list_cisco ,\n",
    "                   'lastPrice':market_price_call_cisco ,\n",
    "                   'impliedVolatility': market_implied_vol_call_cisco})\n",
    "\n",
    "# Get Market Put Prices - GE\n",
    "strike_put_list_ge = (options_ge[1]['strike'])\n",
    "market_price_put_ge = (options_ge[1]['lastPrice'])\n",
    "market_implied_vol_put_ge = (options_ge[1]['impliedVolatility'])\n",
    "df_market_put_ge = pd.DataFrame({'strike':strike_put_list_ge ,\n",
    "                   'lastPrice':market_price_put_ge ,\n",
    "                   'impliedVolatility': market_implied_vol_put_ge})\n",
    "\n",
    "# Get Market Call Prices - BAC\n",
    "strike_call_list_BAC = (options_bac[0]['strike'])\n",
    "market_price_call_BAC = (options_bac[0]['lastPrice'])\n",
    "market_implied_vol_call_BAC = (options_bac[0]['impliedVolatility'])\n",
    "df_market_call_BAC = pd.DataFrame({'strike':strike_call_list_BAC ,\n",
    "                   'lastPrice':market_price_call_BAC ,\n",
    "                   'impliedVolatility': market_implied_vol_call_BAC})\n",
    "\n",
    "print(df_market_call_csco)\n",
    "print(df_market_put_ge)\n",
    "print(df_market_call_BAC)"
   ],
   "metadata": {
    "collapsed": false,
    "pycharm": {
     "name": "#%%\n"
    }
   }
  },
  {
   "cell_type": "code",
   "execution_count": 10,
   "outputs": [
    {
     "data": {
      "text/plain": "Text(0.5, 1.0, 'Data from Yahoo Finance: BAC options with expiration on the 26th of August 2022')"
     },
     "execution_count": 10,
     "metadata": {},
     "output_type": "execute_result"
    },
    {
     "data": {
      "text/plain": "<Figure size 1080x360 with 1 Axes>",
      "image/png": "[encoded data removed]"
     },
     "metadata": {
      "needs_background": "light"
     },
     "output_type": "display_data"
    }
   ],
   "source": [
    "plt.plot(strike_call_list_BAC,market_price_call_BAC)\n",
    "plt.xlabel(\"Strike Prices\")\n",
    "plt.ylabel(\"Implied Volatility\")\n",
    "plt.title(\"Data from Yahoo Finance: BAC options with expiration on the 26th of August 2022\")"
   ],
   "metadata": {
    "collapsed": false,
    "pycharm": {
     "name": "#%%\n"
    }
   }
  },
  {
   "cell_type": "code",
   "execution_count": 9,
   "outputs": [
    {
     "data": {
      "text/plain": "[<matplotlib.lines.Line2D at 0x122a98bd0>]"
     },
     "execution_count": 9,
     "metadata": {},
     "output_type": "execute_result"
    },
    {
     "data": {
      "text/plain": "<Figure size 1080x360 with 1 Axes>",
      "image/png": "[encoded data removed]"
     },
     "metadata": {
      "needs_background": "light"
     },
     "output_type": "display_data"
    }
   ],
   "source": [
    "# Choose interesting strikes values: MARKET PRICES - CSCO\n",
    "call_CSCO_strikes = df_market_call_csco['strike']\n",
    "market_call_CSCO_impliedVolatility = df_market_call_csco['impliedVolatility']\n",
    "market_call_CSCO_lastPrice = df_market_call_csco['lastPrice']\n",
    "\n",
    "call_CSCO_strikes = np.array(call_CSCO_strikes)\n",
    "call_CSCO_strikes = call_CSCO_strikes[2:]\n",
    "market_call_CSCO_impliedVolatility = np.array(market_call_CSCO_impliedVolatility)\n",
    "market_call_CSCO_impliedVolatility = market_call_CSCO_impliedVolatility[2:]\n",
    "market_call_CSCO_lastPrice = np.array(market_call_CSCO_lastPrice)\n",
    "market_call_CSCO_lastPrice = market_call_CSCO_lastPrice[2:]\n",
    "\n",
    "plt.plot(call_CSCO_strikes,market_call_CSCO_impliedVolatility)\n",
    "# plt.xlim([35,55])"
   ],
   "metadata": {
    "collapsed": false,
    "pycharm": {
     "name": "#%%\n"
    }
   }
  },
  {
   "cell_type": "code",
   "execution_count": 13,
   "outputs": [
    {
     "data": {
      "text/plain": "[<matplotlib.lines.Line2D at 0x12f4ca910>]"
     },
     "execution_count": 13,
     "metadata": {},
     "output_type": "execute_result"
    },
    {
     "data": {
      "text/plain": "<Figure size 1080x360 with 1 Axes>",
      "image/png": "[encoded data removed]"
     },
     "metadata": {
      "needs_background": "light"
     },
     "output_type": "display_data"
    }
   ],
   "source": [
    "# Choose interesting strikes values: MARKET PRICES - GE\n",
    "put_GE_strikes = df_market_put_ge['strike']\n",
    "market_put_GE_impliedVolatility = df_market_put_ge['impliedVolatility']\n",
    "market_put_GE_lastPrice = df_market_put_ge['lastPrice']\n",
    "\n",
    "put_GE_strikes = np.array(put_GE_strikes)\n",
    "market_put_GE_impliedVolatility = np.array(market_put_GE_impliedVolatility)\n",
    "market_put_GE_lastPrice = np.array(market_put_GE_lastPrice)\n",
    "\n",
    "plt.plot(put_GE_strikes, market_put_GE_impliedVolatility)"
   ],
   "metadata": {
    "collapsed": false,
    "pycharm": {
     "name": "#%%\n"
    }
   }
  },
  {
   "cell_type": "code",
   "execution_count": null,
   "outputs": [],
   "source": [
    "i = complex(0, 1)\n",
    "# To be used in the Heston pricer\n",
    "def fHeston(s, St, K, r, T, sigma, kappa, theta, volvol, rho):\n",
    "    # To be used a lot\n",
    "    prod = rho * sigma * i * s\n",
    "    # Calculate d\n",
    "    d1 = (prod-kappa) ** 2\n",
    "    d2 = (sigma**2) * (-2 * i * s + s**2)\n",
    "    d = np.sqrt(d1 + d2)\n",
    "    # Calculate g\n",
    "    g1 = kappa - prod - d\n",
    "    g2 = kappa - prod + d\n",
    "    g = g1 / g2\n",
    "    # Calculate first exponential\n",
    "    exp1 = np.exp(np.log(St) * i * s) * np.exp(i * s * r * T)\n",
    "    exp2 = 1 - g * np.exp(-d * T)\n",
    "    exp3 = 1 - g\n",
    "    mainExp1 = exp1 * np.power(exp2 / exp3, -2 * theta * kappa/ (sigma**2))\n",
    "    # Calculate second exponential\n",
    "    exp4 = theta * kappa * T / (sigma**2)\n",
    "    exp5 = volvol / (sigma**2)\n",
    "    exp6 = (1 - np.exp(-d * T)) / (1 - g * np.exp(-d * T))\n",
    "    mainExp2 = np.exp((exp4 * g1) + (exp5 * g1 * exp6))\n",
    "    return mainExp1 * mainExp2"
   ],
   "metadata": {
    "collapsed": false,
    "pycharm": {
     "name": "#%%\n"
    }
   }
  },
  {
   "cell_type": "code",
   "execution_count": null,
   "outputs": [],
   "source": [
    "# Heston Pricer\n",
    "def priceHestonMid(St, K, r, q, T, sigma, kappa, theta, volvol, rho):\n",
    "    P, iterations, maxNumber = 0, 1000, 100\n",
    "    ds = maxNumber / iterations\n",
    "    element1 = 0.5 * (St * np.exp(-q * T) - K * np.exp(-r * T))\n",
    "    # Calculate the complex integral\n",
    "    # Using j instead of i to avoid confusion\n",
    "    for j in range(1, iterations):\n",
    "        s1 = ds * (2 * j + 1) / 2\n",
    "        s2 = s1 - i\n",
    "        numerator1 = fHeston(s2, St, K, r, T,\n",
    "                             sigma, kappa, theta, volvol, rho)\n",
    "        numerator2 = K * fHeston(s1, St, K, r, T,\n",
    "                               sigma, kappa, theta, volvol, rho)\n",
    "        denominator = np.exp(np.log(K) * i * s1) * i * s1\n",
    "        P += ds * (numerator1 - numerator2) / denominator\n",
    "    element2 = P / np.pi\n",
    "    return np.real((element1 + element2))"
   ],
   "metadata": {
    "collapsed": false,
    "pycharm": {
     "name": "#%%\n"
    }
   }
  },
  {
   "cell_type": "code",
   "execution_count": null,
   "outputs": [],
   "source": [
    "# Test Parameters\n",
    "\n",
    "S_0_CSCO = 41.11            # stock price: CSCO\n",
    "S_0_GE = 61.23              # stock price: GE\n",
    "r = 1.68/100                # interest rate\n",
    "q_csco = 0.0152             # dividend yield CSCO\n",
    "q_ge = 0.0032               # dividend yield GE\n",
    "K_CSCO = 55                 # specific strike CSCO\n",
    "K_GE = 35                   # specific strike GE\n",
    "T = 144/250                 # 30 weeks: 150 trading days\n",
    "N = len(call_CSCO_strikes)"
   ],
   "metadata": {
    "collapsed": false,
    "pycharm": {
     "name": "#%%\n"
    }
   }
  },
  {
   "cell_type": "code",
   "execution_count": null,
   "outputs": [],
   "source": [
    "# Annealing calibration function for Call options\n",
    "def calibratorHestonSA(St, lowerBounds = [1e-2,1e-2,1e-2,1e-2,-1],\n",
    "                            upperBounds = [10,10,10,10,1]):\n",
    "\n",
    "    # Note the difference in the objective function (sum of squares vs vector of errors)\n",
    "    objectiveFunctionHeston = lambda paramVect: np.sum(np.square((market_call_CSCO_lastPrice - priceHestonMid(St, call_CSCO_strikes,\n",
    "                                                                        r,\n",
    "                                                                        q_csco,\n",
    "                                                                        T,\n",
    "                                                                        paramVect[0],\n",
    "                                                                        paramVect[1],\n",
    "                                                                        paramVect[2],\n",
    "                                                                        paramVect[3],\n",
    "                                                                        paramVect[4]))/market_call_CSCO_lastPrice))\n",
    "\n",
    "    # Define the upper and lower bounds\n",
    "    bounds = list(zip(lowerBounds, upperBounds))\n",
    "\n",
    "    # Minimize the function\n",
    "    results = dual_annealing(objectiveFunctionHeston, bounds = bounds)\n",
    "\n",
    "    return results\n",
    "\n",
    "calibratorHestonSA(S_0_CSCO)"
   ],
   "metadata": {
    "collapsed": false,
    "pycharm": {
     "name": "#%%\n"
    }
   }
  },
  {
   "cell_type": "code",
   "execution_count": null,
   "outputs": [],
   "source": [
    "def putPriceHestonMid(St, K, r, q, T, call_price):\n",
    "    return call_price + K * np/exp(-r * T) - St * np/exp(-q * T)"
   ],
   "metadata": {
    "collapsed": false,
    "pycharm": {
     "name": "#%%\n"
    }
   }
  },
  {
   "cell_type": "code",
   "execution_count": null,
   "outputs": [],
   "source": [
    "# Annealing calibration function for Put options\n",
    "def calibratorHestonSAPut(St, lowerBounds = [1e-2,1e-2,1e-2,1e-2,-1],\n",
    "                            upperBounds = [1,1,1,1,1]):\n",
    "\n",
    "    # Note the difference in the objective function (sum of squares vs vector of errors)\n",
    "    objectiveFunctionHestonput = lambda paramVect: np.sum(np.square((market_price_put_ge - priceHestonMid(St, put_GE_strikes,\n",
    "                                                                        r,\n",
    "                                                                        q_ge,\n",
    "                                                                        T,\n",
    "                                                                        paramVect[0],\n",
    "                                                                        paramVect[1],\n",
    "                                                                        paramVect[2],\n",
    "                                                                        paramVect[3],\n",
    "                                                                        paramVect[4])- put_GE_strikes * np.exp(-r * T) + St * np.exp(-q_ge * T))/market_price_put_ge))\n",
    "\n",
    "    # Define the upper and lower bounds\n",
    "    bounds = list(zip(lowerBounds, upperBounds))\n",
    "\n",
    "    # Minimize the function\n",
    "    results = dual_annealing(objectiveFunctionHestonput, bounds = bounds)\n",
    "\n",
    "    return results\n",
    "\n",
    "calibratorHestonSAPut(S_0_GE)"
   ],
   "metadata": {
    "collapsed": false,
    "pycharm": {
     "name": "#%%\n"
    }
   }
  },
  {
   "cell_type": "code",
   "execution_count": null,
   "outputs": [],
   "source": [],
   "metadata": {
    "collapsed": false,
    "pycharm": {
     "name": "#%%\n"
    }
   }
  }
 ],
 "metadata": {
  "kernelspec": {
   "display_name": "Python 3",
   "language": "python",
   "name": "python3"
  },
  "language_info": {
   "codemirror_mode": {
    "name": "ipython",
    "version": 2
   },
   "file_extension": ".py",
   "mimetype": "text/x-python",
   "name": "python",
   "nbconvert_exporter": "python",
   "pygments_lexer": "ipython2",
   "version": "2.7.6"
  }
 },
 "nbformat": 4,
 "nbformat_minor": 0
}