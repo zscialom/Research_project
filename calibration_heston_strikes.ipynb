{
 "cells": [
  {
   "cell_type": "code",
   "execution_count": 1,
   "metadata": {
    "collapsed": true
   },
   "outputs": [],
   "source": [
    "import matplotlib.pyplot as plt\n",
    "import numpy as np\n",
    "from math import log, sqrt, pi, exp\n",
    "import scipy.special\n",
    "import matplotlib.pylab as pylab\n",
    "\n",
    "\n",
    "params = {'legend.fontsize': 'x-large',\n",
    "          'figure.figsize': (15, 5),\n",
    "         'axes.labelsize': 'x-large',\n",
    "         'axes.titlesize':'x-large',\n",
    "         'xtick.labelsize':'x-large',\n",
    "         'ytick.labelsize':'x-large'}\n",
    "pylab.rcParams.update(params)\n",
    "from scipy.optimize import minimize\n",
    "import yfinance as yf\n",
    "import pandas as pd\n",
    "import matplotlib.pyplot as plt\n",
    "from scipy.optimize import dual_annealing"
   ]
  },
  {
   "cell_type": "code",
   "execution_count": 2,
   "outputs": [
    {
     "name": "stdout",
     "output_type": "stream",
     "text": [
      "[*********************100%***********************]  3 of 3 completed\n",
      "            Adj Close                             Close             \\\n",
      "                  BAC       CSCO          GE        BAC       CSCO   \n",
      "Date                                                                 \n",
      "2021-08-31  40.901463  57.367809  105.016113  41.750000  59.020000   \n",
      "2021-09-01  40.352840  57.387249  103.272652  41.189999  59.040001   \n",
      "2021-09-02  40.392227  57.863533  105.862938  41.020000  59.529999   \n",
      "2021-09-03  40.421772  57.756611  104.358574  41.049999  59.419998   \n",
      "2021-09-07  40.687637  57.231728  102.904037  41.320000  58.880001   \n",
      "...               ...        ...         ...        ...        ...   \n",
      "2022-06-03  36.189999  44.846363   76.878204  36.189999  45.250000   \n",
      "2022-06-06  36.150002  44.925648   76.908165  36.150002  45.330002   \n",
      "2022-06-07  36.349998  45.163506   77.906975  36.349998  45.570000   \n",
      "2022-06-08  35.889999  44.519302   77.067978  35.889999  44.919998   \n",
      "2022-06-09  34.509998  43.865192   74.690811  34.509998  44.259998   \n",
      "\n",
      "                             High                               Low  \\\n",
      "                    GE        BAC       CSCO          GE        BAC   \n",
      "Date                                                                  \n",
      "2021-08-31  105.410004  42.070000  59.180000  106.360001  41.360001   \n",
      "2021-09-01  103.660004  41.779999  59.139999  105.470001  41.029999   \n",
      "2021-09-02  106.260002  41.490002  59.720001  106.339996  40.639999   \n",
      "2021-09-03  104.750000  41.189999  59.660000  107.360001  40.680000   \n",
      "2021-09-07  103.290001  41.849998  59.369999  104.940002  41.180000   \n",
      "...                ...        ...        ...         ...        ...   \n",
      "2022-06-03   76.970001  36.680000  45.740002   77.150002  36.130001   \n",
      "2022-06-06   77.000000  37.209999  46.090000   78.290001  36.099998   \n",
      "2022-06-07   78.000000  36.410000  45.650002   78.150002  35.740002   \n",
      "2022-06-08   77.160004  36.110001  45.630001   78.279999  35.520000   \n",
      "2022-06-09   74.779999  35.840000  45.270000   77.050003  34.500000   \n",
      "\n",
      "                                        Open                           Volume  \\\n",
      "                 CSCO          GE        BAC       CSCO          GE       BAC   \n",
      "Date                                                                            \n",
      "2021-08-31  58.580002  104.459999  41.669998  59.110001  104.940002  54654600   \n",
      "2021-09-01  58.660000  103.260002  41.750000  59.020000  105.360001  52361900   \n",
      "2021-09-02  59.060001  103.980003  41.110001  59.349998  104.000000  44538900   \n",
      "2021-09-03  59.279999  104.080002  41.020000  59.330002  106.000000  41812400   \n",
      "2021-09-07  58.750000  102.309998  41.250000  59.240002  104.500000  43748600   \n",
      "...               ...         ...        ...        ...         ...       ...   \n",
      "2022-06-03  45.119999   75.669998  36.480000  45.549999   76.739998  25222100   \n",
      "2022-06-06  45.130001   76.769997  36.700001  45.599998   77.910004  40394000   \n",
      "2022-06-07  44.720001   76.169998  35.900002  44.820000   76.910004  29152200   \n",
      "2022-06-08  44.880001   76.519997  35.919998  45.450001   76.690002  33590600   \n",
      "2022-06-09  44.240002   74.750000  35.740002  44.830002   76.889999  49419000   \n",
      "\n",
      "                                \n",
      "                CSCO        GE  \n",
      "Date                            \n",
      "2021-08-31  19873900  10990800  \n",
      "2021-09-01  11629700   7968100  \n",
      "2021-09-02  12855700   8493700  \n",
      "2021-09-03   9732200   7616900  \n",
      "2021-09-07  15503600  10989500  \n",
      "...              ...       ...  \n",
      "2022-06-03  17947000   5272600  \n",
      "2022-06-06  12641900   4744100  \n",
      "2022-06-07  14667200   5125800  \n",
      "2022-06-08  16263800   3376000  \n",
      "2022-06-09  18417700   5055500  \n",
      "\n",
      "[196 rows x 18 columns]\n"
     ]
    }
   ],
   "source": [
    "tickers = [\"CSCO\",\"BAC\",\"GE\"]\n",
    "#download the prices and volumes for the previously read list of tickers\n",
    "start_date = '2021-09-01'\n",
    "end_date = '2022-06-10'\n",
    "stock_data = yf.download(tickers, start=start_date, end=end_date)\n",
    "print(stock_data)"
   ],
   "metadata": {
    "collapsed": false,
    "pycharm": {
     "name": "#%%\n"
    }
   }
  },
  {
   "cell_type": "code",
   "execution_count": 3,
   "outputs": [
    {
     "name": "stdout",
     "output_type": "stream",
     "text": [
      "Options(calls=         contractSymbol             lastTradeDate  strike  lastPrice    bid  \\\n",
      "0   CSCO230120C00020000 2022-07-01 17:39:59+00:00    20.0      22.10   0.00   \n",
      "1   CSCO230120C00023000 2022-01-03 18:48:29+00:00    23.0      39.95  33.05   \n",
      "2   CSCO230120C00025000 2022-07-01 18:16:32+00:00    25.0      17.15   0.00   \n",
      "3   CSCO230120C00028000 2022-07-05 17:47:34+00:00    28.0      13.85   0.00   \n",
      "4   CSCO230120C00030000 2022-07-05 13:30:14+00:00    30.0      12.34   0.00   \n",
      "5   CSCO230120C00033000 2022-07-05 13:35:20+00:00    33.0       9.35   0.00   \n",
      "6   CSCO230120C00035000 2022-07-05 16:45:07+00:00    35.0       7.80   0.00   \n",
      "7   CSCO230120C00037000 2022-07-05 19:15:46+00:00    37.0       6.80   0.00   \n",
      "8   CSCO230120C00040000 2022-07-05 19:49:01+00:00    40.0       4.75   0.00   \n",
      "9   CSCO230120C00042000 2022-07-05 19:14:20+00:00    42.0       3.60   0.00   \n",
      "10  CSCO230120C00045000 2022-07-05 17:09:25+00:00    45.0       2.02   0.00   \n",
      "11  CSCO230120C00047000 2022-07-05 18:55:38+00:00    47.0       1.49   0.00   \n",
      "12  CSCO230120C00050000 2022-07-05 19:59:35+00:00    50.0       0.90   0.00   \n",
      "13  CSCO230120C00052500 2022-07-05 19:28:11+00:00    52.5       0.51   0.00   \n",
      "14  CSCO230120C00055000 2022-07-05 19:57:15+00:00    55.0       0.30   0.00   \n",
      "15  CSCO230120C00057500 2022-07-05 17:43:50+00:00    57.5       0.17   0.00   \n",
      "16  CSCO230120C00060000 2022-07-05 15:27:41+00:00    60.0       0.09   0.00   \n",
      "17  CSCO230120C00062500 2022-07-05 15:35:45+00:00    62.5       0.07   0.00   \n",
      "18  CSCO230120C00065000 2022-07-05 15:34:41+00:00    65.0       0.05   0.00   \n",
      "19  CSCO230120C00067500 2022-07-05 15:06:27+00:00    67.5       0.04   0.00   \n",
      "20  CSCO230120C00070000 2022-07-05 18:24:23+00:00    70.0       0.04   0.00   \n",
      "21  CSCO230120C00072500 2022-07-05 13:35:38+00:00    72.5       0.04   0.00   \n",
      "22  CSCO230120C00075000 2022-07-01 18:22:42+00:00    75.0       0.03   0.00   \n",
      "23  CSCO230120C00080000 2022-06-28 13:42:42+00:00    80.0       0.04   0.00   \n",
      "24  CSCO230120C00085000 2022-06-09 17:35:27+00:00    85.0       0.02   0.00   \n",
      "25  CSCO230120C00090000 2022-06-15 17:22:05+00:00    90.0       0.02   0.00   \n",
      "26  CSCO230120C00095000 2022-06-16 16:41:40+00:00    95.0       0.01   0.00   \n",
      "\n",
      "     ask  change  percentChange  volume  openInterest  impliedVolatility  \\\n",
      "0    0.0     0.0            0.0     300             7           0.000010   \n",
      "1   33.4     0.0            0.0     180             0           2.881839   \n",
      "2    0.0     0.0            0.0      75            57           0.000010   \n",
      "3    0.0     0.0            0.0      13           126           0.000010   \n",
      "4    0.0     0.0            0.0       1           256           0.000010   \n",
      "5    0.0     0.0            0.0       2           199           0.000010   \n",
      "6    0.0     0.0            0.0       1           395           0.000010   \n",
      "7    0.0     0.0            0.0       9          7523           0.000010   \n",
      "8    0.0     0.0            0.0     520          4453           0.000010   \n",
      "9    0.0     0.0            0.0      27          9125           0.000498   \n",
      "10   0.0     0.0            0.0     106         22720           0.031260   \n",
      "11   0.0     0.0            0.0    1036         16327           0.031260   \n",
      "12   0.0     0.0            0.0     141         14542           0.062509   \n",
      "13   0.0     0.0            0.0      39          5424           0.062509   \n",
      "14   0.0     0.0            0.0      90          9607           0.062509   \n",
      "15   0.0     0.0            0.0      20         11026           0.125009   \n",
      "16   0.0     0.0            0.0       7         15336           0.125009   \n",
      "17   0.0     0.0            0.0     102         16325           0.125009   \n",
      "18   0.0     0.0            0.0       9         30249           0.125009   \n",
      "19   0.0     0.0            0.0       2          6542           0.125009   \n",
      "20   0.0     0.0            0.0       2         10095           0.125009   \n",
      "21   0.0     0.0            0.0       1          1196           0.125009   \n",
      "22   0.0     0.0            0.0       5          1987           0.125009   \n",
      "23   0.0     0.0            0.0      30          2271           0.250007   \n",
      "24   0.0     0.0            0.0      10          1722           0.250007   \n",
      "25   0.0     0.0            0.0       1          1346           0.250007   \n",
      "26   0.0     0.0            0.0      10          1077           0.250007   \n",
      "\n",
      "    inTheMoney contractSize currency  \n",
      "0         True      REGULAR      USD  \n",
      "1         True      REGULAR      USD  \n",
      "2         True      REGULAR      USD  \n",
      "3         True      REGULAR      USD  \n",
      "4         True      REGULAR      USD  \n",
      "5         True      REGULAR      USD  \n",
      "6         True      REGULAR      USD  \n",
      "7         True      REGULAR      USD  \n",
      "8         True      REGULAR      USD  \n",
      "9        False      REGULAR      USD  \n",
      "10       False      REGULAR      USD  \n",
      "11       False      REGULAR      USD  \n",
      "12       False      REGULAR      USD  \n",
      "13       False      REGULAR      USD  \n",
      "14       False      REGULAR      USD  \n",
      "15       False      REGULAR      USD  \n",
      "16       False      REGULAR      USD  \n",
      "17       False      REGULAR      USD  \n",
      "18       False      REGULAR      USD  \n",
      "19       False      REGULAR      USD  \n",
      "20       False      REGULAR      USD  \n",
      "21       False      REGULAR      USD  \n",
      "22       False      REGULAR      USD  \n",
      "23       False      REGULAR      USD  \n",
      "24       False      REGULAR      USD  \n",
      "25       False      REGULAR      USD  \n",
      "26       False      REGULAR      USD  , puts=         contractSymbol             lastTradeDate  strike  lastPrice    bid  \\\n",
      "0   CSCO230120P00020000 2022-07-05 17:37:43+00:00    20.0       0.12   0.00   \n",
      "1   CSCO230120P00023000 2022-06-23 18:51:18+00:00    23.0       0.20   0.00   \n",
      "2   CSCO230120P00025000 2022-06-17 18:58:51+00:00    25.0       0.34   0.00   \n",
      "3   CSCO230120P00028000 2022-06-21 14:30:18+00:00    28.0       0.45   0.00   \n",
      "4   CSCO230120P00030000 2022-07-05 16:17:41+00:00    30.0       0.77   0.00   \n",
      "5   CSCO230120P00033000 2022-07-05 15:49:46+00:00    33.0       1.20   0.00   \n",
      "6   CSCO230120P00035000 2022-07-05 18:33:02+00:00    35.0       1.49   0.00   \n",
      "7   CSCO230120P00037000 2022-07-05 16:43:43+00:00    37.0       2.08   0.00   \n",
      "8   CSCO230120P00040000 2022-07-05 19:49:01+00:00    40.0       2.90   0.00   \n",
      "9   CSCO230120P00042000 2022-07-05 18:46:15+00:00    42.0       3.81   0.00   \n",
      "10  CSCO230120P00045000 2022-07-05 15:08:34+00:00    45.0       5.85   0.00   \n",
      "11  CSCO230120P00047000 2022-07-05 14:46:43+00:00    47.0       7.17   0.00   \n",
      "12  CSCO230120P00050000 2022-07-05 14:33:45+00:00    50.0       9.60   0.00   \n",
      "13  CSCO230120P00052500 2022-07-05 16:21:16+00:00    52.5      11.70   0.00   \n",
      "14  CSCO230120P00055000 2022-07-05 14:36:13+00:00    55.0      14.21   0.00   \n",
      "15  CSCO230120P00057500 2022-06-16 15:53:01+00:00    57.5      15.20   0.00   \n",
      "16  CSCO230120P00060000 2022-07-05 17:14:05+00:00    60.0      18.77   0.00   \n",
      "17  CSCO230120P00062500 2022-06-15 13:47:01+00:00    62.5      19.45   0.00   \n",
      "18  CSCO230120P00065000 2022-07-05 16:07:59+00:00    65.0      23.90   0.00   \n",
      "19  CSCO230120P00067500 2022-04-11 19:18:53+00:00    67.5      15.30  19.15   \n",
      "20  CSCO230120P00070000 2022-06-07 19:47:56+00:00    70.0      24.76   0.00   \n",
      "21  CSCO230120P00072500 2022-04-13 16:25:09+00:00    72.5      20.95  23.65   \n",
      "22  CSCO230120P00075000 2022-03-16 18:25:26+00:00    75.0      21.07  23.95   \n",
      "23  CSCO230120P00080000 2022-05-19 14:10:08+00:00    80.0      37.95  36.70   \n",
      "24  CSCO230120P00085000 2022-07-05 16:52:58+00:00    85.0      43.79   0.00   \n",
      "25  CSCO230120P00095000 2022-04-18 04:03:08+00:00    95.0      41.82   0.00   \n",
      "\n",
      "      ask  change  percentChange  volume  openInterest  impliedVolatility  \\\n",
      "0    0.00     0.0            0.0   100.0          1021           0.250007   \n",
      "1    0.00     0.0            0.0     1.0          1720           0.250007   \n",
      "2    0.00     0.0            0.0    10.0          6490           0.125009   \n",
      "3    0.00     0.0            0.0    10.0          1575           0.125009   \n",
      "4    0.00     0.0            0.0  1017.0         15613           0.125009   \n",
      "5    0.00     0.0            0.0  1026.0          6641           0.062509   \n",
      "6    0.00     0.0            0.0    51.0          6442           0.062509   \n",
      "7    0.00     0.0            0.0    23.0          6399           0.031260   \n",
      "8    0.00     0.0            0.0   568.0         22283           0.015635   \n",
      "9    0.00     0.0            0.0    29.0          8432           0.000010   \n",
      "10   0.00     0.0            0.0     5.0         26884           0.000010   \n",
      "11   0.00     0.0            0.0     7.0         13213           0.000010   \n",
      "12   0.00     0.0            0.0     2.0         15447           0.000010   \n",
      "13   0.00     0.0            0.0     6.0         10014           0.000010   \n",
      "14   0.00     0.0            0.0     1.0          7728           0.000010   \n",
      "15   0.00     0.0            0.0    10.0          2050           0.000010   \n",
      "16   0.00     0.0            0.0     7.0          5987           0.000010   \n",
      "17   0.00     0.0            0.0     2.0          3126           0.000010   \n",
      "18   0.00     0.0            0.0     3.0           581           0.000010   \n",
      "19  19.65     0.0            0.0     1.0            83           0.000010   \n",
      "20   0.00     0.0            0.0     1.0           263           0.000010   \n",
      "21  23.80     0.0            0.0     1.0            30           0.000010   \n",
      "22  24.40     0.0            0.0     1.0           151           0.000010   \n",
      "23  37.15     0.0            0.0     2.0           121           0.000010   \n",
      "24   0.00     0.0            0.0     2.0           179           0.000010   \n",
      "25   0.00     0.0            0.0     NaN             0           0.000010   \n",
      "\n",
      "    inTheMoney contractSize currency  \n",
      "0        False      REGULAR      USD  \n",
      "1        False      REGULAR      USD  \n",
      "2        False      REGULAR      USD  \n",
      "3        False      REGULAR      USD  \n",
      "4        False      REGULAR      USD  \n",
      "5        False      REGULAR      USD  \n",
      "6        False      REGULAR      USD  \n",
      "7        False      REGULAR      USD  \n",
      "8        False      REGULAR      USD  \n",
      "9         True      REGULAR      USD  \n",
      "10        True      REGULAR      USD  \n",
      "11        True      REGULAR      USD  \n",
      "12        True      REGULAR      USD  \n",
      "13        True      REGULAR      USD  \n",
      "14        True      REGULAR      USD  \n",
      "15        True      REGULAR      USD  \n",
      "16        True      REGULAR      USD  \n",
      "17        True      REGULAR      USD  \n",
      "18        True      REGULAR      USD  \n",
      "19        True      REGULAR      USD  \n",
      "20        True      REGULAR      USD  \n",
      "21        True      REGULAR      USD  \n",
      "22        True      REGULAR      USD  \n",
      "23        True      REGULAR      USD  \n",
      "24        True      REGULAR      USD  \n",
      "25        True      REGULAR      USD  )\n"
     ]
    }
   ],
   "source": [
    "# Getting Call/Put options: Market Prices\n",
    "csco = yf.Ticker(\"csco\")\n",
    "ge = yf.Ticker(\"ge\")\n",
    "bac = yf.Ticker(\"bac\")\n",
    "\n",
    "opt_csco = csco.option_chain(date='2023-01-20')\n",
    "options_cisco = opt_csco\n",
    "print(options_cisco)\n",
    "\n",
    "opt_bac = bac.option_chain(date='2023-01-20')\n",
    "options_bac = opt_bac\n",
    "\n",
    "opt_ge = ge.option_chain(date='2023-01-20')\n",
    "options_ge = opt_ge"
   ],
   "metadata": {
    "collapsed": false,
    "pycharm": {
     "name": "#%%\n"
    }
   }
  },
  {
   "cell_type": "code",
   "execution_count": 4,
   "outputs": [
    {
     "name": "stdout",
     "output_type": "stream",
     "text": [
      "    strike  lastPrice  impliedVolatility\n",
      "0     20.0      22.10           0.000010\n",
      "1     23.0      39.95           2.881839\n",
      "2     25.0      17.15           0.000010\n",
      "3     28.0      13.85           0.000010\n",
      "4     30.0      12.34           0.000010\n",
      "5     33.0       9.35           0.000010\n",
      "6     35.0       7.80           0.000010\n",
      "7     37.0       6.80           0.000010\n",
      "8     40.0       4.75           0.000010\n",
      "9     42.0       3.60           0.000498\n",
      "10    45.0       2.02           0.031260\n",
      "11    47.0       1.49           0.031260\n",
      "12    50.0       0.90           0.062509\n",
      "13    52.5       0.51           0.062509\n",
      "14    55.0       0.30           0.062509\n",
      "15    57.5       0.17           0.125009\n",
      "16    60.0       0.09           0.125009\n",
      "17    62.5       0.07           0.125009\n",
      "18    65.0       0.05           0.125009\n",
      "19    67.5       0.04           0.125009\n",
      "20    70.0       0.04           0.125009\n",
      "21    72.5       0.04           0.125009\n",
      "22    75.0       0.03           0.125009\n",
      "23    80.0       0.04           0.250007\n",
      "24    85.0       0.02           0.250007\n",
      "25    90.0       0.02           0.250007\n",
      "26    95.0       0.01           0.250007\n",
      "    strike  lastPrice  impliedVolatility\n",
      "0      2.0       0.03           1.750001\n",
      "1      3.0       0.03           1.578127\n",
      "2      4.0       0.05           1.531252\n",
      "3      5.0       0.07           1.507815\n",
      "4      7.0       0.24           1.501956\n",
      "5     10.0       0.87           1.696291\n",
      "6     12.0       1.65           1.814454\n",
      "7     15.0       3.42           1.985840\n",
      "8     17.0       4.74           2.216801\n",
      "9     20.0       7.35           2.342778\n",
      "10    25.0      11.87           2.552982\n",
      "11    27.0      14.07           2.629398\n",
      "12    35.0       0.70           0.125009\n",
      "13    40.0       1.20           0.125009\n",
      "14    45.0       1.95           0.125009\n",
      "15    50.0       3.05           0.062509\n",
      "16    55.0       4.60           0.031260\n",
      "17    60.0       6.20           0.015635\n",
      "18    65.0       8.63           0.000010\n",
      "19    70.0       9.30           0.000010\n",
      "20    75.0      14.10           0.000010\n",
      "21    80.0      19.80           0.000010\n",
      "22    85.0      20.32           0.000010\n",
      "23    90.0      30.00           0.000010\n",
      "24    95.0      34.75           0.000010\n",
      "25   100.0      36.50           0.000010\n",
      "26   105.0      41.30           0.000010\n",
      "27   110.0      49.60           0.000010\n",
      "28   115.0      47.95           0.000010\n",
      "29   120.0      54.85           0.000010\n",
      "30   125.0      64.60           0.000010\n",
      "31   130.0      32.70           0.000010\n",
      "32   135.0      69.46           0.000010\n",
      "33   140.0      66.83           0.000010\n",
      "34   145.0      55.70           0.000010\n",
      "35   150.0      58.00           0.000010\n",
      "36   155.0      52.05           0.000010\n",
      "37   160.0      60.00           0.000010\n",
      "38   165.0      64.05           0.000010\n",
      "39   170.0      62.40           0.000010\n"
     ]
    }
   ],
   "source": [
    "# Get Market Call Prices - CSCO\n",
    "strike_call_list_cisco = (options_cisco[0]['strike'])\n",
    "market_price_call_cisco = (options_cisco[0]['lastPrice'])\n",
    "market_implied_vol_call_cisco = (options_cisco[0]['impliedVolatility'])\n",
    "df_market_call_csco = pd.DataFrame({'strike':strike_call_list_cisco ,\n",
    "                   'lastPrice':market_price_call_cisco ,\n",
    "                   'impliedVolatility': market_implied_vol_call_cisco})\n",
    "\n",
    "# Get Market Put Prices - GE\n",
    "strike_put_list_ge = (options_ge[1]['strike'])\n",
    "market_price_put_ge = (options_ge[1]['lastPrice'])\n",
    "market_implied_vol_put_ge = (options_ge[1]['impliedVolatility'])\n",
    "df_market_put_ge = pd.DataFrame({'strike':strike_put_list_ge ,\n",
    "                   'lastPrice':market_price_put_ge ,\n",
    "                   'impliedVolatility': market_implied_vol_put_ge})\n",
    "\n",
    "print(df_market_call_csco)\n",
    "print(df_market_put_ge)"
   ],
   "metadata": {
    "collapsed": false,
    "pycharm": {
     "name": "#%%\n"
    }
   }
  },
  {
   "cell_type": "code",
   "execution_count": 5,
   "outputs": [
    {
     "data": {
      "text/plain": "[<matplotlib.lines.Line2D at 0x12747c090>]"
     },
     "execution_count": 5,
     "metadata": {},
     "output_type": "execute_result"
    },
    {
     "data": {
      "text/plain": "<Figure size 1080x360 with 1 Axes>",
      "image/png": "[encoded data removed]"
     },
     "metadata": {
      "needs_background": "light"
     },
     "output_type": "display_data"
    }
   ],
   "source": [
    "# Choose interesting strikes values: MARKET PRICES - CSCO\n",
    "call_CSCO_strikes = df_market_call_csco['strike']\n",
    "market_call_CSCO_impliedVolatility = df_market_call_csco['impliedVolatility']\n",
    "market_call_CSCO_lastPrice = df_market_call_csco['lastPrice']\n",
    "\n",
    "call_CSCO_strikes = np.array(call_CSCO_strikes)\n",
    "call_CSCO_strikes = call_CSCO_strikes[2:]\n",
    "market_call_CSCO_impliedVolatility = np.array(market_call_CSCO_impliedVolatility)\n",
    "market_call_CSCO_impliedVolatility = market_call_CSCO_impliedVolatility[2:]\n",
    "market_call_CSCO_lastPrice = np.array(market_call_CSCO_lastPrice)\n",
    "market_call_CSCO_lastPrice = market_call_CSCO_lastPrice[2:]\n",
    "\n",
    "plt.plot(call_CSCO_strikes,market_call_CSCO_impliedVolatility)"
   ],
   "metadata": {
    "collapsed": false,
    "pycharm": {
     "name": "#%%\n"
    }
   }
  },
  {
   "cell_type": "code",
   "execution_count": 6,
   "outputs": [
    {
     "data": {
      "text/plain": "[<matplotlib.lines.Line2D at 0x127597590>]"
     },
     "execution_count": 6,
     "metadata": {},
     "output_type": "execute_result"
    },
    {
     "data": {
      "text/plain": "<Figure size 1080x360 with 1 Axes>",
      "image/png": "[encoded data removed]"
     },
     "metadata": {
      "needs_background": "light"
     },
     "output_type": "display_data"
    }
   ],
   "source": [
    "# Choose interesting strikes values: MARKET PRICES - GE\n",
    "put_GE_strikes = df_market_put_ge['strike']\n",
    "market_put_GE_impliedVolatility = df_market_put_ge['impliedVolatility']\n",
    "market_put_GE_lastPrice = df_market_put_ge['lastPrice']\n",
    "\n",
    "put_GE_strikes = np.array(put_GE_strikes)\n",
    "market_put_GE_impliedVolatility = np.array(market_put_GE_impliedVolatility)\n",
    "market_put_GE_lastPrice = np.array(market_put_GE_lastPrice)\n",
    "\n",
    "plt.plot(put_GE_strikes, market_put_GE_impliedVolatility)"
   ],
   "metadata": {
    "collapsed": false,
    "pycharm": {
     "name": "#%%\n"
    }
   }
  },
  {
   "cell_type": "code",
   "execution_count": 7,
   "outputs": [],
   "source": [
    "i = complex(0, 1)\n",
    "# To be used in the Heston pricer\n",
    "def fHeston(s, St, K, r, T, sigma, kappa, theta, volvol, rho):\n",
    "    # To be used a lot\n",
    "    prod = rho * sigma * i * s\n",
    "    # Calculate d\n",
    "    d1 = (prod-kappa) ** 2\n",
    "    d2 = (sigma**2) * (-2 * i * s + s**2)\n",
    "    d = np.sqrt(d1 + d2)\n",
    "    # Calculate g\n",
    "    g1 = kappa - prod - d\n",
    "    g2 = kappa - prod + d\n",
    "    g = g1 / g2\n",
    "    # Calculate first exponential\n",
    "    exp1 = np.exp(np.log(St) * i * s) * np.exp(i * s * r * T)\n",
    "    exp2 = 1 - g * np.exp(-d * T)\n",
    "    exp3 = 1 - g\n",
    "    mainExp1 = exp1 * np.power(exp2 / exp3, -2 * theta * kappa/ (sigma**2))\n",
    "    # Calculate second exponential\n",
    "    exp4 = theta * kappa * T / (sigma**2)\n",
    "    exp5 = volvol / (sigma**2)\n",
    "    exp6 = (1 - np.exp(-d * T)) / (1 - g * np.exp(-d * T))\n",
    "    mainExp2 = np.exp((exp4 * g1) + (exp5 * g1 * exp6))\n",
    "    return mainExp1 * mainExp2"
   ],
   "metadata": {
    "collapsed": false,
    "pycharm": {
     "name": "#%%\n"
    }
   }
  },
  {
   "cell_type": "code",
   "execution_count": 8,
   "outputs": [],
   "source": [
    "# Heston Pricer\n",
    "def priceHestonMid(St, K, r, q, T, sigma, kappa, theta, volvol, rho):\n",
    "    P, iterations, maxNumber = 0, 1000, 100\n",
    "    ds = maxNumber / iterations\n",
    "    element1 = 0.5 * (St * np.exp(-q * T) - K * np.exp(-r * T))\n",
    "    # Calculate the complex integral\n",
    "    # Using j instead of i to avoid confusion\n",
    "    for j in range(1, iterations):\n",
    "        s1 = ds * (2 * j + 1) / 2\n",
    "        s2 = s1 - i\n",
    "        numerator1 = fHeston(s2, St, K, r, T,\n",
    "                             sigma, kappa, theta, volvol, rho)\n",
    "        numerator2 = K * fHeston(s1, St, K, r, T,\n",
    "                               sigma, kappa, theta, volvol, rho)\n",
    "        denominator = np.exp(np.log(K) * i * s1) * i * s1\n",
    "        P += ds * (numerator1 - numerator2) / denominator\n",
    "    element2 = P / np.pi\n",
    "    return np.real((element1 + element2))"
   ],
   "metadata": {
    "collapsed": false,
    "pycharm": {
     "name": "#%%\n"
    }
   }
  },
  {
   "cell_type": "code",
   "execution_count": 9,
   "outputs": [],
   "source": [
    "# Test Parameters\n",
    "\n",
    "S_0_CSCO = 41.11            # stock price: CSCO\n",
    "S_0_GE = 61.23              # stock price: GE\n",
    "r = 1.68/100                # interest rate\n",
    "q_csco = 0.0152             # dividend yield CSCO\n",
    "q_ge = 0.0032               # dividend yield GE\n",
    "K_CSCO = 55                 # specific strike CSCO\n",
    "K_GE = 35                   # specific strike GE\n",
    "T = 144/250                 # 30 weeks: 150 trading days\n",
    "N = len(call_CSCO_strikes)"
   ],
   "metadata": {
    "collapsed": false,
    "pycharm": {
     "name": "#%%\n"
    }
   }
  },
  {
   "cell_type": "code",
   "execution_count": 10,
   "outputs": [
    {
     "name": "stderr",
     "output_type": "stream",
     "text": [
      "/Users/z.scialom/Documents/IIT_courses_SPRING/MATH584_Algo_Trading/PyCharm_projects/venv/lib/python3.7/site-packages/ipykernel_launcher.py:18: RuntimeWarning: overflow encountered in cdouble_scalars\n",
      "/Users/z.scialom/Documents/IIT_courses_SPRING/MATH584_Algo_Trading/PyCharm_projects/venv/lib/python3.7/site-packages/ipykernel_launcher.py:24: RuntimeWarning: invalid value encountered in cdouble_scalars\n",
      "/Users/z.scialom/Documents/IIT_courses_SPRING/MATH584_Algo_Trading/PyCharm_projects/venv/lib/python3.7/site-packages/ipykernel_launcher.py:18: RuntimeWarning: overflow encountered in power\n",
      "/Users/z.scialom/Documents/IIT_courses_SPRING/MATH584_Algo_Trading/PyCharm_projects/venv/lib/python3.7/site-packages/ipykernel_launcher.py:18: RuntimeWarning: invalid value encountered in cdouble_scalars\n"
     ]
    },
    {
     "data": {
      "text/plain": "     fun: 2404.0068486524365\n message: ['Maximum number of iteration reached']\n    nfev: 10337\n    nhev: 0\n     nit: 1000\n    njev: 56\n  status: 0\n success: True\n       x: array([9.18664415, 7.00480781, 0.01      , 0.1956079 , 1.        ])"
     },
     "execution_count": 10,
     "metadata": {},
     "output_type": "execute_result"
    }
   ],
   "source": [
    "# Annealing calibration function for Call options\n",
    "def calibratorHestonSA(St, lowerBounds = [1e-2,1e-2,1e-2,1e-2,-1],\n",
    "                            upperBounds = [10,10,10,10,1]):\n",
    "\n",
    "    # Note the difference in the objective function (sum of squares vs vector of errors)\n",
    "    objectiveFunctionHeston = lambda paramVect: np.sum(np.square((market_call_CSCO_lastPrice - priceHestonMid(St, call_CSCO_strikes,\n",
    "                                                                        r,\n",
    "                                                                        q_csco,\n",
    "                                                                        T,\n",
    "                                                                        paramVect[0],\n",
    "                                                                        paramVect[1],\n",
    "                                                                        paramVect[2],\n",
    "                                                                        paramVect[3],\n",
    "                                                                        paramVect[4]))/market_call_CSCO_lastPrice))\n",
    "\n",
    "    # Define the upper and lower bounds\n",
    "    bounds = list(zip(lowerBounds, upperBounds))\n",
    "\n",
    "    # Minimize the function\n",
    "    results = dual_annealing(objectiveFunctionHeston, bounds = bounds)\n",
    "\n",
    "    return results\n",
    "\n",
    "calibratorHestonSA(S_0_CSCO)"
   ],
   "metadata": {
    "collapsed": false,
    "pycharm": {
     "name": "#%%\n"
    }
   }
  },
  {
   "cell_type": "code",
   "execution_count": 11,
   "outputs": [],
   "source": [
    "def putPriceHestonMid(St, K, r, q, T, call_price):\n",
    "    return call_price + K * np/exp(-r * T) - St * np/exp(-q * T)"
   ],
   "metadata": {
    "collapsed": false,
    "pycharm": {
     "name": "#%%\n"
    }
   }
  },
  {
   "cell_type": "code",
   "execution_count": 13,
   "outputs": [
    {
     "name": "stderr",
     "output_type": "stream",
     "text": [
      "/Users/z.scialom/Documents/IIT_courses_SPRING/MATH584_Algo_Trading/PyCharm_projects/venv/lib/python3.7/site-packages/ipykernel_launcher.py:18: RuntimeWarning: overflow encountered in cdouble_scalars\n",
      "/Users/z.scialom/Documents/IIT_courses_SPRING/MATH584_Algo_Trading/PyCharm_projects/venv/lib/python3.7/site-packages/ipykernel_launcher.py:24: RuntimeWarning: invalid value encountered in cdouble_scalars\n",
      "/Users/z.scialom/Documents/IIT_courses_SPRING/MATH584_Algo_Trading/PyCharm_projects/venv/lib/python3.7/site-packages/ipykernel_launcher.py:18: RuntimeWarning: invalid value encountered in cdouble_scalars\n",
      "/Users/z.scialom/Documents/IIT_courses_SPRING/MATH584_Algo_Trading/PyCharm_projects/venv/lib/python3.7/site-packages/ipykernel_launcher.py:18: RuntimeWarning: overflow encountered in power\n"
     ]
    },
    {
     "ename": "KeyboardInterrupt",
     "evalue": "",
     "output_type": "error",
     "traceback": [
      "\u001B[0;31m---------------------------------------------------------------------------\u001B[0m",
      "\u001B[0;31mKeyboardInterrupt\u001B[0m                         Traceback (most recent call last)",
      "\u001B[0;32m/var/folders/9m/22_qn_8s6s5178_sttmdk5xw0000gn/T/ipykernel_12040/1220407212.py\u001B[0m in \u001B[0;36m<module>\u001B[0;34m\u001B[0m\n\u001B[1;32m     22\u001B[0m     \u001B[0;32mreturn\u001B[0m \u001B[0mresults\u001B[0m\u001B[0;34m\u001B[0m\u001B[0;34m\u001B[0m\u001B[0m\n\u001B[1;32m     23\u001B[0m \u001B[0;34m\u001B[0m\u001B[0m\n\u001B[0;32m---> 24\u001B[0;31m \u001B[0mcalibratorHestonSAPut\u001B[0m\u001B[0;34m(\u001B[0m\u001B[0mS_0_GE\u001B[0m\u001B[0;34m)\u001B[0m\u001B[0;34m\u001B[0m\u001B[0;34m\u001B[0m\u001B[0m\n\u001B[0m",
      "\u001B[0;32m/var/folders/9m/22_qn_8s6s5178_sttmdk5xw0000gn/T/ipykernel_12040/1220407212.py\u001B[0m in \u001B[0;36mcalibratorHestonSAPut\u001B[0;34m(St, lowerBounds, upperBounds)\u001B[0m\n\u001B[1;32m     18\u001B[0m \u001B[0;34m\u001B[0m\u001B[0m\n\u001B[1;32m     19\u001B[0m     \u001B[0;31m# Minimize the function\u001B[0m\u001B[0;34m\u001B[0m\u001B[0;34m\u001B[0m\u001B[0;34m\u001B[0m\u001B[0m\n\u001B[0;32m---> 20\u001B[0;31m     \u001B[0mresults\u001B[0m \u001B[0;34m=\u001B[0m \u001B[0mdual_annealing\u001B[0m\u001B[0;34m(\u001B[0m\u001B[0mobjectiveFunctionHestonput\u001B[0m\u001B[0;34m,\u001B[0m \u001B[0mbounds\u001B[0m \u001B[0;34m=\u001B[0m \u001B[0mbounds\u001B[0m\u001B[0;34m)\u001B[0m\u001B[0;34m\u001B[0m\u001B[0;34m\u001B[0m\u001B[0m\n\u001B[0m\u001B[1;32m     21\u001B[0m \u001B[0;34m\u001B[0m\u001B[0m\n\u001B[1;32m     22\u001B[0m     \u001B[0;32mreturn\u001B[0m \u001B[0mresults\u001B[0m\u001B[0;34m\u001B[0m\u001B[0;34m\u001B[0m\u001B[0m\n",
      "\u001B[0;32m~/Documents/IIT_courses_SPRING/MATH584_Algo_Trading/PyCharm_projects/venv/lib/python3.7/site-packages/scipy/optimize/_dual_annealing.py\u001B[0m in \u001B[0;36mdual_annealing\u001B[0;34m(func, bounds, args, maxiter, local_search_options, initial_temp, restart_temp_ratio, visit, accept, maxfun, seed, no_local_search, callback, x0)\u001B[0m\n\u001B[1;32m    673\u001B[0m                 \u001B[0;32mbreak\u001B[0m\u001B[0;34m\u001B[0m\u001B[0;34m\u001B[0m\u001B[0m\n\u001B[1;32m    674\u001B[0m             \u001B[0;31m# starting strategy chain\u001B[0m\u001B[0;34m\u001B[0m\u001B[0;34m\u001B[0m\u001B[0;34m\u001B[0m\u001B[0m\n\u001B[0;32m--> 675\u001B[0;31m             \u001B[0mval\u001B[0m \u001B[0;34m=\u001B[0m \u001B[0mstrategy_chain\u001B[0m\u001B[0;34m.\u001B[0m\u001B[0mrun\u001B[0m\u001B[0;34m(\u001B[0m\u001B[0mi\u001B[0m\u001B[0;34m,\u001B[0m \u001B[0mtemperature\u001B[0m\u001B[0;34m)\u001B[0m\u001B[0;34m\u001B[0m\u001B[0;34m\u001B[0m\u001B[0m\n\u001B[0m\u001B[1;32m    676\u001B[0m             \u001B[0;32mif\u001B[0m \u001B[0mval\u001B[0m \u001B[0;32mis\u001B[0m \u001B[0;32mnot\u001B[0m \u001B[0;32mNone\u001B[0m\u001B[0;34m:\u001B[0m\u001B[0;34m\u001B[0m\u001B[0;34m\u001B[0m\u001B[0m\n\u001B[1;32m    677\u001B[0m                 \u001B[0mmessage\u001B[0m\u001B[0;34m.\u001B[0m\u001B[0mappend\u001B[0m\u001B[0;34m(\u001B[0m\u001B[0mval\u001B[0m\u001B[0;34m)\u001B[0m\u001B[0;34m\u001B[0m\u001B[0;34m\u001B[0m\u001B[0m\n",
      "\u001B[0;32m~/Documents/IIT_courses_SPRING/MATH584_Algo_Trading/PyCharm_projects/venv/lib/python3.7/site-packages/scipy/optimize/_dual_annealing.py\u001B[0m in \u001B[0;36mrun\u001B[0;34m(self, step, temperature)\u001B[0m\n\u001B[1;32m    295\u001B[0m                 self.energy_state.current_location, j, temperature)\n\u001B[1;32m    296\u001B[0m             \u001B[0;31m# Calling the objective function\u001B[0m\u001B[0;34m\u001B[0m\u001B[0;34m\u001B[0m\u001B[0;34m\u001B[0m\u001B[0m\n\u001B[0;32m--> 297\u001B[0;31m             \u001B[0me\u001B[0m \u001B[0;34m=\u001B[0m \u001B[0mself\u001B[0m\u001B[0;34m.\u001B[0m\u001B[0mfunc_wrapper\u001B[0m\u001B[0;34m.\u001B[0m\u001B[0mfun\u001B[0m\u001B[0;34m(\u001B[0m\u001B[0mx_visit\u001B[0m\u001B[0;34m)\u001B[0m\u001B[0;34m\u001B[0m\u001B[0;34m\u001B[0m\u001B[0m\n\u001B[0m\u001B[1;32m    298\u001B[0m             \u001B[0;32mif\u001B[0m \u001B[0me\u001B[0m \u001B[0;34m<\u001B[0m \u001B[0mself\u001B[0m\u001B[0;34m.\u001B[0m\u001B[0menergy_state\u001B[0m\u001B[0;34m.\u001B[0m\u001B[0mcurrent_energy\u001B[0m\u001B[0;34m:\u001B[0m\u001B[0;34m\u001B[0m\u001B[0;34m\u001B[0m\u001B[0m\n\u001B[1;32m    299\u001B[0m                 \u001B[0;31m# We have got a better energy value\u001B[0m\u001B[0;34m\u001B[0m\u001B[0;34m\u001B[0m\u001B[0;34m\u001B[0m\u001B[0m\n",
      "\u001B[0;32m~/Documents/IIT_courses_SPRING/MATH584_Algo_Trading/PyCharm_projects/venv/lib/python3.7/site-packages/scipy/optimize/_dual_annealing.py\u001B[0m in \u001B[0;36mfun\u001B[0;34m(self, x)\u001B[0m\n\u001B[1;32m    378\u001B[0m     \u001B[0;32mdef\u001B[0m \u001B[0mfun\u001B[0m\u001B[0;34m(\u001B[0m\u001B[0mself\u001B[0m\u001B[0;34m,\u001B[0m \u001B[0mx\u001B[0m\u001B[0;34m)\u001B[0m\u001B[0;34m:\u001B[0m\u001B[0;34m\u001B[0m\u001B[0;34m\u001B[0m\u001B[0m\n\u001B[1;32m    379\u001B[0m         \u001B[0mself\u001B[0m\u001B[0;34m.\u001B[0m\u001B[0mnfev\u001B[0m \u001B[0;34m+=\u001B[0m \u001B[0;36m1\u001B[0m\u001B[0;34m\u001B[0m\u001B[0;34m\u001B[0m\u001B[0m\n\u001B[0;32m--> 380\u001B[0;31m         \u001B[0;32mreturn\u001B[0m \u001B[0mself\u001B[0m\u001B[0;34m.\u001B[0m\u001B[0mfunc\u001B[0m\u001B[0;34m(\u001B[0m\u001B[0mx\u001B[0m\u001B[0;34m,\u001B[0m \u001B[0;34m*\u001B[0m\u001B[0mself\u001B[0m\u001B[0;34m.\u001B[0m\u001B[0margs\u001B[0m\u001B[0;34m)\u001B[0m\u001B[0;34m\u001B[0m\u001B[0;34m\u001B[0m\u001B[0m\n\u001B[0m\u001B[1;32m    381\u001B[0m \u001B[0;34m\u001B[0m\u001B[0m\n\u001B[1;32m    382\u001B[0m \u001B[0;34m\u001B[0m\u001B[0m\n",
      "\u001B[0;32m/var/folders/9m/22_qn_8s6s5178_sttmdk5xw0000gn/T/ipykernel_12040/1220407212.py\u001B[0m in \u001B[0;36m<lambda>\u001B[0;34m(paramVect)\u001B[0m\n\u001B[1;32m     12\u001B[0m                                                                         \u001B[0mparamVect\u001B[0m\u001B[0;34m[\u001B[0m\u001B[0;36m2\u001B[0m\u001B[0;34m]\u001B[0m\u001B[0;34m,\u001B[0m\u001B[0;34m\u001B[0m\u001B[0;34m\u001B[0m\u001B[0m\n\u001B[1;32m     13\u001B[0m                                                                         \u001B[0mparamVect\u001B[0m\u001B[0;34m[\u001B[0m\u001B[0;36m3\u001B[0m\u001B[0;34m]\u001B[0m\u001B[0;34m,\u001B[0m\u001B[0;34m\u001B[0m\u001B[0;34m\u001B[0m\u001B[0m\n\u001B[0;32m---> 14\u001B[0;31m                                                                         paramVect[4])- put_GE_strikes * np.exp(-r * T) + St * np.exp(-q_ge * T))/market_price_put_ge))\n\u001B[0m\u001B[1;32m     15\u001B[0m \u001B[0;34m\u001B[0m\u001B[0m\n\u001B[1;32m     16\u001B[0m     \u001B[0;31m# Define the upper and lower bounds\u001B[0m\u001B[0;34m\u001B[0m\u001B[0;34m\u001B[0m\u001B[0;34m\u001B[0m\u001B[0m\n",
      "\u001B[0;32m/var/folders/9m/22_qn_8s6s5178_sttmdk5xw0000gn/T/ipykernel_12040/2095047046.py\u001B[0m in \u001B[0;36mpriceHestonMid\u001B[0;34m(St, K, r, q, T, sigma, kappa, theta, volvol, rho)\u001B[0m\n\u001B[1;32m     12\u001B[0m                              sigma, kappa, theta, volvol, rho)\n\u001B[1;32m     13\u001B[0m         numerator2 = K * fHeston(s1, St, K, r, T,\n\u001B[0;32m---> 14\u001B[0;31m                                sigma, kappa, theta, volvol, rho)\n\u001B[0m\u001B[1;32m     15\u001B[0m         \u001B[0mdenominator\u001B[0m \u001B[0;34m=\u001B[0m \u001B[0mnp\u001B[0m\u001B[0;34m.\u001B[0m\u001B[0mexp\u001B[0m\u001B[0;34m(\u001B[0m\u001B[0mnp\u001B[0m\u001B[0;34m.\u001B[0m\u001B[0mlog\u001B[0m\u001B[0;34m(\u001B[0m\u001B[0mK\u001B[0m\u001B[0;34m)\u001B[0m \u001B[0;34m*\u001B[0m \u001B[0mi\u001B[0m \u001B[0;34m*\u001B[0m \u001B[0ms1\u001B[0m\u001B[0;34m)\u001B[0m \u001B[0;34m*\u001B[0m \u001B[0mi\u001B[0m \u001B[0;34m*\u001B[0m \u001B[0ms1\u001B[0m\u001B[0;34m\u001B[0m\u001B[0;34m\u001B[0m\u001B[0m\n\u001B[1;32m     16\u001B[0m         \u001B[0mP\u001B[0m \u001B[0;34m+=\u001B[0m \u001B[0mds\u001B[0m \u001B[0;34m*\u001B[0m \u001B[0;34m(\u001B[0m\u001B[0mnumerator1\u001B[0m \u001B[0;34m-\u001B[0m \u001B[0mnumerator2\u001B[0m\u001B[0;34m)\u001B[0m \u001B[0;34m/\u001B[0m \u001B[0mdenominator\u001B[0m\u001B[0;34m\u001B[0m\u001B[0;34m\u001B[0m\u001B[0m\n",
      "\u001B[0;32m/var/folders/9m/22_qn_8s6s5178_sttmdk5xw0000gn/T/ipykernel_12040/3738772309.py\u001B[0m in \u001B[0;36mfHeston\u001B[0;34m(s, St, K, r, T, sigma, kappa, theta, volvol, rho)\u001B[0m\n\u001B[1;32m     21\u001B[0m     \u001B[0mexp5\u001B[0m \u001B[0;34m=\u001B[0m \u001B[0mvolvol\u001B[0m \u001B[0;34m/\u001B[0m \u001B[0;34m(\u001B[0m\u001B[0msigma\u001B[0m\u001B[0;34m**\u001B[0m\u001B[0;36m2\u001B[0m\u001B[0;34m)\u001B[0m\u001B[0;34m\u001B[0m\u001B[0;34m\u001B[0m\u001B[0m\n\u001B[1;32m     22\u001B[0m     \u001B[0mexp6\u001B[0m \u001B[0;34m=\u001B[0m \u001B[0;34m(\u001B[0m\u001B[0;36m1\u001B[0m \u001B[0;34m-\u001B[0m \u001B[0mnp\u001B[0m\u001B[0;34m.\u001B[0m\u001B[0mexp\u001B[0m\u001B[0;34m(\u001B[0m\u001B[0;34m-\u001B[0m\u001B[0md\u001B[0m \u001B[0;34m*\u001B[0m \u001B[0mT\u001B[0m\u001B[0;34m)\u001B[0m\u001B[0;34m)\u001B[0m \u001B[0;34m/\u001B[0m \u001B[0;34m(\u001B[0m\u001B[0;36m1\u001B[0m \u001B[0;34m-\u001B[0m \u001B[0mg\u001B[0m \u001B[0;34m*\u001B[0m \u001B[0mnp\u001B[0m\u001B[0;34m.\u001B[0m\u001B[0mexp\u001B[0m\u001B[0;34m(\u001B[0m\u001B[0;34m-\u001B[0m\u001B[0md\u001B[0m \u001B[0;34m*\u001B[0m \u001B[0mT\u001B[0m\u001B[0;34m)\u001B[0m\u001B[0;34m)\u001B[0m\u001B[0;34m\u001B[0m\u001B[0;34m\u001B[0m\u001B[0m\n\u001B[0;32m---> 23\u001B[0;31m     \u001B[0mmainExp2\u001B[0m \u001B[0;34m=\u001B[0m \u001B[0mnp\u001B[0m\u001B[0;34m.\u001B[0m\u001B[0mexp\u001B[0m\u001B[0;34m(\u001B[0m\u001B[0;34m(\u001B[0m\u001B[0mexp4\u001B[0m \u001B[0;34m*\u001B[0m \u001B[0mg1\u001B[0m\u001B[0;34m)\u001B[0m \u001B[0;34m+\u001B[0m \u001B[0;34m(\u001B[0m\u001B[0mexp5\u001B[0m \u001B[0;34m*\u001B[0m \u001B[0mg1\u001B[0m \u001B[0;34m*\u001B[0m \u001B[0mexp6\u001B[0m\u001B[0;34m)\u001B[0m\u001B[0;34m)\u001B[0m\u001B[0;34m\u001B[0m\u001B[0;34m\u001B[0m\u001B[0m\n\u001B[0m\u001B[1;32m     24\u001B[0m     \u001B[0;32mreturn\u001B[0m \u001B[0mmainExp1\u001B[0m \u001B[0;34m*\u001B[0m \u001B[0mmainExp2\u001B[0m\u001B[0;34m\u001B[0m\u001B[0;34m\u001B[0m\u001B[0m\n",
      "\u001B[0;31mKeyboardInterrupt\u001B[0m: "
     ]
    }
   ],
   "source": [
    "# Annealing calibration function for Put options\n",
    "def calibratorHestonSAPut(St, lowerBounds = [1e-2,1e-2,1e-2,1e-2,-1],\n",
    "                            upperBounds = [1,1,1,1,1]):\n",
    "\n",
    "    # Note the difference in the objective function (sum of squares vs vector of errors)\n",
    "    objectiveFunctionHestonput = lambda paramVect: np.sum(np.square((market_price_put_ge - priceHestonMid(St, put_GE_strikes,\n",
    "                                                                        r,\n",
    "                                                                        q_ge,\n",
    "                                                                        T,\n",
    "                                                                        paramVect[0],\n",
    "                                                                        paramVect[1],\n",
    "                                                                        paramVect[2],\n",
    "                                                                        paramVect[3],\n",
    "                                                                        paramVect[4])- put_GE_strikes * np.exp(-r * T) + St * np.exp(-q_ge * T))/market_price_put_ge))\n",
    "\n",
    "    # Define the upper and lower bounds\n",
    "    bounds = list(zip(lowerBounds, upperBounds))\n",
    "\n",
    "    # Minimize the function\n",
    "    results = dual_annealing(objectiveFunctionHestonput, bounds = bounds)\n",
    "\n",
    "    return results\n",
    "\n",
    "calibratorHestonSAPut(S_0_GE)"
   ],
   "metadata": {
    "collapsed": false,
    "pycharm": {
     "name": "#%%\n"
    }
   }
  },
  {
   "cell_type": "code",
   "execution_count": null,
   "outputs": [],
   "source": [],
   "metadata": {
    "collapsed": false,
    "pycharm": {
     "name": "#%%\n"
    }
   }
  }
 ],
 "metadata": {
  "kernelspec": {
   "display_name": "Python 3",
   "language": "python",
   "name": "python3"
  },
  "language_info": {
   "codemirror_mode": {
    "name": "ipython",
    "version": 2
   },
   "file_extension": ".py",
   "mimetype": "text/x-python",
   "name": "python",
   "nbconvert_exporter": "python",
   "pygments_lexer": "ipython2",
   "version": "2.7.6"
  }
 },
 "nbformat": 4,
 "nbformat_minor": 0
}