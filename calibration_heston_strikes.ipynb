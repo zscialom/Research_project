{
 "cells": [
  {
   "cell_type": "code",
   "execution_count": 121,
   "metadata": {
    "collapsed": true
   },
   "outputs": [],
   "source": [
    "import matplotlib.pyplot as plt\n",
    "import numpy as np\n",
    "from math import log, sqrt, pi, exp\n",
    "import scipy.special\n",
    "import matplotlib.pylab as pylab\n",
    "\n",
    "\n",
    "params = {'legend.fontsize': 'x-large',\n",
    "          'figure.figsize': (15, 5),\n",
    "         'axes.labelsize': 'x-large',\n",
    "         'axes.titlesize':'x-large',\n",
    "         'xtick.labelsize':'x-large',\n",
    "         'ytick.labelsize':'x-large'}\n",
    "pylab.rcParams.update(params)\n",
    "from scipy.optimize import minimize\n",
    "import yfinance as yf\n",
    "import pandas as pd\n",
    "import matplotlib.pyplot as plt\n",
    "from scipy.optimize import dual_annealing"
   ]
  },
  {
   "cell_type": "code",
   "execution_count": 31,
   "outputs": [
    {
     "name": "stdout",
     "output_type": "stream",
     "text": [
      "[*********************100%***********************]  3 of 3 completed\n",
      "            Adj Close                             Close             \\\n",
      "                  BAC       CSCO          GE        BAC       CSCO   \n",
      "Date                                                                 \n",
      "2021-08-31  40.901459  57.884148  105.141518  41.750000  59.020000   \n",
      "2021-09-01  40.352840  57.903759  103.395966  41.189999  59.040001   \n",
      "2021-09-02  40.392227  58.384331  105.989342  41.020000  59.529999   \n",
      "2021-09-03  40.421772  58.276443  104.483185  41.049999  59.419998   \n",
      "2021-09-07  40.687637  57.746838  103.026917  41.320000  58.880001   \n",
      "...               ...        ...         ...        ...        ...   \n",
      "2022-06-03  36.189999  45.250000   76.970001  36.189999  45.250000   \n",
      "2022-06-06  36.150002  45.330002   77.000000  36.150002  45.330002   \n",
      "2022-06-07  36.349998  45.570000   78.000000  36.349998  45.570000   \n",
      "2022-06-08  35.889999  44.919998   77.160004  35.889999  44.919998   \n",
      "2022-06-09  34.509998  44.259998   74.779999  34.509998  44.259998   \n",
      "\n",
      "                             High                               Low  \\\n",
      "                    GE        BAC       CSCO          GE        BAC   \n",
      "Date                                                                  \n",
      "2021-08-31  105.410004  42.070000  59.180000  106.360001  41.360001   \n",
      "2021-09-01  103.660004  41.779999  59.139999  105.470001  41.029999   \n",
      "2021-09-02  106.260002  41.490002  59.720001  106.339996  40.639999   \n",
      "2021-09-03  104.750000  41.189999  59.660000  107.360001  40.680000   \n",
      "2021-09-07  103.290001  41.849998  59.369999  104.940002  41.180000   \n",
      "...                ...        ...        ...         ...        ...   \n",
      "2022-06-03   76.970001  36.680000  45.740002   77.150002  36.130001   \n",
      "2022-06-06   77.000000  37.209999  46.090000   78.290001  36.099998   \n",
      "2022-06-07   78.000000  36.410000  45.650002   78.150002  35.740002   \n",
      "2022-06-08   77.160004  36.110001  45.630001   78.279999  35.520000   \n",
      "2022-06-09   74.779999  35.840000  45.270000   77.050003  34.500000   \n",
      "\n",
      "                                        Open                           Volume  \\\n",
      "                 CSCO          GE        BAC       CSCO          GE       BAC   \n",
      "Date                                                                            \n",
      "2021-08-31  58.580002  104.459999  41.669998  59.110001  104.940002  54654600   \n",
      "2021-09-01  58.660000  103.260002  41.750000  59.020000  105.360001  52361900   \n",
      "2021-09-02  59.060001  103.980003  41.110001  59.349998  104.000000  44538900   \n",
      "2021-09-03  59.279999  104.080002  41.020000  59.330002  106.000000  41812400   \n",
      "2021-09-07  58.750000  102.309998  41.250000  59.240002  104.500000  43748600   \n",
      "...               ...         ...        ...        ...         ...       ...   \n",
      "2022-06-03  45.119999   75.669998  36.480000  45.549999   76.739998  25222100   \n",
      "2022-06-06  45.130001   76.769997  36.700001  45.599998   77.910004  40394000   \n",
      "2022-06-07  44.720001   76.169998  35.900002  44.820000   76.910004  29152200   \n",
      "2022-06-08  44.880001   76.519997  35.919998  45.450001   76.690002  33590600   \n",
      "2022-06-09  44.240002   74.750000  35.740002  44.830002   76.889999  49419000   \n",
      "\n",
      "                                \n",
      "                CSCO        GE  \n",
      "Date                            \n",
      "2021-08-31  19873900  10990800  \n",
      "2021-09-01  11629700   7968100  \n",
      "2021-09-02  12855700   8493700  \n",
      "2021-09-03   9732200   7616900  \n",
      "2021-09-07  15503600  10989500  \n",
      "...              ...       ...  \n",
      "2022-06-03  17945000   5272600  \n",
      "2022-06-06  12641900   4744100  \n",
      "2022-06-07  14667200   5125800  \n",
      "2022-06-08  16263800   3376000  \n",
      "2022-06-09  18417700   5055500  \n",
      "\n",
      "[196 rows x 18 columns]\n"
     ]
    }
   ],
   "source": [
    "tickers = [\"CSCO\",\"BAC\",\"GE\"]\n",
    "#download the prices and volumes for the previously read list of tickers\n",
    "start_date = '2021-09-01'\n",
    "end_date = '2022-06-10'\n",
    "stock_data = yf.download(tickers, start=start_date, end=end_date)\n",
    "print(stock_data)"
   ],
   "metadata": {
    "collapsed": false,
    "pycharm": {
     "name": "#%%\n"
    }
   }
  },
  {
   "cell_type": "code",
   "execution_count": 32,
   "outputs": [
    {
     "name": "stdout",
     "output_type": "stream",
     "text": [
      "Options(calls=         contractSymbol             lastTradeDate  strike  lastPrice    bid  \\\n",
      "0   CSCO230120C00020000 2022-06-15 18:01:28+00:00    20.0      23.82  23.30   \n",
      "1   CSCO230120C00023000 2022-01-03 18:48:29+00:00    23.0      39.95  33.05   \n",
      "2   CSCO230120C00025000 2022-05-19 17:09:20+00:00    25.0      16.57  18.30   \n",
      "3   CSCO230120C00028000 2022-06-15 16:13:09+00:00    28.0      15.90  15.50   \n",
      "4   CSCO230120C00030000 2022-06-16 13:30:10+00:00    30.0      13.39  13.65   \n",
      "5   CSCO230120C00033000 2022-06-13 19:38:44+00:00    33.0      11.15  11.05   \n",
      "6   CSCO230120C00035000 2022-06-15 13:57:24+00:00    35.0       9.65   9.35   \n",
      "7   CSCO230120C00037000 2022-06-17 15:22:40+00:00    37.0       8.12   7.80   \n",
      "8   CSCO230120C00040000 2022-06-17 19:02:09+00:00    40.0       5.90   5.65   \n",
      "9   CSCO230120C00042000 2022-06-17 18:26:32+00:00    42.0       4.70   4.45   \n",
      "10  CSCO230120C00045000 2022-06-17 19:59:42+00:00    45.0       3.00   2.92   \n",
      "11  CSCO230120C00047000 2022-06-17 19:24:37+00:00    47.0       2.27   1.98   \n",
      "12  CSCO230120C00050000 2022-06-17 18:39:51+00:00    50.0       1.41   1.21   \n",
      "13  CSCO230120C00052500 2022-06-17 18:14:49+00:00    52.5       0.90   0.80   \n",
      "14  CSCO230120C00055000 2022-06-17 18:44:11+00:00    55.0       0.54   0.50   \n",
      "15  CSCO230120C00057500 2022-06-17 18:18:36+00:00    57.5       0.35   0.30   \n",
      "16  CSCO230120C00060000 2022-06-17 19:41:01+00:00    60.0       0.21   0.18   \n",
      "17  CSCO230120C00062500 2022-06-17 17:11:13+00:00    62.5       0.13   0.10   \n",
      "18  CSCO230120C00065000 2022-06-17 19:01:46+00:00    65.0       0.10   0.07   \n",
      "19  CSCO230120C00067500 2022-06-16 16:37:32+00:00    67.5       0.08   0.05   \n",
      "20  CSCO230120C00070000 2022-06-17 18:56:03+00:00    70.0       0.06   0.05   \n",
      "21  CSCO230120C00072500 2022-06-16 13:35:56+00:00    72.5       0.12   0.02   \n",
      "22  CSCO230120C00075000 2022-06-17 18:14:05+00:00    75.0       0.04   0.02   \n",
      "23  CSCO230120C00080000 2022-06-09 13:55:23+00:00    80.0       0.04   0.01   \n",
      "24  CSCO230120C00085000 2022-06-09 17:35:27+00:00    85.0       0.02   0.00   \n",
      "25  CSCO230120C00090000 2022-06-15 17:22:05+00:00    90.0       0.02   0.01   \n",
      "26  CSCO230120C00095000 2022-06-16 16:41:40+00:00    95.0       0.01   0.00   \n",
      "\n",
      "      ask  change  percentChange  volume  openInterest  impliedVolatility  \\\n",
      "0   23.60    0.00       0.000000       1            34           0.578129   \n",
      "1   33.40    0.00       0.000000     180             0           2.534672   \n",
      "2   18.60    0.00       0.000000      10            65           0.428717   \n",
      "3   15.80    0.00       0.000000       1           122           0.410650   \n",
      "4   13.95    0.00       0.000000       1           257           0.389166   \n",
      "5   11.25    0.00       0.000000       2           199           0.356696   \n",
      "6    9.60    0.00       0.000000       1           395           0.344977   \n",
      "7    8.05    0.12       1.499999       6           646           0.333259   \n",
      "8    5.85    0.30       5.357146      11          4381           0.308112   \n",
      "9    4.70    0.32       7.305929      21          3949           0.303962   \n",
      "10   3.05    0.05       1.694914      13          6150           0.281379   \n",
      "11   2.29    0.06       2.714930      27         12607           0.277107   \n",
      "12   1.38    0.03       2.173911      21         13431           0.267097   \n",
      "13   0.93    0.05       5.882347      13          5093           0.267341   \n",
      "14   0.60    0.00       0.000000      57          9315           0.265632   \n",
      "15   0.34    0.00       0.000000       7          7504           0.257332   \n",
      "16   0.22   -0.01      -4.545457      50         14020           0.259285   \n",
      "17   0.17   -0.02     -13.333340      91         15905           0.270515   \n",
      "18   0.10    0.00       0.000000       3         30248           0.267585   \n",
      "19   0.08    0.00       0.000000      12          6553           0.277351   \n",
      "20   0.07    0.00       0.000000       1         10116           0.291023   \n",
      "21   0.07    0.00       0.000000       3          1120           0.308601   \n",
      "22   0.05   -0.01     -20.000004      41          2066           0.310554   \n",
      "23   0.05    0.00       0.000000       5          2297           0.340827   \n",
      "24   0.03    0.00       0.000000      10          1722           0.347663   \n",
      "25   0.03    0.00       0.000000       1          1346           0.371100   \n",
      "26   0.03    0.00       0.000000      10          1077           0.394537   \n",
      "\n",
      "    inTheMoney contractSize currency  \n",
      "0         True      REGULAR      USD  \n",
      "1         True      REGULAR      USD  \n",
      "2         True      REGULAR      USD  \n",
      "3         True      REGULAR      USD  \n",
      "4         True      REGULAR      USD  \n",
      "5         True      REGULAR      USD  \n",
      "6         True      REGULAR      USD  \n",
      "7         True      REGULAR      USD  \n",
      "8         True      REGULAR      USD  \n",
      "9         True      REGULAR      USD  \n",
      "10       False      REGULAR      USD  \n",
      "11       False      REGULAR      USD  \n",
      "12       False      REGULAR      USD  \n",
      "13       False      REGULAR      USD  \n",
      "14       False      REGULAR      USD  \n",
      "15       False      REGULAR      USD  \n",
      "16       False      REGULAR      USD  \n",
      "17       False      REGULAR      USD  \n",
      "18       False      REGULAR      USD  \n",
      "19       False      REGULAR      USD  \n",
      "20       False      REGULAR      USD  \n",
      "21       False      REGULAR      USD  \n",
      "22       False      REGULAR      USD  \n",
      "23       False      REGULAR      USD  \n",
      "24       False      REGULAR      USD  \n",
      "25       False      REGULAR      USD  \n",
      "26       False      REGULAR      USD  , puts=         contractSymbol             lastTradeDate  strike  lastPrice    bid  \\\n",
      "0   CSCO230120P00020000 2022-06-17 15:29:37+00:00    20.0       0.10   0.08   \n",
      "1   CSCO230120P00023000 2022-06-16 19:45:50+00:00    23.0       0.23   0.12   \n",
      "2   CSCO230120P00025000 2022-06-17 18:58:51+00:00    25.0       0.34   0.17   \n",
      "3   CSCO230120P00028000 2022-06-16 19:32:27+00:00    28.0       0.57   0.49   \n",
      "4   CSCO230120P00030000 2022-06-17 19:43:27+00:00    30.0       0.65   0.64   \n",
      "5   CSCO230120P00033000 2022-06-16 14:09:33+00:00    33.0       1.10   0.95   \n",
      "6   CSCO230120P00035000 2022-06-17 18:02:44+00:00    35.0       1.34   1.35   \n",
      "7   CSCO230120P00037000 2022-06-17 19:50:01+00:00    37.0       1.78   1.74   \n",
      "8   CSCO230120P00040000 2022-06-17 19:41:42+00:00    40.0       2.60   2.65   \n",
      "9   CSCO230120P00042000 2022-06-17 19:40:04+00:00    42.0       3.30   3.30   \n",
      "10  CSCO230120P00045000 2022-06-17 19:46:18+00:00    45.0       4.80   4.75   \n",
      "11  CSCO230120P00047000 2022-06-17 17:11:18+00:00    47.0       5.85   6.00   \n",
      "12  CSCO230120P00050000 2022-06-15 17:52:08+00:00    50.0       8.10   8.10   \n",
      "13  CSCO230120P00052500 2022-06-17 19:00:52+00:00    52.5      10.02  10.05   \n",
      "14  CSCO230120P00055000 2022-06-15 14:49:36+00:00    55.0      12.25  12.20   \n",
      "15  CSCO230120P00057500 2022-06-16 15:53:01+00:00    57.5      15.20  14.45   \n",
      "16  CSCO230120P00060000 2022-06-17 15:49:24+00:00    60.0      16.95  16.90   \n",
      "17  CSCO230120P00062500 2022-06-15 13:47:01+00:00    62.5      19.45  19.25   \n",
      "18  CSCO230120P00065000 2022-06-16 14:30:49+00:00    65.0      22.20  21.80   \n",
      "19  CSCO230120P00067500 2022-04-11 19:18:53+00:00    67.5      15.30  19.15   \n",
      "20  CSCO230120P00070000 2022-06-07 19:47:56+00:00    70.0      24.76  26.75   \n",
      "21  CSCO230120P00072500 2022-04-13 16:25:09+00:00    72.5      20.95  23.65   \n",
      "22  CSCO230120P00075000 2022-03-16 18:25:26+00:00    75.0      21.07  23.95   \n",
      "23  CSCO230120P00080000 2022-05-19 14:10:08+00:00    80.0      37.95  36.70   \n",
      "24  CSCO230120P00085000 2022-01-31 16:19:17+00:00    85.0      30.15  29.55   \n",
      "25  CSCO230120P00095000 2022-04-18 04:03:08+00:00    95.0      41.82   0.00   \n",
      "\n",
      "      ask  change  percentChange  volume  openInterest  impliedVolatility  \\\n",
      "0    0.13    0.01      11.111108     7.0           952           0.511724   \n",
      "1    0.25    0.00       0.000000     1.0          1720           0.501958   \n",
      "2    0.52    0.02       6.250004    10.0          6480           0.526372   \n",
      "3    0.55    0.00       0.000000     3.0          1565           0.443365   \n",
      "4    0.73   -0.10     -13.333337    30.0         15189           0.421148   \n",
      "5    1.10    0.00       0.000000    15.0          6280           0.390143   \n",
      "6    1.43   -0.20     -12.987009     6.0          6366           0.370368   \n",
      "7    1.88   -0.18      -9.183677   399.0          6006           0.355231   \n",
      "8    2.74   -0.27      -9.407665    23.0         20863           0.331794   \n",
      "9    3.55   -0.30      -8.333332    44.0          7375           0.322883   \n",
      "10   4.95   -0.30      -5.882348     7.0         26898           0.303474   \n",
      "11   6.15   -0.60      -9.302324    41.0         13189           0.296882   \n",
      "12   8.40    0.00       0.000000     3.0         15401           0.302985   \n",
      "13  10.35   -0.33      -3.188405     2.0         10013           0.299079   \n",
      "14  12.55    0.00       0.000000    13.0          7732           0.306892   \n",
      "15  14.95    0.00       0.000000    10.0          2050           0.329841   \n",
      "16  17.30   -0.58      -3.308613     2.0          5980           0.341803   \n",
      "17  19.70    0.00       0.000000     2.0          3200           0.355475   \n",
      "18  22.20    0.00       0.000000     1.0           581           0.381842   \n",
      "19  19.65    0.00       0.000000     1.0            83           0.000010   \n",
      "20  27.15    0.00       0.000000     1.0           291           0.421393   \n",
      "21  23.80    0.00       0.000000     1.0            30           0.000010   \n",
      "22  24.40    0.00       0.000000     1.0           151           0.000010   \n",
      "23  37.15    0.00       0.000000     2.0           121           0.503911   \n",
      "24  30.05    0.00       0.000000     3.0           272           0.000010   \n",
      "25   0.00    0.00       0.000000     NaN             0           0.000010   \n",
      "\n",
      "    inTheMoney contractSize currency  \n",
      "0        False      REGULAR      USD  \n",
      "1        False      REGULAR      USD  \n",
      "2        False      REGULAR      USD  \n",
      "3        False      REGULAR      USD  \n",
      "4        False      REGULAR      USD  \n",
      "5        False      REGULAR      USD  \n",
      "6        False      REGULAR      USD  \n",
      "7        False      REGULAR      USD  \n",
      "8        False      REGULAR      USD  \n",
      "9        False      REGULAR      USD  \n",
      "10        True      REGULAR      USD  \n",
      "11        True      REGULAR      USD  \n",
      "12        True      REGULAR      USD  \n",
      "13        True      REGULAR      USD  \n",
      "14        True      REGULAR      USD  \n",
      "15        True      REGULAR      USD  \n",
      "16        True      REGULAR      USD  \n",
      "17        True      REGULAR      USD  \n",
      "18        True      REGULAR      USD  \n",
      "19        True      REGULAR      USD  \n",
      "20        True      REGULAR      USD  \n",
      "21        True      REGULAR      USD  \n",
      "22        True      REGULAR      USD  \n",
      "23        True      REGULAR      USD  \n",
      "24        True      REGULAR      USD  \n",
      "25        True      REGULAR      USD  )\n"
     ]
    }
   ],
   "source": [
    "# Getting Call/Put options: Market Prices\n",
    "csco = yf.Ticker(\"csco\")\n",
    "ge = yf.Ticker(\"ge\")\n",
    "bac = yf.Ticker(\"bac\")\n",
    "\n",
    "opt_csco = csco.option_chain(date='2023-01-20')\n",
    "options_cisco = opt_csco\n",
    "print(options_cisco)\n",
    "\n",
    "opt_bac = bac.option_chain(date='2023-01-20')\n",
    "options_bac = opt_bac\n",
    "\n",
    "opt_ge = ge.option_chain(date='2023-01-20')\n",
    "options_ge = opt_ge"
   ],
   "metadata": {
    "collapsed": false,
    "pycharm": {
     "name": "#%%\n"
    }
   }
  },
  {
   "cell_type": "code",
   "execution_count": 33,
   "outputs": [
    {
     "name": "stdout",
     "output_type": "stream",
     "text": [
      "    strike  lastPrice  impliedVolatility\n",
      "0     20.0      23.82           0.578129\n",
      "1     23.0      39.95           2.534672\n",
      "2     25.0      16.57           0.428717\n",
      "3     28.0      15.90           0.410650\n",
      "4     30.0      13.39           0.389166\n",
      "5     33.0      11.15           0.356696\n",
      "6     35.0       9.65           0.344977\n",
      "7     37.0       8.12           0.333259\n",
      "8     40.0       5.90           0.308112\n",
      "9     42.0       4.70           0.303962\n",
      "10    45.0       3.00           0.281379\n",
      "11    47.0       2.27           0.277107\n",
      "12    50.0       1.41           0.267097\n",
      "13    52.5       0.90           0.267341\n",
      "14    55.0       0.54           0.265632\n",
      "15    57.5       0.35           0.257332\n",
      "16    60.0       0.21           0.259285\n",
      "17    62.5       0.13           0.270515\n",
      "18    65.0       0.10           0.267585\n",
      "19    67.5       0.08           0.277351\n",
      "20    70.0       0.06           0.291023\n",
      "21    72.5       0.12           0.308601\n",
      "22    75.0       0.04           0.310554\n",
      "23    80.0       0.04           0.340827\n",
      "24    85.0       0.02           0.347663\n",
      "25    90.0       0.02           0.371100\n",
      "26    95.0       0.01           0.394537\n",
      "    strike  lastPrice  impliedVolatility\n",
      "0      2.0       0.03           1.718751\n",
      "1      3.0       0.03           1.531252\n",
      "2      4.0       0.05           1.500002\n",
      "3      5.0       0.07           1.476565\n",
      "4      7.0       0.24           1.472659\n",
      "5     10.0       0.87           1.664064\n",
      "6     12.0       1.65           1.780763\n",
      "7     15.0       3.42           1.948731\n",
      "8     17.0       4.74           2.171880\n",
      "9     20.0       7.35           2.294926\n",
      "10    25.0      11.87           2.499027\n",
      "11    27.0      14.07           2.573002\n",
      "12    40.0       1.14           0.521001\n",
      "13    45.0       1.81           0.498174\n",
      "14    50.0       2.53           0.471441\n",
      "15    55.0       3.70           0.446295\n",
      "16    60.0       5.55           0.419317\n",
      "17    65.0       7.35           0.397589\n",
      "18    70.0       9.60           0.385443\n",
      "19    75.0      12.76           0.367743\n",
      "20    80.0      16.20           0.350226\n",
      "21    85.0      19.94           0.335700\n",
      "22    90.0      24.85           0.349128\n",
      "23    95.0      29.92           0.339362\n",
      "24   100.0      33.58           0.347907\n",
      "25   105.0      36.05           0.362799\n",
      "26   110.0      45.25           0.413092\n",
      "27   115.0      41.75           0.000010\n",
      "28   120.0      54.20           0.439947\n",
      "29   125.0      47.34           0.479986\n",
      "30   130.0      32.70           0.000010\n",
      "31   135.0      69.46           0.495122\n",
      "32   140.0      66.83           0.000010\n",
      "33   145.0      55.70           0.000010\n",
      "34   150.0      58.00           0.000010\n",
      "35   155.0      52.05           0.000010\n",
      "36   160.0      60.00           0.000010\n",
      "37   165.0      64.05           0.000010\n",
      "38   170.0      62.40           0.000010\n"
     ]
    }
   ],
   "source": [
    "# Get Market Call Prices - CSCO\n",
    "strike_call_list_cisco = (options_cisco[0]['strike'])\n",
    "market_price_call_cisco = (options_cisco[0]['lastPrice'])\n",
    "market_implied_vol_call_cisco = (options_cisco[0]['impliedVolatility'])\n",
    "df_market_call_csco = pd.DataFrame({'strike':strike_call_list_cisco ,\n",
    "                   'lastPrice':market_price_call_cisco ,\n",
    "                   'impliedVolatility': market_implied_vol_call_cisco})\n",
    "\n",
    "# Get Market Put Prices - GE\n",
    "strike_put_list_ge = (options_ge[1]['strike'])\n",
    "market_price_put_ge = (options_ge[1]['lastPrice'])\n",
    "market_implied_vol_put_ge = (options_ge[1]['impliedVolatility'])\n",
    "df_market_put_ge = pd.DataFrame({'strike':strike_put_list_ge ,\n",
    "                   'lastPrice':market_price_put_ge ,\n",
    "                   'impliedVolatility': market_implied_vol_put_ge})\n",
    "\n",
    "print(df_market_call_csco)\n",
    "print(df_market_put_ge)"
   ],
   "metadata": {
    "collapsed": false,
    "pycharm": {
     "name": "#%%\n"
    }
   }
  },
  {
   "cell_type": "code",
   "execution_count": 62,
   "outputs": [
    {
     "data": {
      "text/plain": "[<matplotlib.lines.Line2D at 0x1300cf710>]"
     },
     "execution_count": 62,
     "metadata": {},
     "output_type": "execute_result"
    },
    {
     "data": {
      "text/plain": "<Figure size 1080x360 with 1 Axes>",
      "image/png": "[encoded data removed]"
     },
     "metadata": {
      "needs_background": "light"
     },
     "output_type": "display_data"
    }
   ],
   "source": [
    "# Choose interesting strikes values: MARKET PRICES - CSCO\n",
    "call_CSCO_strikes = df_market_call_csco['strike']\n",
    "market_call_CSCO_impliedVolatility = df_market_call_csco['impliedVolatility']\n",
    "market_call_CSCO_lastPrice = df_market_call_csco['lastPrice']\n",
    "\n",
    "call_CSCO_strikes = np.array(call_CSCO_strikes)\n",
    "call_CSCO_strikes = call_CSCO_strikes[2:]\n",
    "market_call_CSCO_impliedVolatility = np.array(market_call_CSCO_impliedVolatility)\n",
    "market_call_CSCO_impliedVolatility = market_call_CSCO_impliedVolatility[2:]\n",
    "market_call_CSCO_lastPrice = np.array(market_call_CSCO_lastPrice)\n",
    "market_call_CSCO_lastPrice = market_call_CSCO_lastPrice[2:]\n",
    "\n",
    "plt.plot(call_CSCO_strikes,market_call_CSCO_impliedVolatility)"
   ],
   "metadata": {
    "collapsed": false,
    "pycharm": {
     "name": "#%%\n"
    }
   }
  },
  {
   "cell_type": "code",
   "execution_count": 35,
   "outputs": [
    {
     "data": {
      "text/plain": "[<matplotlib.lines.Line2D at 0x12fa31490>]"
     },
     "execution_count": 35,
     "metadata": {},
     "output_type": "execute_result"
    },
    {
     "data": {
      "text/plain": "<Figure size 1080x360 with 1 Axes>",
      "image/png": "[encoded data removed]"
     },
     "metadata": {
      "needs_background": "light"
     },
     "output_type": "display_data"
    }
   ],
   "source": [
    "# Choose interesting strikes values: MARKET PRICES - GE\n",
    "put_GE_strikes = df_market_put_ge['strike']\n",
    "market_put_GE_impliedVolatility = df_market_put_ge['impliedVolatility']\n",
    "market_put_GE_lastPrice = df_market_put_ge['lastPrice']\n",
    "\n",
    "put_GE_strikes = np.array(put_GE_strikes)\n",
    "market_put_GE_impliedVolatility = np.array(market_put_GE_impliedVolatility)\n",
    "market_put_GE_lastPrice = np.array(market_put_GE_lastPrice)\n",
    "\n",
    "plt.plot(put_GE_strikes, market_put_GE_impliedVolatility)"
   ],
   "metadata": {
    "collapsed": false,
    "pycharm": {
     "name": "#%%\n"
    }
   }
  },
  {
   "cell_type": "code",
   "execution_count": 36,
   "outputs": [],
   "source": [
    "i = complex(0, 1)\n",
    "# To be used in the Heston pricer\n",
    "def fHeston(s, St, K, r, T, sigma, kappa, theta, volvol, rho):\n",
    "    # To be used a lot\n",
    "    prod = rho * sigma * i * s\n",
    "    # Calculate d\n",
    "    d1 = (prod-kappa) ** 2\n",
    "    d2 = (sigma**2) * (-2 * i * s + s**2)\n",
    "    d = np.sqrt(d1 + d2)\n",
    "    # Calculate g\n",
    "    g1 = kappa - prod - d\n",
    "    g2 = kappa - prod + d\n",
    "    g = g1 / g2\n",
    "    # Calculate first exponential\n",
    "    exp1 = np.exp(np.log(St) * i * s) * np.exp(i * s * r * T)\n",
    "    exp2 = 1 - g * np.exp(-d * T)\n",
    "    exp3 = 1 - g\n",
    "    mainExp1 = exp1 * np.power(exp2 / exp3, -2 * theta * kappa/ (sigma**2))\n",
    "    # Calculate second exponential\n",
    "    exp4 = theta * kappa * T / (sigma**2)\n",
    "    exp5 = volvol / (sigma**2)\n",
    "    exp6 = (1 - np.exp(-d * T)) / (1 - g * np.exp(-d * T))\n",
    "    mainExp2 = np.exp((exp4 * g1) + (exp5 * g1 * exp6))\n",
    "    return mainExp1 * mainExp2"
   ],
   "metadata": {
    "collapsed": false,
    "pycharm": {
     "name": "#%%\n"
    }
   }
  },
  {
   "cell_type": "code",
   "execution_count": 37,
   "outputs": [],
   "source": [
    "# Heston Pricer\n",
    "def priceHestonMid(St, K, r, q, T, sigma, kappa, theta, volvol, rho):\n",
    "    P, iterations, maxNumber = 0, 1000, 100\n",
    "    ds = maxNumber / iterations\n",
    "    element1 = 0.5 * (St * np.exp(-q * T) - K * np.exp(-r * T))\n",
    "    # Calculate the complex integral\n",
    "    # Using j instead of i to avoid confusion\n",
    "    for j in range(1, iterations):\n",
    "        s1 = ds * (2 * j + 1) / 2\n",
    "        s2 = s1 - i\n",
    "        numerator1 = fHeston(s2, St, K, r, T,\n",
    "                             sigma, kappa, theta, volvol, rho)\n",
    "        numerator2 = K * fHeston(s1, St, K, r, T,\n",
    "                               sigma, kappa, theta, volvol, rho)\n",
    "        denominator = np.exp(np.log(K) * i * s1) * i * s1\n",
    "        P += ds * (numerator1 - numerator2) / denominator\n",
    "    element2 = P / np.pi\n",
    "    return np.real((element1 + element2))"
   ],
   "metadata": {
    "collapsed": false,
    "pycharm": {
     "name": "#%%\n"
    }
   }
  },
  {
   "cell_type": "code",
   "execution_count": 100,
   "outputs": [],
   "source": [
    "# Test Parameters\n",
    "\n",
    "S_0_CSCO = 43.32            # stock price: CSCO\n",
    "S_0_GE = 65.29              # stock price: GE\n",
    "r = 1.53/100                # interest rate\n",
    "q_csco = 0.0152             # dividend yield CSCO\n",
    "q_ge = 0.0032               # dividend yield GE\n",
    "K_CSCO = 55                 # specific strike CSCO\n",
    "K_GE = 10                   # specific strike GE\n",
    "T = 150/250                 # 30 weeks: 150 trading days\n",
    "N = len(call_CSCO_strikes)"
   ],
   "metadata": {
    "collapsed": false,
    "pycharm": {
     "name": "#%%\n"
    }
   }
  },
  {
   "cell_type": "code",
   "execution_count": 123,
   "outputs": [
    {
     "name": "stderr",
     "output_type": "stream",
     "text": [
      "/Users/z.scialom/Documents/IIT_courses_SPRING/MATH584_Algo_Trading/PyCharm_projects/venv/lib/python3.7/site-packages/ipykernel_launcher.py:9: RuntimeWarning: invalid value encountered in sqrt\n",
      "  if __name__ == '__main__':\n",
      "/Users/z.scialom/Documents/IIT_courses_SPRING/MATH584_Algo_Trading/PyCharm_projects/venv/lib/python3.7/site-packages/ipykernel_launcher.py:18: RuntimeWarning: overflow encountered in double_scalars\n",
      "/Users/z.scialom/Documents/IIT_courses_SPRING/MATH584_Algo_Trading/PyCharm_projects/venv/lib/python3.7/site-packages/ipykernel_launcher.py:24: RuntimeWarning: invalid value encountered in double_scalars\n",
      "/Users/z.scialom/Documents/IIT_courses_SPRING/MATH584_Algo_Trading/PyCharm_projects/venv/lib/python3.7/site-packages/ipykernel_launcher.py:18: RuntimeWarning: invalid value encountered in power\n",
      "/Users/z.scialom/Documents/IIT_courses_SPRING/MATH584_Algo_Trading/PyCharm_projects/venv/lib/python3.7/site-packages/ipykernel_launcher.py:18: RuntimeWarning: overflow encountered in power\n",
      "/Users/z.scialom/Documents/IIT_courses_SPRING/MATH584_Algo_Trading/PyCharm_projects/venv/lib/python3.7/site-packages/ipykernel_launcher.py:23: RuntimeWarning: overflow encountered in exp\n"
     ]
    },
    {
     "data": {
      "text/plain": "     fun: 118273240.9420039\n message: ['Maximum number of iteration reached']\n    nfev: 10889\n    nhev: 0\n     nit: 1000\n    njev: 148\n  status: 0\n success: True\n       x: array([0.52815911, 9.99965066, 0.01      , 0.09505725, 1.        ])"
     },
     "execution_count": 123,
     "metadata": {},
     "output_type": "execute_result"
    }
   ],
   "source": [
    "# Annealing calibration function for Call options\n",
    "def calibratorHestonSA(St, lowerBounds = [1e-2,1e-2,1e-2,1e-2,-1],\n",
    "                            upperBounds = [10,10,10,10,1]):\n",
    "\n",
    "    # Note the difference in the objective function (sum of squares vs vector of errors)\n",
    "    objectiveFunctionHeston = lambda paramVect: np.sum(np.square((market_call_CSCO_lastPrice - priceHestonMid(St, call_CSCO_strikes,\n",
    "                                                                        r,\n",
    "                                                                        q_csco,\n",
    "                                                                        T,\n",
    "                                                                        paramVect[0],\n",
    "                                                                        paramVect[1],\n",
    "                                                                        paramVect[2],\n",
    "                                                                        paramVect[3],\n",
    "                                                                        paramVect[4]))/market_call_CSCO_lastPrice))\n",
    "\n",
    "    # Define the upper and lower bounds\n",
    "    bounds = list(zip(lowerBounds, upperBounds))\n",
    "\n",
    "    # Minimize the function\n",
    "    results = dual_annealing(objectiveFunctionHeston, bounds = bounds)\n",
    "\n",
    "    return results\n",
    "\n",
    "calibratorHestonSA(S_0_CSCO)"
   ],
   "metadata": {
    "collapsed": false,
    "pycharm": {
     "name": "#%%\n"
    }
   }
  },
  {
   "cell_type": "code",
   "execution_count": null,
   "outputs": [],
   "source": [
    "def putPriceHestonMid(St, K, r, q, T, call_price):\n",
    "    return call_price + K * np/exp(-r * T) - St * np/exp(-q * T)"
   ],
   "metadata": {
    "collapsed": false,
    "pycharm": {
     "name": "#%%\n"
    }
   }
  },
  {
   "cell_type": "code",
   "execution_count": 130,
   "outputs": [
    {
     "name": "stderr",
     "output_type": "stream",
     "text": [
      "/Users/z.scialom/Documents/IIT_courses_SPRING/MATH584_Algo_Trading/PyCharm_projects/venv/lib/python3.7/site-packages/ipykernel_launcher.py:9: RuntimeWarning: invalid value encountered in sqrt\n",
      "  if __name__ == '__main__':\n",
      "/Users/z.scialom/Documents/IIT_courses_SPRING/MATH584_Algo_Trading/PyCharm_projects/venv/lib/python3.7/site-packages/ipykernel_launcher.py:18: RuntimeWarning: invalid value encountered in power\n",
      "/Users/z.scialom/Documents/IIT_courses_SPRING/MATH584_Algo_Trading/PyCharm_projects/venv/lib/python3.7/site-packages/ipykernel_launcher.py:18: RuntimeWarning: overflow encountered in double_scalars\n",
      "/Users/z.scialom/Documents/IIT_courses_SPRING/MATH584_Algo_Trading/PyCharm_projects/venv/lib/python3.7/site-packages/ipykernel_launcher.py:24: RuntimeWarning: invalid value encountered in double_scalars\n",
      "/Users/z.scialom/Documents/IIT_courses_SPRING/MATH584_Algo_Trading/PyCharm_projects/venv/lib/python3.7/site-packages/ipykernel_launcher.py:18: RuntimeWarning: overflow encountered in power\n",
      "/Users/z.scialom/Documents/IIT_courses_SPRING/MATH584_Algo_Trading/PyCharm_projects/venv/lib/python3.7/site-packages/ipykernel_launcher.py:23: RuntimeWarning: overflow encountered in exp\n"
     ]
    },
    {
     "data": {
      "text/plain": "     fun: 0.0\n message: ['Maximum number of iteration reached']\n    nfev: 10013\n    nhev: 0\n     nit: 1000\n    njev: 2\n  status: 0\n success: True\n       x: array([5.24887965, 6.03366049, 2.71512467, 4.77687905, 0.40739546])"
     },
     "execution_count": 130,
     "metadata": {},
     "output_type": "execute_result"
    }
   ],
   "source": [
    "# Annealing calibration function for Put options\n",
    "def calibratorHestonSAPut(St, lowerBounds = [1e-2,1e-2,1e-2,1e-2,-1],\n",
    "                            upperBounds = [10,10,10,10,1]):\n",
    "\n",
    "    # Note the difference in the objective function (sum of squares vs vector of errors)\n",
    "    objectiveFunctionHestonput = lambda paramVect: np.sum(np.square((market_price_put_ge - priceHestonMid(St, put_GE_strikes,\n",
    "                                                                        r,\n",
    "                                                                        q_ge,\n",
    "                                                                        T,\n",
    "                                                                        paramVect[0],\n",
    "                                                                        paramVect[1],\n",
    "                                                                        paramVect[2],\n",
    "                                                                        paramVect[3],\n",
    "                                                                        paramVect[4])- put_GE_strikes * np.exp(-r * T) + St * np.exp(-q_ge * T))/market_price_put_ge))\n",
    "\n",
    "    # Define the upper and lower bounds\n",
    "    bounds = list(zip(lowerBounds, upperBounds))\n",
    "\n",
    "    # Minimize the function\n",
    "    results = dual_annealing(objectiveFunctionHestonput, bounds = bounds)\n",
    "\n",
    "    return results\n",
    "\n",
    "calibratorHestonSAPut(S_0_GE)"
   ],
   "metadata": {
    "collapsed": false,
    "pycharm": {
     "name": "#%%\n"
    }
   }
  },
  {
   "cell_type": "code",
   "execution_count": 113,
   "outputs": [],
   "source": [
    "# def cost_function(alpha):\n",
    "#     list_temp = np.ones(shape=(1,N))\n",
    "#     for i in range(N):\n",
    "#         temp = (market_call_CSCO_lastPrice[i] - priceHestonMid(S_0_CSCO, call_CSCO_strikes[i], r, q_csco, T, alpha[0], alpha[1], alpha[2], alpha[3], alpha[4]))**2\n",
    "#         list_temp[0][i] = temp\n",
    "#     result = np.sum(list_temp)\n",
    "#     return result"
   ],
   "metadata": {
    "collapsed": false,
    "pycharm": {
     "name": "#%%\n"
    }
   }
  },
  {
   "cell_type": "code",
   "execution_count": 114,
   "outputs": [
    {
     "name": "stderr",
     "output_type": "stream",
     "text": [
      "/Users/z.scialom/Documents/IIT_courses_SPRING/MATH584_Algo_Trading/PyCharm_projects/venv/lib/python3.7/site-packages/ipykernel_launcher.py:9: RuntimeWarning: invalid value encountered in sqrt\n",
      "  if __name__ == '__main__':\n",
      "/Users/z.scialom/Documents/IIT_courses_SPRING/MATH584_Algo_Trading/PyCharm_projects/venv/lib/python3.7/site-packages/ipykernel_launcher.py:14: RuntimeWarning: overflow encountered in double_scalars\n",
      "  \n",
      "/Users/z.scialom/Documents/IIT_courses_SPRING/MATH584_Algo_Trading/PyCharm_projects/venv/lib/python3.7/site-packages/ipykernel_launcher.py:15: RuntimeWarning: overflow encountered in exp\n",
      "  from ipykernel import kernelapp as app\n",
      "/Users/z.scialom/Documents/IIT_courses_SPRING/MATH584_Algo_Trading/PyCharm_projects/venv/lib/python3.7/site-packages/ipykernel_launcher.py:15: RuntimeWarning: overflow encountered in double_scalars\n",
      "  from ipykernel import kernelapp as app\n",
      "/Users/z.scialom/Documents/IIT_courses_SPRING/MATH584_Algo_Trading/PyCharm_projects/venv/lib/python3.7/site-packages/ipykernel_launcher.py:16: RuntimeWarning: invalid value encountered in double_scalars\n",
      "  app.launch_new_instance()\n"
     ]
    },
    {
     "name": "stdout",
     "output_type": "stream",
     "text": [
      "[ 0.2  0.2  0.2  0.2 -0.2]\n"
     ]
    }
   ],
   "source": [
    "# x0_CSCO = [0.2, 0.2, 0.2, 0.2, -0.2]\n",
    "#\n",
    "# #opt = scipy.optimize.minimize(cost_function, x0_CSCO, method='Nelder-Mead', options={'tol': 1e-6, 'maxiter':1e6})\n",
    "# opt = scipy.optimize.minimize(cost_function, x0_CSCO, tol=1e-2)\n",
    "# print(opt.x)"
   ],
   "metadata": {
    "collapsed": false,
    "pycharm": {
     "name": "#%%\n"
    }
   }
  },
  {
   "cell_type": "code",
   "execution_count": 120,
   "outputs": [
    {
     "name": "stdout",
     "output_type": "stream",
     "text": [
      "0\n"
     ]
    },
    {
     "name": "stderr",
     "output_type": "stream",
     "text": [
      "/Users/z.scialom/Documents/IIT_courses_SPRING/MATH584_Algo_Trading/PyCharm_projects/venv/lib/python3.7/site-packages/ipykernel_launcher.py:16: RuntimeWarning: divide by zero encountered in double_scalars\n",
      "  app.launch_new_instance()\n",
      "/Users/z.scialom/Documents/IIT_courses_SPRING/MATH584_Algo_Trading/PyCharm_projects/venv/lib/python3.7/site-packages/scipy/optimize/optimize.py:761: RuntimeWarning: invalid value encountered in subtract\n",
      "  np.max(np.abs(fsim[0] - fsim[1:])) <= fatol):\n"
     ]
    },
    {
     "name": "stdout",
     "output_type": "stream",
     "text": [
      "[ 0.4  0.2  0.2  0.2 -0.2]\n",
      "1\n"
     ]
    },
    {
     "name": "stderr",
     "output_type": "stream",
     "text": [
      "/Users/z.scialom/Documents/IIT_courses_SPRING/MATH584_Algo_Trading/PyCharm_projects/venv/lib/python3.7/site-packages/ipykernel_launcher.py:9: RuntimeWarning: invalid value encountered in sqrt\n",
      "  if __name__ == '__main__':\n"
     ]
    },
    {
     "ename": "KeyboardInterrupt",
     "evalue": "",
     "output_type": "error",
     "traceback": [
      "\u001B[0;31m---------------------------------------------------------------------------\u001B[0m",
      "\u001B[0;31mKeyboardInterrupt\u001B[0m                         Traceback (most recent call last)",
      "\u001B[0;32m/var/folders/9m/22_qn_8s6s5178_sttmdk5xw0000gn/T/ipykernel_7900/2666089304.py\u001B[0m in \u001B[0;36m<module>\u001B[0;34m\u001B[0m\n\u001B[1;32m      5\u001B[0m     \u001B[0mprint\u001B[0m\u001B[0;34m(\u001B[0m\u001B[0mi\u001B[0m\u001B[0;34m)\u001B[0m\u001B[0;34m\u001B[0m\u001B[0;34m\u001B[0m\u001B[0m\n\u001B[1;32m      6\u001B[0m     \u001B[0mobj_CSCO\u001B[0m \u001B[0;34m=\u001B[0m \u001B[0;32mlambda\u001B[0m \u001B[0malpha\u001B[0m \u001B[0;34m:\u001B[0m\u001B[0;34m(\u001B[0m\u001B[0mmarket_call_CSCO_lastPrice\u001B[0m\u001B[0;34m[\u001B[0m\u001B[0mi\u001B[0m\u001B[0;34m]\u001B[0m \u001B[0;34m-\u001B[0m \u001B[0mpriceHestonMid\u001B[0m\u001B[0;34m(\u001B[0m\u001B[0mS_0_CSCO\u001B[0m\u001B[0;34m,\u001B[0m \u001B[0mcall_CSCO_strikes\u001B[0m\u001B[0;34m[\u001B[0m\u001B[0mi\u001B[0m\u001B[0;34m]\u001B[0m\u001B[0;34m,\u001B[0m \u001B[0mr\u001B[0m\u001B[0;34m,\u001B[0m \u001B[0mq_csco\u001B[0m\u001B[0;34m,\u001B[0m \u001B[0mT\u001B[0m\u001B[0;34m,\u001B[0m \u001B[0malpha\u001B[0m\u001B[0;34m[\u001B[0m\u001B[0;36m0\u001B[0m\u001B[0;34m]\u001B[0m\u001B[0;34m,\u001B[0m \u001B[0malpha\u001B[0m\u001B[0;34m[\u001B[0m\u001B[0;36m1\u001B[0m\u001B[0;34m]\u001B[0m\u001B[0;34m,\u001B[0m \u001B[0malpha\u001B[0m\u001B[0;34m[\u001B[0m\u001B[0;36m2\u001B[0m\u001B[0;34m]\u001B[0m\u001B[0;34m,\u001B[0m \u001B[0malpha\u001B[0m\u001B[0;34m[\u001B[0m\u001B[0;36m3\u001B[0m\u001B[0;34m]\u001B[0m\u001B[0;34m,\u001B[0m \u001B[0malpha\u001B[0m\u001B[0;34m[\u001B[0m\u001B[0;36m4\u001B[0m\u001B[0;34m]\u001B[0m\u001B[0;34m)\u001B[0m\u001B[0;34m)\u001B[0m\u001B[0;34m**\u001B[0m\u001B[0;36m2\u001B[0m\u001B[0;34m\u001B[0m\u001B[0;34m\u001B[0m\u001B[0m\n\u001B[0;32m----> 7\u001B[0;31m     \u001B[0mopt\u001B[0m \u001B[0;34m=\u001B[0m \u001B[0mscipy\u001B[0m\u001B[0;34m.\u001B[0m\u001B[0moptimize\u001B[0m\u001B[0;34m.\u001B[0m\u001B[0mminimize\u001B[0m\u001B[0;34m(\u001B[0m\u001B[0mobj_CSCO\u001B[0m\u001B[0;34m,\u001B[0m \u001B[0mx0\u001B[0m\u001B[0;34m,\u001B[0m \u001B[0mmethod\u001B[0m\u001B[0;34m=\u001B[0m\u001B[0;34m'Nelder-Mead'\u001B[0m\u001B[0;34m,\u001B[0m\u001B[0mbounds\u001B[0m\u001B[0;34m=\u001B[0m\u001B[0mbnds\u001B[0m\u001B[0;34m,\u001B[0m \u001B[0mtol\u001B[0m\u001B[0;34m=\u001B[0m\u001B[0;36m1e-2\u001B[0m\u001B[0;34m)\u001B[0m\u001B[0;34m\u001B[0m\u001B[0;34m\u001B[0m\u001B[0m\n\u001B[0m\u001B[1;32m      8\u001B[0m     \u001B[0mprint\u001B[0m\u001B[0;34m(\u001B[0m\u001B[0mopt\u001B[0m\u001B[0;34m.\u001B[0m\u001B[0mx\u001B[0m\u001B[0;34m)\u001B[0m\u001B[0;34m\u001B[0m\u001B[0;34m\u001B[0m\u001B[0m\n\u001B[1;32m      9\u001B[0m     \u001B[0mA\u001B[0m\u001B[0;34m[\u001B[0m\u001B[0mi\u001B[0m\u001B[0;34m]\u001B[0m\u001B[0;34m=\u001B[0m\u001B[0mopt\u001B[0m\u001B[0;34m.\u001B[0m\u001B[0mx\u001B[0m\u001B[0;34m\u001B[0m\u001B[0;34m\u001B[0m\u001B[0m\n",
      "\u001B[0;32m~/Documents/IIT_courses_SPRING/MATH584_Algo_Trading/PyCharm_projects/venv/lib/python3.7/site-packages/scipy/optimize/_minimize.py\u001B[0m in \u001B[0;36mminimize\u001B[0;34m(fun, x0, args, method, jac, hess, hessp, bounds, constraints, tol, callback, options)\u001B[0m\n\u001B[1;32m    610\u001B[0m     \u001B[0;32mif\u001B[0m \u001B[0mmeth\u001B[0m \u001B[0;34m==\u001B[0m \u001B[0;34m'nelder-mead'\u001B[0m\u001B[0;34m:\u001B[0m\u001B[0;34m\u001B[0m\u001B[0;34m\u001B[0m\u001B[0m\n\u001B[1;32m    611\u001B[0m         return _minimize_neldermead(fun, x0, args, callback, bounds=bounds,\n\u001B[0;32m--> 612\u001B[0;31m                                     **options)\n\u001B[0m\u001B[1;32m    613\u001B[0m     \u001B[0;32melif\u001B[0m \u001B[0mmeth\u001B[0m \u001B[0;34m==\u001B[0m \u001B[0;34m'powell'\u001B[0m\u001B[0;34m:\u001B[0m\u001B[0;34m\u001B[0m\u001B[0;34m\u001B[0m\u001B[0m\n\u001B[1;32m    614\u001B[0m         \u001B[0;32mreturn\u001B[0m \u001B[0m_minimize_powell\u001B[0m\u001B[0;34m(\u001B[0m\u001B[0mfun\u001B[0m\u001B[0;34m,\u001B[0m \u001B[0mx0\u001B[0m\u001B[0;34m,\u001B[0m \u001B[0margs\u001B[0m\u001B[0;34m,\u001B[0m \u001B[0mcallback\u001B[0m\u001B[0;34m,\u001B[0m \u001B[0mbounds\u001B[0m\u001B[0;34m,\u001B[0m \u001B[0;34m**\u001B[0m\u001B[0moptions\u001B[0m\u001B[0;34m)\u001B[0m\u001B[0;34m\u001B[0m\u001B[0;34m\u001B[0m\u001B[0m\n",
      "\u001B[0;32m~/Documents/IIT_courses_SPRING/MATH584_Algo_Trading/PyCharm_projects/venv/lib/python3.7/site-packages/scipy/optimize/optimize.py\u001B[0m in \u001B[0;36m_minimize_neldermead\u001B[0;34m(func, x0, args, callback, maxiter, maxfev, disp, return_all, initial_simplex, xatol, fatol, adaptive, bounds, **unknown_options)\u001B[0m\n\u001B[1;32m    816\u001B[0m                         \u001B[0;32mif\u001B[0m \u001B[0mbounds\u001B[0m \u001B[0;32mis\u001B[0m \u001B[0;32mnot\u001B[0m \u001B[0;32mNone\u001B[0m\u001B[0;34m:\u001B[0m\u001B[0;34m\u001B[0m\u001B[0;34m\u001B[0m\u001B[0m\n\u001B[1;32m    817\u001B[0m                             \u001B[0msim\u001B[0m\u001B[0;34m[\u001B[0m\u001B[0mj\u001B[0m\u001B[0;34m]\u001B[0m \u001B[0;34m=\u001B[0m \u001B[0mnp\u001B[0m\u001B[0;34m.\u001B[0m\u001B[0mclip\u001B[0m\u001B[0;34m(\u001B[0m\u001B[0msim\u001B[0m\u001B[0;34m[\u001B[0m\u001B[0mj\u001B[0m\u001B[0;34m]\u001B[0m\u001B[0;34m,\u001B[0m \u001B[0mlower_bound\u001B[0m\u001B[0;34m,\u001B[0m \u001B[0mupper_bound\u001B[0m\u001B[0;34m)\u001B[0m\u001B[0;34m\u001B[0m\u001B[0;34m\u001B[0m\u001B[0m\n\u001B[0;32m--> 818\u001B[0;31m                         \u001B[0mfsim\u001B[0m\u001B[0;34m[\u001B[0m\u001B[0mj\u001B[0m\u001B[0;34m]\u001B[0m \u001B[0;34m=\u001B[0m \u001B[0mfunc\u001B[0m\u001B[0;34m(\u001B[0m\u001B[0msim\u001B[0m\u001B[0;34m[\u001B[0m\u001B[0mj\u001B[0m\u001B[0;34m]\u001B[0m\u001B[0;34m)\u001B[0m\u001B[0;34m\u001B[0m\u001B[0;34m\u001B[0m\u001B[0m\n\u001B[0m\u001B[1;32m    819\u001B[0m \u001B[0;34m\u001B[0m\u001B[0m\n\u001B[1;32m    820\u001B[0m         \u001B[0mind\u001B[0m \u001B[0;34m=\u001B[0m \u001B[0mnp\u001B[0m\u001B[0;34m.\u001B[0m\u001B[0margsort\u001B[0m\u001B[0;34m(\u001B[0m\u001B[0mfsim\u001B[0m\u001B[0;34m)\u001B[0m\u001B[0;34m\u001B[0m\u001B[0;34m\u001B[0m\u001B[0m\n",
      "\u001B[0;32m~/Documents/IIT_courses_SPRING/MATH584_Algo_Trading/PyCharm_projects/venv/lib/python3.7/site-packages/scipy/optimize/optimize.py\u001B[0m in \u001B[0;36mfunction_wrapper\u001B[0;34m(x, *wrapper_args)\u001B[0m\n\u001B[1;32m    462\u001B[0m     \u001B[0;32mdef\u001B[0m \u001B[0mfunction_wrapper\u001B[0m\u001B[0;34m(\u001B[0m\u001B[0mx\u001B[0m\u001B[0;34m,\u001B[0m \u001B[0;34m*\u001B[0m\u001B[0mwrapper_args\u001B[0m\u001B[0;34m)\u001B[0m\u001B[0;34m:\u001B[0m\u001B[0;34m\u001B[0m\u001B[0;34m\u001B[0m\u001B[0m\n\u001B[1;32m    463\u001B[0m         \u001B[0mncalls\u001B[0m\u001B[0;34m[\u001B[0m\u001B[0;36m0\u001B[0m\u001B[0;34m]\u001B[0m \u001B[0;34m+=\u001B[0m \u001B[0;36m1\u001B[0m\u001B[0;34m\u001B[0m\u001B[0;34m\u001B[0m\u001B[0m\n\u001B[0;32m--> 464\u001B[0;31m         \u001B[0;32mreturn\u001B[0m \u001B[0mfunction\u001B[0m\u001B[0;34m(\u001B[0m\u001B[0mnp\u001B[0m\u001B[0;34m.\u001B[0m\u001B[0mcopy\u001B[0m\u001B[0;34m(\u001B[0m\u001B[0mx\u001B[0m\u001B[0;34m)\u001B[0m\u001B[0;34m,\u001B[0m \u001B[0;34m*\u001B[0m\u001B[0;34m(\u001B[0m\u001B[0mwrapper_args\u001B[0m \u001B[0;34m+\u001B[0m \u001B[0margs\u001B[0m\u001B[0;34m)\u001B[0m\u001B[0;34m)\u001B[0m\u001B[0;34m\u001B[0m\u001B[0;34m\u001B[0m\u001B[0m\n\u001B[0m\u001B[1;32m    465\u001B[0m \u001B[0;34m\u001B[0m\u001B[0m\n\u001B[1;32m    466\u001B[0m     \u001B[0;32mreturn\u001B[0m \u001B[0mncalls\u001B[0m\u001B[0;34m,\u001B[0m \u001B[0mfunction_wrapper\u001B[0m\u001B[0;34m\u001B[0m\u001B[0;34m\u001B[0m\u001B[0m\n",
      "\u001B[0;32m/var/folders/9m/22_qn_8s6s5178_sttmdk5xw0000gn/T/ipykernel_7900/2666089304.py\u001B[0m in \u001B[0;36m<lambda>\u001B[0;34m(alpha)\u001B[0m\n\u001B[1;32m      4\u001B[0m \u001B[0;32mfor\u001B[0m \u001B[0mi\u001B[0m \u001B[0;32min\u001B[0m \u001B[0mrange\u001B[0m\u001B[0;34m(\u001B[0m\u001B[0mN\u001B[0m\u001B[0;34m)\u001B[0m\u001B[0;34m:\u001B[0m\u001B[0;34m\u001B[0m\u001B[0;34m\u001B[0m\u001B[0m\n\u001B[1;32m      5\u001B[0m     \u001B[0mprint\u001B[0m\u001B[0;34m(\u001B[0m\u001B[0mi\u001B[0m\u001B[0;34m)\u001B[0m\u001B[0;34m\u001B[0m\u001B[0;34m\u001B[0m\u001B[0m\n\u001B[0;32m----> 6\u001B[0;31m     \u001B[0mobj_CSCO\u001B[0m \u001B[0;34m=\u001B[0m \u001B[0;32mlambda\u001B[0m \u001B[0malpha\u001B[0m \u001B[0;34m:\u001B[0m\u001B[0;34m(\u001B[0m\u001B[0mmarket_call_CSCO_lastPrice\u001B[0m\u001B[0;34m[\u001B[0m\u001B[0mi\u001B[0m\u001B[0;34m]\u001B[0m \u001B[0;34m-\u001B[0m \u001B[0mpriceHestonMid\u001B[0m\u001B[0;34m(\u001B[0m\u001B[0mS_0_CSCO\u001B[0m\u001B[0;34m,\u001B[0m \u001B[0mcall_CSCO_strikes\u001B[0m\u001B[0;34m[\u001B[0m\u001B[0mi\u001B[0m\u001B[0;34m]\u001B[0m\u001B[0;34m,\u001B[0m \u001B[0mr\u001B[0m\u001B[0;34m,\u001B[0m \u001B[0mq_csco\u001B[0m\u001B[0;34m,\u001B[0m \u001B[0mT\u001B[0m\u001B[0;34m,\u001B[0m \u001B[0malpha\u001B[0m\u001B[0;34m[\u001B[0m\u001B[0;36m0\u001B[0m\u001B[0;34m]\u001B[0m\u001B[0;34m,\u001B[0m \u001B[0malpha\u001B[0m\u001B[0;34m[\u001B[0m\u001B[0;36m1\u001B[0m\u001B[0;34m]\u001B[0m\u001B[0;34m,\u001B[0m \u001B[0malpha\u001B[0m\u001B[0;34m[\u001B[0m\u001B[0;36m2\u001B[0m\u001B[0;34m]\u001B[0m\u001B[0;34m,\u001B[0m \u001B[0malpha\u001B[0m\u001B[0;34m[\u001B[0m\u001B[0;36m3\u001B[0m\u001B[0;34m]\u001B[0m\u001B[0;34m,\u001B[0m \u001B[0malpha\u001B[0m\u001B[0;34m[\u001B[0m\u001B[0;36m4\u001B[0m\u001B[0;34m]\u001B[0m\u001B[0;34m)\u001B[0m\u001B[0;34m)\u001B[0m\u001B[0;34m**\u001B[0m\u001B[0;36m2\u001B[0m\u001B[0;34m\u001B[0m\u001B[0;34m\u001B[0m\u001B[0m\n\u001B[0m\u001B[1;32m      7\u001B[0m     \u001B[0mopt\u001B[0m \u001B[0;34m=\u001B[0m \u001B[0mscipy\u001B[0m\u001B[0;34m.\u001B[0m\u001B[0moptimize\u001B[0m\u001B[0;34m.\u001B[0m\u001B[0mminimize\u001B[0m\u001B[0;34m(\u001B[0m\u001B[0mobj_CSCO\u001B[0m\u001B[0;34m,\u001B[0m \u001B[0mx0\u001B[0m\u001B[0;34m,\u001B[0m \u001B[0mmethod\u001B[0m\u001B[0;34m=\u001B[0m\u001B[0;34m'Nelder-Mead'\u001B[0m\u001B[0;34m,\u001B[0m\u001B[0mbounds\u001B[0m\u001B[0;34m=\u001B[0m\u001B[0mbnds\u001B[0m\u001B[0;34m,\u001B[0m \u001B[0mtol\u001B[0m\u001B[0;34m=\u001B[0m\u001B[0;36m1e-2\u001B[0m\u001B[0;34m)\u001B[0m\u001B[0;34m\u001B[0m\u001B[0;34m\u001B[0m\u001B[0m\n\u001B[1;32m      8\u001B[0m     \u001B[0mprint\u001B[0m\u001B[0;34m(\u001B[0m\u001B[0mopt\u001B[0m\u001B[0;34m.\u001B[0m\u001B[0mx\u001B[0m\u001B[0;34m)\u001B[0m\u001B[0;34m\u001B[0m\u001B[0;34m\u001B[0m\u001B[0m\n",
      "\u001B[0;32m/var/folders/9m/22_qn_8s6s5178_sttmdk5xw0000gn/T/ipykernel_7900/2095047046.py\u001B[0m in \u001B[0;36mpriceHestonMid\u001B[0;34m(St, K, r, q, T, sigma, kappa, theta, volvol, rho)\u001B[0m\n\u001B[1;32m     10\u001B[0m         \u001B[0ms2\u001B[0m \u001B[0;34m=\u001B[0m \u001B[0ms1\u001B[0m \u001B[0;34m-\u001B[0m \u001B[0mi\u001B[0m\u001B[0;34m\u001B[0m\u001B[0;34m\u001B[0m\u001B[0m\n\u001B[1;32m     11\u001B[0m         numerator1 = fHeston(s2, St, K, r, T,\n\u001B[0;32m---> 12\u001B[0;31m                              sigma, kappa, theta, volvol, rho)\n\u001B[0m\u001B[1;32m     13\u001B[0m         numerator2 = K * fHeston(s1, St, K, r, T,\n\u001B[1;32m     14\u001B[0m                                sigma, kappa, theta, volvol, rho)\n",
      "\u001B[0;32m/var/folders/9m/22_qn_8s6s5178_sttmdk5xw0000gn/T/ipykernel_7900/3738772309.py\u001B[0m in \u001B[0;36mfHeston\u001B[0;34m(s, St, K, r, T, sigma, kappa, theta, volvol, rho)\u001B[0m\n\u001B[1;32m     20\u001B[0m     \u001B[0mexp4\u001B[0m \u001B[0;34m=\u001B[0m \u001B[0mtheta\u001B[0m \u001B[0;34m*\u001B[0m \u001B[0mkappa\u001B[0m \u001B[0;34m*\u001B[0m \u001B[0mT\u001B[0m \u001B[0;34m/\u001B[0m \u001B[0;34m(\u001B[0m\u001B[0msigma\u001B[0m\u001B[0;34m**\u001B[0m\u001B[0;36m2\u001B[0m\u001B[0;34m)\u001B[0m\u001B[0;34m\u001B[0m\u001B[0;34m\u001B[0m\u001B[0m\n\u001B[1;32m     21\u001B[0m     \u001B[0mexp5\u001B[0m \u001B[0;34m=\u001B[0m \u001B[0mvolvol\u001B[0m \u001B[0;34m/\u001B[0m \u001B[0;34m(\u001B[0m\u001B[0msigma\u001B[0m\u001B[0;34m**\u001B[0m\u001B[0;36m2\u001B[0m\u001B[0;34m)\u001B[0m\u001B[0;34m\u001B[0m\u001B[0;34m\u001B[0m\u001B[0m\n\u001B[0;32m---> 22\u001B[0;31m     \u001B[0mexp6\u001B[0m \u001B[0;34m=\u001B[0m \u001B[0;34m(\u001B[0m\u001B[0;36m1\u001B[0m \u001B[0;34m-\u001B[0m \u001B[0mnp\u001B[0m\u001B[0;34m.\u001B[0m\u001B[0mexp\u001B[0m\u001B[0;34m(\u001B[0m\u001B[0;34m-\u001B[0m\u001B[0md\u001B[0m \u001B[0;34m*\u001B[0m \u001B[0mT\u001B[0m\u001B[0;34m)\u001B[0m\u001B[0;34m)\u001B[0m \u001B[0;34m/\u001B[0m \u001B[0;34m(\u001B[0m\u001B[0;36m1\u001B[0m \u001B[0;34m-\u001B[0m \u001B[0mg\u001B[0m \u001B[0;34m*\u001B[0m \u001B[0mnp\u001B[0m\u001B[0;34m.\u001B[0m\u001B[0mexp\u001B[0m\u001B[0;34m(\u001B[0m\u001B[0;34m-\u001B[0m\u001B[0md\u001B[0m \u001B[0;34m*\u001B[0m \u001B[0mT\u001B[0m\u001B[0;34m)\u001B[0m\u001B[0;34m)\u001B[0m\u001B[0;34m\u001B[0m\u001B[0;34m\u001B[0m\u001B[0m\n\u001B[0m\u001B[1;32m     23\u001B[0m     \u001B[0mmainExp2\u001B[0m \u001B[0;34m=\u001B[0m \u001B[0mnp\u001B[0m\u001B[0;34m.\u001B[0m\u001B[0mexp\u001B[0m\u001B[0;34m(\u001B[0m\u001B[0;34m(\u001B[0m\u001B[0mexp4\u001B[0m \u001B[0;34m*\u001B[0m \u001B[0mg1\u001B[0m\u001B[0;34m)\u001B[0m \u001B[0;34m+\u001B[0m \u001B[0;34m(\u001B[0m\u001B[0mexp5\u001B[0m \u001B[0;34m*\u001B[0m \u001B[0mg1\u001B[0m \u001B[0;34m*\u001B[0m \u001B[0mexp6\u001B[0m\u001B[0;34m)\u001B[0m\u001B[0;34m)\u001B[0m\u001B[0;34m\u001B[0m\u001B[0;34m\u001B[0m\u001B[0m\n\u001B[1;32m     24\u001B[0m     \u001B[0;32mreturn\u001B[0m \u001B[0mmainExp1\u001B[0m \u001B[0;34m*\u001B[0m \u001B[0mmainExp2\u001B[0m\u001B[0;34m\u001B[0m\u001B[0;34m\u001B[0m\u001B[0m\n",
      "\u001B[0;31mKeyboardInterrupt\u001B[0m: "
     ]
    }
   ],
   "source": [
    "x0 = [0.4, 0.2, 0.2, 0.2, -0.2]\n",
    "A = np.zeros(shape=(N,5))\n",
    "bnds = ((1e-2,2),(1e-2,1),(1e-2,1),(1e-2,1),(-1,1))\n",
    "for i in range(N):\n",
    "    print(i)\n",
    "    obj_CSCO = lambda alpha :(market_call_CSCO_lastPrice[i] - priceHestonMid(S_0_CSCO, call_CSCO_strikes[i], r, q_csco, T, alpha[0], alpha[1], alpha[2], alpha[3], alpha[4]))**2\n",
    "    opt = scipy.optimize.minimize(obj_CSCO, x0, method='Nelder-Mead',bounds=bnds, tol=1e-2)\n",
    "    print(opt.x)\n",
    "    A[i]=opt.x\n",
    "print(A)"
   ],
   "metadata": {
    "collapsed": false,
    "pycharm": {
     "name": "#%%\n"
    }
   }
  },
  {
   "cell_type": "code",
   "execution_count": null,
   "outputs": [],
   "source": [],
   "metadata": {
    "collapsed": false,
    "pycharm": {
     "name": "#%%\n"
    }
   }
  }
 ],
 "metadata": {
  "kernelspec": {
   "display_name": "Python 3",
   "language": "python",
   "name": "python3"
  },
  "language_info": {
   "codemirror_mode": {
    "name": "ipython",
    "version": 2
   },
   "file_extension": ".py",
   "mimetype": "text/x-python",
   "name": "python",
   "nbconvert_exporter": "python",
   "pygments_lexer": "ipython2",
   "version": "2.7.6"
  }
 },
 "nbformat": 4,
 "nbformat_minor": 0
}