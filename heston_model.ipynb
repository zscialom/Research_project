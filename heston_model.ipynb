{
 "cells": [
  {
   "cell_type": "code",
   "execution_count": 25,
   "metadata": {
    "collapsed": true
   },
   "outputs": [],
   "source": [
    "import pandas as pd\n",
    "import csv\n",
    "import numpy as np\n",
    "import matplotlib.pyplot as plt\n",
    "from math import log, sqrt, pi, exp\n",
    "\n",
    "#from pandas_datareader import data\n",
    "from argon2 import Parameters\n",
    "from statsmodels.tsa import stattools\n",
    "from statsmodels.tsa import arima_model\n",
    "from statsmodels.graphics import gofplots\n",
    "from statsmodels.regression import linear_model\n",
    "\n",
    "from scipy import stats\n",
    "import scipy.integrate\n",
    "import scipy.special\n",
    "import yfinance as yf\n",
    "from sklearn.linear_model import LinearRegression\n",
    "\n",
    "\n",
    "import matplotlib.pylab as pylab\n",
    "params = {'legend.fontsize': 'x-large',\n",
    "          'figure.figsize': (15, 5),\n",
    "         'axes.labelsize': 'x-large',\n",
    "         'axes.titlesize':'x-large',\n",
    "         'xtick.labelsize':'x-large',\n",
    "         'ytick.labelsize':'x-large'}\n",
    "pylab.rcParams.update(params)\n",
    "from scipy.optimize import minimize\n"
   ]
  },
  {
   "cell_type": "code",
   "execution_count": 49,
   "outputs": [],
   "source": [
    "i = complex(0, 1)\n",
    "# To be used in the Heston pricer\n",
    "def fHeston(s, St, K, r, T, sigma, kappa, theta, volvol, rho):\n",
    "    # To be used a lot\n",
    "    prod = rho * sigma * i * s\n",
    "    # Calculate d\n",
    "    d1 = (prod-kappa) ** 2\n",
    "    d2 = (sigma**2) * (-2 * i * s + s**2)\n",
    "    d = np.sqrt(d1 + d2)\n",
    "    # Calculate g\n",
    "    g1 = kappa - prod - d\n",
    "    g2 = kappa - prod + d\n",
    "    g = g1 / g2\n",
    "    # Calculate first exponential\n",
    "    exp1 = np.exp(np.log(St) * i * s) * np.exp(i * s * r * T)\n",
    "    exp2 = 1 - g * np.exp(-d * T)\n",
    "    exp3 = 1 - g\n",
    "    mainExp1 = exp1 * np.power(exp2 / exp3, -2 * theta * kappa/ (sigma**2))\n",
    "    # Calculate second exponential\n",
    "    exp4 = theta * kappa * T / (sigma**2)\n",
    "    exp5 = volvol / (sigma**2)\n",
    "    exp6 = (1 - np.exp(-d * T)) / (1 - g * np.exp(-d * T))\n",
    "    mainExp2 = np.exp((exp4 * g1) + (exp5 * g1 * exp6))\n",
    "    return mainExp1 * mainExp2"
   ],
   "metadata": {
    "collapsed": false,
    "pycharm": {
     "name": "#%%\n"
    }
   }
  },
  {
   "cell_type": "code",
   "execution_count": 71,
   "outputs": [],
   "source": [
    "# Heston Pricer\n",
    "def priceHestonMid(St, K, r, q, T, sigma, kappa, theta, volvol, rho):\n",
    "    P, iterations, maxNumber = 0, 1000, 100\n",
    "    ds = maxNumber / iterations\n",
    "    element1 = 0.5 * (St * np.exp(-q * T) - K * np.exp(-r * T))\n",
    "    # Calculate the complex integral\n",
    "    # Using j instead of i to avoid confusion\n",
    "    for j in range(1, iterations):\n",
    "        s1 = ds * (2 * j + 1) / 2\n",
    "        s2 = s1 - i\n",
    "        numerator1 = fHeston(s2, St, K, r, T,\n",
    "                             sigma, kappa, theta, volvol, rho)\n",
    "        numerator2 = K * fHeston(s1, St, K, r, T,\n",
    "                               sigma, kappa, theta, volvol, rho)\n",
    "        denominator = np.exp(np.log(K) * i * s1) * i * s1\n",
    "        P += ds * (numerator1 - numerator2) / denominator\n",
    "    element2 = P / np.pi\n",
    "    return np.real((element1 + element2))"
   ],
   "metadata": {
    "collapsed": false,
    "pycharm": {
     "name": "#%%\n"
    }
   }
  },
  {
   "cell_type": "code",
   "execution_count": 73,
   "outputs": [],
   "source": [
    "# Test Parameters\n",
    "\n",
    "S_0_CSCO = 43.32            # stock price: CSCO\n",
    "S_0_GE = 65.29              # stock price: GE\n",
    "r = 1.53/100                # interest rate\n",
    "q_csco = 0.0152             # dividend yield CSCO\n",
    "q_ge = 0.0032               # dividend yield GE\n",
    "K_CSCO = 55                 # specific strike CSCO\n",
    "K_GE = 10                   # specific strike GE\n",
    "T = 150/250                 # 30 weeks: 150 trading days\n",
    "marketPrices_tab_CSCO = 0.54\n"
   ],
   "metadata": {
    "collapsed": false,
    "pycharm": {
     "name": "#%%\n"
    }
   }
  },
  {
   "cell_type": "code",
   "execution_count": 74,
   "outputs": [
    {
     "name": "stderr",
     "output_type": "stream",
     "text": [
      "/Users/z.scialom/Documents/IIT_courses_SPRING/MATH584_Algo_Trading/PyCharm_projects/venv/lib/python3.7/site-packages/ipykernel_launcher.py:3: OptimizeWarning: Unknown solver options: tol\n",
      "  This is separate from the ipykernel package so we can avoid doing imports until\n"
     ]
    },
    {
     "name": "stdout",
     "output_type": "stream",
     "text": [
      "[ 0.20151791  0.19629905  0.19688137  0.15033888 -0.20281649]\n"
     ]
    }
   ],
   "source": [
    "x0_CSCO = [0.2, 0.2, 0.2, 0.2, -0.2]\n",
    "obj_CSCO = lambda alpha : (0.54 - priceHestonMid(S_0_CSCO, K_CSCO, r, q_csco, T, alpha[0], alpha[1], alpha[2], alpha[3], alpha[4]))**2\n",
    "opt = scipy.optimize.minimize(obj_CSCO, x0_CSCO, options={'tol': 1e-6, 'maxiter':1e6})\n",
    "print(opt.x)"
   ],
   "metadata": {
    "collapsed": false,
    "pycharm": {
     "name": "#%%\n"
    }
   }
  },
  {
   "cell_type": "markdown",
   "source": [],
   "metadata": {
    "collapsed": false
   }
  },
  {
   "cell_type": "code",
   "execution_count": 81,
   "outputs": [],
   "source": [
    "def putPriceHestonMid(St, K, r, q, T, call_price):\n",
    "    return call_price + K * np/exp(-r * T) - St * np/exp(-q * T)\n",
    "    #return put_price"
   ],
   "metadata": {
    "collapsed": false,
    "pycharm": {
     "name": "#%%\n"
    }
   }
  },
  {
   "cell_type": "code",
   "execution_count": 92,
   "outputs": [
    {
     "name": "stderr",
     "output_type": "stream",
     "text": [
      "/Users/z.scialom/Documents/IIT_courses_SPRING/MATH584_Algo_Trading/PyCharm_projects/venv/lib/python3.7/site-packages/ipykernel_launcher.py:4: OptimizeWarning: Unknown solver options: tol\n",
      "  after removing the cwd from sys.path.\n",
      "/Users/z.scialom/Documents/IIT_courses_SPRING/MATH584_Algo_Trading/PyCharm_projects/venv/lib/python3.7/site-packages/ipykernel_launcher.py:2: RuntimeWarning: overflow encountered in double_scalars\n",
      "  \n",
      "/Users/z.scialom/Documents/IIT_courses_SPRING/MATH584_Algo_Trading/PyCharm_projects/venv/lib/python3.7/site-packages/scipy/optimize/_numdiff.py:557: RuntimeWarning: invalid value encountered in subtract\n",
      "  df = fun(x) - f0\n",
      "/Users/z.scialom/Documents/IIT_courses_SPRING/MATH584_Algo_Trading/PyCharm_projects/venv/lib/python3.7/site-packages/ipykernel_launcher.py:2: RuntimeWarning: overflow encountered in double_scalars\n",
      "  \n"
     ]
    },
    {
     "name": "stdout",
     "output_type": "stream",
     "text": [
      "[0.19890496 0.20070852 0.1969149  0.14935308 0.19929772]\n"
     ]
    }
   ],
   "source": [
    "x0_GE = [0.2, 0.2, 0.2, 0.2, 0.2]\n",
    "obj_GE = lambda alpha : (0.87 - priceHestonMid(S_0_GE, K_GE, r, q_ge, T, alpha[0], alpha[1], alpha[2], alpha[3], alpha[4]) - K_GE * np.exp(-r * T) + S_0_GE * np.exp(-q_ge * T))**2\n",
    "\n",
    "opt = scipy.optimize.minimize(obj_GE, x0_GE, options={'tol': 1e-6, 'maxiter':1e6})\n",
    "print(opt.x)"
   ],
   "metadata": {
    "collapsed": false,
    "pycharm": {
     "name": "#%%\n"
    }
   }
  }
 ],
 "metadata": {
  "kernelspec": {
   "display_name": "Python 3",
   "language": "python",
   "name": "python3"
  },
  "language_info": {
   "codemirror_mode": {
    "name": "ipython",
    "version": 2
   },
   "file_extension": ".py",
   "mimetype": "text/x-python",
   "name": "python",
   "nbconvert_exporter": "python",
   "pygments_lexer": "ipython2",
   "version": "2.7.6"
  }
 },
 "nbformat": 4,
 "nbformat_minor": 0
}